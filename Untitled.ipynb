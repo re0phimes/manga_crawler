{
 "cells": [
  {
   "cell_type": "code",
   "execution_count": 1,
   "metadata": {},
   "outputs": [],
   "source": [
    "import requests"
   ]
  },
  {
   "cell_type": "code",
   "execution_count": 38,
   "metadata": {},
   "outputs": [],
   "source": [
    "import os\n",
    "from tqdm import tqdm"
   ]
  },
  {
   "cell_type": "code",
   "execution_count": null,
   "metadata": {},
   "outputs": [],
   "source": [
    "url = \"https://www.mangaread.org/manga/skeleton-soldier-couldnt-protect-the-dungeon/chapter-{}/\"\n",
    "\n",
    "headers = {\n",
    "    \"user-agent\": \"Mozilla/5.0 (Windows NT 10.0; Win64; x64) AppleWebKit/537.36 (KHTML, like Gecko) Chrome/94.0.4606.71 Safari/537.36 Edg/94.0.992.38\"\n",
    "}"
   ]
  },
  {
   "cell_type": "code",
   "execution_count": null,
   "metadata": {},
   "outputs": [],
   "source": [
    "class ReadMangaCrawler():\n",
    "    self."
   ]
  },
  {
   "cell_type": "code",
   "execution_count": 32,
   "metadata": {},
   "outputs": [],
   "source": [
    "def manga_crawler(url):\n",
    "    r = requests.get(url, headers= headers)\n",
    "    selector = Selector(text=r.text)\n",
    "    img_list = selector.xpath(\"//img[contains(@id, 'image')]/@src\").extract()\n",
    "    img_list = [img.strip() for img in img_list]\n",
    "    # path\n",
    "    chapter = url.split('/')[-2]\n",
    "    if os.path.exists(chapter):\n",
    "        pass\n",
    "    else:\n",
    "        os.mkdir(chapter)\n",
    "    # download img\n",
    "    for img in img_list:\n",
    "        page = img.split('/')[-1]\n",
    "        print(img)\n",
    "        r = requests.get(img, headers = headers)\n",
    "        with open(chapter + '/' + page, mode='wb') as f:\n",
    "            f.write(r.content)"
   ]
  },
  {
   "cell_type": "code",
   "execution_count": null,
   "metadata": {},
   "outputs": [],
   "source": [
    "def run_crawler(start_chapter, end_chapter, manga_name)\n",
    "    failure = []\n",
    "\n",
    "    for i in tqdm(range(start_chapter, end_chapter)):\n",
    "        try:\n",
    "            print('starting crawl chapter {}'.format(i))\n",
    "            manga_crawler(url.format(i))\n",
    "            print('finish')\n",
    "            print('-'*100)\n",
    "        except Exception as e:\n",
    "            failure.append(url.format(i))\n",
    "            print(e)\n",
    "\n",
    "    with open('failure.txt', mode='w', encoding='utf-8') as f:\n",
    "        f.writeline(failure)"
   ]
  },
  {
   "cell_type": "code",
   "execution_count": 36,
   "metadata": {},
   "outputs": [],
   "source": []
  },
  {
   "cell_type": "code",
   "execution_count": null,
   "metadata": {},
   "outputs": [],
   "source": []
  },
  {
   "cell_type": "code",
   "execution_count": 39,
   "metadata": {},
   "outputs": [
    {
     "name": "stderr",
     "output_type": "stream",
     "text": [
      "  0%|                                                                                           | 0/99 [00:00<?, ?it/s]"
     ]
    },
    {
     "name": "stdout",
     "output_type": "stream",
     "text": [
      "starting crawl chapter 1\n",
      "http://www.mangaread.org/wp-content/uploads/WP-manga/data/manga_5e08fdccf028f/ba9a57f7c58df5bc926fd0508db27dda/4.jpg\n",
      "http://www.mangaread.org/wp-content/uploads/WP-manga/data/manga_5e08fdccf028f/ba9a57f7c58df5bc926fd0508db27dda/5.jpg\n",
      "http://www.mangaread.org/wp-content/uploads/WP-manga/data/manga_5e08fdccf028f/ba9a57f7c58df5bc926fd0508db27dda/6.jpg\n",
      "http://www.mangaread.org/wp-content/uploads/WP-manga/data/manga_5e08fdccf028f/ba9a57f7c58df5bc926fd0508db27dda/7.jpg\n",
      "http://www.mangaread.org/wp-content/uploads/WP-manga/data/manga_5e08fdccf028f/ba9a57f7c58df5bc926fd0508db27dda/8.jpg\n",
      "http://www.mangaread.org/wp-content/uploads/WP-manga/data/manga_5e08fdccf028f/ba9a57f7c58df5bc926fd0508db27dda/9.jpg\n",
      "http://www.mangaread.org/wp-content/uploads/WP-manga/data/manga_5e08fdccf028f/ba9a57f7c58df5bc926fd0508db27dda/10.jpg\n",
      "http://www.mangaread.org/wp-content/uploads/WP-manga/data/manga_5e08fdccf028f/ba9a57f7c58df5bc926fd0508db27dda/11.jpg\n",
      "http://www.mangaread.org/wp-content/uploads/WP-manga/data/manga_5e08fdccf028f/ba9a57f7c58df5bc926fd0508db27dda/12.jpg\n",
      "http://www.mangaread.org/wp-content/uploads/WP-manga/data/manga_5e08fdccf028f/ba9a57f7c58df5bc926fd0508db27dda/13.jpg\n",
      "http://www.mangaread.org/wp-content/uploads/WP-manga/data/manga_5e08fdccf028f/ba9a57f7c58df5bc926fd0508db27dda/14.jpg\n",
      "http://www.mangaread.org/wp-content/uploads/WP-manga/data/manga_5e08fdccf028f/ba9a57f7c58df5bc926fd0508db27dda/15.jpg\n",
      "http://www.mangaread.org/wp-content/uploads/WP-manga/data/manga_5e08fdccf028f/ba9a57f7c58df5bc926fd0508db27dda/16.jpg\n",
      "http://www.mangaread.org/wp-content/uploads/WP-manga/data/manga_5e08fdccf028f/ba9a57f7c58df5bc926fd0508db27dda/17.jpg\n",
      "http://www.mangaread.org/wp-content/uploads/WP-manga/data/manga_5e08fdccf028f/ba9a57f7c58df5bc926fd0508db27dda/18.jpg\n",
      "http://www.mangaread.org/wp-content/uploads/WP-manga/data/manga_5e08fdccf028f/ba9a57f7c58df5bc926fd0508db27dda/19.jpg\n",
      "http://www.mangaread.org/wp-content/uploads/WP-manga/data/manga_5e08fdccf028f/ba9a57f7c58df5bc926fd0508db27dda/20.jpg\n",
      "http://www.mangaread.org/wp-content/uploads/WP-manga/data/manga_5e08fdccf028f/ba9a57f7c58df5bc926fd0508db27dda/21.jpg\n",
      "http://www.mangaread.org/wp-content/uploads/WP-manga/data/manga_5e08fdccf028f/ba9a57f7c58df5bc926fd0508db27dda/22.jpg\n",
      "http://www.mangaread.org/wp-content/uploads/WP-manga/data/manga_5e08fdccf028f/ba9a57f7c58df5bc926fd0508db27dda/23.jpg\n",
      "http://www.mangaread.org/wp-content/uploads/WP-manga/data/manga_5e08fdccf028f/ba9a57f7c58df5bc926fd0508db27dda/24.jpg\n",
      "http://www.mangaread.org/wp-content/uploads/WP-manga/data/manga_5e08fdccf028f/ba9a57f7c58df5bc926fd0508db27dda/25.jpg\n",
      "http://www.mangaread.org/wp-content/uploads/WP-manga/data/manga_5e08fdccf028f/ba9a57f7c58df5bc926fd0508db27dda/26.jpg\n",
      "http://www.mangaread.org/wp-content/uploads/WP-manga/data/manga_5e08fdccf028f/ba9a57f7c58df5bc926fd0508db27dda/27.jpg\n",
      "http://www.mangaread.org/wp-content/uploads/WP-manga/data/manga_5e08fdccf028f/ba9a57f7c58df5bc926fd0508db27dda/28.jpg\n",
      "http://www.mangaread.org/wp-content/uploads/WP-manga/data/manga_5e08fdccf028f/ba9a57f7c58df5bc926fd0508db27dda/29.jpg\n",
      "http://www.mangaread.org/wp-content/uploads/WP-manga/data/manga_5e08fdccf028f/ba9a57f7c58df5bc926fd0508db27dda/30.jpg\n",
      "http://www.mangaread.org/wp-content/uploads/WP-manga/data/manga_5e08fdccf028f/ba9a57f7c58df5bc926fd0508db27dda/31.jpg\n",
      "http://www.mangaread.org/wp-content/uploads/WP-manga/data/manga_5e08fdccf028f/ba9a57f7c58df5bc926fd0508db27dda/32.jpg\n",
      "http://www.mangaread.org/wp-content/uploads/WP-manga/data/manga_5e08fdccf028f/ba9a57f7c58df5bc926fd0508db27dda/33.jpg\n",
      "http://www.mangaread.org/wp-content/uploads/WP-manga/data/manga_5e08fdccf028f/ba9a57f7c58df5bc926fd0508db27dda/34.jpg\n",
      "http://www.mangaread.org/wp-content/uploads/WP-manga/data/manga_5e08fdccf028f/ba9a57f7c58df5bc926fd0508db27dda/35.jpg\n",
      "http://www.mangaread.org/wp-content/uploads/WP-manga/data/manga_5e08fdccf028f/ba9a57f7c58df5bc926fd0508db27dda/36.jpg\n",
      "http://www.mangaread.org/wp-content/uploads/WP-manga/data/manga_5e08fdccf028f/ba9a57f7c58df5bc926fd0508db27dda/37.jpg\n",
      "http://www.mangaread.org/wp-content/uploads/WP-manga/data/manga_5e08fdccf028f/ba9a57f7c58df5bc926fd0508db27dda/38.jpg\n",
      "http://www.mangaread.org/wp-content/uploads/WP-manga/data/manga_5e08fdccf028f/ba9a57f7c58df5bc926fd0508db27dda/39.jpg\n",
      "http://www.mangaread.org/wp-content/uploads/WP-manga/data/manga_5e08fdccf028f/ba9a57f7c58df5bc926fd0508db27dda/40.jpg\n",
      "http://www.mangaread.org/wp-content/uploads/WP-manga/data/manga_5e08fdccf028f/ba9a57f7c58df5bc926fd0508db27dda/41.jpg\n",
      "http://www.mangaread.org/wp-content/uploads/WP-manga/data/manga_5e08fdccf028f/ba9a57f7c58df5bc926fd0508db27dda/42.jpg\n",
      "http://www.mangaread.org/wp-content/uploads/WP-manga/data/manga_5e08fdccf028f/ba9a57f7c58df5bc926fd0508db27dda/43.jpg\n",
      "http://www.mangaread.org/wp-content/uploads/WP-manga/data/manga_5e08fdccf028f/ba9a57f7c58df5bc926fd0508db27dda/44.jpg\n",
      "http://www.mangaread.org/wp-content/uploads/WP-manga/data/manga_5e08fdccf028f/ba9a57f7c58df5bc926fd0508db27dda/45.jpg\n"
     ]
    },
    {
     "name": "stderr",
     "output_type": "stream",
     "text": [
      "  1%|▊                                                                                | 1/99 [01:17<2:07:06, 77.82s/it]"
     ]
    },
    {
     "name": "stdout",
     "output_type": "stream",
     "text": [
      "finish\n",
      "----------------------------------------------------------------------------------------------------\n",
      "starting crawl chapter 2\n",
      "http://www.mangaread.org/wp-content/uploads/WP-manga/data/manga_5e08fdccf028f/7d4589d44612ee853b6ceebd3a5f5aa3/3.jpg\n",
      "http://www.mangaread.org/wp-content/uploads/WP-manga/data/manga_5e08fdccf028f/7d4589d44612ee853b6ceebd3a5f5aa3/4.jpg\n",
      "http://www.mangaread.org/wp-content/uploads/WP-manga/data/manga_5e08fdccf028f/7d4589d44612ee853b6ceebd3a5f5aa3/5.jpg\n",
      "http://www.mangaread.org/wp-content/uploads/WP-manga/data/manga_5e08fdccf028f/7d4589d44612ee853b6ceebd3a5f5aa3/6.jpg\n",
      "http://www.mangaread.org/wp-content/uploads/WP-manga/data/manga_5e08fdccf028f/7d4589d44612ee853b6ceebd3a5f5aa3/7.jpg\n",
      "http://www.mangaread.org/wp-content/uploads/WP-manga/data/manga_5e08fdccf028f/7d4589d44612ee853b6ceebd3a5f5aa3/8.jpg\n",
      "http://www.mangaread.org/wp-content/uploads/WP-manga/data/manga_5e08fdccf028f/7d4589d44612ee853b6ceebd3a5f5aa3/9.jpg\n",
      "http://www.mangaread.org/wp-content/uploads/WP-manga/data/manga_5e08fdccf028f/7d4589d44612ee853b6ceebd3a5f5aa3/10.jpg\n",
      "http://www.mangaread.org/wp-content/uploads/WP-manga/data/manga_5e08fdccf028f/7d4589d44612ee853b6ceebd3a5f5aa3/11.jpg\n",
      "http://www.mangaread.org/wp-content/uploads/WP-manga/data/manga_5e08fdccf028f/7d4589d44612ee853b6ceebd3a5f5aa3/12.jpg\n",
      "http://www.mangaread.org/wp-content/uploads/WP-manga/data/manga_5e08fdccf028f/7d4589d44612ee853b6ceebd3a5f5aa3/13.jpg\n",
      "http://www.mangaread.org/wp-content/uploads/WP-manga/data/manga_5e08fdccf028f/7d4589d44612ee853b6ceebd3a5f5aa3/14.jpg\n",
      "http://www.mangaread.org/wp-content/uploads/WP-manga/data/manga_5e08fdccf028f/7d4589d44612ee853b6ceebd3a5f5aa3/15.jpg\n",
      "http://www.mangaread.org/wp-content/uploads/WP-manga/data/manga_5e08fdccf028f/7d4589d44612ee853b6ceebd3a5f5aa3/16.jpg\n",
      "http://www.mangaread.org/wp-content/uploads/WP-manga/data/manga_5e08fdccf028f/7d4589d44612ee853b6ceebd3a5f5aa3/17.jpg\n",
      "http://www.mangaread.org/wp-content/uploads/WP-manga/data/manga_5e08fdccf028f/7d4589d44612ee853b6ceebd3a5f5aa3/18.jpg\n",
      "http://www.mangaread.org/wp-content/uploads/WP-manga/data/manga_5e08fdccf028f/7d4589d44612ee853b6ceebd3a5f5aa3/19.jpg\n",
      "http://www.mangaread.org/wp-content/uploads/WP-manga/data/manga_5e08fdccf028f/7d4589d44612ee853b6ceebd3a5f5aa3/20.jpg\n",
      "http://www.mangaread.org/wp-content/uploads/WP-manga/data/manga_5e08fdccf028f/7d4589d44612ee853b6ceebd3a5f5aa3/21.jpg\n",
      "http://www.mangaread.org/wp-content/uploads/WP-manga/data/manga_5e08fdccf028f/7d4589d44612ee853b6ceebd3a5f5aa3/22.jpg\n",
      "http://www.mangaread.org/wp-content/uploads/WP-manga/data/manga_5e08fdccf028f/7d4589d44612ee853b6ceebd3a5f5aa3/23.jpg\n",
      "http://www.mangaread.org/wp-content/uploads/WP-manga/data/manga_5e08fdccf028f/7d4589d44612ee853b6ceebd3a5f5aa3/24.jpg\n",
      "http://www.mangaread.org/wp-content/uploads/WP-manga/data/manga_5e08fdccf028f/7d4589d44612ee853b6ceebd3a5f5aa3/25.jpg\n",
      "http://www.mangaread.org/wp-content/uploads/WP-manga/data/manga_5e08fdccf028f/7d4589d44612ee853b6ceebd3a5f5aa3/26.jpg\n",
      "http://www.mangaread.org/wp-content/uploads/WP-manga/data/manga_5e08fdccf028f/7d4589d44612ee853b6ceebd3a5f5aa3/27.jpg\n",
      "http://www.mangaread.org/wp-content/uploads/WP-manga/data/manga_5e08fdccf028f/7d4589d44612ee853b6ceebd3a5f5aa3/28.jpg\n",
      "http://www.mangaread.org/wp-content/uploads/WP-manga/data/manga_5e08fdccf028f/7d4589d44612ee853b6ceebd3a5f5aa3/29.jpg\n",
      "http://www.mangaread.org/wp-content/uploads/WP-manga/data/manga_5e08fdccf028f/7d4589d44612ee853b6ceebd3a5f5aa3/30.jpg\n",
      "http://www.mangaread.org/wp-content/uploads/WP-manga/data/manga_5e08fdccf028f/7d4589d44612ee853b6ceebd3a5f5aa3/31.jpg\n",
      "http://www.mangaread.org/wp-content/uploads/WP-manga/data/manga_5e08fdccf028f/7d4589d44612ee853b6ceebd3a5f5aa3/32.jpg\n",
      "http://www.mangaread.org/wp-content/uploads/WP-manga/data/manga_5e08fdccf028f/7d4589d44612ee853b6ceebd3a5f5aa3/33.jpg\n",
      "http://www.mangaread.org/wp-content/uploads/WP-manga/data/manga_5e08fdccf028f/7d4589d44612ee853b6ceebd3a5f5aa3/34.jpg\n",
      "http://www.mangaread.org/wp-content/uploads/WP-manga/data/manga_5e08fdccf028f/7d4589d44612ee853b6ceebd3a5f5aa3/35.jpg\n",
      "http://www.mangaread.org/wp-content/uploads/WP-manga/data/manga_5e08fdccf028f/7d4589d44612ee853b6ceebd3a5f5aa3/36.jpg\n",
      "http://www.mangaread.org/wp-content/uploads/WP-manga/data/manga_5e08fdccf028f/7d4589d44612ee853b6ceebd3a5f5aa3/37.jpg\n"
     ]
    },
    {
     "name": "stderr",
     "output_type": "stream",
     "text": [
      "  2%|█▋                                                                               | 2/99 [02:48<2:11:53, 81.59s/it]"
     ]
    },
    {
     "name": "stdout",
     "output_type": "stream",
     "text": [
      "finish\n",
      "----------------------------------------------------------------------------------------------------\n",
      "starting crawl chapter 3\n",
      "http://www.mangaread.org/wp-content/uploads/WP-manga/data/manga_5e08fdccf028f/c917ac05f50522b325afca04b1d42db5/3.jpg\n",
      "http://www.mangaread.org/wp-content/uploads/WP-manga/data/manga_5e08fdccf028f/c917ac05f50522b325afca04b1d42db5/4.jpg\n",
      "http://www.mangaread.org/wp-content/uploads/WP-manga/data/manga_5e08fdccf028f/c917ac05f50522b325afca04b1d42db5/5.jpg\n",
      "http://www.mangaread.org/wp-content/uploads/WP-manga/data/manga_5e08fdccf028f/c917ac05f50522b325afca04b1d42db5/6.jpg\n",
      "http://www.mangaread.org/wp-content/uploads/WP-manga/data/manga_5e08fdccf028f/c917ac05f50522b325afca04b1d42db5/7.jpg\n",
      "http://www.mangaread.org/wp-content/uploads/WP-manga/data/manga_5e08fdccf028f/c917ac05f50522b325afca04b1d42db5/8.jpg\n",
      "http://www.mangaread.org/wp-content/uploads/WP-manga/data/manga_5e08fdccf028f/c917ac05f50522b325afca04b1d42db5/9.jpg\n",
      "http://www.mangaread.org/wp-content/uploads/WP-manga/data/manga_5e08fdccf028f/c917ac05f50522b325afca04b1d42db5/10.jpg\n",
      "http://www.mangaread.org/wp-content/uploads/WP-manga/data/manga_5e08fdccf028f/c917ac05f50522b325afca04b1d42db5/11.jpg\n",
      "http://www.mangaread.org/wp-content/uploads/WP-manga/data/manga_5e08fdccf028f/c917ac05f50522b325afca04b1d42db5/12.jpg\n",
      "http://www.mangaread.org/wp-content/uploads/WP-manga/data/manga_5e08fdccf028f/c917ac05f50522b325afca04b1d42db5/13.jpg\n",
      "http://www.mangaread.org/wp-content/uploads/WP-manga/data/manga_5e08fdccf028f/c917ac05f50522b325afca04b1d42db5/14.jpg\n",
      "http://www.mangaread.org/wp-content/uploads/WP-manga/data/manga_5e08fdccf028f/c917ac05f50522b325afca04b1d42db5/15.jpg\n",
      "http://www.mangaread.org/wp-content/uploads/WP-manga/data/manga_5e08fdccf028f/c917ac05f50522b325afca04b1d42db5/16.jpg\n",
      "http://www.mangaread.org/wp-content/uploads/WP-manga/data/manga_5e08fdccf028f/c917ac05f50522b325afca04b1d42db5/17.jpg\n",
      "http://www.mangaread.org/wp-content/uploads/WP-manga/data/manga_5e08fdccf028f/c917ac05f50522b325afca04b1d42db5/18.jpg\n",
      "http://www.mangaread.org/wp-content/uploads/WP-manga/data/manga_5e08fdccf028f/c917ac05f50522b325afca04b1d42db5/19.jpg\n",
      "http://www.mangaread.org/wp-content/uploads/WP-manga/data/manga_5e08fdccf028f/c917ac05f50522b325afca04b1d42db5/20.jpg\n",
      "http://www.mangaread.org/wp-content/uploads/WP-manga/data/manga_5e08fdccf028f/c917ac05f50522b325afca04b1d42db5/21.jpg\n",
      "http://www.mangaread.org/wp-content/uploads/WP-manga/data/manga_5e08fdccf028f/c917ac05f50522b325afca04b1d42db5/22.jpg\n",
      "http://www.mangaread.org/wp-content/uploads/WP-manga/data/manga_5e08fdccf028f/c917ac05f50522b325afca04b1d42db5/23.jpg\n",
      "http://www.mangaread.org/wp-content/uploads/WP-manga/data/manga_5e08fdccf028f/c917ac05f50522b325afca04b1d42db5/24.jpg\n",
      "http://www.mangaread.org/wp-content/uploads/WP-manga/data/manga_5e08fdccf028f/c917ac05f50522b325afca04b1d42db5/25.jpg\n",
      "http://www.mangaread.org/wp-content/uploads/WP-manga/data/manga_5e08fdccf028f/c917ac05f50522b325afca04b1d42db5/26.jpg\n",
      "http://www.mangaread.org/wp-content/uploads/WP-manga/data/manga_5e08fdccf028f/c917ac05f50522b325afca04b1d42db5/27.jpg\n",
      "http://www.mangaread.org/wp-content/uploads/WP-manga/data/manga_5e08fdccf028f/c917ac05f50522b325afca04b1d42db5/28.jpg\n",
      "http://www.mangaread.org/wp-content/uploads/WP-manga/data/manga_5e08fdccf028f/c917ac05f50522b325afca04b1d42db5/29.jpg\n",
      "http://www.mangaread.org/wp-content/uploads/WP-manga/data/manga_5e08fdccf028f/c917ac05f50522b325afca04b1d42db5/30.jpg\n",
      "http://www.mangaread.org/wp-content/uploads/WP-manga/data/manga_5e08fdccf028f/c917ac05f50522b325afca04b1d42db5/31.jpg\n",
      "http://www.mangaread.org/wp-content/uploads/WP-manga/data/manga_5e08fdccf028f/c917ac05f50522b325afca04b1d42db5/32.jpg\n",
      "http://www.mangaread.org/wp-content/uploads/WP-manga/data/manga_5e08fdccf028f/c917ac05f50522b325afca04b1d42db5/33.jpg\n",
      "http://www.mangaread.org/wp-content/uploads/WP-manga/data/manga_5e08fdccf028f/c917ac05f50522b325afca04b1d42db5/34.jpg\n",
      "http://www.mangaread.org/wp-content/uploads/WP-manga/data/manga_5e08fdccf028f/c917ac05f50522b325afca04b1d42db5/35.jpg\n",
      "http://www.mangaread.org/wp-content/uploads/WP-manga/data/manga_5e08fdccf028f/c917ac05f50522b325afca04b1d42db5/36.jpg\n",
      "http://www.mangaread.org/wp-content/uploads/WP-manga/data/manga_5e08fdccf028f/c917ac05f50522b325afca04b1d42db5/37.jpg\n"
     ]
    },
    {
     "name": "stderr",
     "output_type": "stream",
     "text": [
      "  3%|██▍                                                                              | 3/99 [04:19<2:15:13, 84.51s/it]"
     ]
    },
    {
     "name": "stdout",
     "output_type": "stream",
     "text": [
      "finish\n",
      "----------------------------------------------------------------------------------------------------\n",
      "starting crawl chapter 4\n",
      "http://www.mangaread.org/wp-content/uploads/WP-manga/data/manga_5e08fdccf028f/8df449a3c810e480226d08c8fe897da3/3.jpg\n",
      "http://www.mangaread.org/wp-content/uploads/WP-manga/data/manga_5e08fdccf028f/8df449a3c810e480226d08c8fe897da3/4.jpg\n",
      "http://www.mangaread.org/wp-content/uploads/WP-manga/data/manga_5e08fdccf028f/8df449a3c810e480226d08c8fe897da3/5.jpg\n",
      "http://www.mangaread.org/wp-content/uploads/WP-manga/data/manga_5e08fdccf028f/8df449a3c810e480226d08c8fe897da3/6.jpg\n",
      "http://www.mangaread.org/wp-content/uploads/WP-manga/data/manga_5e08fdccf028f/8df449a3c810e480226d08c8fe897da3/7.jpg\n",
      "http://www.mangaread.org/wp-content/uploads/WP-manga/data/manga_5e08fdccf028f/8df449a3c810e480226d08c8fe897da3/8.jpg\n",
      "http://www.mangaread.org/wp-content/uploads/WP-manga/data/manga_5e08fdccf028f/8df449a3c810e480226d08c8fe897da3/9.jpg\n",
      "http://www.mangaread.org/wp-content/uploads/WP-manga/data/manga_5e08fdccf028f/8df449a3c810e480226d08c8fe897da3/10.jpg\n",
      "http://www.mangaread.org/wp-content/uploads/WP-manga/data/manga_5e08fdccf028f/8df449a3c810e480226d08c8fe897da3/11.jpg\n",
      "http://www.mangaread.org/wp-content/uploads/WP-manga/data/manga_5e08fdccf028f/8df449a3c810e480226d08c8fe897da3/12.jpg\n",
      "http://www.mangaread.org/wp-content/uploads/WP-manga/data/manga_5e08fdccf028f/8df449a3c810e480226d08c8fe897da3/13.jpg\n",
      "http://www.mangaread.org/wp-content/uploads/WP-manga/data/manga_5e08fdccf028f/8df449a3c810e480226d08c8fe897da3/14.jpg\n",
      "http://www.mangaread.org/wp-content/uploads/WP-manga/data/manga_5e08fdccf028f/8df449a3c810e480226d08c8fe897da3/15.jpg\n",
      "http://www.mangaread.org/wp-content/uploads/WP-manga/data/manga_5e08fdccf028f/8df449a3c810e480226d08c8fe897da3/16.jpg\n",
      "http://www.mangaread.org/wp-content/uploads/WP-manga/data/manga_5e08fdccf028f/8df449a3c810e480226d08c8fe897da3/17.jpg\n",
      "http://www.mangaread.org/wp-content/uploads/WP-manga/data/manga_5e08fdccf028f/8df449a3c810e480226d08c8fe897da3/18.jpg\n",
      "http://www.mangaread.org/wp-content/uploads/WP-manga/data/manga_5e08fdccf028f/8df449a3c810e480226d08c8fe897da3/19.jpg\n",
      "http://www.mangaread.org/wp-content/uploads/WP-manga/data/manga_5e08fdccf028f/8df449a3c810e480226d08c8fe897da3/20.jpg\n",
      "http://www.mangaread.org/wp-content/uploads/WP-manga/data/manga_5e08fdccf028f/8df449a3c810e480226d08c8fe897da3/21.jpg\n",
      "http://www.mangaread.org/wp-content/uploads/WP-manga/data/manga_5e08fdccf028f/8df449a3c810e480226d08c8fe897da3/22.jpg\n",
      "http://www.mangaread.org/wp-content/uploads/WP-manga/data/manga_5e08fdccf028f/8df449a3c810e480226d08c8fe897da3/23.jpg\n",
      "http://www.mangaread.org/wp-content/uploads/WP-manga/data/manga_5e08fdccf028f/8df449a3c810e480226d08c8fe897da3/24.jpg\n",
      "http://www.mangaread.org/wp-content/uploads/WP-manga/data/manga_5e08fdccf028f/8df449a3c810e480226d08c8fe897da3/25.jpg\n",
      "http://www.mangaread.org/wp-content/uploads/WP-manga/data/manga_5e08fdccf028f/8df449a3c810e480226d08c8fe897da3/26.jpg\n",
      "http://www.mangaread.org/wp-content/uploads/WP-manga/data/manga_5e08fdccf028f/8df449a3c810e480226d08c8fe897da3/27.jpg\n",
      "http://www.mangaread.org/wp-content/uploads/WP-manga/data/manga_5e08fdccf028f/8df449a3c810e480226d08c8fe897da3/28.jpg\n",
      "http://www.mangaread.org/wp-content/uploads/WP-manga/data/manga_5e08fdccf028f/8df449a3c810e480226d08c8fe897da3/29.jpg\n",
      "http://www.mangaread.org/wp-content/uploads/WP-manga/data/manga_5e08fdccf028f/8df449a3c810e480226d08c8fe897da3/30.jpg\n",
      "http://www.mangaread.org/wp-content/uploads/WP-manga/data/manga_5e08fdccf028f/8df449a3c810e480226d08c8fe897da3/31.jpg\n",
      "http://www.mangaread.org/wp-content/uploads/WP-manga/data/manga_5e08fdccf028f/8df449a3c810e480226d08c8fe897da3/32.jpg\n",
      "http://www.mangaread.org/wp-content/uploads/WP-manga/data/manga_5e08fdccf028f/8df449a3c810e480226d08c8fe897da3/33.jpg\n"
     ]
    },
    {
     "name": "stderr",
     "output_type": "stream",
     "text": [
      "  4%|███▎                                                                             | 4/99 [05:53<2:18:22, 87.40s/it]"
     ]
    },
    {
     "name": "stdout",
     "output_type": "stream",
     "text": [
      "finish\n",
      "----------------------------------------------------------------------------------------------------\n",
      "starting crawl chapter 5\n",
      "http://www.mangaread.org/wp-content/uploads/WP-manga/data/manga_5e08fdccf028f/90c8fa8920aaaa1abe1b37b762fa4720/3.jpg\n",
      "http://www.mangaread.org/wp-content/uploads/WP-manga/data/manga_5e08fdccf028f/90c8fa8920aaaa1abe1b37b762fa4720/4.jpg\n",
      "http://www.mangaread.org/wp-content/uploads/WP-manga/data/manga_5e08fdccf028f/90c8fa8920aaaa1abe1b37b762fa4720/5.jpg\n",
      "http://www.mangaread.org/wp-content/uploads/WP-manga/data/manga_5e08fdccf028f/90c8fa8920aaaa1abe1b37b762fa4720/6.jpg\n",
      "http://www.mangaread.org/wp-content/uploads/WP-manga/data/manga_5e08fdccf028f/90c8fa8920aaaa1abe1b37b762fa4720/7.jpg\n",
      "http://www.mangaread.org/wp-content/uploads/WP-manga/data/manga_5e08fdccf028f/90c8fa8920aaaa1abe1b37b762fa4720/8.jpg\n",
      "http://www.mangaread.org/wp-content/uploads/WP-manga/data/manga_5e08fdccf028f/90c8fa8920aaaa1abe1b37b762fa4720/9.jpg\n",
      "http://www.mangaread.org/wp-content/uploads/WP-manga/data/manga_5e08fdccf028f/90c8fa8920aaaa1abe1b37b762fa4720/10.jpg\n",
      "http://www.mangaread.org/wp-content/uploads/WP-manga/data/manga_5e08fdccf028f/90c8fa8920aaaa1abe1b37b762fa4720/11.jpg\n",
      "http://www.mangaread.org/wp-content/uploads/WP-manga/data/manga_5e08fdccf028f/90c8fa8920aaaa1abe1b37b762fa4720/12.jpg\n",
      "http://www.mangaread.org/wp-content/uploads/WP-manga/data/manga_5e08fdccf028f/90c8fa8920aaaa1abe1b37b762fa4720/13.jpg\n",
      "http://www.mangaread.org/wp-content/uploads/WP-manga/data/manga_5e08fdccf028f/90c8fa8920aaaa1abe1b37b762fa4720/14.jpg\n",
      "http://www.mangaread.org/wp-content/uploads/WP-manga/data/manga_5e08fdccf028f/90c8fa8920aaaa1abe1b37b762fa4720/15.jpg\n",
      "http://www.mangaread.org/wp-content/uploads/WP-manga/data/manga_5e08fdccf028f/90c8fa8920aaaa1abe1b37b762fa4720/16.jpg\n",
      "http://www.mangaread.org/wp-content/uploads/WP-manga/data/manga_5e08fdccf028f/90c8fa8920aaaa1abe1b37b762fa4720/17.jpg\n",
      "http://www.mangaread.org/wp-content/uploads/WP-manga/data/manga_5e08fdccf028f/90c8fa8920aaaa1abe1b37b762fa4720/18.jpg\n",
      "http://www.mangaread.org/wp-content/uploads/WP-manga/data/manga_5e08fdccf028f/90c8fa8920aaaa1abe1b37b762fa4720/19.jpg\n",
      "http://www.mangaread.org/wp-content/uploads/WP-manga/data/manga_5e08fdccf028f/90c8fa8920aaaa1abe1b37b762fa4720/20.jpg\n",
      "http://www.mangaread.org/wp-content/uploads/WP-manga/data/manga_5e08fdccf028f/90c8fa8920aaaa1abe1b37b762fa4720/21.jpg\n",
      "http://www.mangaread.org/wp-content/uploads/WP-manga/data/manga_5e08fdccf028f/90c8fa8920aaaa1abe1b37b762fa4720/22.jpg\n",
      "http://www.mangaread.org/wp-content/uploads/WP-manga/data/manga_5e08fdccf028f/90c8fa8920aaaa1abe1b37b762fa4720/23.jpg\n",
      "http://www.mangaread.org/wp-content/uploads/WP-manga/data/manga_5e08fdccf028f/90c8fa8920aaaa1abe1b37b762fa4720/24.jpg\n",
      "http://www.mangaread.org/wp-content/uploads/WP-manga/data/manga_5e08fdccf028f/90c8fa8920aaaa1abe1b37b762fa4720/25.jpg\n",
      "http://www.mangaread.org/wp-content/uploads/WP-manga/data/manga_5e08fdccf028f/90c8fa8920aaaa1abe1b37b762fa4720/26.jpg\n",
      "http://www.mangaread.org/wp-content/uploads/WP-manga/data/manga_5e08fdccf028f/90c8fa8920aaaa1abe1b37b762fa4720/27.jpg\n",
      "http://www.mangaread.org/wp-content/uploads/WP-manga/data/manga_5e08fdccf028f/90c8fa8920aaaa1abe1b37b762fa4720/28.jpg\n",
      "http://www.mangaread.org/wp-content/uploads/WP-manga/data/manga_5e08fdccf028f/90c8fa8920aaaa1abe1b37b762fa4720/29.jpg\n",
      "http://www.mangaread.org/wp-content/uploads/WP-manga/data/manga_5e08fdccf028f/90c8fa8920aaaa1abe1b37b762fa4720/30.jpg\n"
     ]
    },
    {
     "name": "stderr",
     "output_type": "stream",
     "text": [
      "  5%|████                                                                             | 5/99 [07:07<2:10:40, 83.41s/it]"
     ]
    },
    {
     "name": "stdout",
     "output_type": "stream",
     "text": [
      "finish\n",
      "----------------------------------------------------------------------------------------------------\n",
      "starting crawl chapter 6\n",
      "http://www.mangaread.org/wp-content/uploads/WP-manga/data/manga_5e08fdccf028f/310bbd68f96b17b54cdc4859e5738d7b/3.jpg\n",
      "http://www.mangaread.org/wp-content/uploads/WP-manga/data/manga_5e08fdccf028f/310bbd68f96b17b54cdc4859e5738d7b/4.jpg\n",
      "http://www.mangaread.org/wp-content/uploads/WP-manga/data/manga_5e08fdccf028f/310bbd68f96b17b54cdc4859e5738d7b/5.jpg\n",
      "http://www.mangaread.org/wp-content/uploads/WP-manga/data/manga_5e08fdccf028f/310bbd68f96b17b54cdc4859e5738d7b/6.jpg\n",
      "http://www.mangaread.org/wp-content/uploads/WP-manga/data/manga_5e08fdccf028f/310bbd68f96b17b54cdc4859e5738d7b/7.jpg\n",
      "http://www.mangaread.org/wp-content/uploads/WP-manga/data/manga_5e08fdccf028f/310bbd68f96b17b54cdc4859e5738d7b/8.jpg\n",
      "http://www.mangaread.org/wp-content/uploads/WP-manga/data/manga_5e08fdccf028f/310bbd68f96b17b54cdc4859e5738d7b/9.jpg\n",
      "http://www.mangaread.org/wp-content/uploads/WP-manga/data/manga_5e08fdccf028f/310bbd68f96b17b54cdc4859e5738d7b/10.jpg\n",
      "http://www.mangaread.org/wp-content/uploads/WP-manga/data/manga_5e08fdccf028f/310bbd68f96b17b54cdc4859e5738d7b/11.jpg\n",
      "http://www.mangaread.org/wp-content/uploads/WP-manga/data/manga_5e08fdccf028f/310bbd68f96b17b54cdc4859e5738d7b/12.jpg\n",
      "http://www.mangaread.org/wp-content/uploads/WP-manga/data/manga_5e08fdccf028f/310bbd68f96b17b54cdc4859e5738d7b/13.jpg\n",
      "http://www.mangaread.org/wp-content/uploads/WP-manga/data/manga_5e08fdccf028f/310bbd68f96b17b54cdc4859e5738d7b/14.jpg\n",
      "http://www.mangaread.org/wp-content/uploads/WP-manga/data/manga_5e08fdccf028f/310bbd68f96b17b54cdc4859e5738d7b/15.jpg\n",
      "http://www.mangaread.org/wp-content/uploads/WP-manga/data/manga_5e08fdccf028f/310bbd68f96b17b54cdc4859e5738d7b/16.jpg\n",
      "http://www.mangaread.org/wp-content/uploads/WP-manga/data/manga_5e08fdccf028f/310bbd68f96b17b54cdc4859e5738d7b/17.jpg\n",
      "http://www.mangaread.org/wp-content/uploads/WP-manga/data/manga_5e08fdccf028f/310bbd68f96b17b54cdc4859e5738d7b/18.jpg\n",
      "http://www.mangaread.org/wp-content/uploads/WP-manga/data/manga_5e08fdccf028f/310bbd68f96b17b54cdc4859e5738d7b/19.jpg\n",
      "http://www.mangaread.org/wp-content/uploads/WP-manga/data/manga_5e08fdccf028f/310bbd68f96b17b54cdc4859e5738d7b/20.jpg\n",
      "http://www.mangaread.org/wp-content/uploads/WP-manga/data/manga_5e08fdccf028f/310bbd68f96b17b54cdc4859e5738d7b/21.jpg\n",
      "http://www.mangaread.org/wp-content/uploads/WP-manga/data/manga_5e08fdccf028f/310bbd68f96b17b54cdc4859e5738d7b/22.jpg\n",
      "http://www.mangaread.org/wp-content/uploads/WP-manga/data/manga_5e08fdccf028f/310bbd68f96b17b54cdc4859e5738d7b/23.jpg\n",
      "http://www.mangaread.org/wp-content/uploads/WP-manga/data/manga_5e08fdccf028f/310bbd68f96b17b54cdc4859e5738d7b/24.jpg\n",
      "http://www.mangaread.org/wp-content/uploads/WP-manga/data/manga_5e08fdccf028f/310bbd68f96b17b54cdc4859e5738d7b/25.jpg\n",
      "http://www.mangaread.org/wp-content/uploads/WP-manga/data/manga_5e08fdccf028f/310bbd68f96b17b54cdc4859e5738d7b/26.jpg\n",
      "http://www.mangaread.org/wp-content/uploads/WP-manga/data/manga_5e08fdccf028f/310bbd68f96b17b54cdc4859e5738d7b/27.jpg\n",
      "http://www.mangaread.org/wp-content/uploads/WP-manga/data/manga_5e08fdccf028f/310bbd68f96b17b54cdc4859e5738d7b/28.jpg\n",
      "http://www.mangaread.org/wp-content/uploads/WP-manga/data/manga_5e08fdccf028f/310bbd68f96b17b54cdc4859e5738d7b/29.jpg\n",
      "http://www.mangaread.org/wp-content/uploads/WP-manga/data/manga_5e08fdccf028f/310bbd68f96b17b54cdc4859e5738d7b/30.jpg\n"
     ]
    },
    {
     "name": "stderr",
     "output_type": "stream",
     "text": [
      "  6%|████▉                                                                            | 6/99 [08:23<2:05:50, 81.19s/it]"
     ]
    },
    {
     "name": "stdout",
     "output_type": "stream",
     "text": [
      "finish\n",
      "----------------------------------------------------------------------------------------------------\n",
      "starting crawl chapter 7\n",
      "http://www.mangaread.org/wp-content/uploads/WP-manga/data/manga_5e08fdccf028f/65a635807f1e4ac3497a1286c8f51a4e/3.jpg\n",
      "http://www.mangaread.org/wp-content/uploads/WP-manga/data/manga_5e08fdccf028f/65a635807f1e4ac3497a1286c8f51a4e/4.jpg\n",
      "http://www.mangaread.org/wp-content/uploads/WP-manga/data/manga_5e08fdccf028f/65a635807f1e4ac3497a1286c8f51a4e/5.jpg\n",
      "http://www.mangaread.org/wp-content/uploads/WP-manga/data/manga_5e08fdccf028f/65a635807f1e4ac3497a1286c8f51a4e/6.jpg\n",
      "http://www.mangaread.org/wp-content/uploads/WP-manga/data/manga_5e08fdccf028f/65a635807f1e4ac3497a1286c8f51a4e/7.jpg\n",
      "http://www.mangaread.org/wp-content/uploads/WP-manga/data/manga_5e08fdccf028f/65a635807f1e4ac3497a1286c8f51a4e/8.jpg\n",
      "http://www.mangaread.org/wp-content/uploads/WP-manga/data/manga_5e08fdccf028f/65a635807f1e4ac3497a1286c8f51a4e/9.jpg\n",
      "http://www.mangaread.org/wp-content/uploads/WP-manga/data/manga_5e08fdccf028f/65a635807f1e4ac3497a1286c8f51a4e/10.jpg\n",
      "http://www.mangaread.org/wp-content/uploads/WP-manga/data/manga_5e08fdccf028f/65a635807f1e4ac3497a1286c8f51a4e/11.jpg\n",
      "http://www.mangaread.org/wp-content/uploads/WP-manga/data/manga_5e08fdccf028f/65a635807f1e4ac3497a1286c8f51a4e/12.jpg\n"
     ]
    },
    {
     "name": "stderr",
     "output_type": "stream",
     "text": [
      "  7%|█████▋                                                                           | 7/99 [08:57<1:42:51, 67.08s/it]"
     ]
    },
    {
     "name": "stdout",
     "output_type": "stream",
     "text": [
      "finish\n",
      "----------------------------------------------------------------------------------------------------\n",
      "starting crawl chapter 8\n",
      "http://www.mangaread.org/wp-content/uploads/WP-manga/data/manga_5e08fdccf028f/51e5cd5711b0d919bb7de9b04a312350/3.jpg\n",
      "http://www.mangaread.org/wp-content/uploads/WP-manga/data/manga_5e08fdccf028f/51e5cd5711b0d919bb7de9b04a312350/4.jpg\n",
      "http://www.mangaread.org/wp-content/uploads/WP-manga/data/manga_5e08fdccf028f/51e5cd5711b0d919bb7de9b04a312350/5.jpg\n",
      "http://www.mangaread.org/wp-content/uploads/WP-manga/data/manga_5e08fdccf028f/51e5cd5711b0d919bb7de9b04a312350/6.jpg\n",
      "http://www.mangaread.org/wp-content/uploads/WP-manga/data/manga_5e08fdccf028f/51e5cd5711b0d919bb7de9b04a312350/7.jpg\n",
      "http://www.mangaread.org/wp-content/uploads/WP-manga/data/manga_5e08fdccf028f/51e5cd5711b0d919bb7de9b04a312350/8.jpg\n",
      "http://www.mangaread.org/wp-content/uploads/WP-manga/data/manga_5e08fdccf028f/51e5cd5711b0d919bb7de9b04a312350/9.jpg\n",
      "http://www.mangaread.org/wp-content/uploads/WP-manga/data/manga_5e08fdccf028f/51e5cd5711b0d919bb7de9b04a312350/10.jpg\n",
      "http://www.mangaread.org/wp-content/uploads/WP-manga/data/manga_5e08fdccf028f/51e5cd5711b0d919bb7de9b04a312350/11.jpg\n",
      "http://www.mangaread.org/wp-content/uploads/WP-manga/data/manga_5e08fdccf028f/51e5cd5711b0d919bb7de9b04a312350/12.jpg\n",
      "http://www.mangaread.org/wp-content/uploads/WP-manga/data/manga_5e08fdccf028f/51e5cd5711b0d919bb7de9b04a312350/13.jpg\n",
      "http://www.mangaread.org/wp-content/uploads/WP-manga/data/manga_5e08fdccf028f/51e5cd5711b0d919bb7de9b04a312350/14.jpg\n",
      "http://www.mangaread.org/wp-content/uploads/WP-manga/data/manga_5e08fdccf028f/51e5cd5711b0d919bb7de9b04a312350/15.jpg\n",
      "http://www.mangaread.org/wp-content/uploads/WP-manga/data/manga_5e08fdccf028f/51e5cd5711b0d919bb7de9b04a312350/16.jpg\n",
      "http://www.mangaread.org/wp-content/uploads/WP-manga/data/manga_5e08fdccf028f/51e5cd5711b0d919bb7de9b04a312350/17.jpg\n",
      "http://www.mangaread.org/wp-content/uploads/WP-manga/data/manga_5e08fdccf028f/51e5cd5711b0d919bb7de9b04a312350/18.jpg\n",
      "http://www.mangaread.org/wp-content/uploads/WP-manga/data/manga_5e08fdccf028f/51e5cd5711b0d919bb7de9b04a312350/19.jpg\n",
      "http://www.mangaread.org/wp-content/uploads/WP-manga/data/manga_5e08fdccf028f/51e5cd5711b0d919bb7de9b04a312350/20.jpg\n",
      "http://www.mangaread.org/wp-content/uploads/WP-manga/data/manga_5e08fdccf028f/51e5cd5711b0d919bb7de9b04a312350/21.jpg\n",
      "http://www.mangaread.org/wp-content/uploads/WP-manga/data/manga_5e08fdccf028f/51e5cd5711b0d919bb7de9b04a312350/22.jpg\n",
      "http://www.mangaread.org/wp-content/uploads/WP-manga/data/manga_5e08fdccf028f/51e5cd5711b0d919bb7de9b04a312350/23.jpg\n",
      "http://www.mangaread.org/wp-content/uploads/WP-manga/data/manga_5e08fdccf028f/51e5cd5711b0d919bb7de9b04a312350/24.jpg\n",
      "http://www.mangaread.org/wp-content/uploads/WP-manga/data/manga_5e08fdccf028f/51e5cd5711b0d919bb7de9b04a312350/25.jpg\n",
      "http://www.mangaread.org/wp-content/uploads/WP-manga/data/manga_5e08fdccf028f/51e5cd5711b0d919bb7de9b04a312350/26.jpg\n",
      "http://www.mangaread.org/wp-content/uploads/WP-manga/data/manga_5e08fdccf028f/51e5cd5711b0d919bb7de9b04a312350/27.jpg\n",
      "http://www.mangaread.org/wp-content/uploads/WP-manga/data/manga_5e08fdccf028f/51e5cd5711b0d919bb7de9b04a312350/28.jpg\n",
      "http://www.mangaread.org/wp-content/uploads/WP-manga/data/manga_5e08fdccf028f/51e5cd5711b0d919bb7de9b04a312350/29.jpg\n",
      "http://www.mangaread.org/wp-content/uploads/WP-manga/data/manga_5e08fdccf028f/51e5cd5711b0d919bb7de9b04a312350/30.jpg\n",
      "http://www.mangaread.org/wp-content/uploads/WP-manga/data/manga_5e08fdccf028f/51e5cd5711b0d919bb7de9b04a312350/31.jpg\n",
      "http://www.mangaread.org/wp-content/uploads/WP-manga/data/manga_5e08fdccf028f/51e5cd5711b0d919bb7de9b04a312350/32.jpg\n",
      "http://www.mangaread.org/wp-content/uploads/WP-manga/data/manga_5e08fdccf028f/51e5cd5711b0d919bb7de9b04a312350/33.jpg\n",
      "http://www.mangaread.org/wp-content/uploads/WP-manga/data/manga_5e08fdccf028f/51e5cd5711b0d919bb7de9b04a312350/34.jpg\n",
      "http://www.mangaread.org/wp-content/uploads/WP-manga/data/manga_5e08fdccf028f/51e5cd5711b0d919bb7de9b04a312350/35.jpg\n",
      "http://www.mangaread.org/wp-content/uploads/WP-manga/data/manga_5e08fdccf028f/51e5cd5711b0d919bb7de9b04a312350/36.jpg\n",
      "http://www.mangaread.org/wp-content/uploads/WP-manga/data/manga_5e08fdccf028f/51e5cd5711b0d919bb7de9b04a312350/37.jpg\n",
      "http://www.mangaread.org/wp-content/uploads/WP-manga/data/manga_5e08fdccf028f/51e5cd5711b0d919bb7de9b04a312350/38.jpg\n",
      "http://www.mangaread.org/wp-content/uploads/WP-manga/data/manga_5e08fdccf028f/51e5cd5711b0d919bb7de9b04a312350/39.jpg\n"
     ]
    },
    {
     "name": "stderr",
     "output_type": "stream",
     "text": [
      "  8%|██████▌                                                                          | 8/99 [10:33<1:54:53, 75.76s/it]"
     ]
    },
    {
     "name": "stdout",
     "output_type": "stream",
     "text": [
      "finish\n",
      "----------------------------------------------------------------------------------------------------\n",
      "starting crawl chapter 9\n",
      "http://www.mangaread.org/wp-content/uploads/WP-manga/data/manga_5e08fdccf028f/b11c23c9fd5a1a3db436157fc78f9440/3.jpg\n",
      "http://www.mangaread.org/wp-content/uploads/WP-manga/data/manga_5e08fdccf028f/b11c23c9fd5a1a3db436157fc78f9440/4.jpg\n",
      "http://www.mangaread.org/wp-content/uploads/WP-manga/data/manga_5e08fdccf028f/b11c23c9fd5a1a3db436157fc78f9440/5.jpg\n",
      "http://www.mangaread.org/wp-content/uploads/WP-manga/data/manga_5e08fdccf028f/b11c23c9fd5a1a3db436157fc78f9440/6.jpg\n",
      "http://www.mangaread.org/wp-content/uploads/WP-manga/data/manga_5e08fdccf028f/b11c23c9fd5a1a3db436157fc78f9440/7.jpg\n",
      "http://www.mangaread.org/wp-content/uploads/WP-manga/data/manga_5e08fdccf028f/b11c23c9fd5a1a3db436157fc78f9440/8.jpg\n",
      "http://www.mangaread.org/wp-content/uploads/WP-manga/data/manga_5e08fdccf028f/b11c23c9fd5a1a3db436157fc78f9440/9.jpg\n",
      "http://www.mangaread.org/wp-content/uploads/WP-manga/data/manga_5e08fdccf028f/b11c23c9fd5a1a3db436157fc78f9440/10.jpg\n"
     ]
    },
    {
     "name": "stderr",
     "output_type": "stream",
     "text": [
      "  9%|███████▎                                                                         | 9/99 [11:00<1:31:34, 61.05s/it]"
     ]
    },
    {
     "name": "stdout",
     "output_type": "stream",
     "text": [
      "finish\n",
      "----------------------------------------------------------------------------------------------------\n",
      "starting crawl chapter 10\n",
      "http://www.mangaread.org/wp-content/uploads/WP-manga/data/manga_5e08fdccf028f/d5de72631adf044acdfa164f879a4ca6/3.jpg\n",
      "http://www.mangaread.org/wp-content/uploads/WP-manga/data/manga_5e08fdccf028f/d5de72631adf044acdfa164f879a4ca6/4.jpg\n",
      "http://www.mangaread.org/wp-content/uploads/WP-manga/data/manga_5e08fdccf028f/d5de72631adf044acdfa164f879a4ca6/5.jpg\n",
      "http://www.mangaread.org/wp-content/uploads/WP-manga/data/manga_5e08fdccf028f/d5de72631adf044acdfa164f879a4ca6/6.jpg\n",
      "http://www.mangaread.org/wp-content/uploads/WP-manga/data/manga_5e08fdccf028f/d5de72631adf044acdfa164f879a4ca6/7.jpg\n",
      "http://www.mangaread.org/wp-content/uploads/WP-manga/data/manga_5e08fdccf028f/d5de72631adf044acdfa164f879a4ca6/8.jpg\n",
      "http://www.mangaread.org/wp-content/uploads/WP-manga/data/manga_5e08fdccf028f/d5de72631adf044acdfa164f879a4ca6/9.jpg\n",
      "http://www.mangaread.org/wp-content/uploads/WP-manga/data/manga_5e08fdccf028f/d5de72631adf044acdfa164f879a4ca6/10.jpg\n",
      "http://www.mangaread.org/wp-content/uploads/WP-manga/data/manga_5e08fdccf028f/d5de72631adf044acdfa164f879a4ca6/11.jpg\n",
      "http://www.mangaread.org/wp-content/uploads/WP-manga/data/manga_5e08fdccf028f/d5de72631adf044acdfa164f879a4ca6/12.jpg\n",
      "http://www.mangaread.org/wp-content/uploads/WP-manga/data/manga_5e08fdccf028f/d5de72631adf044acdfa164f879a4ca6/13.jpg\n",
      "http://www.mangaread.org/wp-content/uploads/WP-manga/data/manga_5e08fdccf028f/d5de72631adf044acdfa164f879a4ca6/14.jpg\n",
      "http://www.mangaread.org/wp-content/uploads/WP-manga/data/manga_5e08fdccf028f/d5de72631adf044acdfa164f879a4ca6/15.jpg\n",
      "http://www.mangaread.org/wp-content/uploads/WP-manga/data/manga_5e08fdccf028f/d5de72631adf044acdfa164f879a4ca6/16.jpg\n",
      "http://www.mangaread.org/wp-content/uploads/WP-manga/data/manga_5e08fdccf028f/d5de72631adf044acdfa164f879a4ca6/17.jpg\n",
      "http://www.mangaread.org/wp-content/uploads/WP-manga/data/manga_5e08fdccf028f/d5de72631adf044acdfa164f879a4ca6/18.jpg\n",
      "http://www.mangaread.org/wp-content/uploads/WP-manga/data/manga_5e08fdccf028f/d5de72631adf044acdfa164f879a4ca6/19.jpg\n",
      "http://www.mangaread.org/wp-content/uploads/WP-manga/data/manga_5e08fdccf028f/d5de72631adf044acdfa164f879a4ca6/20.jpg\n",
      "http://www.mangaread.org/wp-content/uploads/WP-manga/data/manga_5e08fdccf028f/d5de72631adf044acdfa164f879a4ca6/21.jpg\n",
      "http://www.mangaread.org/wp-content/uploads/WP-manga/data/manga_5e08fdccf028f/d5de72631adf044acdfa164f879a4ca6/22.jpg\n",
      "http://www.mangaread.org/wp-content/uploads/WP-manga/data/manga_5e08fdccf028f/d5de72631adf044acdfa164f879a4ca6/23.jpg\n",
      "http://www.mangaread.org/wp-content/uploads/WP-manga/data/manga_5e08fdccf028f/d5de72631adf044acdfa164f879a4ca6/24.jpg\n",
      "http://www.mangaread.org/wp-content/uploads/WP-manga/data/manga_5e08fdccf028f/d5de72631adf044acdfa164f879a4ca6/25.jpg\n",
      "http://www.mangaread.org/wp-content/uploads/WP-manga/data/manga_5e08fdccf028f/d5de72631adf044acdfa164f879a4ca6/26.jpg\n",
      "http://www.mangaread.org/wp-content/uploads/WP-manga/data/manga_5e08fdccf028f/d5de72631adf044acdfa164f879a4ca6/27.jpg\n",
      "http://www.mangaread.org/wp-content/uploads/WP-manga/data/manga_5e08fdccf028f/d5de72631adf044acdfa164f879a4ca6/28.jpg\n",
      "http://www.mangaread.org/wp-content/uploads/WP-manga/data/manga_5e08fdccf028f/d5de72631adf044acdfa164f879a4ca6/29.jpg\n",
      "http://www.mangaread.org/wp-content/uploads/WP-manga/data/manga_5e08fdccf028f/d5de72631adf044acdfa164f879a4ca6/30.jpg\n",
      "http://www.mangaread.org/wp-content/uploads/WP-manga/data/manga_5e08fdccf028f/d5de72631adf044acdfa164f879a4ca6/31.jpg\n",
      "http://www.mangaread.org/wp-content/uploads/WP-manga/data/manga_5e08fdccf028f/d5de72631adf044acdfa164f879a4ca6/32.jpg\n",
      "http://www.mangaread.org/wp-content/uploads/WP-manga/data/manga_5e08fdccf028f/d5de72631adf044acdfa164f879a4ca6/33.jpg\n",
      "http://www.mangaread.org/wp-content/uploads/WP-manga/data/manga_5e08fdccf028f/d5de72631adf044acdfa164f879a4ca6/34.jpg\n",
      "http://www.mangaread.org/wp-content/uploads/WP-manga/data/manga_5e08fdccf028f/d5de72631adf044acdfa164f879a4ca6/35.jpg\n",
      "http://www.mangaread.org/wp-content/uploads/WP-manga/data/manga_5e08fdccf028f/d5de72631adf044acdfa164f879a4ca6/36.jpg\n",
      "http://www.mangaread.org/wp-content/uploads/WP-manga/data/manga_5e08fdccf028f/d5de72631adf044acdfa164f879a4ca6/37.jpg\n",
      "http://www.mangaread.org/wp-content/uploads/WP-manga/data/manga_5e08fdccf028f/d5de72631adf044acdfa164f879a4ca6/38.jpg\n",
      "http://www.mangaread.org/wp-content/uploads/WP-manga/data/manga_5e08fdccf028f/d5de72631adf044acdfa164f879a4ca6/39.jpg\n"
     ]
    },
    {
     "name": "stderr",
     "output_type": "stream",
     "text": [
      " 10%|████████                                                                        | 10/99 [12:31<1:43:51, 70.01s/it]"
     ]
    },
    {
     "name": "stdout",
     "output_type": "stream",
     "text": [
      "finish\n",
      "----------------------------------------------------------------------------------------------------\n",
      "starting crawl chapter 11\n",
      "http://www.mangaread.org/wp-content/uploads/WP-manga/data/manga_5e08fdccf028f/d451cb0c78d1ae16fb617534e44a5487/3.jpg\n",
      "http://www.mangaread.org/wp-content/uploads/WP-manga/data/manga_5e08fdccf028f/d451cb0c78d1ae16fb617534e44a5487/4.jpg\n",
      "http://www.mangaread.org/wp-content/uploads/WP-manga/data/manga_5e08fdccf028f/d451cb0c78d1ae16fb617534e44a5487/5.jpg\n",
      "http://www.mangaread.org/wp-content/uploads/WP-manga/data/manga_5e08fdccf028f/d451cb0c78d1ae16fb617534e44a5487/6.jpg\n",
      "http://www.mangaread.org/wp-content/uploads/WP-manga/data/manga_5e08fdccf028f/d451cb0c78d1ae16fb617534e44a5487/7.jpg\n",
      "http://www.mangaread.org/wp-content/uploads/WP-manga/data/manga_5e08fdccf028f/d451cb0c78d1ae16fb617534e44a5487/8.jpg\n",
      "http://www.mangaread.org/wp-content/uploads/WP-manga/data/manga_5e08fdccf028f/d451cb0c78d1ae16fb617534e44a5487/9.jpg\n",
      "http://www.mangaread.org/wp-content/uploads/WP-manga/data/manga_5e08fdccf028f/d451cb0c78d1ae16fb617534e44a5487/10.jpg\n",
      "http://www.mangaread.org/wp-content/uploads/WP-manga/data/manga_5e08fdccf028f/d451cb0c78d1ae16fb617534e44a5487/11.jpg\n",
      "http://www.mangaread.org/wp-content/uploads/WP-manga/data/manga_5e08fdccf028f/d451cb0c78d1ae16fb617534e44a5487/12.jpg\n",
      "http://www.mangaread.org/wp-content/uploads/WP-manga/data/manga_5e08fdccf028f/d451cb0c78d1ae16fb617534e44a5487/13.jpg\n"
     ]
    },
    {
     "name": "stderr",
     "output_type": "stream",
     "text": [
      " 11%|████████▉                                                                       | 11/99 [13:05<1:26:39, 59.08s/it]"
     ]
    },
    {
     "name": "stdout",
     "output_type": "stream",
     "text": [
      "finish\n",
      "----------------------------------------------------------------------------------------------------\n",
      "starting crawl chapter 12\n",
      "http://www.mangaread.org/wp-content/uploads/WP-manga/data/manga_5e08fdccf028f/6376db6351d1db9775c0cd03d3759fc1/3.jpg\n",
      "http://www.mangaread.org/wp-content/uploads/WP-manga/data/manga_5e08fdccf028f/6376db6351d1db9775c0cd03d3759fc1/4.jpg\n",
      "http://www.mangaread.org/wp-content/uploads/WP-manga/data/manga_5e08fdccf028f/6376db6351d1db9775c0cd03d3759fc1/5.jpg\n",
      "http://www.mangaread.org/wp-content/uploads/WP-manga/data/manga_5e08fdccf028f/6376db6351d1db9775c0cd03d3759fc1/6.jpg\n",
      "http://www.mangaread.org/wp-content/uploads/WP-manga/data/manga_5e08fdccf028f/6376db6351d1db9775c0cd03d3759fc1/7.jpg\n",
      "http://www.mangaread.org/wp-content/uploads/WP-manga/data/manga_5e08fdccf028f/6376db6351d1db9775c0cd03d3759fc1/8.jpg\n",
      "http://www.mangaread.org/wp-content/uploads/WP-manga/data/manga_5e08fdccf028f/6376db6351d1db9775c0cd03d3759fc1/9.jpg\n",
      "http://www.mangaread.org/wp-content/uploads/WP-manga/data/manga_5e08fdccf028f/6376db6351d1db9775c0cd03d3759fc1/10.jpg\n",
      "http://www.mangaread.org/wp-content/uploads/WP-manga/data/manga_5e08fdccf028f/6376db6351d1db9775c0cd03d3759fc1/11.jpg\n",
      "http://www.mangaread.org/wp-content/uploads/WP-manga/data/manga_5e08fdccf028f/6376db6351d1db9775c0cd03d3759fc1/12.jpg\n",
      "http://www.mangaread.org/wp-content/uploads/WP-manga/data/manga_5e08fdccf028f/6376db6351d1db9775c0cd03d3759fc1/13.jpg\n",
      "http://www.mangaread.org/wp-content/uploads/WP-manga/data/manga_5e08fdccf028f/6376db6351d1db9775c0cd03d3759fc1/14.jpg\n",
      "http://www.mangaread.org/wp-content/uploads/WP-manga/data/manga_5e08fdccf028f/6376db6351d1db9775c0cd03d3759fc1/15.jpg\n",
      "http://www.mangaread.org/wp-content/uploads/WP-manga/data/manga_5e08fdccf028f/6376db6351d1db9775c0cd03d3759fc1/16.jpg\n",
      "http://www.mangaread.org/wp-content/uploads/WP-manga/data/manga_5e08fdccf028f/6376db6351d1db9775c0cd03d3759fc1/17.jpg\n",
      "http://www.mangaread.org/wp-content/uploads/WP-manga/data/manga_5e08fdccf028f/6376db6351d1db9775c0cd03d3759fc1/18.jpg\n",
      "http://www.mangaread.org/wp-content/uploads/WP-manga/data/manga_5e08fdccf028f/6376db6351d1db9775c0cd03d3759fc1/19.jpg\n",
      "http://www.mangaread.org/wp-content/uploads/WP-manga/data/manga_5e08fdccf028f/6376db6351d1db9775c0cd03d3759fc1/20.jpg\n",
      "http://www.mangaread.org/wp-content/uploads/WP-manga/data/manga_5e08fdccf028f/6376db6351d1db9775c0cd03d3759fc1/21.jpg\n",
      "http://www.mangaread.org/wp-content/uploads/WP-manga/data/manga_5e08fdccf028f/6376db6351d1db9775c0cd03d3759fc1/22.jpg\n",
      "http://www.mangaread.org/wp-content/uploads/WP-manga/data/manga_5e08fdccf028f/6376db6351d1db9775c0cd03d3759fc1/23.jpg\n",
      "http://www.mangaread.org/wp-content/uploads/WP-manga/data/manga_5e08fdccf028f/6376db6351d1db9775c0cd03d3759fc1/24.jpg\n",
      "http://www.mangaread.org/wp-content/uploads/WP-manga/data/manga_5e08fdccf028f/6376db6351d1db9775c0cd03d3759fc1/25.jpg\n",
      "http://www.mangaread.org/wp-content/uploads/WP-manga/data/manga_5e08fdccf028f/6376db6351d1db9775c0cd03d3759fc1/26.jpg\n",
      "http://www.mangaread.org/wp-content/uploads/WP-manga/data/manga_5e08fdccf028f/6376db6351d1db9775c0cd03d3759fc1/27.jpg\n",
      "http://www.mangaread.org/wp-content/uploads/WP-manga/data/manga_5e08fdccf028f/6376db6351d1db9775c0cd03d3759fc1/28.jpg\n",
      "http://www.mangaread.org/wp-content/uploads/WP-manga/data/manga_5e08fdccf028f/6376db6351d1db9775c0cd03d3759fc1/29.jpg\n",
      "http://www.mangaread.org/wp-content/uploads/WP-manga/data/manga_5e08fdccf028f/6376db6351d1db9775c0cd03d3759fc1/30.jpg\n",
      "http://www.mangaread.org/wp-content/uploads/WP-manga/data/manga_5e08fdccf028f/6376db6351d1db9775c0cd03d3759fc1/31.jpg\n",
      "http://www.mangaread.org/wp-content/uploads/WP-manga/data/manga_5e08fdccf028f/6376db6351d1db9775c0cd03d3759fc1/32.jpg\n",
      "http://www.mangaread.org/wp-content/uploads/WP-manga/data/manga_5e08fdccf028f/6376db6351d1db9775c0cd03d3759fc1/33.jpg\n",
      "http://www.mangaread.org/wp-content/uploads/WP-manga/data/manga_5e08fdccf028f/6376db6351d1db9775c0cd03d3759fc1/34.jpg\n",
      "http://www.mangaread.org/wp-content/uploads/WP-manga/data/manga_5e08fdccf028f/6376db6351d1db9775c0cd03d3759fc1/35.jpg\n",
      "http://www.mangaread.org/wp-content/uploads/WP-manga/data/manga_5e08fdccf028f/6376db6351d1db9775c0cd03d3759fc1/36.jpg\n",
      "http://www.mangaread.org/wp-content/uploads/WP-manga/data/manga_5e08fdccf028f/6376db6351d1db9775c0cd03d3759fc1/37.jpg\n",
      "http://www.mangaread.org/wp-content/uploads/WP-manga/data/manga_5e08fdccf028f/6376db6351d1db9775c0cd03d3759fc1/38.jpg\n",
      "http://www.mangaread.org/wp-content/uploads/WP-manga/data/manga_5e08fdccf028f/6376db6351d1db9775c0cd03d3759fc1/39.jpg\n",
      "http://www.mangaread.org/wp-content/uploads/WP-manga/data/manga_5e08fdccf028f/6376db6351d1db9775c0cd03d3759fc1/40.jpg\n",
      "http://www.mangaread.org/wp-content/uploads/WP-manga/data/manga_5e08fdccf028f/6376db6351d1db9775c0cd03d3759fc1/41.jpg\n"
     ]
    },
    {
     "name": "stderr",
     "output_type": "stream",
     "text": [
      " 12%|█████████▋                                                                      | 12/99 [14:34<1:38:46, 68.12s/it]"
     ]
    },
    {
     "name": "stdout",
     "output_type": "stream",
     "text": [
      "finish\n",
      "----------------------------------------------------------------------------------------------------\n",
      "starting crawl chapter 13\n",
      "http://www.mangaread.org/wp-content/uploads/WP-manga/data/manga_5e08fdccf028f/1f89a6039e54fed161457ee6c37c2af1/2.jpg\n",
      "http://www.mangaread.org/wp-content/uploads/WP-manga/data/manga_5e08fdccf028f/1f89a6039e54fed161457ee6c37c2af1/3.jpg\n",
      "http://www.mangaread.org/wp-content/uploads/WP-manga/data/manga_5e08fdccf028f/1f89a6039e54fed161457ee6c37c2af1/4.jpg\n",
      "http://www.mangaread.org/wp-content/uploads/WP-manga/data/manga_5e08fdccf028f/1f89a6039e54fed161457ee6c37c2af1/5.jpg\n",
      "http://www.mangaread.org/wp-content/uploads/WP-manga/data/manga_5e08fdccf028f/1f89a6039e54fed161457ee6c37c2af1/6.jpg\n",
      "http://www.mangaread.org/wp-content/uploads/WP-manga/data/manga_5e08fdccf028f/1f89a6039e54fed161457ee6c37c2af1/7.jpg\n",
      "http://www.mangaread.org/wp-content/uploads/WP-manga/data/manga_5e08fdccf028f/1f89a6039e54fed161457ee6c37c2af1/8.jpg\n",
      "http://www.mangaread.org/wp-content/uploads/WP-manga/data/manga_5e08fdccf028f/1f89a6039e54fed161457ee6c37c2af1/9.jpg\n",
      "http://www.mangaread.org/wp-content/uploads/WP-manga/data/manga_5e08fdccf028f/1f89a6039e54fed161457ee6c37c2af1/10.jpg\n",
      "http://www.mangaread.org/wp-content/uploads/WP-manga/data/manga_5e08fdccf028f/1f89a6039e54fed161457ee6c37c2af1/11.jpg\n",
      "http://www.mangaread.org/wp-content/uploads/WP-manga/data/manga_5e08fdccf028f/1f89a6039e54fed161457ee6c37c2af1/12.jpg\n",
      "http://www.mangaread.org/wp-content/uploads/WP-manga/data/manga_5e08fdccf028f/1f89a6039e54fed161457ee6c37c2af1/13.jpg\n",
      "http://www.mangaread.org/wp-content/uploads/WP-manga/data/manga_5e08fdccf028f/1f89a6039e54fed161457ee6c37c2af1/14.jpg\n",
      "http://www.mangaread.org/wp-content/uploads/WP-manga/data/manga_5e08fdccf028f/1f89a6039e54fed161457ee6c37c2af1/15.jpg\n",
      "http://www.mangaread.org/wp-content/uploads/WP-manga/data/manga_5e08fdccf028f/1f89a6039e54fed161457ee6c37c2af1/16.jpg\n",
      "http://www.mangaread.org/wp-content/uploads/WP-manga/data/manga_5e08fdccf028f/1f89a6039e54fed161457ee6c37c2af1/17.jpg\n",
      "http://www.mangaread.org/wp-content/uploads/WP-manga/data/manga_5e08fdccf028f/1f89a6039e54fed161457ee6c37c2af1/18.jpg\n"
     ]
    },
    {
     "name": "stderr",
     "output_type": "stream",
     "text": [
      " 13%|██████████▌                                                                     | 13/99 [15:25<1:30:15, 62.97s/it]"
     ]
    },
    {
     "name": "stdout",
     "output_type": "stream",
     "text": [
      "finish\n",
      "----------------------------------------------------------------------------------------------------\n",
      "starting crawl chapter 14\n",
      "http://www.mangaread.org/wp-content/uploads/WP-manga/data/manga_5e08fdccf028f/16a8424d2bb18cefe6c65d648708f01c/3.jpg\n",
      "http://www.mangaread.org/wp-content/uploads/WP-manga/data/manga_5e08fdccf028f/16a8424d2bb18cefe6c65d648708f01c/4.jpg\n",
      "http://www.mangaread.org/wp-content/uploads/WP-manga/data/manga_5e08fdccf028f/16a8424d2bb18cefe6c65d648708f01c/5.jpg\n",
      "http://www.mangaread.org/wp-content/uploads/WP-manga/data/manga_5e08fdccf028f/16a8424d2bb18cefe6c65d648708f01c/6.jpg\n",
      "http://www.mangaread.org/wp-content/uploads/WP-manga/data/manga_5e08fdccf028f/16a8424d2bb18cefe6c65d648708f01c/7.jpg\n",
      "http://www.mangaread.org/wp-content/uploads/WP-manga/data/manga_5e08fdccf028f/16a8424d2bb18cefe6c65d648708f01c/8.jpg\n",
      "http://www.mangaread.org/wp-content/uploads/WP-manga/data/manga_5e08fdccf028f/16a8424d2bb18cefe6c65d648708f01c/9.jpg\n",
      "http://www.mangaread.org/wp-content/uploads/WP-manga/data/manga_5e08fdccf028f/16a8424d2bb18cefe6c65d648708f01c/10.jpg\n",
      "http://www.mangaread.org/wp-content/uploads/WP-manga/data/manga_5e08fdccf028f/16a8424d2bb18cefe6c65d648708f01c/11.jpg\n",
      "http://www.mangaread.org/wp-content/uploads/WP-manga/data/manga_5e08fdccf028f/16a8424d2bb18cefe6c65d648708f01c/12.jpg\n",
      "http://www.mangaread.org/wp-content/uploads/WP-manga/data/manga_5e08fdccf028f/16a8424d2bb18cefe6c65d648708f01c/13.jpg\n",
      "http://www.mangaread.org/wp-content/uploads/WP-manga/data/manga_5e08fdccf028f/16a8424d2bb18cefe6c65d648708f01c/14.jpg\n",
      "http://www.mangaread.org/wp-content/uploads/WP-manga/data/manga_5e08fdccf028f/16a8424d2bb18cefe6c65d648708f01c/15.jpg\n",
      "http://www.mangaread.org/wp-content/uploads/WP-manga/data/manga_5e08fdccf028f/16a8424d2bb18cefe6c65d648708f01c/16.jpg\n",
      "http://www.mangaread.org/wp-content/uploads/WP-manga/data/manga_5e08fdccf028f/16a8424d2bb18cefe6c65d648708f01c/17.jpg\n",
      "http://www.mangaread.org/wp-content/uploads/WP-manga/data/manga_5e08fdccf028f/16a8424d2bb18cefe6c65d648708f01c/18.jpg\n",
      "http://www.mangaread.org/wp-content/uploads/WP-manga/data/manga_5e08fdccf028f/16a8424d2bb18cefe6c65d648708f01c/19.jpg\n",
      "http://www.mangaread.org/wp-content/uploads/WP-manga/data/manga_5e08fdccf028f/16a8424d2bb18cefe6c65d648708f01c/20.jpg\n",
      "http://www.mangaread.org/wp-content/uploads/WP-manga/data/manga_5e08fdccf028f/16a8424d2bb18cefe6c65d648708f01c/21.jpg\n",
      "http://www.mangaread.org/wp-content/uploads/WP-manga/data/manga_5e08fdccf028f/16a8424d2bb18cefe6c65d648708f01c/22.jpg\n",
      "http://www.mangaread.org/wp-content/uploads/WP-manga/data/manga_5e08fdccf028f/16a8424d2bb18cefe6c65d648708f01c/23.jpg\n",
      "http://www.mangaread.org/wp-content/uploads/WP-manga/data/manga_5e08fdccf028f/16a8424d2bb18cefe6c65d648708f01c/24.jpg\n",
      "http://www.mangaread.org/wp-content/uploads/WP-manga/data/manga_5e08fdccf028f/16a8424d2bb18cefe6c65d648708f01c/25.jpg\n",
      "http://www.mangaread.org/wp-content/uploads/WP-manga/data/manga_5e08fdccf028f/16a8424d2bb18cefe6c65d648708f01c/26.jpg\n",
      "http://www.mangaread.org/wp-content/uploads/WP-manga/data/manga_5e08fdccf028f/16a8424d2bb18cefe6c65d648708f01c/27.jpg\n",
      "http://www.mangaread.org/wp-content/uploads/WP-manga/data/manga_5e08fdccf028f/16a8424d2bb18cefe6c65d648708f01c/28.jpg\n",
      "http://www.mangaread.org/wp-content/uploads/WP-manga/data/manga_5e08fdccf028f/16a8424d2bb18cefe6c65d648708f01c/29.jpg\n",
      "http://www.mangaread.org/wp-content/uploads/WP-manga/data/manga_5e08fdccf028f/16a8424d2bb18cefe6c65d648708f01c/30.jpg\n",
      "http://www.mangaread.org/wp-content/uploads/WP-manga/data/manga_5e08fdccf028f/16a8424d2bb18cefe6c65d648708f01c/31.jpg\n",
      "http://www.mangaread.org/wp-content/uploads/WP-manga/data/manga_5e08fdccf028f/16a8424d2bb18cefe6c65d648708f01c/32.jpg\n",
      "http://www.mangaread.org/wp-content/uploads/WP-manga/data/manga_5e08fdccf028f/16a8424d2bb18cefe6c65d648708f01c/33.jpg\n",
      "http://www.mangaread.org/wp-content/uploads/WP-manga/data/manga_5e08fdccf028f/16a8424d2bb18cefe6c65d648708f01c/34.jpg\n",
      "http://www.mangaread.org/wp-content/uploads/WP-manga/data/manga_5e08fdccf028f/16a8424d2bb18cefe6c65d648708f01c/35.jpg\n",
      "http://www.mangaread.org/wp-content/uploads/WP-manga/data/manga_5e08fdccf028f/16a8424d2bb18cefe6c65d648708f01c/36.jpg\n",
      "http://www.mangaread.org/wp-content/uploads/WP-manga/data/manga_5e08fdccf028f/16a8424d2bb18cefe6c65d648708f01c/37.jpg\n",
      "http://www.mangaread.org/wp-content/uploads/WP-manga/data/manga_5e08fdccf028f/16a8424d2bb18cefe6c65d648708f01c/38.jpg\n",
      "http://www.mangaread.org/wp-content/uploads/WP-manga/data/manga_5e08fdccf028f/16a8424d2bb18cefe6c65d648708f01c/39.jpg\n",
      "http://www.mangaread.org/wp-content/uploads/WP-manga/data/manga_5e08fdccf028f/16a8424d2bb18cefe6c65d648708f01c/40.jpg\n",
      "http://www.mangaread.org/wp-content/uploads/WP-manga/data/manga_5e08fdccf028f/16a8424d2bb18cefe6c65d648708f01c/41.jpg\n",
      "http://www.mangaread.org/wp-content/uploads/WP-manga/data/manga_5e08fdccf028f/16a8424d2bb18cefe6c65d648708f01c/42.jpg\n",
      "http://www.mangaread.org/wp-content/uploads/WP-manga/data/manga_5e08fdccf028f/16a8424d2bb18cefe6c65d648708f01c/43.jpg\n",
      "http://www.mangaread.org/wp-content/uploads/WP-manga/data/manga_5e08fdccf028f/16a8424d2bb18cefe6c65d648708f01c/44.jpg\n",
      "http://www.mangaread.org/wp-content/uploads/WP-manga/data/manga_5e08fdccf028f/16a8424d2bb18cefe6c65d648708f01c/45.jpg\n"
     ]
    },
    {
     "name": "stderr",
     "output_type": "stream",
     "text": [
      " 14%|███████████▎                                                                    | 14/99 [17:13<1:48:33, 76.63s/it]"
     ]
    },
    {
     "name": "stdout",
     "output_type": "stream",
     "text": [
      "finish\n",
      "----------------------------------------------------------------------------------------------------\n",
      "starting crawl chapter 15\n",
      "http://www.mangaread.org/wp-content/uploads/WP-manga/data/manga_5e08fdccf028f/8f3b216f05bcee3a465a54c05969958e/3.jpg\n",
      "http://www.mangaread.org/wp-content/uploads/WP-manga/data/manga_5e08fdccf028f/8f3b216f05bcee3a465a54c05969958e/4.jpg\n",
      "http://www.mangaread.org/wp-content/uploads/WP-manga/data/manga_5e08fdccf028f/8f3b216f05bcee3a465a54c05969958e/5.jpg\n",
      "http://www.mangaread.org/wp-content/uploads/WP-manga/data/manga_5e08fdccf028f/8f3b216f05bcee3a465a54c05969958e/6.jpg\n",
      "http://www.mangaread.org/wp-content/uploads/WP-manga/data/manga_5e08fdccf028f/8f3b216f05bcee3a465a54c05969958e/7.jpg\n",
      "http://www.mangaread.org/wp-content/uploads/WP-manga/data/manga_5e08fdccf028f/8f3b216f05bcee3a465a54c05969958e/8.jpg\n",
      "http://www.mangaread.org/wp-content/uploads/WP-manga/data/manga_5e08fdccf028f/8f3b216f05bcee3a465a54c05969958e/9.jpg\n",
      "http://www.mangaread.org/wp-content/uploads/WP-manga/data/manga_5e08fdccf028f/8f3b216f05bcee3a465a54c05969958e/10.jpg\n",
      "http://www.mangaread.org/wp-content/uploads/WP-manga/data/manga_5e08fdccf028f/8f3b216f05bcee3a465a54c05969958e/11.jpg\n"
     ]
    },
    {
     "name": "stderr",
     "output_type": "stream",
     "text": [
      " 15%|████████████                                                                    | 15/99 [17:43<1:27:43, 62.66s/it]"
     ]
    },
    {
     "name": "stdout",
     "output_type": "stream",
     "text": [
      "finish\n",
      "----------------------------------------------------------------------------------------------------\n",
      "starting crawl chapter 16\n",
      "http://www.mangaread.org/wp-content/uploads/WP-manga/data/manga_5e08fdccf028f/224cead83186d12ffc56587f81827fcf/3.jpg\n",
      "http://www.mangaread.org/wp-content/uploads/WP-manga/data/manga_5e08fdccf028f/224cead83186d12ffc56587f81827fcf/4.jpg\n",
      "http://www.mangaread.org/wp-content/uploads/WP-manga/data/manga_5e08fdccf028f/224cead83186d12ffc56587f81827fcf/5.jpg\n",
      "http://www.mangaread.org/wp-content/uploads/WP-manga/data/manga_5e08fdccf028f/224cead83186d12ffc56587f81827fcf/6.jpg\n",
      "http://www.mangaread.org/wp-content/uploads/WP-manga/data/manga_5e08fdccf028f/224cead83186d12ffc56587f81827fcf/7.jpg\n",
      "http://www.mangaread.org/wp-content/uploads/WP-manga/data/manga_5e08fdccf028f/224cead83186d12ffc56587f81827fcf/8.jpg\n",
      "http://www.mangaread.org/wp-content/uploads/WP-manga/data/manga_5e08fdccf028f/224cead83186d12ffc56587f81827fcf/9.jpg\n",
      "http://www.mangaread.org/wp-content/uploads/WP-manga/data/manga_5e08fdccf028f/224cead83186d12ffc56587f81827fcf/10.jpg\n",
      "http://www.mangaread.org/wp-content/uploads/WP-manga/data/manga_5e08fdccf028f/224cead83186d12ffc56587f81827fcf/11.jpg\n",
      "http://www.mangaread.org/wp-content/uploads/WP-manga/data/manga_5e08fdccf028f/224cead83186d12ffc56587f81827fcf/12.jpg\n",
      "http://www.mangaread.org/wp-content/uploads/WP-manga/data/manga_5e08fdccf028f/224cead83186d12ffc56587f81827fcf/13.jpg\n",
      "http://www.mangaread.org/wp-content/uploads/WP-manga/data/manga_5e08fdccf028f/224cead83186d12ffc56587f81827fcf/14.jpg\n",
      "http://www.mangaread.org/wp-content/uploads/WP-manga/data/manga_5e08fdccf028f/224cead83186d12ffc56587f81827fcf/15.jpg\n",
      "http://www.mangaread.org/wp-content/uploads/WP-manga/data/manga_5e08fdccf028f/224cead83186d12ffc56587f81827fcf/16.jpg\n",
      "http://www.mangaread.org/wp-content/uploads/WP-manga/data/manga_5e08fdccf028f/224cead83186d12ffc56587f81827fcf/17.jpg\n",
      "http://www.mangaread.org/wp-content/uploads/WP-manga/data/manga_5e08fdccf028f/224cead83186d12ffc56587f81827fcf/18.jpg\n",
      "http://www.mangaread.org/wp-content/uploads/WP-manga/data/manga_5e08fdccf028f/224cead83186d12ffc56587f81827fcf/19.jpg\n",
      "http://www.mangaread.org/wp-content/uploads/WP-manga/data/manga_5e08fdccf028f/224cead83186d12ffc56587f81827fcf/20.jpg\n",
      "http://www.mangaread.org/wp-content/uploads/WP-manga/data/manga_5e08fdccf028f/224cead83186d12ffc56587f81827fcf/21.jpg\n",
      "http://www.mangaread.org/wp-content/uploads/WP-manga/data/manga_5e08fdccf028f/224cead83186d12ffc56587f81827fcf/22.jpg\n",
      "http://www.mangaread.org/wp-content/uploads/WP-manga/data/manga_5e08fdccf028f/224cead83186d12ffc56587f81827fcf/23.jpg\n",
      "http://www.mangaread.org/wp-content/uploads/WP-manga/data/manga_5e08fdccf028f/224cead83186d12ffc56587f81827fcf/24.jpg\n",
      "http://www.mangaread.org/wp-content/uploads/WP-manga/data/manga_5e08fdccf028f/224cead83186d12ffc56587f81827fcf/25.jpg\n",
      "http://www.mangaread.org/wp-content/uploads/WP-manga/data/manga_5e08fdccf028f/224cead83186d12ffc56587f81827fcf/26.jpg\n",
      "http://www.mangaread.org/wp-content/uploads/WP-manga/data/manga_5e08fdccf028f/224cead83186d12ffc56587f81827fcf/27.jpg\n",
      "http://www.mangaread.org/wp-content/uploads/WP-manga/data/manga_5e08fdccf028f/224cead83186d12ffc56587f81827fcf/28.jpg\n",
      "http://www.mangaread.org/wp-content/uploads/WP-manga/data/manga_5e08fdccf028f/224cead83186d12ffc56587f81827fcf/29.jpg\n",
      "http://www.mangaread.org/wp-content/uploads/WP-manga/data/manga_5e08fdccf028f/224cead83186d12ffc56587f81827fcf/30.jpg\n",
      "http://www.mangaread.org/wp-content/uploads/WP-manga/data/manga_5e08fdccf028f/224cead83186d12ffc56587f81827fcf/31.jpg\n",
      "http://www.mangaread.org/wp-content/uploads/WP-manga/data/manga_5e08fdccf028f/224cead83186d12ffc56587f81827fcf/32.jpg\n",
      "http://www.mangaread.org/wp-content/uploads/WP-manga/data/manga_5e08fdccf028f/224cead83186d12ffc56587f81827fcf/33.jpg\n",
      "http://www.mangaread.org/wp-content/uploads/WP-manga/data/manga_5e08fdccf028f/224cead83186d12ffc56587f81827fcf/34.jpg\n",
      "http://www.mangaread.org/wp-content/uploads/WP-manga/data/manga_5e08fdccf028f/224cead83186d12ffc56587f81827fcf/35.jpg\n",
      "http://www.mangaread.org/wp-content/uploads/WP-manga/data/manga_5e08fdccf028f/224cead83186d12ffc56587f81827fcf/36.jpg\n",
      "http://www.mangaread.org/wp-content/uploads/WP-manga/data/manga_5e08fdccf028f/224cead83186d12ffc56587f81827fcf/37.jpg\n",
      "http://www.mangaread.org/wp-content/uploads/WP-manga/data/manga_5e08fdccf028f/224cead83186d12ffc56587f81827fcf/38.jpg\n",
      "http://www.mangaread.org/wp-content/uploads/WP-manga/data/manga_5e08fdccf028f/224cead83186d12ffc56587f81827fcf/39.jpg\n",
      "http://www.mangaread.org/wp-content/uploads/WP-manga/data/manga_5e08fdccf028f/224cead83186d12ffc56587f81827fcf/40.jpg\n",
      "http://www.mangaread.org/wp-content/uploads/WP-manga/data/manga_5e08fdccf028f/224cead83186d12ffc56587f81827fcf/41.jpg\n",
      "http://www.mangaread.org/wp-content/uploads/WP-manga/data/manga_5e08fdccf028f/224cead83186d12ffc56587f81827fcf/42.jpg\n",
      "http://www.mangaread.org/wp-content/uploads/WP-manga/data/manga_5e08fdccf028f/224cead83186d12ffc56587f81827fcf/43.jpg\n",
      "http://www.mangaread.org/wp-content/uploads/WP-manga/data/manga_5e08fdccf028f/224cead83186d12ffc56587f81827fcf/44.jpg\n",
      "http://www.mangaread.org/wp-content/uploads/WP-manga/data/manga_5e08fdccf028f/224cead83186d12ffc56587f81827fcf/45.jpg\n",
      "http://www.mangaread.org/wp-content/uploads/WP-manga/data/manga_5e08fdccf028f/224cead83186d12ffc56587f81827fcf/46.jpg\n",
      "http://www.mangaread.org/wp-content/uploads/WP-manga/data/manga_5e08fdccf028f/224cead83186d12ffc56587f81827fcf/47.jpg\n",
      "http://www.mangaread.org/wp-content/uploads/WP-manga/data/manga_5e08fdccf028f/224cead83186d12ffc56587f81827fcf/48.jpg\n",
      "http://www.mangaread.org/wp-content/uploads/WP-manga/data/manga_5e08fdccf028f/224cead83186d12ffc56587f81827fcf/49.jpg\n",
      "http://www.mangaread.org/wp-content/uploads/WP-manga/data/manga_5e08fdccf028f/224cead83186d12ffc56587f81827fcf/50.jpg\n",
      "http://www.mangaread.org/wp-content/uploads/WP-manga/data/manga_5e08fdccf028f/224cead83186d12ffc56587f81827fcf/51.jpg\n",
      "http://www.mangaread.org/wp-content/uploads/WP-manga/data/manga_5e08fdccf028f/224cead83186d12ffc56587f81827fcf/52.jpg\n"
     ]
    },
    {
     "name": "stderr",
     "output_type": "stream",
     "text": [
      " 16%|████████████▉                                                                   | 16/99 [19:51<1:53:43, 82.21s/it]"
     ]
    },
    {
     "name": "stdout",
     "output_type": "stream",
     "text": [
      "finish\n",
      "----------------------------------------------------------------------------------------------------\n",
      "starting crawl chapter 17\n",
      "http://www.mangaread.org/wp-content/uploads/WP-manga/data/manga_5e08fdccf028f/fc9492c8fa418951ea5c10313445fbff/3.jpg\n",
      "http://www.mangaread.org/wp-content/uploads/WP-manga/data/manga_5e08fdccf028f/fc9492c8fa418951ea5c10313445fbff/4.jpg\n",
      "http://www.mangaread.org/wp-content/uploads/WP-manga/data/manga_5e08fdccf028f/fc9492c8fa418951ea5c10313445fbff/5.jpg\n",
      "http://www.mangaread.org/wp-content/uploads/WP-manga/data/manga_5e08fdccf028f/fc9492c8fa418951ea5c10313445fbff/6.jpg\n",
      "http://www.mangaread.org/wp-content/uploads/WP-manga/data/manga_5e08fdccf028f/fc9492c8fa418951ea5c10313445fbff/7.jpg\n",
      "http://www.mangaread.org/wp-content/uploads/WP-manga/data/manga_5e08fdccf028f/fc9492c8fa418951ea5c10313445fbff/8.jpg\n",
      "http://www.mangaread.org/wp-content/uploads/WP-manga/data/manga_5e08fdccf028f/fc9492c8fa418951ea5c10313445fbff/9.jpg\n",
      "http://www.mangaread.org/wp-content/uploads/WP-manga/data/manga_5e08fdccf028f/fc9492c8fa418951ea5c10313445fbff/10.jpg\n",
      "http://www.mangaread.org/wp-content/uploads/WP-manga/data/manga_5e08fdccf028f/fc9492c8fa418951ea5c10313445fbff/11.jpg\n",
      "http://www.mangaread.org/wp-content/uploads/WP-manga/data/manga_5e08fdccf028f/fc9492c8fa418951ea5c10313445fbff/12.jpg\n",
      "http://www.mangaread.org/wp-content/uploads/WP-manga/data/manga_5e08fdccf028f/fc9492c8fa418951ea5c10313445fbff/13.jpg\n",
      "http://www.mangaread.org/wp-content/uploads/WP-manga/data/manga_5e08fdccf028f/fc9492c8fa418951ea5c10313445fbff/14.jpg\n",
      "http://www.mangaread.org/wp-content/uploads/WP-manga/data/manga_5e08fdccf028f/fc9492c8fa418951ea5c10313445fbff/15.jpg\n",
      "http://www.mangaread.org/wp-content/uploads/WP-manga/data/manga_5e08fdccf028f/fc9492c8fa418951ea5c10313445fbff/16.jpg\n",
      "http://www.mangaread.org/wp-content/uploads/WP-manga/data/manga_5e08fdccf028f/fc9492c8fa418951ea5c10313445fbff/17.jpg\n",
      "http://www.mangaread.org/wp-content/uploads/WP-manga/data/manga_5e08fdccf028f/fc9492c8fa418951ea5c10313445fbff/18.jpg\n",
      "http://www.mangaread.org/wp-content/uploads/WP-manga/data/manga_5e08fdccf028f/fc9492c8fa418951ea5c10313445fbff/19.jpg\n",
      "http://www.mangaread.org/wp-content/uploads/WP-manga/data/manga_5e08fdccf028f/fc9492c8fa418951ea5c10313445fbff/20.jpg\n",
      "http://www.mangaread.org/wp-content/uploads/WP-manga/data/manga_5e08fdccf028f/fc9492c8fa418951ea5c10313445fbff/21.jpg\n",
      "http://www.mangaread.org/wp-content/uploads/WP-manga/data/manga_5e08fdccf028f/fc9492c8fa418951ea5c10313445fbff/22.jpg\n",
      "http://www.mangaread.org/wp-content/uploads/WP-manga/data/manga_5e08fdccf028f/fc9492c8fa418951ea5c10313445fbff/23.jpg\n",
      "http://www.mangaread.org/wp-content/uploads/WP-manga/data/manga_5e08fdccf028f/fc9492c8fa418951ea5c10313445fbff/24.jpg\n",
      "http://www.mangaread.org/wp-content/uploads/WP-manga/data/manga_5e08fdccf028f/fc9492c8fa418951ea5c10313445fbff/25.jpg\n",
      "http://www.mangaread.org/wp-content/uploads/WP-manga/data/manga_5e08fdccf028f/fc9492c8fa418951ea5c10313445fbff/26.jpg\n",
      "http://www.mangaread.org/wp-content/uploads/WP-manga/data/manga_5e08fdccf028f/fc9492c8fa418951ea5c10313445fbff/27.jpg\n",
      "http://www.mangaread.org/wp-content/uploads/WP-manga/data/manga_5e08fdccf028f/fc9492c8fa418951ea5c10313445fbff/28.jpg\n",
      "http://www.mangaread.org/wp-content/uploads/WP-manga/data/manga_5e08fdccf028f/fc9492c8fa418951ea5c10313445fbff/29.jpg\n",
      "http://www.mangaread.org/wp-content/uploads/WP-manga/data/manga_5e08fdccf028f/fc9492c8fa418951ea5c10313445fbff/30.jpg\n",
      "http://www.mangaread.org/wp-content/uploads/WP-manga/data/manga_5e08fdccf028f/fc9492c8fa418951ea5c10313445fbff/31.jpg\n",
      "http://www.mangaread.org/wp-content/uploads/WP-manga/data/manga_5e08fdccf028f/fc9492c8fa418951ea5c10313445fbff/32.jpg\n",
      "http://www.mangaread.org/wp-content/uploads/WP-manga/data/manga_5e08fdccf028f/fc9492c8fa418951ea5c10313445fbff/33.jpg\n",
      "http://www.mangaread.org/wp-content/uploads/WP-manga/data/manga_5e08fdccf028f/fc9492c8fa418951ea5c10313445fbff/34.jpg\n",
      "http://www.mangaread.org/wp-content/uploads/WP-manga/data/manga_5e08fdccf028f/fc9492c8fa418951ea5c10313445fbff/35.jpg\n",
      "http://www.mangaread.org/wp-content/uploads/WP-manga/data/manga_5e08fdccf028f/fc9492c8fa418951ea5c10313445fbff/36.jpg\n",
      "http://www.mangaread.org/wp-content/uploads/WP-manga/data/manga_5e08fdccf028f/fc9492c8fa418951ea5c10313445fbff/37.jpg\n",
      "http://www.mangaread.org/wp-content/uploads/WP-manga/data/manga_5e08fdccf028f/fc9492c8fa418951ea5c10313445fbff/38.jpg\n",
      "http://www.mangaread.org/wp-content/uploads/WP-manga/data/manga_5e08fdccf028f/fc9492c8fa418951ea5c10313445fbff/39.jpg\n",
      "http://www.mangaread.org/wp-content/uploads/WP-manga/data/manga_5e08fdccf028f/fc9492c8fa418951ea5c10313445fbff/40.jpg\n",
      "http://www.mangaread.org/wp-content/uploads/WP-manga/data/manga_5e08fdccf028f/fc9492c8fa418951ea5c10313445fbff/41.jpg\n",
      "http://www.mangaread.org/wp-content/uploads/WP-manga/data/manga_5e08fdccf028f/fc9492c8fa418951ea5c10313445fbff/42.jpg\n",
      "http://www.mangaread.org/wp-content/uploads/WP-manga/data/manga_5e08fdccf028f/fc9492c8fa418951ea5c10313445fbff/43.jpg\n",
      "http://www.mangaread.org/wp-content/uploads/WP-manga/data/manga_5e08fdccf028f/fc9492c8fa418951ea5c10313445fbff/44.jpg\n",
      "http://www.mangaread.org/wp-content/uploads/WP-manga/data/manga_5e08fdccf028f/fc9492c8fa418951ea5c10313445fbff/45.jpg\n",
      "http://www.mangaread.org/wp-content/uploads/WP-manga/data/manga_5e08fdccf028f/fc9492c8fa418951ea5c10313445fbff/46.jpg\n",
      "http://www.mangaread.org/wp-content/uploads/WP-manga/data/manga_5e08fdccf028f/fc9492c8fa418951ea5c10313445fbff/47.jpg\n",
      "http://www.mangaread.org/wp-content/uploads/WP-manga/data/manga_5e08fdccf028f/fc9492c8fa418951ea5c10313445fbff/48.jpg\n",
      "http://www.mangaread.org/wp-content/uploads/WP-manga/data/manga_5e08fdccf028f/fc9492c8fa418951ea5c10313445fbff/49.jpg\n",
      "http://www.mangaread.org/wp-content/uploads/WP-manga/data/manga_5e08fdccf028f/fc9492c8fa418951ea5c10313445fbff/50.jpg\n",
      "http://www.mangaread.org/wp-content/uploads/WP-manga/data/manga_5e08fdccf028f/fc9492c8fa418951ea5c10313445fbff/51.jpg\n",
      "http://www.mangaread.org/wp-content/uploads/WP-manga/data/manga_5e08fdccf028f/fc9492c8fa418951ea5c10313445fbff/52.jpg\n",
      "http://www.mangaread.org/wp-content/uploads/WP-manga/data/manga_5e08fdccf028f/fc9492c8fa418951ea5c10313445fbff/53.jpg\n",
      "http://www.mangaread.org/wp-content/uploads/WP-manga/data/manga_5e08fdccf028f/fc9492c8fa418951ea5c10313445fbff/54.jpg\n",
      "http://www.mangaread.org/wp-content/uploads/WP-manga/data/manga_5e08fdccf028f/fc9492c8fa418951ea5c10313445fbff/55.jpg\n",
      "http://www.mangaread.org/wp-content/uploads/WP-manga/data/manga_5e08fdccf028f/fc9492c8fa418951ea5c10313445fbff/56.jpg\n",
      "http://www.mangaread.org/wp-content/uploads/WP-manga/data/manga_5e08fdccf028f/fc9492c8fa418951ea5c10313445fbff/57.jpg\n",
      "http://www.mangaread.org/wp-content/uploads/WP-manga/data/manga_5e08fdccf028f/fc9492c8fa418951ea5c10313445fbff/58.jpg\n",
      "http://www.mangaread.org/wp-content/uploads/WP-manga/data/manga_5e08fdccf028f/fc9492c8fa418951ea5c10313445fbff/59.jpg\n",
      "http://www.mangaread.org/wp-content/uploads/WP-manga/data/manga_5e08fdccf028f/fc9492c8fa418951ea5c10313445fbff/60.jpg\n",
      "http://www.mangaread.org/wp-content/uploads/WP-manga/data/manga_5e08fdccf028f/fc9492c8fa418951ea5c10313445fbff/61.jpg\n",
      "http://www.mangaread.org/wp-content/uploads/WP-manga/data/manga_5e08fdccf028f/fc9492c8fa418951ea5c10313445fbff/62.jpg\n",
      "http://www.mangaread.org/wp-content/uploads/WP-manga/data/manga_5e08fdccf028f/fc9492c8fa418951ea5c10313445fbff/63.jpg\n",
      "http://www.mangaread.org/wp-content/uploads/WP-manga/data/manga_5e08fdccf028f/fc9492c8fa418951ea5c10313445fbff/64.jpg\n",
      "http://www.mangaread.org/wp-content/uploads/WP-manga/data/manga_5e08fdccf028f/fc9492c8fa418951ea5c10313445fbff/65.jpg\n",
      "http://www.mangaread.org/wp-content/uploads/WP-manga/data/manga_5e08fdccf028f/fc9492c8fa418951ea5c10313445fbff/66.jpg\n",
      "http://www.mangaread.org/wp-content/uploads/WP-manga/data/manga_5e08fdccf028f/fc9492c8fa418951ea5c10313445fbff/67.jpg\n",
      "http://www.mangaread.org/wp-content/uploads/WP-manga/data/manga_5e08fdccf028f/fc9492c8fa418951ea5c10313445fbff/68.jpg\n",
      "http://www.mangaread.org/wp-content/uploads/WP-manga/data/manga_5e08fdccf028f/fc9492c8fa418951ea5c10313445fbff/69.jpg\n",
      "http://www.mangaread.org/wp-content/uploads/WP-manga/data/manga_5e08fdccf028f/fc9492c8fa418951ea5c10313445fbff/70.jpg\n",
      "http://www.mangaread.org/wp-content/uploads/WP-manga/data/manga_5e08fdccf028f/fc9492c8fa418951ea5c10313445fbff/71.jpg\n",
      "http://www.mangaread.org/wp-content/uploads/WP-manga/data/manga_5e08fdccf028f/fc9492c8fa418951ea5c10313445fbff/72.jpg\n",
      "http://www.mangaread.org/wp-content/uploads/WP-manga/data/manga_5e08fdccf028f/fc9492c8fa418951ea5c10313445fbff/73.jpg\n",
      "http://www.mangaread.org/wp-content/uploads/WP-manga/data/manga_5e08fdccf028f/fc9492c8fa418951ea5c10313445fbff/74.jpg\n",
      "http://www.mangaread.org/wp-content/uploads/WP-manga/data/manga_5e08fdccf028f/fc9492c8fa418951ea5c10313445fbff/75.jpg\n",
      "http://www.mangaread.org/wp-content/uploads/WP-manga/data/manga_5e08fdccf028f/fc9492c8fa418951ea5c10313445fbff/76.jpg\n"
     ]
    },
    {
     "name": "stderr",
     "output_type": "stream",
     "text": [
      " 17%|█████████████▌                                                                 | 17/99 [22:34<2:25:22, 106.37s/it]"
     ]
    },
    {
     "name": "stdout",
     "output_type": "stream",
     "text": [
      "finish\n",
      "----------------------------------------------------------------------------------------------------\n",
      "starting crawl chapter 18\n",
      "http://www.mangaread.org/wp-content/uploads/WP-manga/data/manga_5e08fdccf028f/3d35d52800cebc50ffb84d5794176cef/3.jpg\n",
      "http://www.mangaread.org/wp-content/uploads/WP-manga/data/manga_5e08fdccf028f/3d35d52800cebc50ffb84d5794176cef/4.jpg\n",
      "http://www.mangaread.org/wp-content/uploads/WP-manga/data/manga_5e08fdccf028f/3d35d52800cebc50ffb84d5794176cef/5.jpg\n",
      "http://www.mangaread.org/wp-content/uploads/WP-manga/data/manga_5e08fdccf028f/3d35d52800cebc50ffb84d5794176cef/6.jpg\n",
      "http://www.mangaread.org/wp-content/uploads/WP-manga/data/manga_5e08fdccf028f/3d35d52800cebc50ffb84d5794176cef/7.jpg\n",
      "http://www.mangaread.org/wp-content/uploads/WP-manga/data/manga_5e08fdccf028f/3d35d52800cebc50ffb84d5794176cef/8.jpg\n",
      "http://www.mangaread.org/wp-content/uploads/WP-manga/data/manga_5e08fdccf028f/3d35d52800cebc50ffb84d5794176cef/9.jpg\n",
      "http://www.mangaread.org/wp-content/uploads/WP-manga/data/manga_5e08fdccf028f/3d35d52800cebc50ffb84d5794176cef/10.jpg\n",
      "http://www.mangaread.org/wp-content/uploads/WP-manga/data/manga_5e08fdccf028f/3d35d52800cebc50ffb84d5794176cef/11.jpg\n",
      "http://www.mangaread.org/wp-content/uploads/WP-manga/data/manga_5e08fdccf028f/3d35d52800cebc50ffb84d5794176cef/12.jpg\n",
      "http://www.mangaread.org/wp-content/uploads/WP-manga/data/manga_5e08fdccf028f/3d35d52800cebc50ffb84d5794176cef/13.jpg\n"
     ]
    },
    {
     "name": "stderr",
     "output_type": "stream",
     "text": [
      " 18%|██████████████▌                                                                 | 18/99 [23:08<1:54:06, 84.52s/it]"
     ]
    },
    {
     "name": "stdout",
     "output_type": "stream",
     "text": [
      "finish\n",
      "----------------------------------------------------------------------------------------------------\n",
      "starting crawl chapter 19\n",
      "http://www.mangaread.org/wp-content/uploads/WP-manga/data/manga_5e08fdccf028f/307ecc287ad17c46f2a8ae8a63ecec35/3.jpg\n",
      "http://www.mangaread.org/wp-content/uploads/WP-manga/data/manga_5e08fdccf028f/307ecc287ad17c46f2a8ae8a63ecec35/4.jpg\n",
      "http://www.mangaread.org/wp-content/uploads/WP-manga/data/manga_5e08fdccf028f/307ecc287ad17c46f2a8ae8a63ecec35/5.jpg\n",
      "http://www.mangaread.org/wp-content/uploads/WP-manga/data/manga_5e08fdccf028f/307ecc287ad17c46f2a8ae8a63ecec35/6.jpg\n",
      "http://www.mangaread.org/wp-content/uploads/WP-manga/data/manga_5e08fdccf028f/307ecc287ad17c46f2a8ae8a63ecec35/7.jpg\n",
      "http://www.mangaread.org/wp-content/uploads/WP-manga/data/manga_5e08fdccf028f/307ecc287ad17c46f2a8ae8a63ecec35/8.jpg\n",
      "http://www.mangaread.org/wp-content/uploads/WP-manga/data/manga_5e08fdccf028f/307ecc287ad17c46f2a8ae8a63ecec35/9.jpg\n",
      "http://www.mangaread.org/wp-content/uploads/WP-manga/data/manga_5e08fdccf028f/307ecc287ad17c46f2a8ae8a63ecec35/10.jpg\n",
      "http://www.mangaread.org/wp-content/uploads/WP-manga/data/manga_5e08fdccf028f/307ecc287ad17c46f2a8ae8a63ecec35/11.jpg\n"
     ]
    },
    {
     "name": "stderr",
     "output_type": "stream",
     "text": [
      " 19%|███████████████▎                                                                | 19/99 [23:33<1:29:09, 66.87s/it]"
     ]
    },
    {
     "name": "stdout",
     "output_type": "stream",
     "text": [
      "finish\n",
      "----------------------------------------------------------------------------------------------------\n",
      "starting crawl chapter 20\n",
      "http://www.mangaread.org/wp-content/uploads/WP-manga/data/manga_5e08fdccf028f/fa260c6d1f3b7ef3651a393e0b0d5043/3.jpg\n",
      "http://www.mangaread.org/wp-content/uploads/WP-manga/data/manga_5e08fdccf028f/fa260c6d1f3b7ef3651a393e0b0d5043/4.jpg\n",
      "http://www.mangaread.org/wp-content/uploads/WP-manga/data/manga_5e08fdccf028f/fa260c6d1f3b7ef3651a393e0b0d5043/5.jpg\n",
      "http://www.mangaread.org/wp-content/uploads/WP-manga/data/manga_5e08fdccf028f/fa260c6d1f3b7ef3651a393e0b0d5043/6.jpg\n",
      "http://www.mangaread.org/wp-content/uploads/WP-manga/data/manga_5e08fdccf028f/fa260c6d1f3b7ef3651a393e0b0d5043/7.jpg\n",
      "http://www.mangaread.org/wp-content/uploads/WP-manga/data/manga_5e08fdccf028f/fa260c6d1f3b7ef3651a393e0b0d5043/8.jpg\n",
      "http://www.mangaread.org/wp-content/uploads/WP-manga/data/manga_5e08fdccf028f/fa260c6d1f3b7ef3651a393e0b0d5043/9.jpg\n",
      "http://www.mangaread.org/wp-content/uploads/WP-manga/data/manga_5e08fdccf028f/fa260c6d1f3b7ef3651a393e0b0d5043/10.jpg\n",
      "http://www.mangaread.org/wp-content/uploads/WP-manga/data/manga_5e08fdccf028f/fa260c6d1f3b7ef3651a393e0b0d5043/11.jpg\n"
     ]
    },
    {
     "name": "stderr",
     "output_type": "stream",
     "text": [
      " 20%|████████████████▏                                                               | 20/99 [24:00<1:12:12, 54.84s/it]"
     ]
    },
    {
     "name": "stdout",
     "output_type": "stream",
     "text": [
      "finish\n",
      "----------------------------------------------------------------------------------------------------\n",
      "starting crawl chapter 21\n",
      "http://www.mangaread.org/wp-content/uploads/WP-manga/data/manga_5e08fdccf028f/1e031ab3e779532b5983caa10082827a/4.jpg\n",
      "http://www.mangaread.org/wp-content/uploads/WP-manga/data/manga_5e08fdccf028f/1e031ab3e779532b5983caa10082827a/5.jpg\n",
      "http://www.mangaread.org/wp-content/uploads/WP-manga/data/manga_5e08fdccf028f/1e031ab3e779532b5983caa10082827a/6.jpg\n",
      "http://www.mangaread.org/wp-content/uploads/WP-manga/data/manga_5e08fdccf028f/1e031ab3e779532b5983caa10082827a/7.jpg\n",
      "http://www.mangaread.org/wp-content/uploads/WP-manga/data/manga_5e08fdccf028f/1e031ab3e779532b5983caa10082827a/8.jpg\n",
      "http://www.mangaread.org/wp-content/uploads/WP-manga/data/manga_5e08fdccf028f/1e031ab3e779532b5983caa10082827a/9.jpg\n",
      "http://www.mangaread.org/wp-content/uploads/WP-manga/data/manga_5e08fdccf028f/1e031ab3e779532b5983caa10082827a/10.jpg\n",
      "http://www.mangaread.org/wp-content/uploads/WP-manga/data/manga_5e08fdccf028f/1e031ab3e779532b5983caa10082827a/11.jpg\n"
     ]
    },
    {
     "name": "stderr",
     "output_type": "stream",
     "text": [
      " 21%|█████████████████▍                                                                | 21/99 [24:22<58:28, 44.98s/it]"
     ]
    },
    {
     "name": "stdout",
     "output_type": "stream",
     "text": [
      "finish\n",
      "----------------------------------------------------------------------------------------------------\n",
      "starting crawl chapter 22\n",
      "http://www.mangaread.org/wp-content/uploads/WP-manga/data/manga_5e08fdccf028f/473a3bd46d40a4a672676b3764effa01/4.jpg\n",
      "http://www.mangaread.org/wp-content/uploads/WP-manga/data/manga_5e08fdccf028f/473a3bd46d40a4a672676b3764effa01/5.jpg\n",
      "http://www.mangaread.org/wp-content/uploads/WP-manga/data/manga_5e08fdccf028f/473a3bd46d40a4a672676b3764effa01/6.jpg\n",
      "http://www.mangaread.org/wp-content/uploads/WP-manga/data/manga_5e08fdccf028f/473a3bd46d40a4a672676b3764effa01/7.jpg\n",
      "http://www.mangaread.org/wp-content/uploads/WP-manga/data/manga_5e08fdccf028f/473a3bd46d40a4a672676b3764effa01/8.jpg\n",
      "http://www.mangaread.org/wp-content/uploads/WP-manga/data/manga_5e08fdccf028f/473a3bd46d40a4a672676b3764effa01/9.jpg\n",
      "http://www.mangaread.org/wp-content/uploads/WP-manga/data/manga_5e08fdccf028f/473a3bd46d40a4a672676b3764effa01/10.jpg\n",
      "http://www.mangaread.org/wp-content/uploads/WP-manga/data/manga_5e08fdccf028f/473a3bd46d40a4a672676b3764effa01/11.jpg\n",
      "http://www.mangaread.org/wp-content/uploads/WP-manga/data/manga_5e08fdccf028f/473a3bd46d40a4a672676b3764effa01/12.jpg\n"
     ]
    },
    {
     "name": "stderr",
     "output_type": "stream",
     "text": [
      " 22%|██████████████████▏                                                               | 22/99 [24:51<51:31, 40.15s/it]"
     ]
    },
    {
     "name": "stdout",
     "output_type": "stream",
     "text": [
      "finish\n",
      "----------------------------------------------------------------------------------------------------\n",
      "starting crawl chapter 23\n",
      "http://www.mangaread.org/wp-content/uploads/WP-manga/data/manga_5e08fdccf028f/a44786712585517339127431d4fb199d/4.jpg\n",
      "http://www.mangaread.org/wp-content/uploads/WP-manga/data/manga_5e08fdccf028f/a44786712585517339127431d4fb199d/5.jpg\n",
      "http://www.mangaread.org/wp-content/uploads/WP-manga/data/manga_5e08fdccf028f/a44786712585517339127431d4fb199d/6.jpg\n",
      "http://www.mangaread.org/wp-content/uploads/WP-manga/data/manga_5e08fdccf028f/a44786712585517339127431d4fb199d/7.jpg\n",
      "http://www.mangaread.org/wp-content/uploads/WP-manga/data/manga_5e08fdccf028f/a44786712585517339127431d4fb199d/8.jpg\n",
      "http://www.mangaread.org/wp-content/uploads/WP-manga/data/manga_5e08fdccf028f/a44786712585517339127431d4fb199d/9.jpg\n",
      "http://www.mangaread.org/wp-content/uploads/WP-manga/data/manga_5e08fdccf028f/a44786712585517339127431d4fb199d/10.jpg\n",
      "http://www.mangaread.org/wp-content/uploads/WP-manga/data/manga_5e08fdccf028f/a44786712585517339127431d4fb199d/11.jpg\n",
      "http://www.mangaread.org/wp-content/uploads/WP-manga/data/manga_5e08fdccf028f/a44786712585517339127431d4fb199d/12.jpg\n",
      "http://www.mangaread.org/wp-content/uploads/WP-manga/data/manga_5e08fdccf028f/a44786712585517339127431d4fb199d/13.jpg\n"
     ]
    },
    {
     "name": "stderr",
     "output_type": "stream",
     "text": [
      " 23%|███████████████████                                                               | 23/99 [25:19<46:28, 36.69s/it]"
     ]
    },
    {
     "name": "stdout",
     "output_type": "stream",
     "text": [
      "finish\n",
      "----------------------------------------------------------------------------------------------------\n",
      "starting crawl chapter 24\n",
      "http://www.mangaread.org/wp-content/uploads/WP-manga/data/manga_5e08fdccf028f/04065a95c184396a2a90ad50486f9233/4.jpg\n",
      "http://www.mangaread.org/wp-content/uploads/WP-manga/data/manga_5e08fdccf028f/04065a95c184396a2a90ad50486f9233/5.jpg\n",
      "http://www.mangaread.org/wp-content/uploads/WP-manga/data/manga_5e08fdccf028f/04065a95c184396a2a90ad50486f9233/6.jpg\n",
      "http://www.mangaread.org/wp-content/uploads/WP-manga/data/manga_5e08fdccf028f/04065a95c184396a2a90ad50486f9233/7.jpg\n",
      "http://www.mangaread.org/wp-content/uploads/WP-manga/data/manga_5e08fdccf028f/04065a95c184396a2a90ad50486f9233/8.jpg\n",
      "http://www.mangaread.org/wp-content/uploads/WP-manga/data/manga_5e08fdccf028f/04065a95c184396a2a90ad50486f9233/9.jpg\n",
      "http://www.mangaread.org/wp-content/uploads/WP-manga/data/manga_5e08fdccf028f/04065a95c184396a2a90ad50486f9233/10.jpg\n",
      "http://www.mangaread.org/wp-content/uploads/WP-manga/data/manga_5e08fdccf028f/04065a95c184396a2a90ad50486f9233/11.jpg\n",
      "http://www.mangaread.org/wp-content/uploads/WP-manga/data/manga_5e08fdccf028f/04065a95c184396a2a90ad50486f9233/12.jpg\n",
      "http://www.mangaread.org/wp-content/uploads/WP-manga/data/manga_5e08fdccf028f/04065a95c184396a2a90ad50486f9233/13.jpg\n",
      "http://www.mangaread.org/wp-content/uploads/WP-manga/data/manga_5e08fdccf028f/04065a95c184396a2a90ad50486f9233/14.jpg\n"
     ]
    },
    {
     "name": "stderr",
     "output_type": "stream",
     "text": [
      " 24%|███████████████████▉                                                              | 24/99 [25:54<45:03, 36.05s/it]"
     ]
    },
    {
     "name": "stdout",
     "output_type": "stream",
     "text": [
      "finish\n",
      "----------------------------------------------------------------------------------------------------\n",
      "starting crawl chapter 25\n",
      "http://www.mangaread.org/wp-content/uploads/WP-manga/data/manga_5e08fdccf028f/22991ee9ae7e660bf4ce6616f1ad7f62/4.jpg\n",
      "http://www.mangaread.org/wp-content/uploads/WP-manga/data/manga_5e08fdccf028f/22991ee9ae7e660bf4ce6616f1ad7f62/5.jpg\n",
      "http://www.mangaread.org/wp-content/uploads/WP-manga/data/manga_5e08fdccf028f/22991ee9ae7e660bf4ce6616f1ad7f62/6.jpg\n",
      "http://www.mangaread.org/wp-content/uploads/WP-manga/data/manga_5e08fdccf028f/22991ee9ae7e660bf4ce6616f1ad7f62/7.jpg\n",
      "http://www.mangaread.org/wp-content/uploads/WP-manga/data/manga_5e08fdccf028f/22991ee9ae7e660bf4ce6616f1ad7f62/8.jpg\n",
      "http://www.mangaread.org/wp-content/uploads/WP-manga/data/manga_5e08fdccf028f/22991ee9ae7e660bf4ce6616f1ad7f62/9.jpg\n",
      "http://www.mangaread.org/wp-content/uploads/WP-manga/data/manga_5e08fdccf028f/22991ee9ae7e660bf4ce6616f1ad7f62/10.jpg\n",
      "http://www.mangaread.org/wp-content/uploads/WP-manga/data/manga_5e08fdccf028f/22991ee9ae7e660bf4ce6616f1ad7f62/11.jpg\n",
      "http://www.mangaread.org/wp-content/uploads/WP-manga/data/manga_5e08fdccf028f/22991ee9ae7e660bf4ce6616f1ad7f62/12.jpg\n",
      "http://www.mangaread.org/wp-content/uploads/WP-manga/data/manga_5e08fdccf028f/22991ee9ae7e660bf4ce6616f1ad7f62/13.jpg\n",
      "http://www.mangaread.org/wp-content/uploads/WP-manga/data/manga_5e08fdccf028f/22991ee9ae7e660bf4ce6616f1ad7f62/14.jpg\n",
      "http://www.mangaread.org/wp-content/uploads/WP-manga/data/manga_5e08fdccf028f/22991ee9ae7e660bf4ce6616f1ad7f62/15.jpg\n"
     ]
    },
    {
     "name": "stderr",
     "output_type": "stream",
     "text": [
      " 25%|████████████████████▋                                                             | 25/99 [26:30<44:23, 36.00s/it]"
     ]
    },
    {
     "name": "stdout",
     "output_type": "stream",
     "text": [
      "finish\n",
      "----------------------------------------------------------------------------------------------------\n",
      "starting crawl chapter 26\n",
      "http://www.mangaread.org/wp-content/uploads/WP-manga/data/manga_5e08fdccf028f/3d7d82a60d47ffd6cdf3572d388ff677/2.jpg\n",
      "http://www.mangaread.org/wp-content/uploads/WP-manga/data/manga_5e08fdccf028f/3d7d82a60d47ffd6cdf3572d388ff677/3.jpg\n",
      "http://www.mangaread.org/wp-content/uploads/WP-manga/data/manga_5e08fdccf028f/3d7d82a60d47ffd6cdf3572d388ff677/4.jpg\n",
      "http://www.mangaread.org/wp-content/uploads/WP-manga/data/manga_5e08fdccf028f/3d7d82a60d47ffd6cdf3572d388ff677/5.jpg\n",
      "http://www.mangaread.org/wp-content/uploads/WP-manga/data/manga_5e08fdccf028f/3d7d82a60d47ffd6cdf3572d388ff677/6.jpg\n",
      "http://www.mangaread.org/wp-content/uploads/WP-manga/data/manga_5e08fdccf028f/3d7d82a60d47ffd6cdf3572d388ff677/7.jpg\n",
      "http://www.mangaread.org/wp-content/uploads/WP-manga/data/manga_5e08fdccf028f/3d7d82a60d47ffd6cdf3572d388ff677/8.jpg\n",
      "http://www.mangaread.org/wp-content/uploads/WP-manga/data/manga_5e08fdccf028f/3d7d82a60d47ffd6cdf3572d388ff677/9.jpg\n",
      "http://www.mangaread.org/wp-content/uploads/WP-manga/data/manga_5e08fdccf028f/3d7d82a60d47ffd6cdf3572d388ff677/10.jpg\n",
      "http://www.mangaread.org/wp-content/uploads/WP-manga/data/manga_5e08fdccf028f/3d7d82a60d47ffd6cdf3572d388ff677/11.jpg\n",
      "http://www.mangaread.org/wp-content/uploads/WP-manga/data/manga_5e08fdccf028f/3d7d82a60d47ffd6cdf3572d388ff677/12.jpg\n",
      "http://www.mangaread.org/wp-content/uploads/WP-manga/data/manga_5e08fdccf028f/3d7d82a60d47ffd6cdf3572d388ff677/13.jpg\n",
      "http://www.mangaread.org/wp-content/uploads/WP-manga/data/manga_5e08fdccf028f/3d7d82a60d47ffd6cdf3572d388ff677/14.jpg\n",
      "http://www.mangaread.org/wp-content/uploads/WP-manga/data/manga_5e08fdccf028f/3d7d82a60d47ffd6cdf3572d388ff677/15.jpg\n"
     ]
    },
    {
     "name": "stderr",
     "output_type": "stream",
     "text": [
      " 26%|█████████████████████▌                                                            | 26/99 [27:08<44:31, 36.59s/it]"
     ]
    },
    {
     "name": "stdout",
     "output_type": "stream",
     "text": [
      "finish\n",
      "----------------------------------------------------------------------------------------------------\n",
      "starting crawl chapter 27\n",
      "http://www.mangaread.org/wp-content/uploads/WP-manga/data/manga_5e08fdccf028f/8acced4cc423e159d54af0c23128ccc6/2.jpg\n",
      "http://www.mangaread.org/wp-content/uploads/WP-manga/data/manga_5e08fdccf028f/8acced4cc423e159d54af0c23128ccc6/3.jpg\n",
      "http://www.mangaread.org/wp-content/uploads/WP-manga/data/manga_5e08fdccf028f/8acced4cc423e159d54af0c23128ccc6/4.jpg\n",
      "http://www.mangaread.org/wp-content/uploads/WP-manga/data/manga_5e08fdccf028f/8acced4cc423e159d54af0c23128ccc6/5.jpg\n",
      "http://www.mangaread.org/wp-content/uploads/WP-manga/data/manga_5e08fdccf028f/8acced4cc423e159d54af0c23128ccc6/6.jpg\n",
      "http://www.mangaread.org/wp-content/uploads/WP-manga/data/manga_5e08fdccf028f/8acced4cc423e159d54af0c23128ccc6/7.jpg\n",
      "http://www.mangaread.org/wp-content/uploads/WP-manga/data/manga_5e08fdccf028f/8acced4cc423e159d54af0c23128ccc6/8.jpg\n",
      "http://www.mangaread.org/wp-content/uploads/WP-manga/data/manga_5e08fdccf028f/8acced4cc423e159d54af0c23128ccc6/9.jpg\n",
      "http://www.mangaread.org/wp-content/uploads/WP-manga/data/manga_5e08fdccf028f/8acced4cc423e159d54af0c23128ccc6/10.jpg\n",
      "http://www.mangaread.org/wp-content/uploads/WP-manga/data/manga_5e08fdccf028f/8acced4cc423e159d54af0c23128ccc6/11.jpg\n",
      "http://www.mangaread.org/wp-content/uploads/WP-manga/data/manga_5e08fdccf028f/8acced4cc423e159d54af0c23128ccc6/12.jpg\n",
      "http://www.mangaread.org/wp-content/uploads/WP-manga/data/manga_5e08fdccf028f/8acced4cc423e159d54af0c23128ccc6/13.jpg\n"
     ]
    },
    {
     "name": "stderr",
     "output_type": "stream",
     "text": [
      " 27%|██████████████████████▎                                                           | 27/99 [27:44<43:40, 36.40s/it]"
     ]
    },
    {
     "name": "stdout",
     "output_type": "stream",
     "text": [
      "finish\n",
      "----------------------------------------------------------------------------------------------------\n",
      "starting crawl chapter 28\n",
      "http://www.mangaread.org/wp-content/uploads/WP-manga/data/manga_5e08fdccf028f/9ed352271a9f84d66d746d42935a930b/2.jpg\n",
      "http://www.mangaread.org/wp-content/uploads/WP-manga/data/manga_5e08fdccf028f/9ed352271a9f84d66d746d42935a930b/3.jpg\n",
      "http://www.mangaread.org/wp-content/uploads/WP-manga/data/manga_5e08fdccf028f/9ed352271a9f84d66d746d42935a930b/4.jpg\n",
      "http://www.mangaread.org/wp-content/uploads/WP-manga/data/manga_5e08fdccf028f/9ed352271a9f84d66d746d42935a930b/5.jpg\n",
      "http://www.mangaread.org/wp-content/uploads/WP-manga/data/manga_5e08fdccf028f/9ed352271a9f84d66d746d42935a930b/6.jpg\n",
      "http://www.mangaread.org/wp-content/uploads/WP-manga/data/manga_5e08fdccf028f/9ed352271a9f84d66d746d42935a930b/7.jpg\n",
      "http://www.mangaread.org/wp-content/uploads/WP-manga/data/manga_5e08fdccf028f/9ed352271a9f84d66d746d42935a930b/8.jpg\n",
      "http://www.mangaread.org/wp-content/uploads/WP-manga/data/manga_5e08fdccf028f/9ed352271a9f84d66d746d42935a930b/9.jpg\n",
      "http://www.mangaread.org/wp-content/uploads/WP-manga/data/manga_5e08fdccf028f/9ed352271a9f84d66d746d42935a930b/10.jpg\n",
      "http://www.mangaread.org/wp-content/uploads/WP-manga/data/manga_5e08fdccf028f/9ed352271a9f84d66d746d42935a930b/11.jpg\n",
      "http://www.mangaread.org/wp-content/uploads/WP-manga/data/manga_5e08fdccf028f/9ed352271a9f84d66d746d42935a930b/12.jpg\n",
      "http://www.mangaread.org/wp-content/uploads/WP-manga/data/manga_5e08fdccf028f/9ed352271a9f84d66d746d42935a930b/13.jpg\n",
      "http://www.mangaread.org/wp-content/uploads/WP-manga/data/manga_5e08fdccf028f/9ed352271a9f84d66d746d42935a930b/14.jpg\n",
      "http://www.mangaread.org/wp-content/uploads/WP-manga/data/manga_5e08fdccf028f/9ed352271a9f84d66d746d42935a930b/15.jpg\n",
      "http://www.mangaread.org/wp-content/uploads/WP-manga/data/manga_5e08fdccf028f/9ed352271a9f84d66d746d42935a930b/16.jpg\n",
      "http://www.mangaread.org/wp-content/uploads/WP-manga/data/manga_5e08fdccf028f/9ed352271a9f84d66d746d42935a930b/17.jpg\n"
     ]
    },
    {
     "name": "stderr",
     "output_type": "stream",
     "text": [
      " 28%|███████████████████████▏                                                          | 28/99 [28:28<45:43, 38.64s/it]"
     ]
    },
    {
     "name": "stdout",
     "output_type": "stream",
     "text": [
      "finish\n",
      "----------------------------------------------------------------------------------------------------\n",
      "starting crawl chapter 29\n",
      "http://www.mangaread.org/wp-content/uploads/WP-manga/data/manga_5e08fdccf028f/351e3a9d6845d6eba73a89aebd59725b/2.jpg\n",
      "http://www.mangaread.org/wp-content/uploads/WP-manga/data/manga_5e08fdccf028f/351e3a9d6845d6eba73a89aebd59725b/3.jpg\n",
      "http://www.mangaread.org/wp-content/uploads/WP-manga/data/manga_5e08fdccf028f/351e3a9d6845d6eba73a89aebd59725b/4.jpg\n",
      "http://www.mangaread.org/wp-content/uploads/WP-manga/data/manga_5e08fdccf028f/351e3a9d6845d6eba73a89aebd59725b/5.jpg\n",
      "http://www.mangaread.org/wp-content/uploads/WP-manga/data/manga_5e08fdccf028f/351e3a9d6845d6eba73a89aebd59725b/6.jpg\n",
      "http://www.mangaread.org/wp-content/uploads/WP-manga/data/manga_5e08fdccf028f/351e3a9d6845d6eba73a89aebd59725b/7.jpg\n",
      "http://www.mangaread.org/wp-content/uploads/WP-manga/data/manga_5e08fdccf028f/351e3a9d6845d6eba73a89aebd59725b/8.jpg\n",
      "http://www.mangaread.org/wp-content/uploads/WP-manga/data/manga_5e08fdccf028f/351e3a9d6845d6eba73a89aebd59725b/9.jpg\n",
      "http://www.mangaread.org/wp-content/uploads/WP-manga/data/manga_5e08fdccf028f/351e3a9d6845d6eba73a89aebd59725b/10.jpg\n",
      "http://www.mangaread.org/wp-content/uploads/WP-manga/data/manga_5e08fdccf028f/351e3a9d6845d6eba73a89aebd59725b/11.jpg\n",
      "http://www.mangaread.org/wp-content/uploads/WP-manga/data/manga_5e08fdccf028f/351e3a9d6845d6eba73a89aebd59725b/12.jpg\n",
      "http://www.mangaread.org/wp-content/uploads/WP-manga/data/manga_5e08fdccf028f/351e3a9d6845d6eba73a89aebd59725b/13.jpg\n"
     ]
    },
    {
     "name": "stderr",
     "output_type": "stream",
     "text": [
      " 29%|████████████████████████                                                          | 29/99 [29:02<43:39, 37.42s/it]"
     ]
    },
    {
     "name": "stdout",
     "output_type": "stream",
     "text": [
      "finish\n",
      "----------------------------------------------------------------------------------------------------\n",
      "starting crawl chapter 30\n",
      "http://www.mangaread.org/wp-content/uploads/WP-manga/data/manga_5e08fdccf028f/f1e9b2e79069d2157e1715bfcbc3e0af/2.jpg\n",
      "http://www.mangaread.org/wp-content/uploads/WP-manga/data/manga_5e08fdccf028f/f1e9b2e79069d2157e1715bfcbc3e0af/3.jpg\n",
      "http://www.mangaread.org/wp-content/uploads/WP-manga/data/manga_5e08fdccf028f/f1e9b2e79069d2157e1715bfcbc3e0af/4.jpg\n",
      "http://www.mangaread.org/wp-content/uploads/WP-manga/data/manga_5e08fdccf028f/f1e9b2e79069d2157e1715bfcbc3e0af/5.jpg\n",
      "http://www.mangaread.org/wp-content/uploads/WP-manga/data/manga_5e08fdccf028f/f1e9b2e79069d2157e1715bfcbc3e0af/6.jpg\n",
      "http://www.mangaread.org/wp-content/uploads/WP-manga/data/manga_5e08fdccf028f/f1e9b2e79069d2157e1715bfcbc3e0af/7.jpg\n",
      "http://www.mangaread.org/wp-content/uploads/WP-manga/data/manga_5e08fdccf028f/f1e9b2e79069d2157e1715bfcbc3e0af/8.jpg\n",
      "http://www.mangaread.org/wp-content/uploads/WP-manga/data/manga_5e08fdccf028f/f1e9b2e79069d2157e1715bfcbc3e0af/9.jpg\n",
      "http://www.mangaread.org/wp-content/uploads/WP-manga/data/manga_5e08fdccf028f/f1e9b2e79069d2157e1715bfcbc3e0af/10.jpg\n",
      "http://www.mangaread.org/wp-content/uploads/WP-manga/data/manga_5e08fdccf028f/f1e9b2e79069d2157e1715bfcbc3e0af/11.jpg\n",
      "http://www.mangaread.org/wp-content/uploads/WP-manga/data/manga_5e08fdccf028f/f1e9b2e79069d2157e1715bfcbc3e0af/12.jpg\n",
      "http://www.mangaread.org/wp-content/uploads/WP-manga/data/manga_5e08fdccf028f/f1e9b2e79069d2157e1715bfcbc3e0af/13.jpg\n",
      "http://www.mangaread.org/wp-content/uploads/WP-manga/data/manga_5e08fdccf028f/f1e9b2e79069d2157e1715bfcbc3e0af/14.jpg\n",
      "http://www.mangaread.org/wp-content/uploads/WP-manga/data/manga_5e08fdccf028f/f1e9b2e79069d2157e1715bfcbc3e0af/15.jpg\n"
     ]
    },
    {
     "name": "stderr",
     "output_type": "stream",
     "text": [
      " 30%|████████████████████████▊                                                         | 30/99 [29:42<43:53, 38.17s/it]"
     ]
    },
    {
     "name": "stdout",
     "output_type": "stream",
     "text": [
      "finish\n",
      "----------------------------------------------------------------------------------------------------\n",
      "starting crawl chapter 31\n",
      "http://www.mangaread.org/wp-content/uploads/WP-manga/data/manga_5e08fdccf028f/ba5636f5201a725ff6f80b7609e52b40/3.jpg\n",
      "http://www.mangaread.org/wp-content/uploads/WP-manga/data/manga_5e08fdccf028f/ba5636f5201a725ff6f80b7609e52b40/4.jpg\n",
      "http://www.mangaread.org/wp-content/uploads/WP-manga/data/manga_5e08fdccf028f/ba5636f5201a725ff6f80b7609e52b40/5.jpg\n",
      "http://www.mangaread.org/wp-content/uploads/WP-manga/data/manga_5e08fdccf028f/ba5636f5201a725ff6f80b7609e52b40/6.jpg\n",
      "http://www.mangaread.org/wp-content/uploads/WP-manga/data/manga_5e08fdccf028f/ba5636f5201a725ff6f80b7609e52b40/7.jpg\n",
      "http://www.mangaread.org/wp-content/uploads/WP-manga/data/manga_5e08fdccf028f/ba5636f5201a725ff6f80b7609e52b40/8.jpg\n",
      "http://www.mangaread.org/wp-content/uploads/WP-manga/data/manga_5e08fdccf028f/ba5636f5201a725ff6f80b7609e52b40/9.jpg\n",
      "http://www.mangaread.org/wp-content/uploads/WP-manga/data/manga_5e08fdccf028f/ba5636f5201a725ff6f80b7609e52b40/10.jpg\n",
      "http://www.mangaread.org/wp-content/uploads/WP-manga/data/manga_5e08fdccf028f/ba5636f5201a725ff6f80b7609e52b40/11.jpg\n",
      "http://www.mangaread.org/wp-content/uploads/WP-manga/data/manga_5e08fdccf028f/ba5636f5201a725ff6f80b7609e52b40/12.jpg\n",
      "http://www.mangaread.org/wp-content/uploads/WP-manga/data/manga_5e08fdccf028f/ba5636f5201a725ff6f80b7609e52b40/13.jpg\n",
      "http://www.mangaread.org/wp-content/uploads/WP-manga/data/manga_5e08fdccf028f/ba5636f5201a725ff6f80b7609e52b40/14.jpg\n",
      "http://www.mangaread.org/wp-content/uploads/WP-manga/data/manga_5e08fdccf028f/ba5636f5201a725ff6f80b7609e52b40/15.jpg\n",
      "http://www.mangaread.org/wp-content/uploads/WP-manga/data/manga_5e08fdccf028f/ba5636f5201a725ff6f80b7609e52b40/16.jpg\n",
      "http://www.mangaread.org/wp-content/uploads/WP-manga/data/manga_5e08fdccf028f/ba5636f5201a725ff6f80b7609e52b40/17.jpg\n",
      "http://www.mangaread.org/wp-content/uploads/WP-manga/data/manga_5e08fdccf028f/ba5636f5201a725ff6f80b7609e52b40/18.jpg\n"
     ]
    },
    {
     "name": "stderr",
     "output_type": "stream",
     "text": [
      " 31%|█████████████████████████▋                                                        | 31/99 [30:35<48:15, 42.58s/it]"
     ]
    },
    {
     "name": "stdout",
     "output_type": "stream",
     "text": [
      "finish\n",
      "----------------------------------------------------------------------------------------------------\n",
      "starting crawl chapter 32\n",
      "http://www.mangaread.org/wp-content/uploads/WP-manga/data/manga_5e08fdccf028f/19b69f9e8f14e42e2bc0dd36928b47af/3.jpg\n",
      "http://www.mangaread.org/wp-content/uploads/WP-manga/data/manga_5e08fdccf028f/19b69f9e8f14e42e2bc0dd36928b47af/4.jpg\n",
      "http://www.mangaread.org/wp-content/uploads/WP-manga/data/manga_5e08fdccf028f/19b69f9e8f14e42e2bc0dd36928b47af/5.jpg\n",
      "http://www.mangaread.org/wp-content/uploads/WP-manga/data/manga_5e08fdccf028f/19b69f9e8f14e42e2bc0dd36928b47af/6.jpg\n",
      "http://www.mangaread.org/wp-content/uploads/WP-manga/data/manga_5e08fdccf028f/19b69f9e8f14e42e2bc0dd36928b47af/7.jpg\n",
      "http://www.mangaread.org/wp-content/uploads/WP-manga/data/manga_5e08fdccf028f/19b69f9e8f14e42e2bc0dd36928b47af/8.jpg\n",
      "http://www.mangaread.org/wp-content/uploads/WP-manga/data/manga_5e08fdccf028f/19b69f9e8f14e42e2bc0dd36928b47af/9.jpg\n",
      "http://www.mangaread.org/wp-content/uploads/WP-manga/data/manga_5e08fdccf028f/19b69f9e8f14e42e2bc0dd36928b47af/10.jpg\n",
      "http://www.mangaread.org/wp-content/uploads/WP-manga/data/manga_5e08fdccf028f/19b69f9e8f14e42e2bc0dd36928b47af/11.jpg\n",
      "http://www.mangaread.org/wp-content/uploads/WP-manga/data/manga_5e08fdccf028f/19b69f9e8f14e42e2bc0dd36928b47af/12.jpg\n",
      "http://www.mangaread.org/wp-content/uploads/WP-manga/data/manga_5e08fdccf028f/19b69f9e8f14e42e2bc0dd36928b47af/13.jpg\n",
      "http://www.mangaread.org/wp-content/uploads/WP-manga/data/manga_5e08fdccf028f/19b69f9e8f14e42e2bc0dd36928b47af/14.jpg\n",
      "http://www.mangaread.org/wp-content/uploads/WP-manga/data/manga_5e08fdccf028f/19b69f9e8f14e42e2bc0dd36928b47af/15.jpg\n",
      "http://www.mangaread.org/wp-content/uploads/WP-manga/data/manga_5e08fdccf028f/19b69f9e8f14e42e2bc0dd36928b47af/16.jpg\n",
      "http://www.mangaread.org/wp-content/uploads/WP-manga/data/manga_5e08fdccf028f/19b69f9e8f14e42e2bc0dd36928b47af/17.jpg\n",
      "http://www.mangaread.org/wp-content/uploads/WP-manga/data/manga_5e08fdccf028f/19b69f9e8f14e42e2bc0dd36928b47af/18.jpg\n",
      "http://www.mangaread.org/wp-content/uploads/WP-manga/data/manga_5e08fdccf028f/19b69f9e8f14e42e2bc0dd36928b47af/19.jpg\n",
      "http://www.mangaread.org/wp-content/uploads/WP-manga/data/manga_5e08fdccf028f/19b69f9e8f14e42e2bc0dd36928b47af/20.jpg\n",
      "http://www.mangaread.org/wp-content/uploads/WP-manga/data/manga_5e08fdccf028f/19b69f9e8f14e42e2bc0dd36928b47af/21.jpg\n"
     ]
    },
    {
     "name": "stderr",
     "output_type": "stream",
     "text": [
      " 32%|██████████████████████████▌                                                       | 32/99 [31:36<53:36, 48.01s/it]"
     ]
    },
    {
     "name": "stdout",
     "output_type": "stream",
     "text": [
      "finish\n",
      "----------------------------------------------------------------------------------------------------\n",
      "starting crawl chapter 33\n",
      "http://www.mangaread.org/wp-content/uploads/WP-manga/data/manga_5e08fdccf028f/cfd386951353eb0d333d3850ae5de029/3.jpg\n",
      "http://www.mangaread.org/wp-content/uploads/WP-manga/data/manga_5e08fdccf028f/cfd386951353eb0d333d3850ae5de029/4.jpg\n",
      "http://www.mangaread.org/wp-content/uploads/WP-manga/data/manga_5e08fdccf028f/cfd386951353eb0d333d3850ae5de029/5.jpg\n",
      "http://www.mangaread.org/wp-content/uploads/WP-manga/data/manga_5e08fdccf028f/cfd386951353eb0d333d3850ae5de029/6.jpg\n",
      "http://www.mangaread.org/wp-content/uploads/WP-manga/data/manga_5e08fdccf028f/cfd386951353eb0d333d3850ae5de029/7.jpg\n",
      "http://www.mangaread.org/wp-content/uploads/WP-manga/data/manga_5e08fdccf028f/cfd386951353eb0d333d3850ae5de029/8.jpg\n",
      "http://www.mangaread.org/wp-content/uploads/WP-manga/data/manga_5e08fdccf028f/cfd386951353eb0d333d3850ae5de029/9.jpg\n",
      "http://www.mangaread.org/wp-content/uploads/WP-manga/data/manga_5e08fdccf028f/cfd386951353eb0d333d3850ae5de029/10.jpg\n",
      "http://www.mangaread.org/wp-content/uploads/WP-manga/data/manga_5e08fdccf028f/cfd386951353eb0d333d3850ae5de029/11.jpg\n",
      "http://www.mangaread.org/wp-content/uploads/WP-manga/data/manga_5e08fdccf028f/cfd386951353eb0d333d3850ae5de029/12.jpg\n",
      "http://www.mangaread.org/wp-content/uploads/WP-manga/data/manga_5e08fdccf028f/cfd386951353eb0d333d3850ae5de029/13.jpg\n",
      "http://www.mangaread.org/wp-content/uploads/WP-manga/data/manga_5e08fdccf028f/cfd386951353eb0d333d3850ae5de029/14.jpg\n",
      "http://www.mangaread.org/wp-content/uploads/WP-manga/data/manga_5e08fdccf028f/cfd386951353eb0d333d3850ae5de029/15.jpg\n",
      "http://www.mangaread.org/wp-content/uploads/WP-manga/data/manga_5e08fdccf028f/cfd386951353eb0d333d3850ae5de029/16.jpg\n",
      "http://www.mangaread.org/wp-content/uploads/WP-manga/data/manga_5e08fdccf028f/cfd386951353eb0d333d3850ae5de029/17.jpg\n",
      "http://www.mangaread.org/wp-content/uploads/WP-manga/data/manga_5e08fdccf028f/cfd386951353eb0d333d3850ae5de029/18.jpg\n",
      "http://www.mangaread.org/wp-content/uploads/WP-manga/data/manga_5e08fdccf028f/cfd386951353eb0d333d3850ae5de029/19.jpg\n",
      "http://www.mangaread.org/wp-content/uploads/WP-manga/data/manga_5e08fdccf028f/cfd386951353eb0d333d3850ae5de029/20.jpg\n"
     ]
    },
    {
     "name": "stderr",
     "output_type": "stream",
     "text": [
      " 33%|███████████████████████████▎                                                      | 33/99 [32:27<53:47, 48.91s/it]"
     ]
    },
    {
     "name": "stdout",
     "output_type": "stream",
     "text": [
      "finish\n",
      "----------------------------------------------------------------------------------------------------\n",
      "starting crawl chapter 34\n",
      "http://www.mangaread.org/wp-content/uploads/WP-manga/data/manga_5e08fdccf028f/29e5c56b5f12636250fcd118c18a31bc/3.jpg\n",
      "http://www.mangaread.org/wp-content/uploads/WP-manga/data/manga_5e08fdccf028f/29e5c56b5f12636250fcd118c18a31bc/4.jpg\n",
      "http://www.mangaread.org/wp-content/uploads/WP-manga/data/manga_5e08fdccf028f/29e5c56b5f12636250fcd118c18a31bc/5.jpg\n",
      "http://www.mangaread.org/wp-content/uploads/WP-manga/data/manga_5e08fdccf028f/29e5c56b5f12636250fcd118c18a31bc/6.jpg\n",
      "http://www.mangaread.org/wp-content/uploads/WP-manga/data/manga_5e08fdccf028f/29e5c56b5f12636250fcd118c18a31bc/7.jpg\n",
      "http://www.mangaread.org/wp-content/uploads/WP-manga/data/manga_5e08fdccf028f/29e5c56b5f12636250fcd118c18a31bc/8.jpg\n",
      "http://www.mangaread.org/wp-content/uploads/WP-manga/data/manga_5e08fdccf028f/29e5c56b5f12636250fcd118c18a31bc/9.jpg\n",
      "http://www.mangaread.org/wp-content/uploads/WP-manga/data/manga_5e08fdccf028f/29e5c56b5f12636250fcd118c18a31bc/10.jpg\n",
      "http://www.mangaread.org/wp-content/uploads/WP-manga/data/manga_5e08fdccf028f/29e5c56b5f12636250fcd118c18a31bc/11.jpg\n",
      "http://www.mangaread.org/wp-content/uploads/WP-manga/data/manga_5e08fdccf028f/29e5c56b5f12636250fcd118c18a31bc/12.jpg\n",
      "http://www.mangaread.org/wp-content/uploads/WP-manga/data/manga_5e08fdccf028f/29e5c56b5f12636250fcd118c18a31bc/13.jpg\n",
      "http://www.mangaread.org/wp-content/uploads/WP-manga/data/manga_5e08fdccf028f/29e5c56b5f12636250fcd118c18a31bc/14.jpg\n",
      "http://www.mangaread.org/wp-content/uploads/WP-manga/data/manga_5e08fdccf028f/29e5c56b5f12636250fcd118c18a31bc/15.jpg\n",
      "http://www.mangaread.org/wp-content/uploads/WP-manga/data/manga_5e08fdccf028f/29e5c56b5f12636250fcd118c18a31bc/16.jpg\n",
      "http://www.mangaread.org/wp-content/uploads/WP-manga/data/manga_5e08fdccf028f/29e5c56b5f12636250fcd118c18a31bc/17.jpg\n",
      "http://www.mangaread.org/wp-content/uploads/WP-manga/data/manga_5e08fdccf028f/29e5c56b5f12636250fcd118c18a31bc/18.jpg\n",
      "http://www.mangaread.org/wp-content/uploads/WP-manga/data/manga_5e08fdccf028f/29e5c56b5f12636250fcd118c18a31bc/19.jpg\n",
      "http://www.mangaread.org/wp-content/uploads/WP-manga/data/manga_5e08fdccf028f/29e5c56b5f12636250fcd118c18a31bc/20.jpg\n",
      "http://www.mangaread.org/wp-content/uploads/WP-manga/data/manga_5e08fdccf028f/29e5c56b5f12636250fcd118c18a31bc/21.jpg\n",
      "http://www.mangaread.org/wp-content/uploads/WP-manga/data/manga_5e08fdccf028f/29e5c56b5f12636250fcd118c18a31bc/22.jpg\n",
      "http://www.mangaread.org/wp-content/uploads/WP-manga/data/manga_5e08fdccf028f/29e5c56b5f12636250fcd118c18a31bc/23.jpg\n"
     ]
    },
    {
     "name": "stderr",
     "output_type": "stream",
     "text": [
      " 34%|████████████████████████████▏                                                     | 34/99 [33:23<55:18, 51.06s/it]"
     ]
    },
    {
     "name": "stdout",
     "output_type": "stream",
     "text": [
      "finish\n",
      "----------------------------------------------------------------------------------------------------\n",
      "starting crawl chapter 35\n",
      "http://www.mangaread.org/wp-content/uploads/WP-manga/data/manga_5e08fdccf028f/ae7ae53748721af7b6374104eb5b1d9d/3.jpg\n",
      "http://www.mangaread.org/wp-content/uploads/WP-manga/data/manga_5e08fdccf028f/ae7ae53748721af7b6374104eb5b1d9d/4.jpg\n",
      "http://www.mangaread.org/wp-content/uploads/WP-manga/data/manga_5e08fdccf028f/ae7ae53748721af7b6374104eb5b1d9d/5.jpg\n",
      "http://www.mangaread.org/wp-content/uploads/WP-manga/data/manga_5e08fdccf028f/ae7ae53748721af7b6374104eb5b1d9d/6.jpg\n",
      "http://www.mangaread.org/wp-content/uploads/WP-manga/data/manga_5e08fdccf028f/ae7ae53748721af7b6374104eb5b1d9d/7.jpg\n",
      "http://www.mangaread.org/wp-content/uploads/WP-manga/data/manga_5e08fdccf028f/ae7ae53748721af7b6374104eb5b1d9d/8.jpg\n",
      "http://www.mangaread.org/wp-content/uploads/WP-manga/data/manga_5e08fdccf028f/ae7ae53748721af7b6374104eb5b1d9d/9.jpg\n",
      "http://www.mangaread.org/wp-content/uploads/WP-manga/data/manga_5e08fdccf028f/ae7ae53748721af7b6374104eb5b1d9d/10.jpg\n",
      "http://www.mangaread.org/wp-content/uploads/WP-manga/data/manga_5e08fdccf028f/ae7ae53748721af7b6374104eb5b1d9d/11.jpg\n",
      "http://www.mangaread.org/wp-content/uploads/WP-manga/data/manga_5e08fdccf028f/ae7ae53748721af7b6374104eb5b1d9d/12.jpg\n",
      "http://www.mangaread.org/wp-content/uploads/WP-manga/data/manga_5e08fdccf028f/ae7ae53748721af7b6374104eb5b1d9d/13.jpg\n",
      "http://www.mangaread.org/wp-content/uploads/WP-manga/data/manga_5e08fdccf028f/ae7ae53748721af7b6374104eb5b1d9d/14.jpg\n",
      "http://www.mangaread.org/wp-content/uploads/WP-manga/data/manga_5e08fdccf028f/ae7ae53748721af7b6374104eb5b1d9d/15.jpg\n",
      "http://www.mangaread.org/wp-content/uploads/WP-manga/data/manga_5e08fdccf028f/ae7ae53748721af7b6374104eb5b1d9d/16.jpg\n",
      "http://www.mangaread.org/wp-content/uploads/WP-manga/data/manga_5e08fdccf028f/ae7ae53748721af7b6374104eb5b1d9d/17.jpg\n",
      "http://www.mangaread.org/wp-content/uploads/WP-manga/data/manga_5e08fdccf028f/ae7ae53748721af7b6374104eb5b1d9d/18.jpg\n",
      "http://www.mangaread.org/wp-content/uploads/WP-manga/data/manga_5e08fdccf028f/ae7ae53748721af7b6374104eb5b1d9d/19.jpg\n",
      "http://www.mangaread.org/wp-content/uploads/WP-manga/data/manga_5e08fdccf028f/ae7ae53748721af7b6374104eb5b1d9d/20.jpg\n",
      "http://www.mangaread.org/wp-content/uploads/WP-manga/data/manga_5e08fdccf028f/ae7ae53748721af7b6374104eb5b1d9d/21.jpg\n"
     ]
    },
    {
     "name": "stderr",
     "output_type": "stream",
     "text": [
      " 35%|████████████████████████████▉                                                     | 35/99 [34:20<56:18, 52.79s/it]"
     ]
    },
    {
     "name": "stdout",
     "output_type": "stream",
     "text": [
      "finish\n",
      "----------------------------------------------------------------------------------------------------\n",
      "starting crawl chapter 36\n",
      "http://www.mangaread.org/wp-content/uploads/WP-manga/data/manga_5e08fdccf028f/ed58142eb77cf87fa52dba3f3be13539/3.jpg\n",
      "http://www.mangaread.org/wp-content/uploads/WP-manga/data/manga_5e08fdccf028f/ed58142eb77cf87fa52dba3f3be13539/4.jpg\n",
      "http://www.mangaread.org/wp-content/uploads/WP-manga/data/manga_5e08fdccf028f/ed58142eb77cf87fa52dba3f3be13539/5.jpg\n",
      "http://www.mangaread.org/wp-content/uploads/WP-manga/data/manga_5e08fdccf028f/ed58142eb77cf87fa52dba3f3be13539/6.jpg\n",
      "http://www.mangaread.org/wp-content/uploads/WP-manga/data/manga_5e08fdccf028f/ed58142eb77cf87fa52dba3f3be13539/7.jpg\n",
      "http://www.mangaread.org/wp-content/uploads/WP-manga/data/manga_5e08fdccf028f/ed58142eb77cf87fa52dba3f3be13539/8.jpg\n",
      "http://www.mangaread.org/wp-content/uploads/WP-manga/data/manga_5e08fdccf028f/ed58142eb77cf87fa52dba3f3be13539/9.jpg\n",
      "http://www.mangaread.org/wp-content/uploads/WP-manga/data/manga_5e08fdccf028f/ed58142eb77cf87fa52dba3f3be13539/10.jpg\n",
      "http://www.mangaread.org/wp-content/uploads/WP-manga/data/manga_5e08fdccf028f/ed58142eb77cf87fa52dba3f3be13539/11.jpg\n",
      "http://www.mangaread.org/wp-content/uploads/WP-manga/data/manga_5e08fdccf028f/ed58142eb77cf87fa52dba3f3be13539/12.jpg\n",
      "http://www.mangaread.org/wp-content/uploads/WP-manga/data/manga_5e08fdccf028f/ed58142eb77cf87fa52dba3f3be13539/13.jpg\n",
      "http://www.mangaread.org/wp-content/uploads/WP-manga/data/manga_5e08fdccf028f/ed58142eb77cf87fa52dba3f3be13539/14.jpg\n",
      "http://www.mangaread.org/wp-content/uploads/WP-manga/data/manga_5e08fdccf028f/ed58142eb77cf87fa52dba3f3be13539/15.jpg\n",
      "http://www.mangaread.org/wp-content/uploads/WP-manga/data/manga_5e08fdccf028f/ed58142eb77cf87fa52dba3f3be13539/16.jpg\n",
      "http://www.mangaread.org/wp-content/uploads/WP-manga/data/manga_5e08fdccf028f/ed58142eb77cf87fa52dba3f3be13539/17.jpg\n",
      "http://www.mangaread.org/wp-content/uploads/WP-manga/data/manga_5e08fdccf028f/ed58142eb77cf87fa52dba3f3be13539/18.jpg\n",
      "http://www.mangaread.org/wp-content/uploads/WP-manga/data/manga_5e08fdccf028f/ed58142eb77cf87fa52dba3f3be13539/19.jpg\n"
     ]
    },
    {
     "name": "stderr",
     "output_type": "stream",
     "text": [
      " 36%|█████████████████████████████▊                                                    | 36/99 [35:24<58:56, 56.14s/it]"
     ]
    },
    {
     "name": "stdout",
     "output_type": "stream",
     "text": [
      "finish\n",
      "----------------------------------------------------------------------------------------------------\n",
      "starting crawl chapter 37\n",
      "http://www.mangaread.org/wp-content/uploads/WP-manga/data/manga_5e08fdccf028f/683f32a60be8278b6742dd206a63f26c/3.jpg\n",
      "http://www.mangaread.org/wp-content/uploads/WP-manga/data/manga_5e08fdccf028f/683f32a60be8278b6742dd206a63f26c/4.jpg\n",
      "http://www.mangaread.org/wp-content/uploads/WP-manga/data/manga_5e08fdccf028f/683f32a60be8278b6742dd206a63f26c/5.jpg\n",
      "http://www.mangaread.org/wp-content/uploads/WP-manga/data/manga_5e08fdccf028f/683f32a60be8278b6742dd206a63f26c/6.jpg\n",
      "http://www.mangaread.org/wp-content/uploads/WP-manga/data/manga_5e08fdccf028f/683f32a60be8278b6742dd206a63f26c/7.jpg\n",
      "http://www.mangaread.org/wp-content/uploads/WP-manga/data/manga_5e08fdccf028f/683f32a60be8278b6742dd206a63f26c/8.jpg\n",
      "http://www.mangaread.org/wp-content/uploads/WP-manga/data/manga_5e08fdccf028f/683f32a60be8278b6742dd206a63f26c/9.jpg\n",
      "http://www.mangaread.org/wp-content/uploads/WP-manga/data/manga_5e08fdccf028f/683f32a60be8278b6742dd206a63f26c/10.jpg\n",
      "http://www.mangaread.org/wp-content/uploads/WP-manga/data/manga_5e08fdccf028f/683f32a60be8278b6742dd206a63f26c/11.jpg\n",
      "http://www.mangaread.org/wp-content/uploads/WP-manga/data/manga_5e08fdccf028f/683f32a60be8278b6742dd206a63f26c/12.jpg\n",
      "http://www.mangaread.org/wp-content/uploads/WP-manga/data/manga_5e08fdccf028f/683f32a60be8278b6742dd206a63f26c/13.jpg\n",
      "http://www.mangaread.org/wp-content/uploads/WP-manga/data/manga_5e08fdccf028f/683f32a60be8278b6742dd206a63f26c/14.jpg\n",
      "http://www.mangaread.org/wp-content/uploads/WP-manga/data/manga_5e08fdccf028f/683f32a60be8278b6742dd206a63f26c/15.jpg\n",
      "http://www.mangaread.org/wp-content/uploads/WP-manga/data/manga_5e08fdccf028f/683f32a60be8278b6742dd206a63f26c/16.jpg\n",
      "http://www.mangaread.org/wp-content/uploads/WP-manga/data/manga_5e08fdccf028f/683f32a60be8278b6742dd206a63f26c/17.jpg\n"
     ]
    },
    {
     "name": "stderr",
     "output_type": "stream",
     "text": [
      " 37%|██████████████████████████████▋                                                   | 37/99 [36:10<55:01, 53.24s/it]"
     ]
    },
    {
     "name": "stdout",
     "output_type": "stream",
     "text": [
      "finish\n",
      "----------------------------------------------------------------------------------------------------\n",
      "starting crawl chapter 38\n",
      "http://www.mangaread.org/wp-content/uploads/WP-manga/data/manga_5e08fdccf028f/7505c03a0ab69aa75fbd1e8b6449c1e4/3.jpg\n",
      "http://www.mangaread.org/wp-content/uploads/WP-manga/data/manga_5e08fdccf028f/7505c03a0ab69aa75fbd1e8b6449c1e4/4.jpg\n",
      "http://www.mangaread.org/wp-content/uploads/WP-manga/data/manga_5e08fdccf028f/7505c03a0ab69aa75fbd1e8b6449c1e4/5.jpg\n",
      "http://www.mangaread.org/wp-content/uploads/WP-manga/data/manga_5e08fdccf028f/7505c03a0ab69aa75fbd1e8b6449c1e4/6.jpg\n",
      "http://www.mangaread.org/wp-content/uploads/WP-manga/data/manga_5e08fdccf028f/7505c03a0ab69aa75fbd1e8b6449c1e4/7.jpg\n",
      "http://www.mangaread.org/wp-content/uploads/WP-manga/data/manga_5e08fdccf028f/7505c03a0ab69aa75fbd1e8b6449c1e4/8.jpg\n",
      "http://www.mangaread.org/wp-content/uploads/WP-manga/data/manga_5e08fdccf028f/7505c03a0ab69aa75fbd1e8b6449c1e4/9.jpg\n",
      "http://www.mangaread.org/wp-content/uploads/WP-manga/data/manga_5e08fdccf028f/7505c03a0ab69aa75fbd1e8b6449c1e4/10.jpg\n",
      "http://www.mangaread.org/wp-content/uploads/WP-manga/data/manga_5e08fdccf028f/7505c03a0ab69aa75fbd1e8b6449c1e4/11.jpg\n",
      "http://www.mangaread.org/wp-content/uploads/WP-manga/data/manga_5e08fdccf028f/7505c03a0ab69aa75fbd1e8b6449c1e4/12.jpg\n",
      "http://www.mangaread.org/wp-content/uploads/WP-manga/data/manga_5e08fdccf028f/7505c03a0ab69aa75fbd1e8b6449c1e4/13.jpg\n",
      "http://www.mangaread.org/wp-content/uploads/WP-manga/data/manga_5e08fdccf028f/7505c03a0ab69aa75fbd1e8b6449c1e4/14.jpg\n",
      "http://www.mangaread.org/wp-content/uploads/WP-manga/data/manga_5e08fdccf028f/7505c03a0ab69aa75fbd1e8b6449c1e4/15.jpg\n",
      "http://www.mangaread.org/wp-content/uploads/WP-manga/data/manga_5e08fdccf028f/7505c03a0ab69aa75fbd1e8b6449c1e4/16.jpg\n",
      "http://www.mangaread.org/wp-content/uploads/WP-manga/data/manga_5e08fdccf028f/7505c03a0ab69aa75fbd1e8b6449c1e4/17.jpg\n"
     ]
    },
    {
     "name": "stderr",
     "output_type": "stream",
     "text": [
      " 38%|███████████████████████████████▍                                                  | 38/99 [37:01<53:18, 52.44s/it]"
     ]
    },
    {
     "name": "stdout",
     "output_type": "stream",
     "text": [
      "finish\n",
      "----------------------------------------------------------------------------------------------------\n",
      "starting crawl chapter 39\n",
      "http://www.mangaread.org/wp-content/uploads/WP-manga/data/manga_5e08fdccf028f/abbb6bcb60f137fd7316e742ecb7757b/3.jpg\n",
      "http://www.mangaread.org/wp-content/uploads/WP-manga/data/manga_5e08fdccf028f/abbb6bcb60f137fd7316e742ecb7757b/4.jpg\n",
      "http://www.mangaread.org/wp-content/uploads/WP-manga/data/manga_5e08fdccf028f/abbb6bcb60f137fd7316e742ecb7757b/5.jpg\n",
      "http://www.mangaread.org/wp-content/uploads/WP-manga/data/manga_5e08fdccf028f/abbb6bcb60f137fd7316e742ecb7757b/6.jpg\n",
      "http://www.mangaread.org/wp-content/uploads/WP-manga/data/manga_5e08fdccf028f/abbb6bcb60f137fd7316e742ecb7757b/7.jpg\n",
      "http://www.mangaread.org/wp-content/uploads/WP-manga/data/manga_5e08fdccf028f/abbb6bcb60f137fd7316e742ecb7757b/8.jpg\n",
      "http://www.mangaread.org/wp-content/uploads/WP-manga/data/manga_5e08fdccf028f/abbb6bcb60f137fd7316e742ecb7757b/9.jpg\n",
      "http://www.mangaread.org/wp-content/uploads/WP-manga/data/manga_5e08fdccf028f/abbb6bcb60f137fd7316e742ecb7757b/10.jpg\n",
      "http://www.mangaread.org/wp-content/uploads/WP-manga/data/manga_5e08fdccf028f/abbb6bcb60f137fd7316e742ecb7757b/11.jpg\n",
      "http://www.mangaread.org/wp-content/uploads/WP-manga/data/manga_5e08fdccf028f/abbb6bcb60f137fd7316e742ecb7757b/12.jpg\n",
      "http://www.mangaread.org/wp-content/uploads/WP-manga/data/manga_5e08fdccf028f/abbb6bcb60f137fd7316e742ecb7757b/13.jpg\n",
      "http://www.mangaread.org/wp-content/uploads/WP-manga/data/manga_5e08fdccf028f/abbb6bcb60f137fd7316e742ecb7757b/14.jpg\n",
      "http://www.mangaread.org/wp-content/uploads/WP-manga/data/manga_5e08fdccf028f/abbb6bcb60f137fd7316e742ecb7757b/15.jpg\n",
      "http://www.mangaread.org/wp-content/uploads/WP-manga/data/manga_5e08fdccf028f/abbb6bcb60f137fd7316e742ecb7757b/16.jpg\n",
      "http://www.mangaread.org/wp-content/uploads/WP-manga/data/manga_5e08fdccf028f/abbb6bcb60f137fd7316e742ecb7757b/17.jpg\n",
      "http://www.mangaread.org/wp-content/uploads/WP-manga/data/manga_5e08fdccf028f/abbb6bcb60f137fd7316e742ecb7757b/18.jpg\n",
      "http://www.mangaread.org/wp-content/uploads/WP-manga/data/manga_5e08fdccf028f/abbb6bcb60f137fd7316e742ecb7757b/19.jpg\n",
      "http://www.mangaread.org/wp-content/uploads/WP-manga/data/manga_5e08fdccf028f/abbb6bcb60f137fd7316e742ecb7757b/20.jpg\n"
     ]
    },
    {
     "name": "stderr",
     "output_type": "stream",
     "text": [
      " 39%|████████████████████████████████▎                                                 | 39/99 [37:57<53:40, 53.67s/it]"
     ]
    },
    {
     "name": "stdout",
     "output_type": "stream",
     "text": [
      "finish\n",
      "----------------------------------------------------------------------------------------------------\n",
      "starting crawl chapter 40\n",
      "http://www.mangaread.org/wp-content/uploads/WP-manga/data/manga_5e08fdccf028f/4af6d5e4bcfaa500c4b8c31ec7cb3022/3.jpg\n",
      "http://www.mangaread.org/wp-content/uploads/WP-manga/data/manga_5e08fdccf028f/4af6d5e4bcfaa500c4b8c31ec7cb3022/4.jpg\n",
      "http://www.mangaread.org/wp-content/uploads/WP-manga/data/manga_5e08fdccf028f/4af6d5e4bcfaa500c4b8c31ec7cb3022/5.jpg\n",
      "http://www.mangaread.org/wp-content/uploads/WP-manga/data/manga_5e08fdccf028f/4af6d5e4bcfaa500c4b8c31ec7cb3022/6.jpg\n",
      "http://www.mangaread.org/wp-content/uploads/WP-manga/data/manga_5e08fdccf028f/4af6d5e4bcfaa500c4b8c31ec7cb3022/7.jpg\n",
      "http://www.mangaread.org/wp-content/uploads/WP-manga/data/manga_5e08fdccf028f/4af6d5e4bcfaa500c4b8c31ec7cb3022/8.jpg\n",
      "http://www.mangaread.org/wp-content/uploads/WP-manga/data/manga_5e08fdccf028f/4af6d5e4bcfaa500c4b8c31ec7cb3022/9.jpg\n",
      "http://www.mangaread.org/wp-content/uploads/WP-manga/data/manga_5e08fdccf028f/4af6d5e4bcfaa500c4b8c31ec7cb3022/10.jpg\n",
      "http://www.mangaread.org/wp-content/uploads/WP-manga/data/manga_5e08fdccf028f/4af6d5e4bcfaa500c4b8c31ec7cb3022/11.jpg\n",
      "http://www.mangaread.org/wp-content/uploads/WP-manga/data/manga_5e08fdccf028f/4af6d5e4bcfaa500c4b8c31ec7cb3022/12.jpg\n",
      "http://www.mangaread.org/wp-content/uploads/WP-manga/data/manga_5e08fdccf028f/4af6d5e4bcfaa500c4b8c31ec7cb3022/13.jpg\n",
      "http://www.mangaread.org/wp-content/uploads/WP-manga/data/manga_5e08fdccf028f/4af6d5e4bcfaa500c4b8c31ec7cb3022/14.jpg\n",
      "http://www.mangaread.org/wp-content/uploads/WP-manga/data/manga_5e08fdccf028f/4af6d5e4bcfaa500c4b8c31ec7cb3022/15.jpg\n",
      "http://www.mangaread.org/wp-content/uploads/WP-manga/data/manga_5e08fdccf028f/4af6d5e4bcfaa500c4b8c31ec7cb3022/16.jpg\n",
      "http://www.mangaread.org/wp-content/uploads/WP-manga/data/manga_5e08fdccf028f/4af6d5e4bcfaa500c4b8c31ec7cb3022/17.jpg\n",
      "http://www.mangaread.org/wp-content/uploads/WP-manga/data/manga_5e08fdccf028f/4af6d5e4bcfaa500c4b8c31ec7cb3022/18.jpg\n",
      "http://www.mangaread.org/wp-content/uploads/WP-manga/data/manga_5e08fdccf028f/4af6d5e4bcfaa500c4b8c31ec7cb3022/19.jpg\n"
     ]
    },
    {
     "name": "stderr",
     "output_type": "stream",
     "text": [
      " 40%|█████████████████████████████████▏                                                | 40/99 [39:05<57:00, 57.98s/it]"
     ]
    },
    {
     "name": "stdout",
     "output_type": "stream",
     "text": [
      "finish\n",
      "----------------------------------------------------------------------------------------------------\n",
      "starting crawl chapter 41\n",
      "http://www.mangaread.org/wp-content/uploads/WP-manga/data/manga_5e08fdccf028f/8e0b7affe3a8ef5b8902d830ec004b90/3.jpg\n",
      "http://www.mangaread.org/wp-content/uploads/WP-manga/data/manga_5e08fdccf028f/8e0b7affe3a8ef5b8902d830ec004b90/4.jpg\n",
      "http://www.mangaread.org/wp-content/uploads/WP-manga/data/manga_5e08fdccf028f/8e0b7affe3a8ef5b8902d830ec004b90/5.jpg\n",
      "http://www.mangaread.org/wp-content/uploads/WP-manga/data/manga_5e08fdccf028f/8e0b7affe3a8ef5b8902d830ec004b90/6.jpg\n",
      "http://www.mangaread.org/wp-content/uploads/WP-manga/data/manga_5e08fdccf028f/8e0b7affe3a8ef5b8902d830ec004b90/7.jpg\n",
      "http://www.mangaread.org/wp-content/uploads/WP-manga/data/manga_5e08fdccf028f/8e0b7affe3a8ef5b8902d830ec004b90/8.jpg\n",
      "http://www.mangaread.org/wp-content/uploads/WP-manga/data/manga_5e08fdccf028f/8e0b7affe3a8ef5b8902d830ec004b90/9.jpg\n",
      "http://www.mangaread.org/wp-content/uploads/WP-manga/data/manga_5e08fdccf028f/8e0b7affe3a8ef5b8902d830ec004b90/10.jpg\n",
      "http://www.mangaread.org/wp-content/uploads/WP-manga/data/manga_5e08fdccf028f/8e0b7affe3a8ef5b8902d830ec004b90/11.jpg\n",
      "http://www.mangaread.org/wp-content/uploads/WP-manga/data/manga_5e08fdccf028f/8e0b7affe3a8ef5b8902d830ec004b90/12.jpg\n",
      "http://www.mangaread.org/wp-content/uploads/WP-manga/data/manga_5e08fdccf028f/8e0b7affe3a8ef5b8902d830ec004b90/13.jpg\n",
      "http://www.mangaread.org/wp-content/uploads/WP-manga/data/manga_5e08fdccf028f/8e0b7affe3a8ef5b8902d830ec004b90/14.jpg\n"
     ]
    },
    {
     "name": "stderr",
     "output_type": "stream",
     "text": [
      " 41%|█████████████████████████████████▉                                                | 41/99 [39:48<51:42, 53.50s/it]"
     ]
    },
    {
     "name": "stdout",
     "output_type": "stream",
     "text": [
      "finish\n",
      "----------------------------------------------------------------------------------------------------\n",
      "starting crawl chapter 42\n",
      "http://www.mangaread.org/wp-content/uploads/WP-manga/data/manga_5e08fdccf028f/4e5a4e93a0dedf8b835a4249631d32e2/3.jpg\n",
      "http://www.mangaread.org/wp-content/uploads/WP-manga/data/manga_5e08fdccf028f/4e5a4e93a0dedf8b835a4249631d32e2/4.jpg\n",
      "http://www.mangaread.org/wp-content/uploads/WP-manga/data/manga_5e08fdccf028f/4e5a4e93a0dedf8b835a4249631d32e2/5.jpg\n",
      "http://www.mangaread.org/wp-content/uploads/WP-manga/data/manga_5e08fdccf028f/4e5a4e93a0dedf8b835a4249631d32e2/6.jpg\n",
      "http://www.mangaread.org/wp-content/uploads/WP-manga/data/manga_5e08fdccf028f/4e5a4e93a0dedf8b835a4249631d32e2/7.jpg\n",
      "http://www.mangaread.org/wp-content/uploads/WP-manga/data/manga_5e08fdccf028f/4e5a4e93a0dedf8b835a4249631d32e2/8.jpg\n",
      "http://www.mangaread.org/wp-content/uploads/WP-manga/data/manga_5e08fdccf028f/4e5a4e93a0dedf8b835a4249631d32e2/9.jpg\n",
      "http://www.mangaread.org/wp-content/uploads/WP-manga/data/manga_5e08fdccf028f/4e5a4e93a0dedf8b835a4249631d32e2/10.jpg\n",
      "http://www.mangaread.org/wp-content/uploads/WP-manga/data/manga_5e08fdccf028f/4e5a4e93a0dedf8b835a4249631d32e2/11.jpg\n",
      "http://www.mangaread.org/wp-content/uploads/WP-manga/data/manga_5e08fdccf028f/4e5a4e93a0dedf8b835a4249631d32e2/12.jpg\n",
      "http://www.mangaread.org/wp-content/uploads/WP-manga/data/manga_5e08fdccf028f/4e5a4e93a0dedf8b835a4249631d32e2/13.jpg\n"
     ]
    },
    {
     "name": "stderr",
     "output_type": "stream",
     "text": [
      " 42%|██████████████████████████████████▊                                               | 42/99 [40:21<44:48, 47.16s/it]"
     ]
    },
    {
     "name": "stdout",
     "output_type": "stream",
     "text": [
      "finish\n",
      "----------------------------------------------------------------------------------------------------\n",
      "starting crawl chapter 43\n",
      "http://www.mangaread.org/wp-content/uploads/WP-manga/data/manga_5e08fdccf028f/282827d9e5e96e9e744ab34da12d3c5b/3.jpg\n",
      "http://www.mangaread.org/wp-content/uploads/WP-manga/data/manga_5e08fdccf028f/282827d9e5e96e9e744ab34da12d3c5b/4.jpg\n",
      "http://www.mangaread.org/wp-content/uploads/WP-manga/data/manga_5e08fdccf028f/282827d9e5e96e9e744ab34da12d3c5b/5.jpg\n",
      "http://www.mangaread.org/wp-content/uploads/WP-manga/data/manga_5e08fdccf028f/282827d9e5e96e9e744ab34da12d3c5b/6.jpg\n",
      "http://www.mangaread.org/wp-content/uploads/WP-manga/data/manga_5e08fdccf028f/282827d9e5e96e9e744ab34da12d3c5b/7.jpg\n",
      "http://www.mangaread.org/wp-content/uploads/WP-manga/data/manga_5e08fdccf028f/282827d9e5e96e9e744ab34da12d3c5b/8.jpg\n",
      "http://www.mangaread.org/wp-content/uploads/WP-manga/data/manga_5e08fdccf028f/282827d9e5e96e9e744ab34da12d3c5b/9.jpg\n",
      "http://www.mangaread.org/wp-content/uploads/WP-manga/data/manga_5e08fdccf028f/282827d9e5e96e9e744ab34da12d3c5b/10.jpg\n",
      "http://www.mangaread.org/wp-content/uploads/WP-manga/data/manga_5e08fdccf028f/282827d9e5e96e9e744ab34da12d3c5b/11.jpg\n",
      "http://www.mangaread.org/wp-content/uploads/WP-manga/data/manga_5e08fdccf028f/282827d9e5e96e9e744ab34da12d3c5b/12.jpg\n",
      "http://www.mangaread.org/wp-content/uploads/WP-manga/data/manga_5e08fdccf028f/282827d9e5e96e9e744ab34da12d3c5b/13.jpg\n",
      "http://www.mangaread.org/wp-content/uploads/WP-manga/data/manga_5e08fdccf028f/282827d9e5e96e9e744ab34da12d3c5b/14.jpg\n",
      "http://www.mangaread.org/wp-content/uploads/WP-manga/data/manga_5e08fdccf028f/282827d9e5e96e9e744ab34da12d3c5b/15.jpg\n"
     ]
    },
    {
     "name": "stderr",
     "output_type": "stream",
     "text": [
      " 43%|███████████████████████████████████▌                                              | 43/99 [41:05<43:19, 46.43s/it]"
     ]
    },
    {
     "name": "stdout",
     "output_type": "stream",
     "text": [
      "finish\n",
      "----------------------------------------------------------------------------------------------------\n",
      "starting crawl chapter 44\n",
      "http://www.mangaread.org/wp-content/uploads/WP-manga/data/manga_5e08fdccf028f/fa9ad0eaea66dbe7011327ace822c6a6/3.jpg\n",
      "http://www.mangaread.org/wp-content/uploads/WP-manga/data/manga_5e08fdccf028f/fa9ad0eaea66dbe7011327ace822c6a6/4.jpg\n",
      "http://www.mangaread.org/wp-content/uploads/WP-manga/data/manga_5e08fdccf028f/fa9ad0eaea66dbe7011327ace822c6a6/5.jpg\n",
      "http://www.mangaread.org/wp-content/uploads/WP-manga/data/manga_5e08fdccf028f/fa9ad0eaea66dbe7011327ace822c6a6/6.jpg\n",
      "http://www.mangaread.org/wp-content/uploads/WP-manga/data/manga_5e08fdccf028f/fa9ad0eaea66dbe7011327ace822c6a6/7.jpg\n",
      "http://www.mangaread.org/wp-content/uploads/WP-manga/data/manga_5e08fdccf028f/fa9ad0eaea66dbe7011327ace822c6a6/8.jpg\n",
      "http://www.mangaread.org/wp-content/uploads/WP-manga/data/manga_5e08fdccf028f/fa9ad0eaea66dbe7011327ace822c6a6/9.jpg\n",
      "http://www.mangaread.org/wp-content/uploads/WP-manga/data/manga_5e08fdccf028f/fa9ad0eaea66dbe7011327ace822c6a6/10.jpg\n",
      "http://www.mangaread.org/wp-content/uploads/WP-manga/data/manga_5e08fdccf028f/fa9ad0eaea66dbe7011327ace822c6a6/11.jpg\n",
      "http://www.mangaread.org/wp-content/uploads/WP-manga/data/manga_5e08fdccf028f/fa9ad0eaea66dbe7011327ace822c6a6/12.jpg\n"
     ]
    },
    {
     "name": "stderr",
     "output_type": "stream",
     "text": [
      " 44%|████████████████████████████████████▍                                             | 44/99 [41:43<40:06, 43.75s/it]"
     ]
    },
    {
     "name": "stdout",
     "output_type": "stream",
     "text": [
      "finish\n",
      "----------------------------------------------------------------------------------------------------\n",
      "starting crawl chapter 45\n",
      "http://www.mangaread.org/wp-content/uploads/WP-manga/data/manga_5e08fdccf028f/0a3261caa86f1ad56ac040b458470c3a/3.jpg\n",
      "http://www.mangaread.org/wp-content/uploads/WP-manga/data/manga_5e08fdccf028f/0a3261caa86f1ad56ac040b458470c3a/4.jpg\n",
      "http://www.mangaread.org/wp-content/uploads/WP-manga/data/manga_5e08fdccf028f/0a3261caa86f1ad56ac040b458470c3a/5.jpg\n",
      "http://www.mangaread.org/wp-content/uploads/WP-manga/data/manga_5e08fdccf028f/0a3261caa86f1ad56ac040b458470c3a/6.jpg\n",
      "http://www.mangaread.org/wp-content/uploads/WP-manga/data/manga_5e08fdccf028f/0a3261caa86f1ad56ac040b458470c3a/7.jpg\n",
      "http://www.mangaread.org/wp-content/uploads/WP-manga/data/manga_5e08fdccf028f/0a3261caa86f1ad56ac040b458470c3a/8.jpg\n",
      "http://www.mangaread.org/wp-content/uploads/WP-manga/data/manga_5e08fdccf028f/0a3261caa86f1ad56ac040b458470c3a/9.jpg\n",
      "http://www.mangaread.org/wp-content/uploads/WP-manga/data/manga_5e08fdccf028f/0a3261caa86f1ad56ac040b458470c3a/10.jpg\n",
      "http://www.mangaread.org/wp-content/uploads/WP-manga/data/manga_5e08fdccf028f/0a3261caa86f1ad56ac040b458470c3a/11.jpg\n",
      "http://www.mangaread.org/wp-content/uploads/WP-manga/data/manga_5e08fdccf028f/0a3261caa86f1ad56ac040b458470c3a/12.jpg\n",
      "http://www.mangaread.org/wp-content/uploads/WP-manga/data/manga_5e08fdccf028f/0a3261caa86f1ad56ac040b458470c3a/13.jpg\n",
      "http://www.mangaread.org/wp-content/uploads/WP-manga/data/manga_5e08fdccf028f/0a3261caa86f1ad56ac040b458470c3a/14.jpg\n"
     ]
    },
    {
     "name": "stderr",
     "output_type": "stream",
     "text": [
      " 45%|█████████████████████████████████████▎                                            | 45/99 [42:26<39:19, 43.70s/it]"
     ]
    },
    {
     "name": "stdout",
     "output_type": "stream",
     "text": [
      "finish\n",
      "----------------------------------------------------------------------------------------------------\n",
      "starting crawl chapter 46\n",
      "http://www.mangaread.org/wp-content/uploads/WP-manga/data/manga_5e08fdccf028f/50287cbedf969c0fbaef8cae3658f4d3/3.jpg\n",
      "http://www.mangaread.org/wp-content/uploads/WP-manga/data/manga_5e08fdccf028f/50287cbedf969c0fbaef8cae3658f4d3/4.jpg\n",
      "http://www.mangaread.org/wp-content/uploads/WP-manga/data/manga_5e08fdccf028f/50287cbedf969c0fbaef8cae3658f4d3/5.jpg\n",
      "http://www.mangaread.org/wp-content/uploads/WP-manga/data/manga_5e08fdccf028f/50287cbedf969c0fbaef8cae3658f4d3/6.jpg\n",
      "http://www.mangaread.org/wp-content/uploads/WP-manga/data/manga_5e08fdccf028f/50287cbedf969c0fbaef8cae3658f4d3/7.jpg\n",
      "http://www.mangaread.org/wp-content/uploads/WP-manga/data/manga_5e08fdccf028f/50287cbedf969c0fbaef8cae3658f4d3/8.jpg\n",
      "http://www.mangaread.org/wp-content/uploads/WP-manga/data/manga_5e08fdccf028f/50287cbedf969c0fbaef8cae3658f4d3/9.jpg\n",
      "http://www.mangaread.org/wp-content/uploads/WP-manga/data/manga_5e08fdccf028f/50287cbedf969c0fbaef8cae3658f4d3/10.jpg\n"
     ]
    },
    {
     "name": "stderr",
     "output_type": "stream",
     "text": [
      " 46%|██████████████████████████████████████                                            | 46/99 [43:00<35:53, 40.62s/it]"
     ]
    },
    {
     "name": "stdout",
     "output_type": "stream",
     "text": [
      "finish\n",
      "----------------------------------------------------------------------------------------------------\n",
      "starting crawl chapter 47\n",
      "http://www.mangaread.org/wp-content/uploads/WP-manga/data/manga_5e08fdccf028f/d055af1b097e220eee5b73ff9aa9f461/3.jpg\n",
      "http://www.mangaread.org/wp-content/uploads/WP-manga/data/manga_5e08fdccf028f/d055af1b097e220eee5b73ff9aa9f461/4.jpg\n",
      "http://www.mangaread.org/wp-content/uploads/WP-manga/data/manga_5e08fdccf028f/d055af1b097e220eee5b73ff9aa9f461/5.jpg\n",
      "http://www.mangaread.org/wp-content/uploads/WP-manga/data/manga_5e08fdccf028f/d055af1b097e220eee5b73ff9aa9f461/6.jpg\n",
      "http://www.mangaread.org/wp-content/uploads/WP-manga/data/manga_5e08fdccf028f/d055af1b097e220eee5b73ff9aa9f461/7.jpg\n",
      "http://www.mangaread.org/wp-content/uploads/WP-manga/data/manga_5e08fdccf028f/d055af1b097e220eee5b73ff9aa9f461/8.jpg\n",
      "http://www.mangaread.org/wp-content/uploads/WP-manga/data/manga_5e08fdccf028f/d055af1b097e220eee5b73ff9aa9f461/9.jpg\n",
      "http://www.mangaread.org/wp-content/uploads/WP-manga/data/manga_5e08fdccf028f/d055af1b097e220eee5b73ff9aa9f461/10.jpg\n",
      "http://www.mangaread.org/wp-content/uploads/WP-manga/data/manga_5e08fdccf028f/d055af1b097e220eee5b73ff9aa9f461/11.jpg\n",
      "http://www.mangaread.org/wp-content/uploads/WP-manga/data/manga_5e08fdccf028f/d055af1b097e220eee5b73ff9aa9f461/12.jpg\n",
      "http://www.mangaread.org/wp-content/uploads/WP-manga/data/manga_5e08fdccf028f/d055af1b097e220eee5b73ff9aa9f461/13.jpg\n",
      "http://www.mangaread.org/wp-content/uploads/WP-manga/data/manga_5e08fdccf028f/d055af1b097e220eee5b73ff9aa9f461/14.jpg\n",
      "http://www.mangaread.org/wp-content/uploads/WP-manga/data/manga_5e08fdccf028f/d055af1b097e220eee5b73ff9aa9f461/15.jpg\n",
      "http://www.mangaread.org/wp-content/uploads/WP-manga/data/manga_5e08fdccf028f/d055af1b097e220eee5b73ff9aa9f461/16.jpg\n",
      "http://www.mangaread.org/wp-content/uploads/WP-manga/data/manga_5e08fdccf028f/d055af1b097e220eee5b73ff9aa9f461/17.jpg\n",
      "http://www.mangaread.org/wp-content/uploads/WP-manga/data/manga_5e08fdccf028f/d055af1b097e220eee5b73ff9aa9f461/18.jpg\n",
      "http://www.mangaread.org/wp-content/uploads/WP-manga/data/manga_5e08fdccf028f/d055af1b097e220eee5b73ff9aa9f461/19.jpg\n"
     ]
    },
    {
     "name": "stderr",
     "output_type": "stream",
     "text": [
      " 47%|██████████████████████████████████████▉                                           | 47/99 [43:57<39:23, 45.45s/it]"
     ]
    },
    {
     "name": "stdout",
     "output_type": "stream",
     "text": [
      "finish\n",
      "----------------------------------------------------------------------------------------------------\n",
      "starting crawl chapter 48\n",
      "http://www.mangaread.org/wp-content/uploads/WP-manga/data/manga_5e08fdccf028f/9e7255b833ef55ba0a89cdc232d8671a/3.jpg\n",
      "http://www.mangaread.org/wp-content/uploads/WP-manga/data/manga_5e08fdccf028f/9e7255b833ef55ba0a89cdc232d8671a/4.jpg\n",
      "http://www.mangaread.org/wp-content/uploads/WP-manga/data/manga_5e08fdccf028f/9e7255b833ef55ba0a89cdc232d8671a/5.jpg\n",
      "http://www.mangaread.org/wp-content/uploads/WP-manga/data/manga_5e08fdccf028f/9e7255b833ef55ba0a89cdc232d8671a/6.jpg\n",
      "http://www.mangaread.org/wp-content/uploads/WP-manga/data/manga_5e08fdccf028f/9e7255b833ef55ba0a89cdc232d8671a/7.jpg\n",
      "http://www.mangaread.org/wp-content/uploads/WP-manga/data/manga_5e08fdccf028f/9e7255b833ef55ba0a89cdc232d8671a/8.jpg\n",
      "http://www.mangaread.org/wp-content/uploads/WP-manga/data/manga_5e08fdccf028f/9e7255b833ef55ba0a89cdc232d8671a/9.jpg\n",
      "http://www.mangaread.org/wp-content/uploads/WP-manga/data/manga_5e08fdccf028f/9e7255b833ef55ba0a89cdc232d8671a/10.jpg\n",
      "http://www.mangaread.org/wp-content/uploads/WP-manga/data/manga_5e08fdccf028f/9e7255b833ef55ba0a89cdc232d8671a/11.jpg\n",
      "http://www.mangaread.org/wp-content/uploads/WP-manga/data/manga_5e08fdccf028f/9e7255b833ef55ba0a89cdc232d8671a/12.jpg\n",
      "http://www.mangaread.org/wp-content/uploads/WP-manga/data/manga_5e08fdccf028f/9e7255b833ef55ba0a89cdc232d8671a/13.jpg\n",
      "http://www.mangaread.org/wp-content/uploads/WP-manga/data/manga_5e08fdccf028f/9e7255b833ef55ba0a89cdc232d8671a/14.jpg\n",
      "http://www.mangaread.org/wp-content/uploads/WP-manga/data/manga_5e08fdccf028f/9e7255b833ef55ba0a89cdc232d8671a/15.jpg\n",
      "http://www.mangaread.org/wp-content/uploads/WP-manga/data/manga_5e08fdccf028f/9e7255b833ef55ba0a89cdc232d8671a/16.jpg\n",
      "http://www.mangaread.org/wp-content/uploads/WP-manga/data/manga_5e08fdccf028f/9e7255b833ef55ba0a89cdc232d8671a/17.jpg\n",
      "http://www.mangaread.org/wp-content/uploads/WP-manga/data/manga_5e08fdccf028f/9e7255b833ef55ba0a89cdc232d8671a/18.jpg\n",
      "http://www.mangaread.org/wp-content/uploads/WP-manga/data/manga_5e08fdccf028f/9e7255b833ef55ba0a89cdc232d8671a/19.jpg\n"
     ]
    },
    {
     "name": "stderr",
     "output_type": "stream",
     "text": [
      " 48%|███████████████████████████████████████▊                                          | 48/99 [44:48<40:11, 47.28s/it]"
     ]
    },
    {
     "name": "stdout",
     "output_type": "stream",
     "text": [
      "finish\n",
      "----------------------------------------------------------------------------------------------------\n",
      "starting crawl chapter 49\n",
      "http://www.mangaread.org/wp-content/uploads/WP-manga/data/manga_5e08fdccf028f/f0f8c91b736d7d8611f70f4af5b9d09d/3.jpg\n",
      "http://www.mangaread.org/wp-content/uploads/WP-manga/data/manga_5e08fdccf028f/f0f8c91b736d7d8611f70f4af5b9d09d/4.jpg\n",
      "http://www.mangaread.org/wp-content/uploads/WP-manga/data/manga_5e08fdccf028f/f0f8c91b736d7d8611f70f4af5b9d09d/5.jpg\n",
      "http://www.mangaread.org/wp-content/uploads/WP-manga/data/manga_5e08fdccf028f/f0f8c91b736d7d8611f70f4af5b9d09d/6.jpg\n",
      "http://www.mangaread.org/wp-content/uploads/WP-manga/data/manga_5e08fdccf028f/f0f8c91b736d7d8611f70f4af5b9d09d/7.jpg\n",
      "http://www.mangaread.org/wp-content/uploads/WP-manga/data/manga_5e08fdccf028f/f0f8c91b736d7d8611f70f4af5b9d09d/8.jpg\n",
      "http://www.mangaread.org/wp-content/uploads/WP-manga/data/manga_5e08fdccf028f/f0f8c91b736d7d8611f70f4af5b9d09d/9.jpg\n",
      "http://www.mangaread.org/wp-content/uploads/WP-manga/data/manga_5e08fdccf028f/f0f8c91b736d7d8611f70f4af5b9d09d/10.jpg\n",
      "http://www.mangaread.org/wp-content/uploads/WP-manga/data/manga_5e08fdccf028f/f0f8c91b736d7d8611f70f4af5b9d09d/11.jpg\n",
      "http://www.mangaread.org/wp-content/uploads/WP-manga/data/manga_5e08fdccf028f/f0f8c91b736d7d8611f70f4af5b9d09d/12.jpg\n",
      "http://www.mangaread.org/wp-content/uploads/WP-manga/data/manga_5e08fdccf028f/f0f8c91b736d7d8611f70f4af5b9d09d/13.jpg\n",
      "http://www.mangaread.org/wp-content/uploads/WP-manga/data/manga_5e08fdccf028f/f0f8c91b736d7d8611f70f4af5b9d09d/14.jpg\n",
      "http://www.mangaread.org/wp-content/uploads/WP-manga/data/manga_5e08fdccf028f/f0f8c91b736d7d8611f70f4af5b9d09d/15.jpg\n",
      "http://www.mangaread.org/wp-content/uploads/WP-manga/data/manga_5e08fdccf028f/f0f8c91b736d7d8611f70f4af5b9d09d/16.jpg\n",
      "http://www.mangaread.org/wp-content/uploads/WP-manga/data/manga_5e08fdccf028f/f0f8c91b736d7d8611f70f4af5b9d09d/17.jpg\n",
      "http://www.mangaread.org/wp-content/uploads/WP-manga/data/manga_5e08fdccf028f/f0f8c91b736d7d8611f70f4af5b9d09d/18.jpg\n"
     ]
    },
    {
     "name": "stderr",
     "output_type": "stream",
     "text": [
      " 49%|████████████████████████████████████████▌                                         | 49/99 [45:45<41:50, 50.20s/it]"
     ]
    },
    {
     "name": "stdout",
     "output_type": "stream",
     "text": [
      "finish\n",
      "----------------------------------------------------------------------------------------------------\n",
      "starting crawl chapter 50\n",
      "http://www.mangaread.org/wp-content/uploads/WP-manga/data/manga_5e08fdccf028f/5e7b324ac7b5e2042de8bffa5112e3eb/2.jpg\n",
      "http://www.mangaread.org/wp-content/uploads/WP-manga/data/manga_5e08fdccf028f/5e7b324ac7b5e2042de8bffa5112e3eb/3.jpg\n",
      "http://www.mangaread.org/wp-content/uploads/WP-manga/data/manga_5e08fdccf028f/5e7b324ac7b5e2042de8bffa5112e3eb/4.jpg\n",
      "http://www.mangaread.org/wp-content/uploads/WP-manga/data/manga_5e08fdccf028f/5e7b324ac7b5e2042de8bffa5112e3eb/5.jpg\n",
      "http://www.mangaread.org/wp-content/uploads/WP-manga/data/manga_5e08fdccf028f/5e7b324ac7b5e2042de8bffa5112e3eb/6.jpg\n",
      "http://www.mangaread.org/wp-content/uploads/WP-manga/data/manga_5e08fdccf028f/5e7b324ac7b5e2042de8bffa5112e3eb/7.jpg\n",
      "http://www.mangaread.org/wp-content/uploads/WP-manga/data/manga_5e08fdccf028f/5e7b324ac7b5e2042de8bffa5112e3eb/8.jpg\n",
      "http://www.mangaread.org/wp-content/uploads/WP-manga/data/manga_5e08fdccf028f/5e7b324ac7b5e2042de8bffa5112e3eb/9.jpg\n",
      "http://www.mangaread.org/wp-content/uploads/WP-manga/data/manga_5e08fdccf028f/5e7b324ac7b5e2042de8bffa5112e3eb/10.jpg\n",
      "http://www.mangaread.org/wp-content/uploads/WP-manga/data/manga_5e08fdccf028f/5e7b324ac7b5e2042de8bffa5112e3eb/11.jpg\n",
      "http://www.mangaread.org/wp-content/uploads/WP-manga/data/manga_5e08fdccf028f/5e7b324ac7b5e2042de8bffa5112e3eb/12.jpg\n",
      "http://www.mangaread.org/wp-content/uploads/WP-manga/data/manga_5e08fdccf028f/5e7b324ac7b5e2042de8bffa5112e3eb/13.jpg\n",
      "http://www.mangaread.org/wp-content/uploads/WP-manga/data/manga_5e08fdccf028f/5e7b324ac7b5e2042de8bffa5112e3eb/14.jpg\n",
      "http://www.mangaread.org/wp-content/uploads/WP-manga/data/manga_5e08fdccf028f/5e7b324ac7b5e2042de8bffa5112e3eb/15.jpg\n",
      "http://www.mangaread.org/wp-content/uploads/WP-manga/data/manga_5e08fdccf028f/5e7b324ac7b5e2042de8bffa5112e3eb/16.jpg\n",
      "http://www.mangaread.org/wp-content/uploads/WP-manga/data/manga_5e08fdccf028f/5e7b324ac7b5e2042de8bffa5112e3eb/17.jpg\n",
      "http://www.mangaread.org/wp-content/uploads/WP-manga/data/manga_5e08fdccf028f/5e7b324ac7b5e2042de8bffa5112e3eb/18.jpg\n",
      "http://www.mangaread.org/wp-content/uploads/WP-manga/data/manga_5e08fdccf028f/5e7b324ac7b5e2042de8bffa5112e3eb/19.jpg\n",
      "http://www.mangaread.org/wp-content/uploads/WP-manga/data/manga_5e08fdccf028f/5e7b324ac7b5e2042de8bffa5112e3eb/20.jpg\n",
      "http://www.mangaread.org/wp-content/uploads/WP-manga/data/manga_5e08fdccf028f/5e7b324ac7b5e2042de8bffa5112e3eb/21.jpg\n",
      "http://www.mangaread.org/wp-content/uploads/WP-manga/data/manga_5e08fdccf028f/5e7b324ac7b5e2042de8bffa5112e3eb/22.jpg\n",
      "http://www.mangaread.org/wp-content/uploads/WP-manga/data/manga_5e08fdccf028f/5e7b324ac7b5e2042de8bffa5112e3eb/23.jpg\n",
      "http://www.mangaread.org/wp-content/uploads/WP-manga/data/manga_5e08fdccf028f/5e7b324ac7b5e2042de8bffa5112e3eb/24.jpg\n",
      "http://www.mangaread.org/wp-content/uploads/WP-manga/data/manga_5e08fdccf028f/5e7b324ac7b5e2042de8bffa5112e3eb/25.jpg\n",
      "http://www.mangaread.org/wp-content/uploads/WP-manga/data/manga_5e08fdccf028f/5e7b324ac7b5e2042de8bffa5112e3eb/26.jpg\n",
      "http://www.mangaread.org/wp-content/uploads/WP-manga/data/manga_5e08fdccf028f/5e7b324ac7b5e2042de8bffa5112e3eb/27.jpg\n",
      "http://www.mangaread.org/wp-content/uploads/WP-manga/data/manga_5e08fdccf028f/5e7b324ac7b5e2042de8bffa5112e3eb/28.jpg\n",
      "http://www.mangaread.org/wp-content/uploads/WP-manga/data/manga_5e08fdccf028f/5e7b324ac7b5e2042de8bffa5112e3eb/29.jpg\n",
      "http://www.mangaread.org/wp-content/uploads/WP-manga/data/manga_5e08fdccf028f/5e7b324ac7b5e2042de8bffa5112e3eb/30.jpg\n",
      "http://www.mangaread.org/wp-content/uploads/WP-manga/data/manga_5e08fdccf028f/5e7b324ac7b5e2042de8bffa5112e3eb/31.jpg\n",
      "http://www.mangaread.org/wp-content/uploads/WP-manga/data/manga_5e08fdccf028f/5e7b324ac7b5e2042de8bffa5112e3eb/32.jpg\n",
      "http://www.mangaread.org/wp-content/uploads/WP-manga/data/manga_5e08fdccf028f/5e7b324ac7b5e2042de8bffa5112e3eb/33.jpg\n",
      "http://www.mangaread.org/wp-content/uploads/WP-manga/data/manga_5e08fdccf028f/5e7b324ac7b5e2042de8bffa5112e3eb/34.jpg\n",
      "http://www.mangaread.org/wp-content/uploads/WP-manga/data/manga_5e08fdccf028f/5e7b324ac7b5e2042de8bffa5112e3eb/35.jpg\n",
      "http://www.mangaread.org/wp-content/uploads/WP-manga/data/manga_5e08fdccf028f/5e7b324ac7b5e2042de8bffa5112e3eb/36.jpg\n",
      "http://www.mangaread.org/wp-content/uploads/WP-manga/data/manga_5e08fdccf028f/5e7b324ac7b5e2042de8bffa5112e3eb/37.jpg\n",
      "http://www.mangaread.org/wp-content/uploads/WP-manga/data/manga_5e08fdccf028f/5e7b324ac7b5e2042de8bffa5112e3eb/38.jpg\n",
      "http://www.mangaread.org/wp-content/uploads/WP-manga/data/manga_5e08fdccf028f/5e7b324ac7b5e2042de8bffa5112e3eb/39.jpg\n",
      "http://www.mangaread.org/wp-content/uploads/WP-manga/data/manga_5e08fdccf028f/5e7b324ac7b5e2042de8bffa5112e3eb/40.jpg\n",
      "http://www.mangaread.org/wp-content/uploads/WP-manga/data/manga_5e08fdccf028f/5e7b324ac7b5e2042de8bffa5112e3eb/41.jpg\n",
      "http://www.mangaread.org/wp-content/uploads/WP-manga/data/manga_5e08fdccf028f/5e7b324ac7b5e2042de8bffa5112e3eb/42.jpg\n",
      "http://www.mangaread.org/wp-content/uploads/WP-manga/data/manga_5e08fdccf028f/5e7b324ac7b5e2042de8bffa5112e3eb/43.jpg\n",
      "http://www.mangaread.org/wp-content/uploads/WP-manga/data/manga_5e08fdccf028f/5e7b324ac7b5e2042de8bffa5112e3eb/44.jpg\n",
      "http://www.mangaread.org/wp-content/uploads/WP-manga/data/manga_5e08fdccf028f/5e7b324ac7b5e2042de8bffa5112e3eb/45.jpg\n",
      "http://www.mangaread.org/wp-content/uploads/WP-manga/data/manga_5e08fdccf028f/5e7b324ac7b5e2042de8bffa5112e3eb/46.jpg\n",
      "http://www.mangaread.org/wp-content/uploads/WP-manga/data/manga_5e08fdccf028f/5e7b324ac7b5e2042de8bffa5112e3eb/47.jpg\n",
      "http://www.mangaread.org/wp-content/uploads/WP-manga/data/manga_5e08fdccf028f/5e7b324ac7b5e2042de8bffa5112e3eb/48.jpg\n",
      "http://www.mangaread.org/wp-content/uploads/WP-manga/data/manga_5e08fdccf028f/5e7b324ac7b5e2042de8bffa5112e3eb/49.jpg\n",
      "http://www.mangaread.org/wp-content/uploads/WP-manga/data/manga_5e08fdccf028f/5e7b324ac7b5e2042de8bffa5112e3eb/50.jpg\n",
      "http://www.mangaread.org/wp-content/uploads/WP-manga/data/manga_5e08fdccf028f/5e7b324ac7b5e2042de8bffa5112e3eb/51.jpg\n",
      "http://www.mangaread.org/wp-content/uploads/WP-manga/data/manga_5e08fdccf028f/5e7b324ac7b5e2042de8bffa5112e3eb/52.jpg\n",
      "http://www.mangaread.org/wp-content/uploads/WP-manga/data/manga_5e08fdccf028f/5e7b324ac7b5e2042de8bffa5112e3eb/53.jpg\n",
      "http://www.mangaread.org/wp-content/uploads/WP-manga/data/manga_5e08fdccf028f/5e7b324ac7b5e2042de8bffa5112e3eb/54.jpg\n",
      "http://www.mangaread.org/wp-content/uploads/WP-manga/data/manga_5e08fdccf028f/5e7b324ac7b5e2042de8bffa5112e3eb/55.jpg\n",
      "http://www.mangaread.org/wp-content/uploads/WP-manga/data/manga_5e08fdccf028f/5e7b324ac7b5e2042de8bffa5112e3eb/56.jpg\n",
      "http://www.mangaread.org/wp-content/uploads/WP-manga/data/manga_5e08fdccf028f/5e7b324ac7b5e2042de8bffa5112e3eb/57.jpg\n",
      "http://www.mangaread.org/wp-content/uploads/WP-manga/data/manga_5e08fdccf028f/5e7b324ac7b5e2042de8bffa5112e3eb/58.jpg\n",
      "http://www.mangaread.org/wp-content/uploads/WP-manga/data/manga_5e08fdccf028f/5e7b324ac7b5e2042de8bffa5112e3eb/59.jpg\n",
      "http://www.mangaread.org/wp-content/uploads/WP-manga/data/manga_5e08fdccf028f/5e7b324ac7b5e2042de8bffa5112e3eb/60.jpg\n",
      "http://www.mangaread.org/wp-content/uploads/WP-manga/data/manga_5e08fdccf028f/5e7b324ac7b5e2042de8bffa5112e3eb/61.jpg\n",
      "http://www.mangaread.org/wp-content/uploads/WP-manga/data/manga_5e08fdccf028f/5e7b324ac7b5e2042de8bffa5112e3eb/62.jpg\n",
      "http://www.mangaread.org/wp-content/uploads/WP-manga/data/manga_5e08fdccf028f/5e7b324ac7b5e2042de8bffa5112e3eb/63.jpg\n",
      "http://www.mangaread.org/wp-content/uploads/WP-manga/data/manga_5e08fdccf028f/5e7b324ac7b5e2042de8bffa5112e3eb/64.jpg\n",
      "http://www.mangaread.org/wp-content/uploads/WP-manga/data/manga_5e08fdccf028f/5e7b324ac7b5e2042de8bffa5112e3eb/65.jpg\n",
      "http://www.mangaread.org/wp-content/uploads/WP-manga/data/manga_5e08fdccf028f/5e7b324ac7b5e2042de8bffa5112e3eb/66.jpg\n",
      "http://www.mangaread.org/wp-content/uploads/WP-manga/data/manga_5e08fdccf028f/5e7b324ac7b5e2042de8bffa5112e3eb/67.jpg\n",
      "http://www.mangaread.org/wp-content/uploads/WP-manga/data/manga_5e08fdccf028f/5e7b324ac7b5e2042de8bffa5112e3eb/68.jpg\n"
     ]
    },
    {
     "name": "stderr",
     "output_type": "stream",
     "text": [
      " 51%|████████████████████████████████████████▍                                       | 50/99 [48:09<1:03:59, 78.36s/it]"
     ]
    },
    {
     "name": "stdout",
     "output_type": "stream",
     "text": [
      "finish\n",
      "----------------------------------------------------------------------------------------------------\n",
      "starting crawl chapter 51\n",
      "http://www.mangaread.org/wp-content/uploads/WP-manga/data/manga_5e08fdccf028f/afa9e227bfc4bc07aa972d3a8c36091c/3.jpg\n",
      "http://www.mangaread.org/wp-content/uploads/WP-manga/data/manga_5e08fdccf028f/afa9e227bfc4bc07aa972d3a8c36091c/4.jpg\n",
      "http://www.mangaread.org/wp-content/uploads/WP-manga/data/manga_5e08fdccf028f/afa9e227bfc4bc07aa972d3a8c36091c/5.jpg\n",
      "http://www.mangaread.org/wp-content/uploads/WP-manga/data/manga_5e08fdccf028f/afa9e227bfc4bc07aa972d3a8c36091c/6.jpg\n",
      "http://www.mangaread.org/wp-content/uploads/WP-manga/data/manga_5e08fdccf028f/afa9e227bfc4bc07aa972d3a8c36091c/7.jpg\n",
      "http://www.mangaread.org/wp-content/uploads/WP-manga/data/manga_5e08fdccf028f/afa9e227bfc4bc07aa972d3a8c36091c/8.jpg\n"
     ]
    },
    {
     "name": "stderr",
     "output_type": "stream",
     "text": [
      " 52%|██████████████████████████████████████████▏                                       | 51/99 [48:35<50:05, 62.61s/it]"
     ]
    },
    {
     "name": "stdout",
     "output_type": "stream",
     "text": [
      "finish\n",
      "----------------------------------------------------------------------------------------------------\n",
      "starting crawl chapter 52\n",
      "http://www.mangaread.org/wp-content/uploads/WP-manga/data/manga_5e08fdccf028f/56478a1f8c4ecf6fcae3e8445fa819b9/3.jpg\n",
      "http://www.mangaread.org/wp-content/uploads/WP-manga/data/manga_5e08fdccf028f/56478a1f8c4ecf6fcae3e8445fa819b9/4.jpg\n",
      "http://www.mangaread.org/wp-content/uploads/WP-manga/data/manga_5e08fdccf028f/56478a1f8c4ecf6fcae3e8445fa819b9/5.jpg\n",
      "http://www.mangaread.org/wp-content/uploads/WP-manga/data/manga_5e08fdccf028f/56478a1f8c4ecf6fcae3e8445fa819b9/6.jpg\n",
      "http://www.mangaread.org/wp-content/uploads/WP-manga/data/manga_5e08fdccf028f/56478a1f8c4ecf6fcae3e8445fa819b9/7.jpg\n",
      "http://www.mangaread.org/wp-content/uploads/WP-manga/data/manga_5e08fdccf028f/56478a1f8c4ecf6fcae3e8445fa819b9/8.jpg\n",
      "http://www.mangaread.org/wp-content/uploads/WP-manga/data/manga_5e08fdccf028f/56478a1f8c4ecf6fcae3e8445fa819b9/9.jpg\n",
      "http://www.mangaread.org/wp-content/uploads/WP-manga/data/manga_5e08fdccf028f/56478a1f8c4ecf6fcae3e8445fa819b9/10.jpg\n"
     ]
    },
    {
     "name": "stderr",
     "output_type": "stream",
     "text": [
      " 53%|███████████████████████████████████████████                                       | 52/99 [49:12<42:58, 54.87s/it]"
     ]
    },
    {
     "name": "stdout",
     "output_type": "stream",
     "text": [
      "finish\n",
      "----------------------------------------------------------------------------------------------------\n",
      "starting crawl chapter 53\n",
      "http://www.mangaread.org/wp-content/uploads/WP-manga/data/manga_5e08fdccf028f/76504b73b9eeedd3fcfe6800f55cd3bd/3.jpg\n",
      "http://www.mangaread.org/wp-content/uploads/WP-manga/data/manga_5e08fdccf028f/76504b73b9eeedd3fcfe6800f55cd3bd/4.jpg\n",
      "http://www.mangaread.org/wp-content/uploads/WP-manga/data/manga_5e08fdccf028f/76504b73b9eeedd3fcfe6800f55cd3bd/5.jpg\n",
      "http://www.mangaread.org/wp-content/uploads/WP-manga/data/manga_5e08fdccf028f/76504b73b9eeedd3fcfe6800f55cd3bd/6.jpg\n",
      "http://www.mangaread.org/wp-content/uploads/WP-manga/data/manga_5e08fdccf028f/76504b73b9eeedd3fcfe6800f55cd3bd/7.jpg\n",
      "http://www.mangaread.org/wp-content/uploads/WP-manga/data/manga_5e08fdccf028f/76504b73b9eeedd3fcfe6800f55cd3bd/8.jpg\n"
     ]
    },
    {
     "name": "stderr",
     "output_type": "stream",
     "text": [
      " 54%|███████████████████████████████████████████▉                                      | 53/99 [49:45<36:59, 48.26s/it]"
     ]
    },
    {
     "name": "stdout",
     "output_type": "stream",
     "text": [
      "finish\n",
      "----------------------------------------------------------------------------------------------------\n",
      "starting crawl chapter 54\n",
      "http://www.mangaread.org/wp-content/uploads/WP-manga/data/manga_5e08fdccf028f/cb532d767f2463f590437006617ed095/3.jpg\n",
      "http://www.mangaread.org/wp-content/uploads/WP-manga/data/manga_5e08fdccf028f/cb532d767f2463f590437006617ed095/4.jpg\n",
      "http://www.mangaread.org/wp-content/uploads/WP-manga/data/manga_5e08fdccf028f/cb532d767f2463f590437006617ed095/5.jpg\n",
      "http://www.mangaread.org/wp-content/uploads/WP-manga/data/manga_5e08fdccf028f/cb532d767f2463f590437006617ed095/6.jpg\n",
      "http://www.mangaread.org/wp-content/uploads/WP-manga/data/manga_5e08fdccf028f/cb532d767f2463f590437006617ed095/7.jpg\n",
      "http://www.mangaread.org/wp-content/uploads/WP-manga/data/manga_5e08fdccf028f/cb532d767f2463f590437006617ed095/8.jpg\n"
     ]
    },
    {
     "name": "stderr",
     "output_type": "stream",
     "text": [
      " 55%|████████████████████████████████████████████▋                                     | 54/99 [50:13<31:42, 42.28s/it]"
     ]
    },
    {
     "name": "stdout",
     "output_type": "stream",
     "text": [
      "finish\n",
      "----------------------------------------------------------------------------------------------------\n",
      "starting crawl chapter 55\n",
      "http://www.mangaread.org/wp-content/uploads/WP-manga/data/manga_5e08fdccf028f/3d88b4229cf53d759863ebbfca9ab997/3.jpg\n",
      "http://www.mangaread.org/wp-content/uploads/WP-manga/data/manga_5e08fdccf028f/3d88b4229cf53d759863ebbfca9ab997/4.jpg\n",
      "http://www.mangaread.org/wp-content/uploads/WP-manga/data/manga_5e08fdccf028f/3d88b4229cf53d759863ebbfca9ab997/5.jpg\n",
      "http://www.mangaread.org/wp-content/uploads/WP-manga/data/manga_5e08fdccf028f/3d88b4229cf53d759863ebbfca9ab997/6.jpg\n",
      "http://www.mangaread.org/wp-content/uploads/WP-manga/data/manga_5e08fdccf028f/3d88b4229cf53d759863ebbfca9ab997/7.jpg\n",
      "http://www.mangaread.org/wp-content/uploads/WP-manga/data/manga_5e08fdccf028f/3d88b4229cf53d759863ebbfca9ab997/8.jpg\n"
     ]
    },
    {
     "name": "stderr",
     "output_type": "stream",
     "text": [
      " 56%|█████████████████████████████████████████████▌                                    | 55/99 [50:57<31:29, 42.93s/it]"
     ]
    },
    {
     "name": "stdout",
     "output_type": "stream",
     "text": [
      "finish\n",
      "----------------------------------------------------------------------------------------------------\n",
      "starting crawl chapter 56\n",
      "http://www.mangaread.org/wp-content/uploads/WP-manga/data/manga_5e08fdccf028f/55c5e07efaacd2280e4272f9a513c1b5/3.jpg\n",
      "http://www.mangaread.org/wp-content/uploads/WP-manga/data/manga_5e08fdccf028f/55c5e07efaacd2280e4272f9a513c1b5/4.jpg\n",
      "http://www.mangaread.org/wp-content/uploads/WP-manga/data/manga_5e08fdccf028f/55c5e07efaacd2280e4272f9a513c1b5/5.jpg\n",
      "http://www.mangaread.org/wp-content/uploads/WP-manga/data/manga_5e08fdccf028f/55c5e07efaacd2280e4272f9a513c1b5/6.jpg\n",
      "http://www.mangaread.org/wp-content/uploads/WP-manga/data/manga_5e08fdccf028f/55c5e07efaacd2280e4272f9a513c1b5/7.jpg\n",
      "http://www.mangaread.org/wp-content/uploads/WP-manga/data/manga_5e08fdccf028f/55c5e07efaacd2280e4272f9a513c1b5/8.jpg\n",
      "http://www.mangaread.org/wp-content/uploads/WP-manga/data/manga_5e08fdccf028f/55c5e07efaacd2280e4272f9a513c1b5/9.jpg\n"
     ]
    },
    {
     "name": "stderr",
     "output_type": "stream",
     "text": [
      " 57%|██████████████████████████████████████████████▍                                   | 56/99 [51:51<32:57, 45.98s/it]"
     ]
    },
    {
     "name": "stdout",
     "output_type": "stream",
     "text": [
      "finish\n",
      "----------------------------------------------------------------------------------------------------\n",
      "starting crawl chapter 57\n",
      "http://www.mangaread.org/wp-content/uploads/WP-manga/data/manga_5e08fdccf028f/84641185491724095d08ac818f627f64/3.jpg\n",
      "http://www.mangaread.org/wp-content/uploads/WP-manga/data/manga_5e08fdccf028f/84641185491724095d08ac818f627f64/4.jpg\n",
      "http://www.mangaread.org/wp-content/uploads/WP-manga/data/manga_5e08fdccf028f/84641185491724095d08ac818f627f64/5.jpg\n",
      "http://www.mangaread.org/wp-content/uploads/WP-manga/data/manga_5e08fdccf028f/84641185491724095d08ac818f627f64/6.jpg\n",
      "http://www.mangaread.org/wp-content/uploads/WP-manga/data/manga_5e08fdccf028f/84641185491724095d08ac818f627f64/7.jpg\n",
      "http://www.mangaread.org/wp-content/uploads/WP-manga/data/manga_5e08fdccf028f/84641185491724095d08ac818f627f64/8.jpg\n",
      "http://www.mangaread.org/wp-content/uploads/WP-manga/data/manga_5e08fdccf028f/84641185491724095d08ac818f627f64/9.jpg\n",
      "http://www.mangaread.org/wp-content/uploads/WP-manga/data/manga_5e08fdccf028f/84641185491724095d08ac818f627f64/10.jpg\n",
      "http://www.mangaread.org/wp-content/uploads/WP-manga/data/manga_5e08fdccf028f/84641185491724095d08ac818f627f64/11.jpg\n",
      "http://www.mangaread.org/wp-content/uploads/WP-manga/data/manga_5e08fdccf028f/84641185491724095d08ac818f627f64/12.jpg\n",
      "http://www.mangaread.org/wp-content/uploads/WP-manga/data/manga_5e08fdccf028f/84641185491724095d08ac818f627f64/13.jpg\n",
      "http://www.mangaread.org/wp-content/uploads/WP-manga/data/manga_5e08fdccf028f/84641185491724095d08ac818f627f64/14.jpg\n",
      "http://www.mangaread.org/wp-content/uploads/WP-manga/data/manga_5e08fdccf028f/84641185491724095d08ac818f627f64/15.jpg\n",
      "http://www.mangaread.org/wp-content/uploads/WP-manga/data/manga_5e08fdccf028f/84641185491724095d08ac818f627f64/16.jpg\n",
      "http://www.mangaread.org/wp-content/uploads/WP-manga/data/manga_5e08fdccf028f/84641185491724095d08ac818f627f64/17.jpg\n",
      "http://www.mangaread.org/wp-content/uploads/WP-manga/data/manga_5e08fdccf028f/84641185491724095d08ac818f627f64/18.jpg\n",
      "http://www.mangaread.org/wp-content/uploads/WP-manga/data/manga_5e08fdccf028f/84641185491724095d08ac818f627f64/19.jpg\n"
     ]
    },
    {
     "name": "stderr",
     "output_type": "stream",
     "text": [
      " 58%|███████████████████████████████████████████████▏                                  | 57/99 [52:45<33:59, 48.55s/it]"
     ]
    },
    {
     "name": "stdout",
     "output_type": "stream",
     "text": [
      "finish\n",
      "----------------------------------------------------------------------------------------------------\n",
      "starting crawl chapter 58\n",
      "http://www.mangaread.org/wp-content/uploads/WP-manga/data/manga_5e08fdccf028f/dfb096b4847f5f87dd0240a32fa92102/3.jpg\n",
      "http://www.mangaread.org/wp-content/uploads/WP-manga/data/manga_5e08fdccf028f/dfb096b4847f5f87dd0240a32fa92102/4.jpg\n",
      "http://www.mangaread.org/wp-content/uploads/WP-manga/data/manga_5e08fdccf028f/dfb096b4847f5f87dd0240a32fa92102/5.jpg\n",
      "http://www.mangaread.org/wp-content/uploads/WP-manga/data/manga_5e08fdccf028f/dfb096b4847f5f87dd0240a32fa92102/6.jpg\n",
      "http://www.mangaread.org/wp-content/uploads/WP-manga/data/manga_5e08fdccf028f/dfb096b4847f5f87dd0240a32fa92102/7.jpg\n",
      "http://www.mangaread.org/wp-content/uploads/WP-manga/data/manga_5e08fdccf028f/dfb096b4847f5f87dd0240a32fa92102/8.jpg\n",
      "http://www.mangaread.org/wp-content/uploads/WP-manga/data/manga_5e08fdccf028f/dfb096b4847f5f87dd0240a32fa92102/9.jpg\n",
      "http://www.mangaread.org/wp-content/uploads/WP-manga/data/manga_5e08fdccf028f/dfb096b4847f5f87dd0240a32fa92102/10.jpg\n",
      "http://www.mangaread.org/wp-content/uploads/WP-manga/data/manga_5e08fdccf028f/dfb096b4847f5f87dd0240a32fa92102/11.jpg\n",
      "http://www.mangaread.org/wp-content/uploads/WP-manga/data/manga_5e08fdccf028f/dfb096b4847f5f87dd0240a32fa92102/12.jpg\n"
     ]
    },
    {
     "name": "stderr",
     "output_type": "stream",
     "text": [
      " 59%|████████████████████████████████████████████████                                  | 58/99 [53:48<36:07, 52.85s/it]"
     ]
    },
    {
     "name": "stdout",
     "output_type": "stream",
     "text": [
      "finish\n",
      "----------------------------------------------------------------------------------------------------\n",
      "starting crawl chapter 59\n",
      "http://www.mangaread.org/wp-content/uploads/WP-manga/data/manga_5e08fdccf028f/5b7d4e5d71a592208084975c4834d90a/3.jpg\n",
      "http://www.mangaread.org/wp-content/uploads/WP-manga/data/manga_5e08fdccf028f/5b7d4e5d71a592208084975c4834d90a/4.jpg\n",
      "http://www.mangaread.org/wp-content/uploads/WP-manga/data/manga_5e08fdccf028f/5b7d4e5d71a592208084975c4834d90a/5.jpg\n",
      "http://www.mangaread.org/wp-content/uploads/WP-manga/data/manga_5e08fdccf028f/5b7d4e5d71a592208084975c4834d90a/6.jpg\n",
      "http://www.mangaread.org/wp-content/uploads/WP-manga/data/manga_5e08fdccf028f/5b7d4e5d71a592208084975c4834d90a/7.jpg\n",
      "http://www.mangaread.org/wp-content/uploads/WP-manga/data/manga_5e08fdccf028f/5b7d4e5d71a592208084975c4834d90a/8.jpg\n"
     ]
    },
    {
     "name": "stderr",
     "output_type": "stream",
     "text": [
      " 60%|████████████████████████████████████████████████▊                                 | 59/99 [54:20<31:07, 46.69s/it]"
     ]
    },
    {
     "name": "stdout",
     "output_type": "stream",
     "text": [
      "finish\n",
      "----------------------------------------------------------------------------------------------------\n",
      "starting crawl chapter 60\n",
      "http://www.mangaread.org/wp-content/uploads/WP-manga/data/manga_5e08fdccf028f/5273cc91fcf41a4f438e63d6a59c2b81/2.jpg\n",
      "http://www.mangaread.org/wp-content/uploads/WP-manga/data/manga_5e08fdccf028f/5273cc91fcf41a4f438e63d6a59c2b81/3.jpg\n",
      "http://www.mangaread.org/wp-content/uploads/WP-manga/data/manga_5e08fdccf028f/5273cc91fcf41a4f438e63d6a59c2b81/4.jpg\n",
      "http://www.mangaread.org/wp-content/uploads/WP-manga/data/manga_5e08fdccf028f/5273cc91fcf41a4f438e63d6a59c2b81/5.jpg\n",
      "http://www.mangaread.org/wp-content/uploads/WP-manga/data/manga_5e08fdccf028f/5273cc91fcf41a4f438e63d6a59c2b81/6.jpg\n",
      "http://www.mangaread.org/wp-content/uploads/WP-manga/data/manga_5e08fdccf028f/5273cc91fcf41a4f438e63d6a59c2b81/7.jpg\n",
      "http://www.mangaread.org/wp-content/uploads/WP-manga/data/manga_5e08fdccf028f/5273cc91fcf41a4f438e63d6a59c2b81/8.jpg\n",
      "http://www.mangaread.org/wp-content/uploads/WP-manga/data/manga_5e08fdccf028f/5273cc91fcf41a4f438e63d6a59c2b81/9.jpg\n",
      "http://www.mangaread.org/wp-content/uploads/WP-manga/data/manga_5e08fdccf028f/5273cc91fcf41a4f438e63d6a59c2b81/10.jpg\n",
      "http://www.mangaread.org/wp-content/uploads/WP-manga/data/manga_5e08fdccf028f/5273cc91fcf41a4f438e63d6a59c2b81/11.jpg\n",
      "http://www.mangaread.org/wp-content/uploads/WP-manga/data/manga_5e08fdccf028f/5273cc91fcf41a4f438e63d6a59c2b81/12.jpg\n",
      "http://www.mangaread.org/wp-content/uploads/WP-manga/data/manga_5e08fdccf028f/5273cc91fcf41a4f438e63d6a59c2b81/13.jpg\n",
      "http://www.mangaread.org/wp-content/uploads/WP-manga/data/manga_5e08fdccf028f/5273cc91fcf41a4f438e63d6a59c2b81/14.jpg\n",
      "http://www.mangaread.org/wp-content/uploads/WP-manga/data/manga_5e08fdccf028f/5273cc91fcf41a4f438e63d6a59c2b81/15.jpg\n",
      "http://www.mangaread.org/wp-content/uploads/WP-manga/data/manga_5e08fdccf028f/5273cc91fcf41a4f438e63d6a59c2b81/16.jpg\n",
      "http://www.mangaread.org/wp-content/uploads/WP-manga/data/manga_5e08fdccf028f/5273cc91fcf41a4f438e63d6a59c2b81/17.jpg\n",
      "http://www.mangaread.org/wp-content/uploads/WP-manga/data/manga_5e08fdccf028f/5273cc91fcf41a4f438e63d6a59c2b81/18.jpg\n",
      "http://www.mangaread.org/wp-content/uploads/WP-manga/data/manga_5e08fdccf028f/5273cc91fcf41a4f438e63d6a59c2b81/19.jpg\n",
      "http://www.mangaread.org/wp-content/uploads/WP-manga/data/manga_5e08fdccf028f/5273cc91fcf41a4f438e63d6a59c2b81/20.jpg\n",
      "http://www.mangaread.org/wp-content/uploads/WP-manga/data/manga_5e08fdccf028f/5273cc91fcf41a4f438e63d6a59c2b81/21.jpg\n",
      "http://www.mangaread.org/wp-content/uploads/WP-manga/data/manga_5e08fdccf028f/5273cc91fcf41a4f438e63d6a59c2b81/22.jpg\n",
      "http://www.mangaread.org/wp-content/uploads/WP-manga/data/manga_5e08fdccf028f/5273cc91fcf41a4f438e63d6a59c2b81/23.jpg\n",
      "http://www.mangaread.org/wp-content/uploads/WP-manga/data/manga_5e08fdccf028f/5273cc91fcf41a4f438e63d6a59c2b81/24.jpg\n",
      "http://www.mangaread.org/wp-content/uploads/WP-manga/data/manga_5e08fdccf028f/5273cc91fcf41a4f438e63d6a59c2b81/25.jpg\n",
      "http://www.mangaread.org/wp-content/uploads/WP-manga/data/manga_5e08fdccf028f/5273cc91fcf41a4f438e63d6a59c2b81/26.jpg\n",
      "http://www.mangaread.org/wp-content/uploads/WP-manga/data/manga_5e08fdccf028f/5273cc91fcf41a4f438e63d6a59c2b81/27.jpg\n",
      "http://www.mangaread.org/wp-content/uploads/WP-manga/data/manga_5e08fdccf028f/5273cc91fcf41a4f438e63d6a59c2b81/28.jpg\n",
      "http://www.mangaread.org/wp-content/uploads/WP-manga/data/manga_5e08fdccf028f/5273cc91fcf41a4f438e63d6a59c2b81/29.jpg\n",
      "http://www.mangaread.org/wp-content/uploads/WP-manga/data/manga_5e08fdccf028f/5273cc91fcf41a4f438e63d6a59c2b81/30.jpg\n",
      "http://www.mangaread.org/wp-content/uploads/WP-manga/data/manga_5e08fdccf028f/5273cc91fcf41a4f438e63d6a59c2b81/31.jpg\n",
      "http://www.mangaread.org/wp-content/uploads/WP-manga/data/manga_5e08fdccf028f/5273cc91fcf41a4f438e63d6a59c2b81/32.jpg\n",
      "http://www.mangaread.org/wp-content/uploads/WP-manga/data/manga_5e08fdccf028f/5273cc91fcf41a4f438e63d6a59c2b81/33.jpg\n",
      "http://www.mangaread.org/wp-content/uploads/WP-manga/data/manga_5e08fdccf028f/5273cc91fcf41a4f438e63d6a59c2b81/34.jpg\n",
      "http://www.mangaread.org/wp-content/uploads/WP-manga/data/manga_5e08fdccf028f/5273cc91fcf41a4f438e63d6a59c2b81/35.jpg\n",
      "http://www.mangaread.org/wp-content/uploads/WP-manga/data/manga_5e08fdccf028f/5273cc91fcf41a4f438e63d6a59c2b81/36.jpg\n",
      "http://www.mangaread.org/wp-content/uploads/WP-manga/data/manga_5e08fdccf028f/5273cc91fcf41a4f438e63d6a59c2b81/37.jpg\n",
      "http://www.mangaread.org/wp-content/uploads/WP-manga/data/manga_5e08fdccf028f/5273cc91fcf41a4f438e63d6a59c2b81/38.jpg\n",
      "http://www.mangaread.org/wp-content/uploads/WP-manga/data/manga_5e08fdccf028f/5273cc91fcf41a4f438e63d6a59c2b81/39.jpg\n",
      "http://www.mangaread.org/wp-content/uploads/WP-manga/data/manga_5e08fdccf028f/5273cc91fcf41a4f438e63d6a59c2b81/40.jpg\n",
      "http://www.mangaread.org/wp-content/uploads/WP-manga/data/manga_5e08fdccf028f/5273cc91fcf41a4f438e63d6a59c2b81/41.jpg\n",
      "http://www.mangaread.org/wp-content/uploads/WP-manga/data/manga_5e08fdccf028f/5273cc91fcf41a4f438e63d6a59c2b81/42.jpg\n",
      "http://www.mangaread.org/wp-content/uploads/WP-manga/data/manga_5e08fdccf028f/5273cc91fcf41a4f438e63d6a59c2b81/43.jpg\n"
     ]
    },
    {
     "name": "stderr",
     "output_type": "stream",
     "text": [
      " 61%|█████████████████████████████████████████████████▋                                | 60/99 [56:31<46:47, 71.99s/it]"
     ]
    },
    {
     "name": "stdout",
     "output_type": "stream",
     "text": [
      "finish\n",
      "----------------------------------------------------------------------------------------------------\n",
      "starting crawl chapter 61\n",
      "http://www.mangaread.org/wp-content/uploads/WP-manga/data/manga_5e08fdccf028f/9060686b64c4bf6f396f0009411d60d4/2.jpg\n",
      "http://www.mangaread.org/wp-content/uploads/WP-manga/data/manga_5e08fdccf028f/9060686b64c4bf6f396f0009411d60d4/3.jpg\n",
      "http://www.mangaread.org/wp-content/uploads/WP-manga/data/manga_5e08fdccf028f/9060686b64c4bf6f396f0009411d60d4/4.jpg\n",
      "http://www.mangaread.org/wp-content/uploads/WP-manga/data/manga_5e08fdccf028f/9060686b64c4bf6f396f0009411d60d4/5.jpg\n",
      "http://www.mangaread.org/wp-content/uploads/WP-manga/data/manga_5e08fdccf028f/9060686b64c4bf6f396f0009411d60d4/6.jpg\n",
      "http://www.mangaread.org/wp-content/uploads/WP-manga/data/manga_5e08fdccf028f/9060686b64c4bf6f396f0009411d60d4/7.jpg\n",
      "http://www.mangaread.org/wp-content/uploads/WP-manga/data/manga_5e08fdccf028f/9060686b64c4bf6f396f0009411d60d4/8.jpg\n",
      "http://www.mangaread.org/wp-content/uploads/WP-manga/data/manga_5e08fdccf028f/9060686b64c4bf6f396f0009411d60d4/9.jpg\n",
      "http://www.mangaread.org/wp-content/uploads/WP-manga/data/manga_5e08fdccf028f/9060686b64c4bf6f396f0009411d60d4/10.jpg\n",
      "http://www.mangaread.org/wp-content/uploads/WP-manga/data/manga_5e08fdccf028f/9060686b64c4bf6f396f0009411d60d4/11.jpg\n",
      "http://www.mangaread.org/wp-content/uploads/WP-manga/data/manga_5e08fdccf028f/9060686b64c4bf6f396f0009411d60d4/12.jpg\n",
      "http://www.mangaread.org/wp-content/uploads/WP-manga/data/manga_5e08fdccf028f/9060686b64c4bf6f396f0009411d60d4/13.jpg\n",
      "http://www.mangaread.org/wp-content/uploads/WP-manga/data/manga_5e08fdccf028f/9060686b64c4bf6f396f0009411d60d4/14.jpg\n",
      "http://www.mangaread.org/wp-content/uploads/WP-manga/data/manga_5e08fdccf028f/9060686b64c4bf6f396f0009411d60d4/15.jpg\n",
      "http://www.mangaread.org/wp-content/uploads/WP-manga/data/manga_5e08fdccf028f/9060686b64c4bf6f396f0009411d60d4/16.jpg\n",
      "http://www.mangaread.org/wp-content/uploads/WP-manga/data/manga_5e08fdccf028f/9060686b64c4bf6f396f0009411d60d4/17.jpg\n",
      "http://www.mangaread.org/wp-content/uploads/WP-manga/data/manga_5e08fdccf028f/9060686b64c4bf6f396f0009411d60d4/18.jpg\n",
      "http://www.mangaread.org/wp-content/uploads/WP-manga/data/manga_5e08fdccf028f/9060686b64c4bf6f396f0009411d60d4/19.jpg\n",
      "http://www.mangaread.org/wp-content/uploads/WP-manga/data/manga_5e08fdccf028f/9060686b64c4bf6f396f0009411d60d4/20.jpg\n",
      "http://www.mangaread.org/wp-content/uploads/WP-manga/data/manga_5e08fdccf028f/9060686b64c4bf6f396f0009411d60d4/21.jpg\n",
      "http://www.mangaread.org/wp-content/uploads/WP-manga/data/manga_5e08fdccf028f/9060686b64c4bf6f396f0009411d60d4/22.jpg\n",
      "http://www.mangaread.org/wp-content/uploads/WP-manga/data/manga_5e08fdccf028f/9060686b64c4bf6f396f0009411d60d4/23.jpg\n",
      "http://www.mangaread.org/wp-content/uploads/WP-manga/data/manga_5e08fdccf028f/9060686b64c4bf6f396f0009411d60d4/24.jpg\n"
     ]
    },
    {
     "name": "stderr",
     "output_type": "stream",
     "text": [
      " 62%|██████████████████████████████████████████████████▌                               | 61/99 [57:30<43:02, 67.97s/it]"
     ]
    },
    {
     "name": "stdout",
     "output_type": "stream",
     "text": [
      "finish\n",
      "----------------------------------------------------------------------------------------------------\n",
      "starting crawl chapter 62\n",
      "http://www.mangaread.org/wp-content/uploads/WP-manga/data/manga_5e08fdccf028f/f2c55c69d261c9c7522c9a0b119e5cf6/2.jpg\n",
      "http://www.mangaread.org/wp-content/uploads/WP-manga/data/manga_5e08fdccf028f/f2c55c69d261c9c7522c9a0b119e5cf6/4.jpg\n",
      "http://www.mangaread.org/wp-content/uploads/WP-manga/data/manga_5e08fdccf028f/f2c55c69d261c9c7522c9a0b119e5cf6/5.jpg\n",
      "http://www.mangaread.org/wp-content/uploads/WP-manga/data/manga_5e08fdccf028f/f2c55c69d261c9c7522c9a0b119e5cf6/6.jpg\n",
      "http://www.mangaread.org/wp-content/uploads/WP-manga/data/manga_5e08fdccf028f/f2c55c69d261c9c7522c9a0b119e5cf6/7.jpg\n",
      "http://www.mangaread.org/wp-content/uploads/WP-manga/data/manga_5e08fdccf028f/f2c55c69d261c9c7522c9a0b119e5cf6/8.jpg\n",
      "http://www.mangaread.org/wp-content/uploads/WP-manga/data/manga_5e08fdccf028f/f2c55c69d261c9c7522c9a0b119e5cf6/9.jpg\n",
      "http://www.mangaread.org/wp-content/uploads/WP-manga/data/manga_5e08fdccf028f/f2c55c69d261c9c7522c9a0b119e5cf6/10.jpg\n",
      "http://www.mangaread.org/wp-content/uploads/WP-manga/data/manga_5e08fdccf028f/f2c55c69d261c9c7522c9a0b119e5cf6/11.jpg\n",
      "http://www.mangaread.org/wp-content/uploads/WP-manga/data/manga_5e08fdccf028f/f2c55c69d261c9c7522c9a0b119e5cf6/12.jpg\n",
      "http://www.mangaread.org/wp-content/uploads/WP-manga/data/manga_5e08fdccf028f/f2c55c69d261c9c7522c9a0b119e5cf6/13.jpg\n",
      "http://www.mangaread.org/wp-content/uploads/WP-manga/data/manga_5e08fdccf028f/f2c55c69d261c9c7522c9a0b119e5cf6/14.jpg\n",
      "http://www.mangaread.org/wp-content/uploads/WP-manga/data/manga_5e08fdccf028f/f2c55c69d261c9c7522c9a0b119e5cf6/15.jpg\n",
      "http://www.mangaread.org/wp-content/uploads/WP-manga/data/manga_5e08fdccf028f/f2c55c69d261c9c7522c9a0b119e5cf6/16.jpg\n",
      "http://www.mangaread.org/wp-content/uploads/WP-manga/data/manga_5e08fdccf028f/f2c55c69d261c9c7522c9a0b119e5cf6/17.jpg\n",
      "http://www.mangaread.org/wp-content/uploads/WP-manga/data/manga_5e08fdccf028f/f2c55c69d261c9c7522c9a0b119e5cf6/18.jpg\n"
     ]
    },
    {
     "name": "stderr",
     "output_type": "stream",
     "text": [
      " 63%|███████████████████████████████████████████████████▎                              | 62/99 [58:29<40:15, 65.30s/it]"
     ]
    },
    {
     "name": "stdout",
     "output_type": "stream",
     "text": [
      "finish\n",
      "----------------------------------------------------------------------------------------------------\n",
      "starting crawl chapter 63\n",
      "http://www.mangaread.org/wp-content/uploads/WP-manga/data/manga_5e08fdccf028f/5da813f7ee029befe618d55b977b8024/2.jpg\n",
      "http://www.mangaread.org/wp-content/uploads/WP-manga/data/manga_5e08fdccf028f/5da813f7ee029befe618d55b977b8024/4.jpg\n",
      "http://www.mangaread.org/wp-content/uploads/WP-manga/data/manga_5e08fdccf028f/5da813f7ee029befe618d55b977b8024/5.jpg\n",
      "http://www.mangaread.org/wp-content/uploads/WP-manga/data/manga_5e08fdccf028f/5da813f7ee029befe618d55b977b8024/6.jpg\n",
      "http://www.mangaread.org/wp-content/uploads/WP-manga/data/manga_5e08fdccf028f/5da813f7ee029befe618d55b977b8024/7.jpg\n",
      "http://www.mangaread.org/wp-content/uploads/WP-manga/data/manga_5e08fdccf028f/5da813f7ee029befe618d55b977b8024/8.jpg\n",
      "http://www.mangaread.org/wp-content/uploads/WP-manga/data/manga_5e08fdccf028f/5da813f7ee029befe618d55b977b8024/9.jpg\n",
      "http://www.mangaread.org/wp-content/uploads/WP-manga/data/manga_5e08fdccf028f/5da813f7ee029befe618d55b977b8024/10.jpg\n",
      "http://www.mangaread.org/wp-content/uploads/WP-manga/data/manga_5e08fdccf028f/5da813f7ee029befe618d55b977b8024/11.jpg\n",
      "http://www.mangaread.org/wp-content/uploads/WP-manga/data/manga_5e08fdccf028f/5da813f7ee029befe618d55b977b8024/12.jpg\n",
      "http://www.mangaread.org/wp-content/uploads/WP-manga/data/manga_5e08fdccf028f/5da813f7ee029befe618d55b977b8024/13.jpg\n",
      "http://www.mangaread.org/wp-content/uploads/WP-manga/data/manga_5e08fdccf028f/5da813f7ee029befe618d55b977b8024/14.jpg\n",
      "http://www.mangaread.org/wp-content/uploads/WP-manga/data/manga_5e08fdccf028f/5da813f7ee029befe618d55b977b8024/15.jpg\n",
      "http://www.mangaread.org/wp-content/uploads/WP-manga/data/manga_5e08fdccf028f/5da813f7ee029befe618d55b977b8024/16.jpg\n",
      "http://www.mangaread.org/wp-content/uploads/WP-manga/data/manga_5e08fdccf028f/5da813f7ee029befe618d55b977b8024/17.jpg\n",
      "http://www.mangaread.org/wp-content/uploads/WP-manga/data/manga_5e08fdccf028f/5da813f7ee029befe618d55b977b8024/18.jpg\n",
      "http://www.mangaread.org/wp-content/uploads/WP-manga/data/manga_5e08fdccf028f/5da813f7ee029befe618d55b977b8024/19.jpg\n",
      "http://www.mangaread.org/wp-content/uploads/WP-manga/data/manga_5e08fdccf028f/5da813f7ee029befe618d55b977b8024/20.jpg\n",
      "http://www.mangaread.org/wp-content/uploads/WP-manga/data/manga_5e08fdccf028f/5da813f7ee029befe618d55b977b8024/21.jpg\n",
      "http://www.mangaread.org/wp-content/uploads/WP-manga/data/manga_5e08fdccf028f/5da813f7ee029befe618d55b977b8024/22.jpg\n",
      "http://www.mangaread.org/wp-content/uploads/WP-manga/data/manga_5e08fdccf028f/5da813f7ee029befe618d55b977b8024/23.jpg\n",
      "http://www.mangaread.org/wp-content/uploads/WP-manga/data/manga_5e08fdccf028f/5da813f7ee029befe618d55b977b8024/24.jpg\n",
      "http://www.mangaread.org/wp-content/uploads/WP-manga/data/manga_5e08fdccf028f/5da813f7ee029befe618d55b977b8024/25.jpg\n",
      "http://www.mangaread.org/wp-content/uploads/WP-manga/data/manga_5e08fdccf028f/5da813f7ee029befe618d55b977b8024/26.jpg\n"
     ]
    },
    {
     "name": "stderr",
     "output_type": "stream",
     "text": [
      " 64%|████████████████████████████████████████████████████▏                             | 63/99 [59:32<38:40, 64.46s/it]"
     ]
    },
    {
     "name": "stdout",
     "output_type": "stream",
     "text": [
      "finish\n",
      "----------------------------------------------------------------------------------------------------\n",
      "starting crawl chapter 64\n",
      "http://www.mangaread.org/wp-content/uploads/WP-manga/data/manga_5e08fdccf028f/583071726130ab1eacbc9be91d93db81/2.jpg\n",
      "http://www.mangaread.org/wp-content/uploads/WP-manga/data/manga_5e08fdccf028f/583071726130ab1eacbc9be91d93db81/4.jpg\n",
      "http://www.mangaread.org/wp-content/uploads/WP-manga/data/manga_5e08fdccf028f/583071726130ab1eacbc9be91d93db81/5.jpg\n",
      "http://www.mangaread.org/wp-content/uploads/WP-manga/data/manga_5e08fdccf028f/583071726130ab1eacbc9be91d93db81/6.jpg\n",
      "http://www.mangaread.org/wp-content/uploads/WP-manga/data/manga_5e08fdccf028f/583071726130ab1eacbc9be91d93db81/7.jpg\n",
      "http://www.mangaread.org/wp-content/uploads/WP-manga/data/manga_5e08fdccf028f/583071726130ab1eacbc9be91d93db81/8.jpg\n",
      "http://www.mangaread.org/wp-content/uploads/WP-manga/data/manga_5e08fdccf028f/583071726130ab1eacbc9be91d93db81/9.jpg\n",
      "http://www.mangaread.org/wp-content/uploads/WP-manga/data/manga_5e08fdccf028f/583071726130ab1eacbc9be91d93db81/10.jpg\n",
      "http://www.mangaread.org/wp-content/uploads/WP-manga/data/manga_5e08fdccf028f/583071726130ab1eacbc9be91d93db81/11.jpg\n",
      "http://www.mangaread.org/wp-content/uploads/WP-manga/data/manga_5e08fdccf028f/583071726130ab1eacbc9be91d93db81/12.jpg\n",
      "http://www.mangaread.org/wp-content/uploads/WP-manga/data/manga_5e08fdccf028f/583071726130ab1eacbc9be91d93db81/13.jpg\n",
      "http://www.mangaread.org/wp-content/uploads/WP-manga/data/manga_5e08fdccf028f/583071726130ab1eacbc9be91d93db81/14.jpg\n",
      "http://www.mangaread.org/wp-content/uploads/WP-manga/data/manga_5e08fdccf028f/583071726130ab1eacbc9be91d93db81/15.jpg\n",
      "http://www.mangaread.org/wp-content/uploads/WP-manga/data/manga_5e08fdccf028f/583071726130ab1eacbc9be91d93db81/16.jpg\n",
      "http://www.mangaread.org/wp-content/uploads/WP-manga/data/manga_5e08fdccf028f/583071726130ab1eacbc9be91d93db81/17.jpg\n",
      "http://www.mangaread.org/wp-content/uploads/WP-manga/data/manga_5e08fdccf028f/583071726130ab1eacbc9be91d93db81/18.jpg\n",
      "http://www.mangaread.org/wp-content/uploads/WP-manga/data/manga_5e08fdccf028f/583071726130ab1eacbc9be91d93db81/19.jpg\n",
      "http://www.mangaread.org/wp-content/uploads/WP-manga/data/manga_5e08fdccf028f/583071726130ab1eacbc9be91d93db81/20.jpg\n",
      "http://www.mangaread.org/wp-content/uploads/WP-manga/data/manga_5e08fdccf028f/583071726130ab1eacbc9be91d93db81/21.jpg\n",
      "http://www.mangaread.org/wp-content/uploads/WP-manga/data/manga_5e08fdccf028f/583071726130ab1eacbc9be91d93db81/22.jpg\n",
      "http://www.mangaread.org/wp-content/uploads/WP-manga/data/manga_5e08fdccf028f/583071726130ab1eacbc9be91d93db81/23.jpg\n",
      "http://www.mangaread.org/wp-content/uploads/WP-manga/data/manga_5e08fdccf028f/583071726130ab1eacbc9be91d93db81/24.jpg\n",
      "http://www.mangaread.org/wp-content/uploads/WP-manga/data/manga_5e08fdccf028f/583071726130ab1eacbc9be91d93db81/25.jpg\n",
      "http://www.mangaread.org/wp-content/uploads/WP-manga/data/manga_5e08fdccf028f/583071726130ab1eacbc9be91d93db81/26.jpg\n",
      "http://www.mangaread.org/wp-content/uploads/WP-manga/data/manga_5e08fdccf028f/583071726130ab1eacbc9be91d93db81/27.jpg\n",
      "http://www.mangaread.org/wp-content/uploads/WP-manga/data/manga_5e08fdccf028f/583071726130ab1eacbc9be91d93db81/28.jpg\n"
     ]
    },
    {
     "name": "stderr",
     "output_type": "stream",
     "text": [
      " 65%|███████████████████████████████████████████████████▋                            | 64/99 [1:00:43<38:48, 66.54s/it]"
     ]
    },
    {
     "name": "stdout",
     "output_type": "stream",
     "text": [
      "finish\n",
      "----------------------------------------------------------------------------------------------------\n",
      "starting crawl chapter 65\n",
      "http://www.mangaread.org/wp-content/uploads/WP-manga/data/manga_5e08fdccf028f/423197fbdbc174323653ee6741d60dbe/2.jpg\n",
      "http://www.mangaread.org/wp-content/uploads/WP-manga/data/manga_5e08fdccf028f/423197fbdbc174323653ee6741d60dbe/4.jpg\n",
      "http://www.mangaread.org/wp-content/uploads/WP-manga/data/manga_5e08fdccf028f/423197fbdbc174323653ee6741d60dbe/5.jpg\n",
      "http://www.mangaread.org/wp-content/uploads/WP-manga/data/manga_5e08fdccf028f/423197fbdbc174323653ee6741d60dbe/6.jpg\n",
      "http://www.mangaread.org/wp-content/uploads/WP-manga/data/manga_5e08fdccf028f/423197fbdbc174323653ee6741d60dbe/7.jpg\n",
      "http://www.mangaread.org/wp-content/uploads/WP-manga/data/manga_5e08fdccf028f/423197fbdbc174323653ee6741d60dbe/8.jpg\n",
      "http://www.mangaread.org/wp-content/uploads/WP-manga/data/manga_5e08fdccf028f/423197fbdbc174323653ee6741d60dbe/9.jpg\n",
      "http://www.mangaread.org/wp-content/uploads/WP-manga/data/manga_5e08fdccf028f/423197fbdbc174323653ee6741d60dbe/10.jpg\n",
      "http://www.mangaread.org/wp-content/uploads/WP-manga/data/manga_5e08fdccf028f/423197fbdbc174323653ee6741d60dbe/11.jpg\n",
      "http://www.mangaread.org/wp-content/uploads/WP-manga/data/manga_5e08fdccf028f/423197fbdbc174323653ee6741d60dbe/12.jpg\n",
      "http://www.mangaread.org/wp-content/uploads/WP-manga/data/manga_5e08fdccf028f/423197fbdbc174323653ee6741d60dbe/13.jpg\n",
      "http://www.mangaread.org/wp-content/uploads/WP-manga/data/manga_5e08fdccf028f/423197fbdbc174323653ee6741d60dbe/14.jpg\n",
      "http://www.mangaread.org/wp-content/uploads/WP-manga/data/manga_5e08fdccf028f/423197fbdbc174323653ee6741d60dbe/15.jpg\n",
      "http://www.mangaread.org/wp-content/uploads/WP-manga/data/manga_5e08fdccf028f/423197fbdbc174323653ee6741d60dbe/16.jpg\n",
      "http://www.mangaread.org/wp-content/uploads/WP-manga/data/manga_5e08fdccf028f/423197fbdbc174323653ee6741d60dbe/17.jpg\n",
      "http://www.mangaread.org/wp-content/uploads/WP-manga/data/manga_5e08fdccf028f/423197fbdbc174323653ee6741d60dbe/18.jpg\n",
      "http://www.mangaread.org/wp-content/uploads/WP-manga/data/manga_5e08fdccf028f/423197fbdbc174323653ee6741d60dbe/19.jpg\n",
      "http://www.mangaread.org/wp-content/uploads/WP-manga/data/manga_5e08fdccf028f/423197fbdbc174323653ee6741d60dbe/20.jpg\n",
      "http://www.mangaread.org/wp-content/uploads/WP-manga/data/manga_5e08fdccf028f/423197fbdbc174323653ee6741d60dbe/21.jpg\n",
      "http://www.mangaread.org/wp-content/uploads/WP-manga/data/manga_5e08fdccf028f/423197fbdbc174323653ee6741d60dbe/22.jpg\n"
     ]
    },
    {
     "name": "stderr",
     "output_type": "stream",
     "text": [
      " 66%|████████████████████████████████████████████████████▌                           | 65/99 [1:01:47<37:15, 65.74s/it]"
     ]
    },
    {
     "name": "stdout",
     "output_type": "stream",
     "text": [
      "finish\n",
      "----------------------------------------------------------------------------------------------------\n",
      "starting crawl chapter 66\n",
      "http://www.mangaread.org/wp-content/uploads/WP-manga/data/manga_5e08fdccf028f/06d2d7a3d3897218504bc25574c44258/2.jpg\n",
      "http://www.mangaread.org/wp-content/uploads/WP-manga/data/manga_5e08fdccf028f/06d2d7a3d3897218504bc25574c44258/3.jpg\n",
      "http://www.mangaread.org/wp-content/uploads/WP-manga/data/manga_5e08fdccf028f/06d2d7a3d3897218504bc25574c44258/5.jpg\n",
      "http://www.mangaread.org/wp-content/uploads/WP-manga/data/manga_5e08fdccf028f/06d2d7a3d3897218504bc25574c44258/6.jpg\n",
      "http://www.mangaread.org/wp-content/uploads/WP-manga/data/manga_5e08fdccf028f/06d2d7a3d3897218504bc25574c44258/7.jpg\n",
      "http://www.mangaread.org/wp-content/uploads/WP-manga/data/manga_5e08fdccf028f/06d2d7a3d3897218504bc25574c44258/8.jpg\n",
      "http://www.mangaread.org/wp-content/uploads/WP-manga/data/manga_5e08fdccf028f/06d2d7a3d3897218504bc25574c44258/9.jpg\n",
      "http://www.mangaread.org/wp-content/uploads/WP-manga/data/manga_5e08fdccf028f/06d2d7a3d3897218504bc25574c44258/10.jpg\n",
      "http://www.mangaread.org/wp-content/uploads/WP-manga/data/manga_5e08fdccf028f/06d2d7a3d3897218504bc25574c44258/11.jpg\n",
      "http://www.mangaread.org/wp-content/uploads/WP-manga/data/manga_5e08fdccf028f/06d2d7a3d3897218504bc25574c44258/12.jpg\n",
      "http://www.mangaread.org/wp-content/uploads/WP-manga/data/manga_5e08fdccf028f/06d2d7a3d3897218504bc25574c44258/13.jpg\n",
      "http://www.mangaread.org/wp-content/uploads/WP-manga/data/manga_5e08fdccf028f/06d2d7a3d3897218504bc25574c44258/14.jpg\n",
      "http://www.mangaread.org/wp-content/uploads/WP-manga/data/manga_5e08fdccf028f/06d2d7a3d3897218504bc25574c44258/15.jpg\n",
      "http://www.mangaread.org/wp-content/uploads/WP-manga/data/manga_5e08fdccf028f/06d2d7a3d3897218504bc25574c44258/16.jpg\n",
      "http://www.mangaread.org/wp-content/uploads/WP-manga/data/manga_5e08fdccf028f/06d2d7a3d3897218504bc25574c44258/17.jpg\n",
      "http://www.mangaread.org/wp-content/uploads/WP-manga/data/manga_5e08fdccf028f/06d2d7a3d3897218504bc25574c44258/18.jpg\n",
      "http://www.mangaread.org/wp-content/uploads/WP-manga/data/manga_5e08fdccf028f/06d2d7a3d3897218504bc25574c44258/19.jpg\n",
      "http://www.mangaread.org/wp-content/uploads/WP-manga/data/manga_5e08fdccf028f/06d2d7a3d3897218504bc25574c44258/20.jpg\n",
      "http://www.mangaread.org/wp-content/uploads/WP-manga/data/manga_5e08fdccf028f/06d2d7a3d3897218504bc25574c44258/21.jpg\n",
      "http://www.mangaread.org/wp-content/uploads/WP-manga/data/manga_5e08fdccf028f/06d2d7a3d3897218504bc25574c44258/22.jpg\n",
      "http://www.mangaread.org/wp-content/uploads/WP-manga/data/manga_5e08fdccf028f/06d2d7a3d3897218504bc25574c44258/23.jpg\n",
      "http://www.mangaread.org/wp-content/uploads/WP-manga/data/manga_5e08fdccf028f/06d2d7a3d3897218504bc25574c44258/24.jpg\n",
      "http://www.mangaread.org/wp-content/uploads/WP-manga/data/manga_5e08fdccf028f/06d2d7a3d3897218504bc25574c44258/25.jpg\n",
      "http://www.mangaread.org/wp-content/uploads/WP-manga/data/manga_5e08fdccf028f/06d2d7a3d3897218504bc25574c44258/26.jpg\n",
      "http://www.mangaread.org/wp-content/uploads/WP-manga/data/manga_5e08fdccf028f/06d2d7a3d3897218504bc25574c44258/27.jpg\n",
      "http://www.mangaread.org/wp-content/uploads/WP-manga/data/manga_5e08fdccf028f/06d2d7a3d3897218504bc25574c44258/28.jpg\n",
      "http://www.mangaread.org/wp-content/uploads/WP-manga/data/manga_5e08fdccf028f/06d2d7a3d3897218504bc25574c44258/29.jpg\n",
      "http://www.mangaread.org/wp-content/uploads/WP-manga/data/manga_5e08fdccf028f/06d2d7a3d3897218504bc25574c44258/30.jpg\n",
      "http://www.mangaread.org/wp-content/uploads/WP-manga/data/manga_5e08fdccf028f/06d2d7a3d3897218504bc25574c44258/31.jpg\n",
      "http://www.mangaread.org/wp-content/uploads/WP-manga/data/manga_5e08fdccf028f/06d2d7a3d3897218504bc25574c44258/32.jpg\n",
      "http://www.mangaread.org/wp-content/uploads/WP-manga/data/manga_5e08fdccf028f/06d2d7a3d3897218504bc25574c44258/33.jpg\n",
      "http://www.mangaread.org/wp-content/uploads/WP-manga/data/manga_5e08fdccf028f/06d2d7a3d3897218504bc25574c44258/34.jpg\n",
      "http://www.mangaread.org/wp-content/uploads/WP-manga/data/manga_5e08fdccf028f/06d2d7a3d3897218504bc25574c44258/35.jpg\n",
      "http://www.mangaread.org/wp-content/uploads/WP-manga/data/manga_5e08fdccf028f/06d2d7a3d3897218504bc25574c44258/36.jpg\n",
      "http://www.mangaread.org/wp-content/uploads/WP-manga/data/manga_5e08fdccf028f/06d2d7a3d3897218504bc25574c44258/37.jpg\n"
     ]
    },
    {
     "name": "stderr",
     "output_type": "stream",
     "text": [
      " 67%|█████████████████████████████████████████████████████▎                          | 66/99 [1:03:12<39:18, 71.48s/it]"
     ]
    },
    {
     "name": "stdout",
     "output_type": "stream",
     "text": [
      "finish\n",
      "----------------------------------------------------------------------------------------------------\n",
      "starting crawl chapter 67\n",
      "http://www.mangaread.org/wp-content/uploads/WP-manga/data/manga_5e08fdccf028f/566e83b6cf3f39930f38b642619a96cd/2.jpg\n",
      "http://www.mangaread.org/wp-content/uploads/WP-manga/data/manga_5e08fdccf028f/566e83b6cf3f39930f38b642619a96cd/3.jpg\n",
      "http://www.mangaread.org/wp-content/uploads/WP-manga/data/manga_5e08fdccf028f/566e83b6cf3f39930f38b642619a96cd/5.jpg\n",
      "http://www.mangaread.org/wp-content/uploads/WP-manga/data/manga_5e08fdccf028f/566e83b6cf3f39930f38b642619a96cd/6.jpg\n",
      "http://www.mangaread.org/wp-content/uploads/WP-manga/data/manga_5e08fdccf028f/566e83b6cf3f39930f38b642619a96cd/7.jpg\n",
      "http://www.mangaread.org/wp-content/uploads/WP-manga/data/manga_5e08fdccf028f/566e83b6cf3f39930f38b642619a96cd/8.jpg\n",
      "http://www.mangaread.org/wp-content/uploads/WP-manga/data/manga_5e08fdccf028f/566e83b6cf3f39930f38b642619a96cd/9.jpg\n",
      "http://www.mangaread.org/wp-content/uploads/WP-manga/data/manga_5e08fdccf028f/566e83b6cf3f39930f38b642619a96cd/10.jpg\n",
      "http://www.mangaread.org/wp-content/uploads/WP-manga/data/manga_5e08fdccf028f/566e83b6cf3f39930f38b642619a96cd/11.jpg\n",
      "http://www.mangaread.org/wp-content/uploads/WP-manga/data/manga_5e08fdccf028f/566e83b6cf3f39930f38b642619a96cd/12.jpg\n",
      "http://www.mangaread.org/wp-content/uploads/WP-manga/data/manga_5e08fdccf028f/566e83b6cf3f39930f38b642619a96cd/13.jpg\n",
      "http://www.mangaread.org/wp-content/uploads/WP-manga/data/manga_5e08fdccf028f/566e83b6cf3f39930f38b642619a96cd/14.jpg\n",
      "http://www.mangaread.org/wp-content/uploads/WP-manga/data/manga_5e08fdccf028f/566e83b6cf3f39930f38b642619a96cd/15.jpg\n",
      "http://www.mangaread.org/wp-content/uploads/WP-manga/data/manga_5e08fdccf028f/566e83b6cf3f39930f38b642619a96cd/16.jpg\n",
      "http://www.mangaread.org/wp-content/uploads/WP-manga/data/manga_5e08fdccf028f/566e83b6cf3f39930f38b642619a96cd/17.jpg\n",
      "http://www.mangaread.org/wp-content/uploads/WP-manga/data/manga_5e08fdccf028f/566e83b6cf3f39930f38b642619a96cd/18.jpg\n",
      "http://www.mangaread.org/wp-content/uploads/WP-manga/data/manga_5e08fdccf028f/566e83b6cf3f39930f38b642619a96cd/19.jpg\n",
      "http://www.mangaread.org/wp-content/uploads/WP-manga/data/manga_5e08fdccf028f/566e83b6cf3f39930f38b642619a96cd/20.jpg\n",
      "http://www.mangaread.org/wp-content/uploads/WP-manga/data/manga_5e08fdccf028f/566e83b6cf3f39930f38b642619a96cd/21.jpg\n",
      "http://www.mangaread.org/wp-content/uploads/WP-manga/data/manga_5e08fdccf028f/566e83b6cf3f39930f38b642619a96cd/22.jpg\n",
      "http://www.mangaread.org/wp-content/uploads/WP-manga/data/manga_5e08fdccf028f/566e83b6cf3f39930f38b642619a96cd/23.jpg\n",
      "http://www.mangaread.org/wp-content/uploads/WP-manga/data/manga_5e08fdccf028f/566e83b6cf3f39930f38b642619a96cd/24.jpg\n",
      "http://www.mangaread.org/wp-content/uploads/WP-manga/data/manga_5e08fdccf028f/566e83b6cf3f39930f38b642619a96cd/25.jpg\n",
      "http://www.mangaread.org/wp-content/uploads/WP-manga/data/manga_5e08fdccf028f/566e83b6cf3f39930f38b642619a96cd/26.jpg\n",
      "http://www.mangaread.org/wp-content/uploads/WP-manga/data/manga_5e08fdccf028f/566e83b6cf3f39930f38b642619a96cd/27.jpg\n",
      "http://www.mangaread.org/wp-content/uploads/WP-manga/data/manga_5e08fdccf028f/566e83b6cf3f39930f38b642619a96cd/28.jpg\n",
      "http://www.mangaread.org/wp-content/uploads/WP-manga/data/manga_5e08fdccf028f/566e83b6cf3f39930f38b642619a96cd/29.jpg\n",
      "http://www.mangaread.org/wp-content/uploads/WP-manga/data/manga_5e08fdccf028f/566e83b6cf3f39930f38b642619a96cd/30.jpg\n",
      "http://www.mangaread.org/wp-content/uploads/WP-manga/data/manga_5e08fdccf028f/566e83b6cf3f39930f38b642619a96cd/31.jpg\n",
      "http://www.mangaread.org/wp-content/uploads/WP-manga/data/manga_5e08fdccf028f/566e83b6cf3f39930f38b642619a96cd/32.jpg\n",
      "http://www.mangaread.org/wp-content/uploads/WP-manga/data/manga_5e08fdccf028f/566e83b6cf3f39930f38b642619a96cd/33.jpg\n",
      "http://www.mangaread.org/wp-content/uploads/WP-manga/data/manga_5e08fdccf028f/566e83b6cf3f39930f38b642619a96cd/34.jpg\n",
      "http://www.mangaread.org/wp-content/uploads/WP-manga/data/manga_5e08fdccf028f/566e83b6cf3f39930f38b642619a96cd/35.jpg\n",
      "http://www.mangaread.org/wp-content/uploads/WP-manga/data/manga_5e08fdccf028f/566e83b6cf3f39930f38b642619a96cd/36.jpg\n",
      "http://www.mangaread.org/wp-content/uploads/WP-manga/data/manga_5e08fdccf028f/566e83b6cf3f39930f38b642619a96cd/37.jpg\n",
      "http://www.mangaread.org/wp-content/uploads/WP-manga/data/manga_5e08fdccf028f/566e83b6cf3f39930f38b642619a96cd/38.jpg\n",
      "http://www.mangaread.org/wp-content/uploads/WP-manga/data/manga_5e08fdccf028f/566e83b6cf3f39930f38b642619a96cd/39.jpg\n",
      "http://www.mangaread.org/wp-content/uploads/WP-manga/data/manga_5e08fdccf028f/566e83b6cf3f39930f38b642619a96cd/40.jpg\n",
      "http://www.mangaread.org/wp-content/uploads/WP-manga/data/manga_5e08fdccf028f/566e83b6cf3f39930f38b642619a96cd/41.jpg\n",
      "http://www.mangaread.org/wp-content/uploads/WP-manga/data/manga_5e08fdccf028f/566e83b6cf3f39930f38b642619a96cd/42.jpg\n",
      "http://www.mangaread.org/wp-content/uploads/WP-manga/data/manga_5e08fdccf028f/566e83b6cf3f39930f38b642619a96cd/43.jpg\n",
      "http://www.mangaread.org/wp-content/uploads/WP-manga/data/manga_5e08fdccf028f/566e83b6cf3f39930f38b642619a96cd/44.jpg\n",
      "http://www.mangaread.org/wp-content/uploads/WP-manga/data/manga_5e08fdccf028f/566e83b6cf3f39930f38b642619a96cd/45.jpg\n"
     ]
    },
    {
     "name": "stderr",
     "output_type": "stream",
     "text": [
      " 68%|██████████████████████████████████████████████████████▏                         | 67/99 [1:05:02<44:22, 83.20s/it]"
     ]
    },
    {
     "name": "stdout",
     "output_type": "stream",
     "text": [
      "finish\n",
      "----------------------------------------------------------------------------------------------------\n",
      "starting crawl chapter 68\n",
      "http://www.mangaread.org/wp-content/uploads/WP-manga/data/manga_5e08fdccf028f/18cb1528aa27c598a5dd4dccc6984500/2.jpg\n",
      "http://www.mangaread.org/wp-content/uploads/WP-manga/data/manga_5e08fdccf028f/18cb1528aa27c598a5dd4dccc6984500/4.jpg\n",
      "http://www.mangaread.org/wp-content/uploads/WP-manga/data/manga_5e08fdccf028f/18cb1528aa27c598a5dd4dccc6984500/5.jpg\n",
      "http://www.mangaread.org/wp-content/uploads/WP-manga/data/manga_5e08fdccf028f/18cb1528aa27c598a5dd4dccc6984500/6.jpg\n",
      "http://www.mangaread.org/wp-content/uploads/WP-manga/data/manga_5e08fdccf028f/18cb1528aa27c598a5dd4dccc6984500/7.jpg\n",
      "http://www.mangaread.org/wp-content/uploads/WP-manga/data/manga_5e08fdccf028f/18cb1528aa27c598a5dd4dccc6984500/8.jpg\n",
      "http://www.mangaread.org/wp-content/uploads/WP-manga/data/manga_5e08fdccf028f/18cb1528aa27c598a5dd4dccc6984500/9.jpg\n",
      "http://www.mangaread.org/wp-content/uploads/WP-manga/data/manga_5e08fdccf028f/18cb1528aa27c598a5dd4dccc6984500/10.jpg\n",
      "http://www.mangaread.org/wp-content/uploads/WP-manga/data/manga_5e08fdccf028f/18cb1528aa27c598a5dd4dccc6984500/11.jpg\n",
      "http://www.mangaread.org/wp-content/uploads/WP-manga/data/manga_5e08fdccf028f/18cb1528aa27c598a5dd4dccc6984500/12.jpg\n",
      "http://www.mangaread.org/wp-content/uploads/WP-manga/data/manga_5e08fdccf028f/18cb1528aa27c598a5dd4dccc6984500/13.jpg\n",
      "http://www.mangaread.org/wp-content/uploads/WP-manga/data/manga_5e08fdccf028f/18cb1528aa27c598a5dd4dccc6984500/14.jpg\n",
      "http://www.mangaread.org/wp-content/uploads/WP-manga/data/manga_5e08fdccf028f/18cb1528aa27c598a5dd4dccc6984500/15.jpg\n",
      "http://www.mangaread.org/wp-content/uploads/WP-manga/data/manga_5e08fdccf028f/18cb1528aa27c598a5dd4dccc6984500/16.jpg\n",
      "http://www.mangaread.org/wp-content/uploads/WP-manga/data/manga_5e08fdccf028f/18cb1528aa27c598a5dd4dccc6984500/17.jpg\n",
      "http://www.mangaread.org/wp-content/uploads/WP-manga/data/manga_5e08fdccf028f/18cb1528aa27c598a5dd4dccc6984500/18.jpg\n",
      "http://www.mangaread.org/wp-content/uploads/WP-manga/data/manga_5e08fdccf028f/18cb1528aa27c598a5dd4dccc6984500/19.jpg\n",
      "http://www.mangaread.org/wp-content/uploads/WP-manga/data/manga_5e08fdccf028f/18cb1528aa27c598a5dd4dccc6984500/20.jpg\n",
      "http://www.mangaread.org/wp-content/uploads/WP-manga/data/manga_5e08fdccf028f/18cb1528aa27c598a5dd4dccc6984500/21.jpg\n",
      "http://www.mangaread.org/wp-content/uploads/WP-manga/data/manga_5e08fdccf028f/18cb1528aa27c598a5dd4dccc6984500/22.jpg\n",
      "http://www.mangaread.org/wp-content/uploads/WP-manga/data/manga_5e08fdccf028f/18cb1528aa27c598a5dd4dccc6984500/23.jpg\n",
      "http://www.mangaread.org/wp-content/uploads/WP-manga/data/manga_5e08fdccf028f/18cb1528aa27c598a5dd4dccc6984500/24.jpg\n",
      "http://www.mangaread.org/wp-content/uploads/WP-manga/data/manga_5e08fdccf028f/18cb1528aa27c598a5dd4dccc6984500/25.jpg\n",
      "http://www.mangaread.org/wp-content/uploads/WP-manga/data/manga_5e08fdccf028f/18cb1528aa27c598a5dd4dccc6984500/26.jpg\n",
      "http://www.mangaread.org/wp-content/uploads/WP-manga/data/manga_5e08fdccf028f/18cb1528aa27c598a5dd4dccc6984500/27.jpg\n",
      "http://www.mangaread.org/wp-content/uploads/WP-manga/data/manga_5e08fdccf028f/18cb1528aa27c598a5dd4dccc6984500/28.jpg\n",
      "http://www.mangaread.org/wp-content/uploads/WP-manga/data/manga_5e08fdccf028f/18cb1528aa27c598a5dd4dccc6984500/29.jpg\n",
      "http://www.mangaread.org/wp-content/uploads/WP-manga/data/manga_5e08fdccf028f/18cb1528aa27c598a5dd4dccc6984500/30.jpg\n",
      "http://www.mangaread.org/wp-content/uploads/WP-manga/data/manga_5e08fdccf028f/18cb1528aa27c598a5dd4dccc6984500/31.jpg\n",
      "http://www.mangaread.org/wp-content/uploads/WP-manga/data/manga_5e08fdccf028f/18cb1528aa27c598a5dd4dccc6984500/32.jpg\n",
      "http://www.mangaread.org/wp-content/uploads/WP-manga/data/manga_5e08fdccf028f/18cb1528aa27c598a5dd4dccc6984500/33.jpg\n",
      "http://www.mangaread.org/wp-content/uploads/WP-manga/data/manga_5e08fdccf028f/18cb1528aa27c598a5dd4dccc6984500/34.jpg\n"
     ]
    },
    {
     "name": "stderr",
     "output_type": "stream",
     "text": [
      " 69%|██████████████████████████████████████████████████████▉                         | 68/99 [1:06:29<43:35, 84.37s/it]"
     ]
    },
    {
     "name": "stdout",
     "output_type": "stream",
     "text": [
      "finish\n",
      "----------------------------------------------------------------------------------------------------\n",
      "starting crawl chapter 69\n",
      "http://www.mangaread.org/wp-content/uploads/WP-manga/data/manga_5e08fdccf028f/10f83f89275a26dc57c9cb71dad0fb5a/2.jpg\n",
      "http://www.mangaread.org/wp-content/uploads/WP-manga/data/manga_5e08fdccf028f/10f83f89275a26dc57c9cb71dad0fb5a/3.jpg\n",
      "http://www.mangaread.org/wp-content/uploads/WP-manga/data/manga_5e08fdccf028f/10f83f89275a26dc57c9cb71dad0fb5a/5.jpg\n",
      "http://www.mangaread.org/wp-content/uploads/WP-manga/data/manga_5e08fdccf028f/10f83f89275a26dc57c9cb71dad0fb5a/6.jpg\n",
      "http://www.mangaread.org/wp-content/uploads/WP-manga/data/manga_5e08fdccf028f/10f83f89275a26dc57c9cb71dad0fb5a/7.jpg\n",
      "http://www.mangaread.org/wp-content/uploads/WP-manga/data/manga_5e08fdccf028f/10f83f89275a26dc57c9cb71dad0fb5a/8.jpg\n",
      "http://www.mangaread.org/wp-content/uploads/WP-manga/data/manga_5e08fdccf028f/10f83f89275a26dc57c9cb71dad0fb5a/9.jpg\n",
      "http://www.mangaread.org/wp-content/uploads/WP-manga/data/manga_5e08fdccf028f/10f83f89275a26dc57c9cb71dad0fb5a/10.jpg\n",
      "http://www.mangaread.org/wp-content/uploads/WP-manga/data/manga_5e08fdccf028f/10f83f89275a26dc57c9cb71dad0fb5a/11.jpg\n",
      "http://www.mangaread.org/wp-content/uploads/WP-manga/data/manga_5e08fdccf028f/10f83f89275a26dc57c9cb71dad0fb5a/12.jpg\n",
      "http://www.mangaread.org/wp-content/uploads/WP-manga/data/manga_5e08fdccf028f/10f83f89275a26dc57c9cb71dad0fb5a/13.jpg\n",
      "http://www.mangaread.org/wp-content/uploads/WP-manga/data/manga_5e08fdccf028f/10f83f89275a26dc57c9cb71dad0fb5a/14.jpg\n",
      "http://www.mangaread.org/wp-content/uploads/WP-manga/data/manga_5e08fdccf028f/10f83f89275a26dc57c9cb71dad0fb5a/15.jpg\n",
      "http://www.mangaread.org/wp-content/uploads/WP-manga/data/manga_5e08fdccf028f/10f83f89275a26dc57c9cb71dad0fb5a/16.jpg\n",
      "http://www.mangaread.org/wp-content/uploads/WP-manga/data/manga_5e08fdccf028f/10f83f89275a26dc57c9cb71dad0fb5a/17.jpg\n",
      "http://www.mangaread.org/wp-content/uploads/WP-manga/data/manga_5e08fdccf028f/10f83f89275a26dc57c9cb71dad0fb5a/18.jpg\n",
      "http://www.mangaread.org/wp-content/uploads/WP-manga/data/manga_5e08fdccf028f/10f83f89275a26dc57c9cb71dad0fb5a/19.jpg\n",
      "http://www.mangaread.org/wp-content/uploads/WP-manga/data/manga_5e08fdccf028f/10f83f89275a26dc57c9cb71dad0fb5a/20.jpg\n",
      "http://www.mangaread.org/wp-content/uploads/WP-manga/data/manga_5e08fdccf028f/10f83f89275a26dc57c9cb71dad0fb5a/21.jpg\n",
      "http://www.mangaread.org/wp-content/uploads/WP-manga/data/manga_5e08fdccf028f/10f83f89275a26dc57c9cb71dad0fb5a/22.jpg\n",
      "http://www.mangaread.org/wp-content/uploads/WP-manga/data/manga_5e08fdccf028f/10f83f89275a26dc57c9cb71dad0fb5a/23.jpg\n",
      "http://www.mangaread.org/wp-content/uploads/WP-manga/data/manga_5e08fdccf028f/10f83f89275a26dc57c9cb71dad0fb5a/24.jpg\n",
      "http://www.mangaread.org/wp-content/uploads/WP-manga/data/manga_5e08fdccf028f/10f83f89275a26dc57c9cb71dad0fb5a/25.jpg\n",
      "http://www.mangaread.org/wp-content/uploads/WP-manga/data/manga_5e08fdccf028f/10f83f89275a26dc57c9cb71dad0fb5a/26.jpg\n",
      "http://www.mangaread.org/wp-content/uploads/WP-manga/data/manga_5e08fdccf028f/10f83f89275a26dc57c9cb71dad0fb5a/27.jpg\n",
      "http://www.mangaread.org/wp-content/uploads/WP-manga/data/manga_5e08fdccf028f/10f83f89275a26dc57c9cb71dad0fb5a/28.jpg\n",
      "http://www.mangaread.org/wp-content/uploads/WP-manga/data/manga_5e08fdccf028f/10f83f89275a26dc57c9cb71dad0fb5a/29.jpg\n",
      "http://www.mangaread.org/wp-content/uploads/WP-manga/data/manga_5e08fdccf028f/10f83f89275a26dc57c9cb71dad0fb5a/30.jpg\n",
      "http://www.mangaread.org/wp-content/uploads/WP-manga/data/manga_5e08fdccf028f/10f83f89275a26dc57c9cb71dad0fb5a/31.jpg\n",
      "http://www.mangaread.org/wp-content/uploads/WP-manga/data/manga_5e08fdccf028f/10f83f89275a26dc57c9cb71dad0fb5a/32.jpg\n",
      "http://www.mangaread.org/wp-content/uploads/WP-manga/data/manga_5e08fdccf028f/10f83f89275a26dc57c9cb71dad0fb5a/33.jpg\n",
      "http://www.mangaread.org/wp-content/uploads/WP-manga/data/manga_5e08fdccf028f/10f83f89275a26dc57c9cb71dad0fb5a/34.jpg\n",
      "http://www.mangaread.org/wp-content/uploads/WP-manga/data/manga_5e08fdccf028f/10f83f89275a26dc57c9cb71dad0fb5a/35.jpg\n"
     ]
    },
    {
     "name": "stderr",
     "output_type": "stream",
     "text": [
      " 70%|███████████████████████████████████████████████████████▊                        | 69/99 [1:07:56<42:35, 85.17s/it]"
     ]
    },
    {
     "name": "stdout",
     "output_type": "stream",
     "text": [
      "finish\n",
      "----------------------------------------------------------------------------------------------------\n",
      "starting crawl chapter 70\n",
      "http://www.mangaread.org/wp-content/uploads/WP-manga/data/manga_5e08fdccf028f/8f8a2c6c42340524102912b26a34edad/2.jpg\n",
      "http://www.mangaread.org/wp-content/uploads/WP-manga/data/manga_5e08fdccf028f/8f8a2c6c42340524102912b26a34edad/3.jpg\n",
      "http://www.mangaread.org/wp-content/uploads/WP-manga/data/manga_5e08fdccf028f/8f8a2c6c42340524102912b26a34edad/4.jpg\n",
      "http://www.mangaread.org/wp-content/uploads/WP-manga/data/manga_5e08fdccf028f/8f8a2c6c42340524102912b26a34edad/5.jpg\n",
      "http://www.mangaread.org/wp-content/uploads/WP-manga/data/manga_5e08fdccf028f/8f8a2c6c42340524102912b26a34edad/6.jpg\n",
      "http://www.mangaread.org/wp-content/uploads/WP-manga/data/manga_5e08fdccf028f/8f8a2c6c42340524102912b26a34edad/7.jpg\n",
      "http://www.mangaread.org/wp-content/uploads/WP-manga/data/manga_5e08fdccf028f/8f8a2c6c42340524102912b26a34edad/8.jpg\n",
      "http://www.mangaread.org/wp-content/uploads/WP-manga/data/manga_5e08fdccf028f/8f8a2c6c42340524102912b26a34edad/9.jpg\n",
      "http://www.mangaread.org/wp-content/uploads/WP-manga/data/manga_5e08fdccf028f/8f8a2c6c42340524102912b26a34edad/10.jpg\n",
      "http://www.mangaread.org/wp-content/uploads/WP-manga/data/manga_5e08fdccf028f/8f8a2c6c42340524102912b26a34edad/11.jpg\n",
      "http://www.mangaread.org/wp-content/uploads/WP-manga/data/manga_5e08fdccf028f/8f8a2c6c42340524102912b26a34edad/12.jpg\n",
      "http://www.mangaread.org/wp-content/uploads/WP-manga/data/manga_5e08fdccf028f/8f8a2c6c42340524102912b26a34edad/13.jpg\n",
      "http://www.mangaread.org/wp-content/uploads/WP-manga/data/manga_5e08fdccf028f/8f8a2c6c42340524102912b26a34edad/14.jpg\n",
      "http://www.mangaread.org/wp-content/uploads/WP-manga/data/manga_5e08fdccf028f/8f8a2c6c42340524102912b26a34edad/15.jpg\n",
      "http://www.mangaread.org/wp-content/uploads/WP-manga/data/manga_5e08fdccf028f/8f8a2c6c42340524102912b26a34edad/16.jpg\n",
      "http://www.mangaread.org/wp-content/uploads/WP-manga/data/manga_5e08fdccf028f/8f8a2c6c42340524102912b26a34edad/17.jpg\n",
      "http://www.mangaread.org/wp-content/uploads/WP-manga/data/manga_5e08fdccf028f/8f8a2c6c42340524102912b26a34edad/18.jpg\n",
      "http://www.mangaread.org/wp-content/uploads/WP-manga/data/manga_5e08fdccf028f/8f8a2c6c42340524102912b26a34edad/19.jpg\n",
      "http://www.mangaread.org/wp-content/uploads/WP-manga/data/manga_5e08fdccf028f/8f8a2c6c42340524102912b26a34edad/20.jpg\n",
      "http://www.mangaread.org/wp-content/uploads/WP-manga/data/manga_5e08fdccf028f/8f8a2c6c42340524102912b26a34edad/21.jpg\n",
      "http://www.mangaread.org/wp-content/uploads/WP-manga/data/manga_5e08fdccf028f/8f8a2c6c42340524102912b26a34edad/22.jpg\n",
      "http://www.mangaread.org/wp-content/uploads/WP-manga/data/manga_5e08fdccf028f/8f8a2c6c42340524102912b26a34edad/23.jpg\n",
      "http://www.mangaread.org/wp-content/uploads/WP-manga/data/manga_5e08fdccf028f/8f8a2c6c42340524102912b26a34edad/24.jpg\n",
      "http://www.mangaread.org/wp-content/uploads/WP-manga/data/manga_5e08fdccf028f/8f8a2c6c42340524102912b26a34edad/25.jpg\n",
      "http://www.mangaread.org/wp-content/uploads/WP-manga/data/manga_5e08fdccf028f/8f8a2c6c42340524102912b26a34edad/26.jpg\n",
      "http://www.mangaread.org/wp-content/uploads/WP-manga/data/manga_5e08fdccf028f/8f8a2c6c42340524102912b26a34edad/27.jpg\n",
      "http://www.mangaread.org/wp-content/uploads/WP-manga/data/manga_5e08fdccf028f/8f8a2c6c42340524102912b26a34edad/28.jpg\n",
      "http://www.mangaread.org/wp-content/uploads/WP-manga/data/manga_5e08fdccf028f/8f8a2c6c42340524102912b26a34edad/29.jpg\n",
      "http://www.mangaread.org/wp-content/uploads/WP-manga/data/manga_5e08fdccf028f/8f8a2c6c42340524102912b26a34edad/30.jpg\n",
      "http://www.mangaread.org/wp-content/uploads/WP-manga/data/manga_5e08fdccf028f/8f8a2c6c42340524102912b26a34edad/31.jpg\n",
      "http://www.mangaread.org/wp-content/uploads/WP-manga/data/manga_5e08fdccf028f/8f8a2c6c42340524102912b26a34edad/32.jpg\n",
      "http://www.mangaread.org/wp-content/uploads/WP-manga/data/manga_5e08fdccf028f/8f8a2c6c42340524102912b26a34edad/33.jpg\n",
      "http://www.mangaread.org/wp-content/uploads/WP-manga/data/manga_5e08fdccf028f/8f8a2c6c42340524102912b26a34edad/34.jpg\n",
      "http://www.mangaread.org/wp-content/uploads/WP-manga/data/manga_5e08fdccf028f/8f8a2c6c42340524102912b26a34edad/35.jpg\n",
      "http://www.mangaread.org/wp-content/uploads/WP-manga/data/manga_5e08fdccf028f/8f8a2c6c42340524102912b26a34edad/36.jpg\n"
     ]
    },
    {
     "name": "stderr",
     "output_type": "stream",
     "text": [
      " 71%|████████████████████████████████████████████████████████▌                       | 70/99 [1:09:24<41:31, 85.92s/it]"
     ]
    },
    {
     "name": "stdout",
     "output_type": "stream",
     "text": [
      "finish\n",
      "----------------------------------------------------------------------------------------------------\n",
      "starting crawl chapter 71\n",
      "http://www.mangaread.org/wp-content/uploads/WP-manga/data/manga_5e08fdccf028f/ffed52fd311fb12ce76042d45c0faf87/2.jpg\n",
      "http://www.mangaread.org/wp-content/uploads/WP-manga/data/manga_5e08fdccf028f/ffed52fd311fb12ce76042d45c0faf87/3.jpg\n",
      "http://www.mangaread.org/wp-content/uploads/WP-manga/data/manga_5e08fdccf028f/ffed52fd311fb12ce76042d45c0faf87/4.jpg\n",
      "http://www.mangaread.org/wp-content/uploads/WP-manga/data/manga_5e08fdccf028f/ffed52fd311fb12ce76042d45c0faf87/5.jpg\n",
      "http://www.mangaread.org/wp-content/uploads/WP-manga/data/manga_5e08fdccf028f/ffed52fd311fb12ce76042d45c0faf87/6.jpg\n",
      "http://www.mangaread.org/wp-content/uploads/WP-manga/data/manga_5e08fdccf028f/ffed52fd311fb12ce76042d45c0faf87/7.jpg\n",
      "http://www.mangaread.org/wp-content/uploads/WP-manga/data/manga_5e08fdccf028f/ffed52fd311fb12ce76042d45c0faf87/8.jpg\n",
      "http://www.mangaread.org/wp-content/uploads/WP-manga/data/manga_5e08fdccf028f/ffed52fd311fb12ce76042d45c0faf87/9.jpg\n",
      "http://www.mangaread.org/wp-content/uploads/WP-manga/data/manga_5e08fdccf028f/ffed52fd311fb12ce76042d45c0faf87/10.jpg\n",
      "http://www.mangaread.org/wp-content/uploads/WP-manga/data/manga_5e08fdccf028f/ffed52fd311fb12ce76042d45c0faf87/11.jpg\n",
      "http://www.mangaread.org/wp-content/uploads/WP-manga/data/manga_5e08fdccf028f/ffed52fd311fb12ce76042d45c0faf87/12.jpg\n",
      "http://www.mangaread.org/wp-content/uploads/WP-manga/data/manga_5e08fdccf028f/ffed52fd311fb12ce76042d45c0faf87/13.jpg\n",
      "http://www.mangaread.org/wp-content/uploads/WP-manga/data/manga_5e08fdccf028f/ffed52fd311fb12ce76042d45c0faf87/14.jpg\n",
      "http://www.mangaread.org/wp-content/uploads/WP-manga/data/manga_5e08fdccf028f/ffed52fd311fb12ce76042d45c0faf87/15.jpg\n",
      "http://www.mangaread.org/wp-content/uploads/WP-manga/data/manga_5e08fdccf028f/ffed52fd311fb12ce76042d45c0faf87/16.jpg\n",
      "http://www.mangaread.org/wp-content/uploads/WP-manga/data/manga_5e08fdccf028f/ffed52fd311fb12ce76042d45c0faf87/17.jpg\n",
      "http://www.mangaread.org/wp-content/uploads/WP-manga/data/manga_5e08fdccf028f/ffed52fd311fb12ce76042d45c0faf87/18.jpg\n",
      "http://www.mangaread.org/wp-content/uploads/WP-manga/data/manga_5e08fdccf028f/ffed52fd311fb12ce76042d45c0faf87/19.jpg\n",
      "http://www.mangaread.org/wp-content/uploads/WP-manga/data/manga_5e08fdccf028f/ffed52fd311fb12ce76042d45c0faf87/20.jpg\n",
      "http://www.mangaread.org/wp-content/uploads/WP-manga/data/manga_5e08fdccf028f/ffed52fd311fb12ce76042d45c0faf87/21.jpg\n",
      "http://www.mangaread.org/wp-content/uploads/WP-manga/data/manga_5e08fdccf028f/ffed52fd311fb12ce76042d45c0faf87/22.jpg\n",
      "http://www.mangaread.org/wp-content/uploads/WP-manga/data/manga_5e08fdccf028f/ffed52fd311fb12ce76042d45c0faf87/23.jpg\n",
      "http://www.mangaread.org/wp-content/uploads/WP-manga/data/manga_5e08fdccf028f/ffed52fd311fb12ce76042d45c0faf87/24.jpg\n",
      "http://www.mangaread.org/wp-content/uploads/WP-manga/data/manga_5e08fdccf028f/ffed52fd311fb12ce76042d45c0faf87/25.jpg\n",
      "http://www.mangaread.org/wp-content/uploads/WP-manga/data/manga_5e08fdccf028f/ffed52fd311fb12ce76042d45c0faf87/26.jpg\n",
      "http://www.mangaread.org/wp-content/uploads/WP-manga/data/manga_5e08fdccf028f/ffed52fd311fb12ce76042d45c0faf87/27.jpg\n",
      "http://www.mangaread.org/wp-content/uploads/WP-manga/data/manga_5e08fdccf028f/ffed52fd311fb12ce76042d45c0faf87/28.jpg\n",
      "http://www.mangaread.org/wp-content/uploads/WP-manga/data/manga_5e08fdccf028f/ffed52fd311fb12ce76042d45c0faf87/29.jpg\n",
      "http://www.mangaread.org/wp-content/uploads/WP-manga/data/manga_5e08fdccf028f/ffed52fd311fb12ce76042d45c0faf87/30.jpg\n",
      "http://www.mangaread.org/wp-content/uploads/WP-manga/data/manga_5e08fdccf028f/ffed52fd311fb12ce76042d45c0faf87/31.jpg\n",
      "http://www.mangaread.org/wp-content/uploads/WP-manga/data/manga_5e08fdccf028f/ffed52fd311fb12ce76042d45c0faf87/32.jpg\n",
      "http://www.mangaread.org/wp-content/uploads/WP-manga/data/manga_5e08fdccf028f/ffed52fd311fb12ce76042d45c0faf87/33.jpg\n",
      "http://www.mangaread.org/wp-content/uploads/WP-manga/data/manga_5e08fdccf028f/ffed52fd311fb12ce76042d45c0faf87/34.jpg\n",
      "http://www.mangaread.org/wp-content/uploads/WP-manga/data/manga_5e08fdccf028f/ffed52fd311fb12ce76042d45c0faf87/35.jpg\n",
      "http://www.mangaread.org/wp-content/uploads/WP-manga/data/manga_5e08fdccf028f/ffed52fd311fb12ce76042d45c0faf87/36.jpg\n",
      "http://www.mangaread.org/wp-content/uploads/WP-manga/data/manga_5e08fdccf028f/ffed52fd311fb12ce76042d45c0faf87/37.jpg\n",
      "http://www.mangaread.org/wp-content/uploads/WP-manga/data/manga_5e08fdccf028f/ffed52fd311fb12ce76042d45c0faf87/38.jpg\n",
      "http://www.mangaread.org/wp-content/uploads/WP-manga/data/manga_5e08fdccf028f/ffed52fd311fb12ce76042d45c0faf87/39.jpg\n",
      "http://www.mangaread.org/wp-content/uploads/WP-manga/data/manga_5e08fdccf028f/ffed52fd311fb12ce76042d45c0faf87/40.jpg\n",
      "http://www.mangaread.org/wp-content/uploads/WP-manga/data/manga_5e08fdccf028f/ffed52fd311fb12ce76042d45c0faf87/41.jpg\n",
      "http://www.mangaread.org/wp-content/uploads/WP-manga/data/manga_5e08fdccf028f/ffed52fd311fb12ce76042d45c0faf87/42.jpg\n",
      "http://www.mangaread.org/wp-content/uploads/WP-manga/data/manga_5e08fdccf028f/ffed52fd311fb12ce76042d45c0faf87/43.jpg\n",
      "http://www.mangaread.org/wp-content/uploads/WP-manga/data/manga_5e08fdccf028f/ffed52fd311fb12ce76042d45c0faf87/44.jpg\n",
      "http://www.mangaread.org/wp-content/uploads/WP-manga/data/manga_5e08fdccf028f/ffed52fd311fb12ce76042d45c0faf87/45.jpg\n",
      "http://www.mangaread.org/wp-content/uploads/WP-manga/data/manga_5e08fdccf028f/ffed52fd311fb12ce76042d45c0faf87/46.jpg\n",
      "http://www.mangaread.org/wp-content/uploads/WP-manga/data/manga_5e08fdccf028f/ffed52fd311fb12ce76042d45c0faf87/47.jpg\n",
      "http://www.mangaread.org/wp-content/uploads/WP-manga/data/manga_5e08fdccf028f/ffed52fd311fb12ce76042d45c0faf87/48.jpg\n",
      "http://www.mangaread.org/wp-content/uploads/WP-manga/data/manga_5e08fdccf028f/ffed52fd311fb12ce76042d45c0faf87/49.jpg\n",
      "http://www.mangaread.org/wp-content/uploads/WP-manga/data/manga_5e08fdccf028f/ffed52fd311fb12ce76042d45c0faf87/50.jpg\n",
      "http://www.mangaread.org/wp-content/uploads/WP-manga/data/manga_5e08fdccf028f/ffed52fd311fb12ce76042d45c0faf87/51.jpg\n",
      "http://www.mangaread.org/wp-content/uploads/WP-manga/data/manga_5e08fdccf028f/ffed52fd311fb12ce76042d45c0faf87/52.jpg\n",
      "http://www.mangaread.org/wp-content/uploads/WP-manga/data/manga_5e08fdccf028f/ffed52fd311fb12ce76042d45c0faf87/53.jpg\n",
      "http://www.mangaread.org/wp-content/uploads/WP-manga/data/manga_5e08fdccf028f/ffed52fd311fb12ce76042d45c0faf87/54.jpg\n",
      "http://www.mangaread.org/wp-content/uploads/WP-manga/data/manga_5e08fdccf028f/ffed52fd311fb12ce76042d45c0faf87/55.jpg\n",
      "http://www.mangaread.org/wp-content/uploads/WP-manga/data/manga_5e08fdccf028f/ffed52fd311fb12ce76042d45c0faf87/56.jpg\n",
      "http://www.mangaread.org/wp-content/uploads/WP-manga/data/manga_5e08fdccf028f/ffed52fd311fb12ce76042d45c0faf87/57.jpg\n"
     ]
    },
    {
     "name": "stderr",
     "output_type": "stream",
     "text": [
      " 72%|████████████████████████████████████████████████████████▋                      | 71/99 [1:11:58<49:37, 106.32s/it]"
     ]
    },
    {
     "name": "stdout",
     "output_type": "stream",
     "text": [
      "finish\n",
      "----------------------------------------------------------------------------------------------------\n",
      "starting crawl chapter 72\n",
      "http://www.mangaread.org/wp-content/uploads/WP-manga/data/manga_5e08fdccf028f/6f21bf3274fe3a24ba4a1d36fb916bc5/2.jpeg\n",
      "http://www.mangaread.org/wp-content/uploads/WP-manga/data/manga_5e08fdccf028f/6f21bf3274fe3a24ba4a1d36fb916bc5/3.jpeg\n",
      "http://www.mangaread.org/wp-content/uploads/WP-manga/data/manga_5e08fdccf028f/6f21bf3274fe3a24ba4a1d36fb916bc5/4.jpeg\n",
      "http://www.mangaread.org/wp-content/uploads/WP-manga/data/manga_5e08fdccf028f/6f21bf3274fe3a24ba4a1d36fb916bc5/5.jpeg\n",
      "http://www.mangaread.org/wp-content/uploads/WP-manga/data/manga_5e08fdccf028f/6f21bf3274fe3a24ba4a1d36fb916bc5/6.jpeg\n",
      "http://www.mangaread.org/wp-content/uploads/WP-manga/data/manga_5e08fdccf028f/6f21bf3274fe3a24ba4a1d36fb916bc5/7.jpeg\n",
      "http://www.mangaread.org/wp-content/uploads/WP-manga/data/manga_5e08fdccf028f/6f21bf3274fe3a24ba4a1d36fb916bc5/8.jpeg\n",
      "http://www.mangaread.org/wp-content/uploads/WP-manga/data/manga_5e08fdccf028f/6f21bf3274fe3a24ba4a1d36fb916bc5/9.jpeg\n",
      "http://www.mangaread.org/wp-content/uploads/WP-manga/data/manga_5e08fdccf028f/6f21bf3274fe3a24ba4a1d36fb916bc5/10.jpeg\n",
      "http://www.mangaread.org/wp-content/uploads/WP-manga/data/manga_5e08fdccf028f/6f21bf3274fe3a24ba4a1d36fb916bc5/11.jpeg\n",
      "http://www.mangaread.org/wp-content/uploads/WP-manga/data/manga_5e08fdccf028f/6f21bf3274fe3a24ba4a1d36fb916bc5/12.jpeg\n",
      "http://www.mangaread.org/wp-content/uploads/WP-manga/data/manga_5e08fdccf028f/6f21bf3274fe3a24ba4a1d36fb916bc5/13.jpeg\n",
      "http://www.mangaread.org/wp-content/uploads/WP-manga/data/manga_5e08fdccf028f/6f21bf3274fe3a24ba4a1d36fb916bc5/14.jpeg\n",
      "http://www.mangaread.org/wp-content/uploads/WP-manga/data/manga_5e08fdccf028f/6f21bf3274fe3a24ba4a1d36fb916bc5/15.jpeg\n",
      "http://www.mangaread.org/wp-content/uploads/WP-manga/data/manga_5e08fdccf028f/6f21bf3274fe3a24ba4a1d36fb916bc5/16.jpeg\n",
      "http://www.mangaread.org/wp-content/uploads/WP-manga/data/manga_5e08fdccf028f/6f21bf3274fe3a24ba4a1d36fb916bc5/17.jpeg\n",
      "http://www.mangaread.org/wp-content/uploads/WP-manga/data/manga_5e08fdccf028f/6f21bf3274fe3a24ba4a1d36fb916bc5/18.jpeg\n",
      "http://www.mangaread.org/wp-content/uploads/WP-manga/data/manga_5e08fdccf028f/6f21bf3274fe3a24ba4a1d36fb916bc5/19.jpeg\n",
      "http://www.mangaread.org/wp-content/uploads/WP-manga/data/manga_5e08fdccf028f/6f21bf3274fe3a24ba4a1d36fb916bc5/20.jpeg\n",
      "http://www.mangaread.org/wp-content/uploads/WP-manga/data/manga_5e08fdccf028f/6f21bf3274fe3a24ba4a1d36fb916bc5/21.jpeg\n",
      "http://www.mangaread.org/wp-content/uploads/WP-manga/data/manga_5e08fdccf028f/6f21bf3274fe3a24ba4a1d36fb916bc5/22.jpeg\n",
      "http://www.mangaread.org/wp-content/uploads/WP-manga/data/manga_5e08fdccf028f/6f21bf3274fe3a24ba4a1d36fb916bc5/23.jpeg\n",
      "http://www.mangaread.org/wp-content/uploads/WP-manga/data/manga_5e08fdccf028f/6f21bf3274fe3a24ba4a1d36fb916bc5/24.jpeg\n",
      "http://www.mangaread.org/wp-content/uploads/WP-manga/data/manga_5e08fdccf028f/6f21bf3274fe3a24ba4a1d36fb916bc5/25.jpeg\n",
      "http://www.mangaread.org/wp-content/uploads/WP-manga/data/manga_5e08fdccf028f/6f21bf3274fe3a24ba4a1d36fb916bc5/26.jpeg\n",
      "http://www.mangaread.org/wp-content/uploads/WP-manga/data/manga_5e08fdccf028f/6f21bf3274fe3a24ba4a1d36fb916bc5/27.jpeg\n",
      "http://www.mangaread.org/wp-content/uploads/WP-manga/data/manga_5e08fdccf028f/6f21bf3274fe3a24ba4a1d36fb916bc5/28.jpeg\n",
      "http://www.mangaread.org/wp-content/uploads/WP-manga/data/manga_5e08fdccf028f/6f21bf3274fe3a24ba4a1d36fb916bc5/29.jpeg\n",
      "http://www.mangaread.org/wp-content/uploads/WP-manga/data/manga_5e08fdccf028f/6f21bf3274fe3a24ba4a1d36fb916bc5/30.jpeg\n",
      "http://www.mangaread.org/wp-content/uploads/WP-manga/data/manga_5e08fdccf028f/6f21bf3274fe3a24ba4a1d36fb916bc5/31.jpeg\n",
      "http://www.mangaread.org/wp-content/uploads/WP-manga/data/manga_5e08fdccf028f/6f21bf3274fe3a24ba4a1d36fb916bc5/32.jpeg\n",
      "http://www.mangaread.org/wp-content/uploads/WP-manga/data/manga_5e08fdccf028f/6f21bf3274fe3a24ba4a1d36fb916bc5/33.jpeg\n",
      "http://www.mangaread.org/wp-content/uploads/WP-manga/data/manga_5e08fdccf028f/6f21bf3274fe3a24ba4a1d36fb916bc5/34.jpeg\n",
      "http://www.mangaread.org/wp-content/uploads/WP-manga/data/manga_5e08fdccf028f/6f21bf3274fe3a24ba4a1d36fb916bc5/35.jpeg\n",
      "http://www.mangaread.org/wp-content/uploads/WP-manga/data/manga_5e08fdccf028f/6f21bf3274fe3a24ba4a1d36fb916bc5/36.jpeg\n",
      "http://www.mangaread.org/wp-content/uploads/WP-manga/data/manga_5e08fdccf028f/6f21bf3274fe3a24ba4a1d36fb916bc5/37.jpeg\n",
      "http://www.mangaread.org/wp-content/uploads/WP-manga/data/manga_5e08fdccf028f/6f21bf3274fe3a24ba4a1d36fb916bc5/38.jpeg\n",
      "http://www.mangaread.org/wp-content/uploads/WP-manga/data/manga_5e08fdccf028f/6f21bf3274fe3a24ba4a1d36fb916bc5/39.jpeg\n",
      "http://www.mangaread.org/wp-content/uploads/WP-manga/data/manga_5e08fdccf028f/6f21bf3274fe3a24ba4a1d36fb916bc5/40.jpeg\n",
      "http://www.mangaread.org/wp-content/uploads/WP-manga/data/manga_5e08fdccf028f/6f21bf3274fe3a24ba4a1d36fb916bc5/41.jpeg\n",
      "http://www.mangaread.org/wp-content/uploads/WP-manga/data/manga_5e08fdccf028f/6f21bf3274fe3a24ba4a1d36fb916bc5/42.jpeg\n",
      "http://www.mangaread.org/wp-content/uploads/WP-manga/data/manga_5e08fdccf028f/6f21bf3274fe3a24ba4a1d36fb916bc5/43.jpeg\n",
      "http://www.mangaread.org/wp-content/uploads/WP-manga/data/manga_5e08fdccf028f/6f21bf3274fe3a24ba4a1d36fb916bc5/44.jpeg\n",
      "http://www.mangaread.org/wp-content/uploads/WP-manga/data/manga_5e08fdccf028f/6f21bf3274fe3a24ba4a1d36fb916bc5/45.jpeg\n",
      "http://www.mangaread.org/wp-content/uploads/WP-manga/data/manga_5e08fdccf028f/6f21bf3274fe3a24ba4a1d36fb916bc5/46.jpeg\n",
      "http://www.mangaread.org/wp-content/uploads/WP-manga/data/manga_5e08fdccf028f/6f21bf3274fe3a24ba4a1d36fb916bc5/47.jpeg\n",
      "http://www.mangaread.org/wp-content/uploads/WP-manga/data/manga_5e08fdccf028f/6f21bf3274fe3a24ba4a1d36fb916bc5/48.jpeg\n",
      "http://www.mangaread.org/wp-content/uploads/WP-manga/data/manga_5e08fdccf028f/6f21bf3274fe3a24ba4a1d36fb916bc5/49.jpeg\n",
      "http://www.mangaread.org/wp-content/uploads/WP-manga/data/manga_5e08fdccf028f/6f21bf3274fe3a24ba4a1d36fb916bc5/50.jpeg\n",
      "http://www.mangaread.org/wp-content/uploads/WP-manga/data/manga_5e08fdccf028f/6f21bf3274fe3a24ba4a1d36fb916bc5/51.jpeg\n",
      "http://www.mangaread.org/wp-content/uploads/WP-manga/data/manga_5e08fdccf028f/6f21bf3274fe3a24ba4a1d36fb916bc5/52.jpeg\n",
      "http://www.mangaread.org/wp-content/uploads/WP-manga/data/manga_5e08fdccf028f/6f21bf3274fe3a24ba4a1d36fb916bc5/53.jpeg\n",
      "http://www.mangaread.org/wp-content/uploads/WP-manga/data/manga_5e08fdccf028f/6f21bf3274fe3a24ba4a1d36fb916bc5/54.jpeg\n",
      "http://www.mangaread.org/wp-content/uploads/WP-manga/data/manga_5e08fdccf028f/6f21bf3274fe3a24ba4a1d36fb916bc5/55.jpeg\n",
      "http://www.mangaread.org/wp-content/uploads/WP-manga/data/manga_5e08fdccf028f/6f21bf3274fe3a24ba4a1d36fb916bc5/56.jpeg\n",
      "http://www.mangaread.org/wp-content/uploads/WP-manga/data/manga_5e08fdccf028f/6f21bf3274fe3a24ba4a1d36fb916bc5/57.jpeg\n",
      "http://www.mangaread.org/wp-content/uploads/WP-manga/data/manga_5e08fdccf028f/6f21bf3274fe3a24ba4a1d36fb916bc5/58.jpeg\n",
      "http://www.mangaread.org/wp-content/uploads/WP-manga/data/manga_5e08fdccf028f/6f21bf3274fe3a24ba4a1d36fb916bc5/59.jpeg\n",
      "http://www.mangaread.org/wp-content/uploads/WP-manga/data/manga_5e08fdccf028f/6f21bf3274fe3a24ba4a1d36fb916bc5/60.jpeg\n",
      "http://www.mangaread.org/wp-content/uploads/WP-manga/data/manga_5e08fdccf028f/6f21bf3274fe3a24ba4a1d36fb916bc5/61.jpeg\n",
      "http://www.mangaread.org/wp-content/uploads/WP-manga/data/manga_5e08fdccf028f/6f21bf3274fe3a24ba4a1d36fb916bc5/62.jpeg\n"
     ]
    },
    {
     "name": "stderr",
     "output_type": "stream",
     "text": [
      " 73%|█████████████████████████████████████████████████████████▍                     | 72/99 [1:14:28<53:48, 119.59s/it]"
     ]
    },
    {
     "name": "stdout",
     "output_type": "stream",
     "text": [
      "finish\n",
      "----------------------------------------------------------------------------------------------------\n",
      "starting crawl chapter 73\n",
      "http://www.mangaread.org/wp-content/uploads/WP-manga/data/manga_5e08fdccf028f/31bce60e60adca8d6c4597999f3eada0/2.jpeg\n",
      "http://www.mangaread.org/wp-content/uploads/WP-manga/data/manga_5e08fdccf028f/31bce60e60adca8d6c4597999f3eada0/3.jpeg\n",
      "http://www.mangaread.org/wp-content/uploads/WP-manga/data/manga_5e08fdccf028f/31bce60e60adca8d6c4597999f3eada0/4.jpeg\n",
      "http://www.mangaread.org/wp-content/uploads/WP-manga/data/manga_5e08fdccf028f/31bce60e60adca8d6c4597999f3eada0/5.jpeg\n",
      "http://www.mangaread.org/wp-content/uploads/WP-manga/data/manga_5e08fdccf028f/31bce60e60adca8d6c4597999f3eada0/6.jpeg\n",
      "http://www.mangaread.org/wp-content/uploads/WP-manga/data/manga_5e08fdccf028f/31bce60e60adca8d6c4597999f3eada0/7.jpeg\n",
      "http://www.mangaread.org/wp-content/uploads/WP-manga/data/manga_5e08fdccf028f/31bce60e60adca8d6c4597999f3eada0/8.jpeg\n",
      "http://www.mangaread.org/wp-content/uploads/WP-manga/data/manga_5e08fdccf028f/31bce60e60adca8d6c4597999f3eada0/9.jpeg\n",
      "http://www.mangaread.org/wp-content/uploads/WP-manga/data/manga_5e08fdccf028f/31bce60e60adca8d6c4597999f3eada0/10.jpeg\n",
      "http://www.mangaread.org/wp-content/uploads/WP-manga/data/manga_5e08fdccf028f/31bce60e60adca8d6c4597999f3eada0/11.jpeg\n",
      "http://www.mangaread.org/wp-content/uploads/WP-manga/data/manga_5e08fdccf028f/31bce60e60adca8d6c4597999f3eada0/12.jpeg\n",
      "http://www.mangaread.org/wp-content/uploads/WP-manga/data/manga_5e08fdccf028f/31bce60e60adca8d6c4597999f3eada0/13.jpeg\n",
      "http://www.mangaread.org/wp-content/uploads/WP-manga/data/manga_5e08fdccf028f/31bce60e60adca8d6c4597999f3eada0/14.jpeg\n",
      "http://www.mangaread.org/wp-content/uploads/WP-manga/data/manga_5e08fdccf028f/31bce60e60adca8d6c4597999f3eada0/15.jpeg\n",
      "http://www.mangaread.org/wp-content/uploads/WP-manga/data/manga_5e08fdccf028f/31bce60e60adca8d6c4597999f3eada0/16.jpeg\n",
      "http://www.mangaread.org/wp-content/uploads/WP-manga/data/manga_5e08fdccf028f/31bce60e60adca8d6c4597999f3eada0/17.jpeg\n",
      "http://www.mangaread.org/wp-content/uploads/WP-manga/data/manga_5e08fdccf028f/31bce60e60adca8d6c4597999f3eada0/18.jpeg\n",
      "http://www.mangaread.org/wp-content/uploads/WP-manga/data/manga_5e08fdccf028f/31bce60e60adca8d6c4597999f3eada0/19.jpeg\n",
      "http://www.mangaread.org/wp-content/uploads/WP-manga/data/manga_5e08fdccf028f/31bce60e60adca8d6c4597999f3eada0/20.jpeg\n",
      "http://www.mangaread.org/wp-content/uploads/WP-manga/data/manga_5e08fdccf028f/31bce60e60adca8d6c4597999f3eada0/21.jpeg\n",
      "http://www.mangaread.org/wp-content/uploads/WP-manga/data/manga_5e08fdccf028f/31bce60e60adca8d6c4597999f3eada0/22.jpeg\n",
      "http://www.mangaread.org/wp-content/uploads/WP-manga/data/manga_5e08fdccf028f/31bce60e60adca8d6c4597999f3eada0/23.jpeg\n",
      "http://www.mangaread.org/wp-content/uploads/WP-manga/data/manga_5e08fdccf028f/31bce60e60adca8d6c4597999f3eada0/24.jpeg\n",
      "http://www.mangaread.org/wp-content/uploads/WP-manga/data/manga_5e08fdccf028f/31bce60e60adca8d6c4597999f3eada0/25.jpeg\n",
      "http://www.mangaread.org/wp-content/uploads/WP-manga/data/manga_5e08fdccf028f/31bce60e60adca8d6c4597999f3eada0/26.jpeg\n",
      "http://www.mangaread.org/wp-content/uploads/WP-manga/data/manga_5e08fdccf028f/31bce60e60adca8d6c4597999f3eada0/27.jpeg\n",
      "http://www.mangaread.org/wp-content/uploads/WP-manga/data/manga_5e08fdccf028f/31bce60e60adca8d6c4597999f3eada0/28.jpeg\n",
      "http://www.mangaread.org/wp-content/uploads/WP-manga/data/manga_5e08fdccf028f/31bce60e60adca8d6c4597999f3eada0/29.jpeg\n",
      "http://www.mangaread.org/wp-content/uploads/WP-manga/data/manga_5e08fdccf028f/31bce60e60adca8d6c4597999f3eada0/30.jpeg\n",
      "http://www.mangaread.org/wp-content/uploads/WP-manga/data/manga_5e08fdccf028f/31bce60e60adca8d6c4597999f3eada0/31.jpeg\n",
      "http://www.mangaread.org/wp-content/uploads/WP-manga/data/manga_5e08fdccf028f/31bce60e60adca8d6c4597999f3eada0/32.jpeg\n",
      "http://www.mangaread.org/wp-content/uploads/WP-manga/data/manga_5e08fdccf028f/31bce60e60adca8d6c4597999f3eada0/33.jpeg\n",
      "http://www.mangaread.org/wp-content/uploads/WP-manga/data/manga_5e08fdccf028f/31bce60e60adca8d6c4597999f3eada0/34.jpeg\n",
      "http://www.mangaread.org/wp-content/uploads/WP-manga/data/manga_5e08fdccf028f/31bce60e60adca8d6c4597999f3eada0/35.jpeg\n",
      "http://www.mangaread.org/wp-content/uploads/WP-manga/data/manga_5e08fdccf028f/31bce60e60adca8d6c4597999f3eada0/36.jpeg\n",
      "http://www.mangaread.org/wp-content/uploads/WP-manga/data/manga_5e08fdccf028f/31bce60e60adca8d6c4597999f3eada0/37.jpeg\n",
      "http://www.mangaread.org/wp-content/uploads/WP-manga/data/manga_5e08fdccf028f/31bce60e60adca8d6c4597999f3eada0/38.jpeg\n",
      "http://www.mangaread.org/wp-content/uploads/WP-manga/data/manga_5e08fdccf028f/31bce60e60adca8d6c4597999f3eada0/39.jpeg\n",
      "http://www.mangaread.org/wp-content/uploads/WP-manga/data/manga_5e08fdccf028f/31bce60e60adca8d6c4597999f3eada0/40.jpeg\n",
      "http://www.mangaread.org/wp-content/uploads/WP-manga/data/manga_5e08fdccf028f/31bce60e60adca8d6c4597999f3eada0/41.jpeg\n",
      "http://www.mangaread.org/wp-content/uploads/WP-manga/data/manga_5e08fdccf028f/31bce60e60adca8d6c4597999f3eada0/42.jpeg\n"
     ]
    },
    {
     "name": "stderr",
     "output_type": "stream",
     "text": [
      " 74%|██████████████████████████████████████████████████████████▎                    | 73/99 [1:16:10<49:29, 114.19s/it]"
     ]
    },
    {
     "name": "stdout",
     "output_type": "stream",
     "text": [
      "finish\n",
      "----------------------------------------------------------------------------------------------------\n",
      "starting crawl chapter 74\n",
      "http://www.mangaread.org/wp-content/uploads/WP-manga/data/manga_5e08fdccf028f/d5b2c81a79958679bfe7c241772fc3eb/2.jpeg\n",
      "http://www.mangaread.org/wp-content/uploads/WP-manga/data/manga_5e08fdccf028f/d5b2c81a79958679bfe7c241772fc3eb/3.jpeg\n",
      "http://www.mangaread.org/wp-content/uploads/WP-manga/data/manga_5e08fdccf028f/d5b2c81a79958679bfe7c241772fc3eb/4.jpeg\n",
      "http://www.mangaread.org/wp-content/uploads/WP-manga/data/manga_5e08fdccf028f/d5b2c81a79958679bfe7c241772fc3eb/5.jpeg\n",
      "http://www.mangaread.org/wp-content/uploads/WP-manga/data/manga_5e08fdccf028f/d5b2c81a79958679bfe7c241772fc3eb/6.jpeg\n",
      "http://www.mangaread.org/wp-content/uploads/WP-manga/data/manga_5e08fdccf028f/d5b2c81a79958679bfe7c241772fc3eb/7.jpeg\n",
      "http://www.mangaread.org/wp-content/uploads/WP-manga/data/manga_5e08fdccf028f/d5b2c81a79958679bfe7c241772fc3eb/8.jpeg\n",
      "http://www.mangaread.org/wp-content/uploads/WP-manga/data/manga_5e08fdccf028f/d5b2c81a79958679bfe7c241772fc3eb/9.jpeg\n",
      "http://www.mangaread.org/wp-content/uploads/WP-manga/data/manga_5e08fdccf028f/d5b2c81a79958679bfe7c241772fc3eb/10.jpeg\n",
      "http://www.mangaread.org/wp-content/uploads/WP-manga/data/manga_5e08fdccf028f/d5b2c81a79958679bfe7c241772fc3eb/11.jpeg\n",
      "http://www.mangaread.org/wp-content/uploads/WP-manga/data/manga_5e08fdccf028f/d5b2c81a79958679bfe7c241772fc3eb/12.jpeg\n",
      "http://www.mangaread.org/wp-content/uploads/WP-manga/data/manga_5e08fdccf028f/d5b2c81a79958679bfe7c241772fc3eb/13.jpeg\n",
      "http://www.mangaread.org/wp-content/uploads/WP-manga/data/manga_5e08fdccf028f/d5b2c81a79958679bfe7c241772fc3eb/14.jpeg\n",
      "http://www.mangaread.org/wp-content/uploads/WP-manga/data/manga_5e08fdccf028f/d5b2c81a79958679bfe7c241772fc3eb/15.jpeg\n",
      "http://www.mangaread.org/wp-content/uploads/WP-manga/data/manga_5e08fdccf028f/d5b2c81a79958679bfe7c241772fc3eb/16.jpeg\n",
      "http://www.mangaread.org/wp-content/uploads/WP-manga/data/manga_5e08fdccf028f/d5b2c81a79958679bfe7c241772fc3eb/17.jpeg\n",
      "http://www.mangaread.org/wp-content/uploads/WP-manga/data/manga_5e08fdccf028f/d5b2c81a79958679bfe7c241772fc3eb/18.jpeg\n",
      "http://www.mangaread.org/wp-content/uploads/WP-manga/data/manga_5e08fdccf028f/d5b2c81a79958679bfe7c241772fc3eb/19.jpeg\n",
      "http://www.mangaread.org/wp-content/uploads/WP-manga/data/manga_5e08fdccf028f/d5b2c81a79958679bfe7c241772fc3eb/20.jpeg\n",
      "http://www.mangaread.org/wp-content/uploads/WP-manga/data/manga_5e08fdccf028f/d5b2c81a79958679bfe7c241772fc3eb/21.jpeg\n",
      "http://www.mangaread.org/wp-content/uploads/WP-manga/data/manga_5e08fdccf028f/d5b2c81a79958679bfe7c241772fc3eb/22.jpeg\n",
      "http://www.mangaread.org/wp-content/uploads/WP-manga/data/manga_5e08fdccf028f/d5b2c81a79958679bfe7c241772fc3eb/23.jpeg\n",
      "http://www.mangaread.org/wp-content/uploads/WP-manga/data/manga_5e08fdccf028f/d5b2c81a79958679bfe7c241772fc3eb/24.jpeg\n",
      "http://www.mangaread.org/wp-content/uploads/WP-manga/data/manga_5e08fdccf028f/d5b2c81a79958679bfe7c241772fc3eb/25.jpeg\n",
      "http://www.mangaread.org/wp-content/uploads/WP-manga/data/manga_5e08fdccf028f/d5b2c81a79958679bfe7c241772fc3eb/26.jpeg\n",
      "http://www.mangaread.org/wp-content/uploads/WP-manga/data/manga_5e08fdccf028f/d5b2c81a79958679bfe7c241772fc3eb/27.jpeg\n",
      "http://www.mangaread.org/wp-content/uploads/WP-manga/data/manga_5e08fdccf028f/d5b2c81a79958679bfe7c241772fc3eb/28.jpeg\n",
      "http://www.mangaread.org/wp-content/uploads/WP-manga/data/manga_5e08fdccf028f/d5b2c81a79958679bfe7c241772fc3eb/29.jpeg\n",
      "http://www.mangaread.org/wp-content/uploads/WP-manga/data/manga_5e08fdccf028f/d5b2c81a79958679bfe7c241772fc3eb/30.jpeg\n",
      "http://www.mangaread.org/wp-content/uploads/WP-manga/data/manga_5e08fdccf028f/d5b2c81a79958679bfe7c241772fc3eb/31.jpeg\n",
      "http://www.mangaread.org/wp-content/uploads/WP-manga/data/manga_5e08fdccf028f/d5b2c81a79958679bfe7c241772fc3eb/32.jpeg\n",
      "http://www.mangaread.org/wp-content/uploads/WP-manga/data/manga_5e08fdccf028f/d5b2c81a79958679bfe7c241772fc3eb/33.jpeg\n",
      "http://www.mangaread.org/wp-content/uploads/WP-manga/data/manga_5e08fdccf028f/d5b2c81a79958679bfe7c241772fc3eb/34.jpeg\n",
      "http://www.mangaread.org/wp-content/uploads/WP-manga/data/manga_5e08fdccf028f/d5b2c81a79958679bfe7c241772fc3eb/35.jpeg\n",
      "http://www.mangaread.org/wp-content/uploads/WP-manga/data/manga_5e08fdccf028f/d5b2c81a79958679bfe7c241772fc3eb/36.jpeg\n",
      "http://www.mangaread.org/wp-content/uploads/WP-manga/data/manga_5e08fdccf028f/d5b2c81a79958679bfe7c241772fc3eb/37.jpeg\n",
      "http://www.mangaread.org/wp-content/uploads/WP-manga/data/manga_5e08fdccf028f/d5b2c81a79958679bfe7c241772fc3eb/38.jpeg\n"
     ]
    },
    {
     "name": "stderr",
     "output_type": "stream",
     "text": [
      " 75%|███████████████████████████████████████████████████████████                    | 74/99 [1:17:40<44:32, 106.89s/it]"
     ]
    },
    {
     "name": "stdout",
     "output_type": "stream",
     "text": [
      "finish\n",
      "----------------------------------------------------------------------------------------------------\n",
      "starting crawl chapter 75\n",
      "http://www.mangaread.org/wp-content/uploads/WP-manga/data/manga_5e08fdccf028f/103edc4273c91a35cf5cb525c51a0aea/skeleton_soldier_couldnt_protect_the_dungeon_75_1.jpg\n",
      "http://www.mangaread.org/wp-content/uploads/WP-manga/data/manga_5e08fdccf028f/103edc4273c91a35cf5cb525c51a0aea/skeleton_soldier_couldnt_protect_the_dungeon_75_2.jpg\n",
      "http://www.mangaread.org/wp-content/uploads/WP-manga/data/manga_5e08fdccf028f/103edc4273c91a35cf5cb525c51a0aea/skeleton_soldier_couldnt_protect_the_dungeon_75_3.jpg\n",
      "http://www.mangaread.org/wp-content/uploads/WP-manga/data/manga_5e08fdccf028f/103edc4273c91a35cf5cb525c51a0aea/skeleton_soldier_couldnt_protect_the_dungeon_75_4.jpg\n",
      "http://www.mangaread.org/wp-content/uploads/WP-manga/data/manga_5e08fdccf028f/103edc4273c91a35cf5cb525c51a0aea/skeleton_soldier_couldnt_protect_the_dungeon_75_5.jpg\n",
      "http://www.mangaread.org/wp-content/uploads/WP-manga/data/manga_5e08fdccf028f/103edc4273c91a35cf5cb525c51a0aea/skeleton_soldier_couldnt_protect_the_dungeon_75_6.jpg\n",
      "http://www.mangaread.org/wp-content/uploads/WP-manga/data/manga_5e08fdccf028f/103edc4273c91a35cf5cb525c51a0aea/skeleton_soldier_couldnt_protect_the_dungeon_75_7.jpg\n",
      "http://www.mangaread.org/wp-content/uploads/WP-manga/data/manga_5e08fdccf028f/103edc4273c91a35cf5cb525c51a0aea/skeleton_soldier_couldnt_protect_the_dungeon_75_8.jpg\n",
      "http://www.mangaread.org/wp-content/uploads/WP-manga/data/manga_5e08fdccf028f/103edc4273c91a35cf5cb525c51a0aea/skeleton_soldier_couldnt_protect_the_dungeon_75_9.jpg\n",
      "http://www.mangaread.org/wp-content/uploads/WP-manga/data/manga_5e08fdccf028f/103edc4273c91a35cf5cb525c51a0aea/skeleton_soldier_couldnt_protect_the_dungeon_75_10.jpg\n",
      "http://www.mangaread.org/wp-content/uploads/WP-manga/data/manga_5e08fdccf028f/103edc4273c91a35cf5cb525c51a0aea/skeleton_soldier_couldnt_protect_the_dungeon_75_11.jpg\n",
      "http://www.mangaread.org/wp-content/uploads/WP-manga/data/manga_5e08fdccf028f/103edc4273c91a35cf5cb525c51a0aea/skeleton_soldier_couldnt_protect_the_dungeon_75_12.jpg\n",
      "http://www.mangaread.org/wp-content/uploads/WP-manga/data/manga_5e08fdccf028f/103edc4273c91a35cf5cb525c51a0aea/skeleton_soldier_couldnt_protect_the_dungeon_75_13.jpg\n",
      "http://www.mangaread.org/wp-content/uploads/WP-manga/data/manga_5e08fdccf028f/103edc4273c91a35cf5cb525c51a0aea/skeleton_soldier_couldnt_protect_the_dungeon_75_14.jpg\n",
      "http://www.mangaread.org/wp-content/uploads/WP-manga/data/manga_5e08fdccf028f/103edc4273c91a35cf5cb525c51a0aea/skeleton_soldier_couldnt_protect_the_dungeon_75_15.jpg\n",
      "http://www.mangaread.org/wp-content/uploads/WP-manga/data/manga_5e08fdccf028f/103edc4273c91a35cf5cb525c51a0aea/skeleton_soldier_couldnt_protect_the_dungeon_75_16.jpg\n",
      "http://www.mangaread.org/wp-content/uploads/WP-manga/data/manga_5e08fdccf028f/103edc4273c91a35cf5cb525c51a0aea/skeleton_soldier_couldnt_protect_the_dungeon_75_17.jpg\n",
      "http://www.mangaread.org/wp-content/uploads/WP-manga/data/manga_5e08fdccf028f/103edc4273c91a35cf5cb525c51a0aea/skeleton_soldier_couldnt_protect_the_dungeon_75_18.jpg\n",
      "http://www.mangaread.org/wp-content/uploads/WP-manga/data/manga_5e08fdccf028f/103edc4273c91a35cf5cb525c51a0aea/skeleton_soldier_couldnt_protect_the_dungeon_75_19.jpg\n",
      "http://www.mangaread.org/wp-content/uploads/WP-manga/data/manga_5e08fdccf028f/103edc4273c91a35cf5cb525c51a0aea/skeleton_soldier_couldnt_protect_the_dungeon_75_20.jpg\n",
      "http://www.mangaread.org/wp-content/uploads/WP-manga/data/manga_5e08fdccf028f/103edc4273c91a35cf5cb525c51a0aea/skeleton_soldier_couldnt_protect_the_dungeon_75_21.jpg\n",
      "http://www.mangaread.org/wp-content/uploads/WP-manga/data/manga_5e08fdccf028f/103edc4273c91a35cf5cb525c51a0aea/skeleton_soldier_couldnt_protect_the_dungeon_75_22.jpg\n",
      "http://www.mangaread.org/wp-content/uploads/WP-manga/data/manga_5e08fdccf028f/103edc4273c91a35cf5cb525c51a0aea/skeleton_soldier_couldnt_protect_the_dungeon_75_23.jpg\n",
      "http://www.mangaread.org/wp-content/uploads/WP-manga/data/manga_5e08fdccf028f/103edc4273c91a35cf5cb525c51a0aea/skeleton_soldier_couldnt_protect_the_dungeon_75_24.jpg\n",
      "http://www.mangaread.org/wp-content/uploads/WP-manga/data/manga_5e08fdccf028f/103edc4273c91a35cf5cb525c51a0aea/skeleton_soldier_couldnt_protect_the_dungeon_75_25.jpg\n",
      "http://www.mangaread.org/wp-content/uploads/WP-manga/data/manga_5e08fdccf028f/103edc4273c91a35cf5cb525c51a0aea/skeleton_soldier_couldnt_protect_the_dungeon_75_26.jpg\n",
      "http://www.mangaread.org/wp-content/uploads/WP-manga/data/manga_5e08fdccf028f/103edc4273c91a35cf5cb525c51a0aea/skeleton_soldier_couldnt_protect_the_dungeon_75_27.jpg\n",
      "http://www.mangaread.org/wp-content/uploads/WP-manga/data/manga_5e08fdccf028f/103edc4273c91a35cf5cb525c51a0aea/skeleton_soldier_couldnt_protect_the_dungeon_75_28.jpg\n",
      "http://www.mangaread.org/wp-content/uploads/WP-manga/data/manga_5e08fdccf028f/103edc4273c91a35cf5cb525c51a0aea/skeleton_soldier_couldnt_protect_the_dungeon_75_29.jpg\n",
      "http://www.mangaread.org/wp-content/uploads/WP-manga/data/manga_5e08fdccf028f/103edc4273c91a35cf5cb525c51a0aea/skeleton_soldier_couldnt_protect_the_dungeon_75_30.jpg\n",
      "http://www.mangaread.org/wp-content/uploads/WP-manga/data/manga_5e08fdccf028f/103edc4273c91a35cf5cb525c51a0aea/skeleton_soldier_couldnt_protect_the_dungeon_75_31.jpg\n",
      "http://www.mangaread.org/wp-content/uploads/WP-manga/data/manga_5e08fdccf028f/103edc4273c91a35cf5cb525c51a0aea/skeleton_soldier_couldnt_protect_the_dungeon_75_32.jpg\n",
      "http://www.mangaread.org/wp-content/uploads/WP-manga/data/manga_5e08fdccf028f/103edc4273c91a35cf5cb525c51a0aea/skeleton_soldier_couldnt_protect_the_dungeon_75_33.jpg\n",
      "http://www.mangaread.org/wp-content/uploads/WP-manga/data/manga_5e08fdccf028f/103edc4273c91a35cf5cb525c51a0aea/skeleton_soldier_couldnt_protect_the_dungeon_75_34.jpg\n",
      "http://www.mangaread.org/wp-content/uploads/WP-manga/data/manga_5e08fdccf028f/103edc4273c91a35cf5cb525c51a0aea/skeleton_soldier_couldnt_protect_the_dungeon_75_35.jpg\n",
      "http://www.mangaread.org/wp-content/uploads/WP-manga/data/manga_5e08fdccf028f/103edc4273c91a35cf5cb525c51a0aea/skeleton_soldier_couldnt_protect_the_dungeon_75_36.jpg\n",
      "http://www.mangaread.org/wp-content/uploads/WP-manga/data/manga_5e08fdccf028f/103edc4273c91a35cf5cb525c51a0aea/skeleton_soldier_couldnt_protect_the_dungeon_75_37.jpg\n",
      "http://www.mangaread.org/wp-content/uploads/WP-manga/data/manga_5e08fdccf028f/103edc4273c91a35cf5cb525c51a0aea/skeleton_soldier_couldnt_protect_the_dungeon_75_38.jpg\n",
      "http://www.mangaread.org/wp-content/uploads/WP-manga/data/manga_5e08fdccf028f/103edc4273c91a35cf5cb525c51a0aea/skeleton_soldier_couldnt_protect_the_dungeon_75_39.jpg\n",
      "http://www.mangaread.org/wp-content/uploads/WP-manga/data/manga_5e08fdccf028f/103edc4273c91a35cf5cb525c51a0aea/skeleton_soldier_couldnt_protect_the_dungeon_75_40.jpg\n",
      "http://www.mangaread.org/wp-content/uploads/WP-manga/data/manga_5e08fdccf028f/103edc4273c91a35cf5cb525c51a0aea/skeleton_soldier_couldnt_protect_the_dungeon_75_41.jpg\n",
      "http://www.mangaread.org/wp-content/uploads/WP-manga/data/manga_5e08fdccf028f/103edc4273c91a35cf5cb525c51a0aea/skeleton_soldier_couldnt_protect_the_dungeon_75_42.jpg\n",
      "http://www.mangaread.org/wp-content/uploads/WP-manga/data/manga_5e08fdccf028f/103edc4273c91a35cf5cb525c51a0aea/skeleton_soldier_couldnt_protect_the_dungeon_75_43.jpg\n",
      "http://www.mangaread.org/wp-content/uploads/WP-manga/data/manga_5e08fdccf028f/103edc4273c91a35cf5cb525c51a0aea/skeleton_soldier_couldnt_protect_the_dungeon_75_44.jpg\n",
      "http://www.mangaread.org/wp-content/uploads/WP-manga/data/manga_5e08fdccf028f/103edc4273c91a35cf5cb525c51a0aea/skeleton_soldier_couldnt_protect_the_dungeon_75_45.jpg\n",
      "http://www.mangaread.org/wp-content/uploads/WP-manga/data/manga_5e08fdccf028f/103edc4273c91a35cf5cb525c51a0aea/skeleton_soldier_couldnt_protect_the_dungeon_75_46.jpg\n",
      "http://www.mangaread.org/wp-content/uploads/WP-manga/data/manga_5e08fdccf028f/103edc4273c91a35cf5cb525c51a0aea/skeleton_soldier_couldnt_protect_the_dungeon_75_47.jpg\n",
      "http://www.mangaread.org/wp-content/uploads/WP-manga/data/manga_5e08fdccf028f/103edc4273c91a35cf5cb525c51a0aea/skeleton_soldier_couldnt_protect_the_dungeon_75_48.jpg\n",
      "http://www.mangaread.org/wp-content/uploads/WP-manga/data/manga_5e08fdccf028f/103edc4273c91a35cf5cb525c51a0aea/skeleton_soldier_couldnt_protect_the_dungeon_75_49.jpg\n",
      "http://www.mangaread.org/wp-content/uploads/WP-manga/data/manga_5e08fdccf028f/103edc4273c91a35cf5cb525c51a0aea/skeleton_soldier_couldnt_protect_the_dungeon_75_50.jpg\n",
      "http://www.mangaread.org/wp-content/uploads/WP-manga/data/manga_5e08fdccf028f/103edc4273c91a35cf5cb525c51a0aea/skeleton_soldier_couldnt_protect_the_dungeon_75_51.jpg\n",
      "http://www.mangaread.org/wp-content/uploads/WP-manga/data/manga_5e08fdccf028f/103edc4273c91a35cf5cb525c51a0aea/skeleton_soldier_couldnt_protect_the_dungeon_75_52.jpg\n",
      "http://www.mangaread.org/wp-content/uploads/WP-manga/data/manga_5e08fdccf028f/103edc4273c91a35cf5cb525c51a0aea/skeleton_soldier_couldnt_protect_the_dungeon_75_53.jpg\n",
      "http://www.mangaread.org/wp-content/uploads/WP-manga/data/manga_5e08fdccf028f/103edc4273c91a35cf5cb525c51a0aea/skeleton_soldier_couldnt_protect_the_dungeon_75_54.jpg\n",
      "http://www.mangaread.org/wp-content/uploads/WP-manga/data/manga_5e08fdccf028f/103edc4273c91a35cf5cb525c51a0aea/skeleton_soldier_couldnt_protect_the_dungeon_75_55.jpg\n",
      "http://www.mangaread.org/wp-content/uploads/WP-manga/data/manga_5e08fdccf028f/103edc4273c91a35cf5cb525c51a0aea/skeleton_soldier_couldnt_protect_the_dungeon_75_56.jpg\n",
      "http://www.mangaread.org/wp-content/uploads/WP-manga/data/manga_5e08fdccf028f/103edc4273c91a35cf5cb525c51a0aea/skeleton_soldier_couldnt_protect_the_dungeon_75_57.jpg\n",
      "http://www.mangaread.org/wp-content/uploads/WP-manga/data/manga_5e08fdccf028f/103edc4273c91a35cf5cb525c51a0aea/skeleton_soldier_couldnt_protect_the_dungeon_75_58.jpg\n",
      "http://www.mangaread.org/wp-content/uploads/WP-manga/data/manga_5e08fdccf028f/103edc4273c91a35cf5cb525c51a0aea/skeleton_soldier_couldnt_protect_the_dungeon_75_59.jpg\n",
      "http://www.mangaread.org/wp-content/uploads/WP-manga/data/manga_5e08fdccf028f/103edc4273c91a35cf5cb525c51a0aea/skeleton_soldier_couldnt_protect_the_dungeon_75_60.jpg\n",
      "http://www.mangaread.org/wp-content/uploads/WP-manga/data/manga_5e08fdccf028f/103edc4273c91a35cf5cb525c51a0aea/skeleton_soldier_couldnt_protect_the_dungeon_75_61.jpg\n",
      "http://www.mangaread.org/wp-content/uploads/WP-manga/data/manga_5e08fdccf028f/103edc4273c91a35cf5cb525c51a0aea/skeleton_soldier_couldnt_protect_the_dungeon_75_62.jpg\n",
      "http://www.mangaread.org/wp-content/uploads/WP-manga/data/manga_5e08fdccf028f/103edc4273c91a35cf5cb525c51a0aea/skeleton_soldier_couldnt_protect_the_dungeon_75_63.jpg\n",
      "http://www.mangaread.org/wp-content/uploads/WP-manga/data/manga_5e08fdccf028f/103edc4273c91a35cf5cb525c51a0aea/skeleton_soldier_couldnt_protect_the_dungeon_75_64.jpg\n",
      "http://www.mangaread.org/wp-content/uploads/WP-manga/data/manga_5e08fdccf028f/103edc4273c91a35cf5cb525c51a0aea/skeleton_soldier_couldnt_protect_the_dungeon_75_65.jpg\n",
      "http://www.mangaread.org/wp-content/uploads/WP-manga/data/manga_5e08fdccf028f/103edc4273c91a35cf5cb525c51a0aea/skeleton_soldier_couldnt_protect_the_dungeon_75_66.jpg\n",
      "http://www.mangaread.org/wp-content/uploads/WP-manga/data/manga_5e08fdccf028f/103edc4273c91a35cf5cb525c51a0aea/skeleton_soldier_couldnt_protect_the_dungeon_75_67.jpg\n",
      "http://www.mangaread.org/wp-content/uploads/WP-manga/data/manga_5e08fdccf028f/103edc4273c91a35cf5cb525c51a0aea/skeleton_soldier_couldnt_protect_the_dungeon_75_68.jpg\n",
      "http://www.mangaread.org/wp-content/uploads/WP-manga/data/manga_5e08fdccf028f/103edc4273c91a35cf5cb525c51a0aea/skeleton_soldier_couldnt_protect_the_dungeon_75_69.jpg\n",
      "http://www.mangaread.org/wp-content/uploads/WP-manga/data/manga_5e08fdccf028f/103edc4273c91a35cf5cb525c51a0aea/skeleton_soldier_couldnt_protect_the_dungeon_75_70.jpg\n",
      "http://www.mangaread.org/wp-content/uploads/WP-manga/data/manga_5e08fdccf028f/103edc4273c91a35cf5cb525c51a0aea/skeleton_soldier_couldnt_protect_the_dungeon_75_71.jpg\n",
      "http://www.mangaread.org/wp-content/uploads/WP-manga/data/manga_5e08fdccf028f/103edc4273c91a35cf5cb525c51a0aea/skeleton_soldier_couldnt_protect_the_dungeon_75_72.jpg\n",
      "http://www.mangaread.org/wp-content/uploads/WP-manga/data/manga_5e08fdccf028f/103edc4273c91a35cf5cb525c51a0aea/skeleton_soldier_couldnt_protect_the_dungeon_75_73.jpg\n",
      "http://www.mangaread.org/wp-content/uploads/WP-manga/data/manga_5e08fdccf028f/103edc4273c91a35cf5cb525c51a0aea/skeleton_soldier_couldnt_protect_the_dungeon_75_74.jpg\n",
      "http://www.mangaread.org/wp-content/uploads/WP-manga/data/manga_5e08fdccf028f/103edc4273c91a35cf5cb525c51a0aea/skeleton_soldier_couldnt_protect_the_dungeon_75_75.jpg\n",
      "http://www.mangaread.org/wp-content/uploads/WP-manga/data/manga_5e08fdccf028f/103edc4273c91a35cf5cb525c51a0aea/skeleton_soldier_couldnt_protect_the_dungeon_75_76.jpg\n",
      "http://www.mangaread.org/wp-content/uploads/WP-manga/data/manga_5e08fdccf028f/103edc4273c91a35cf5cb525c51a0aea/skeleton_soldier_couldnt_protect_the_dungeon_75_77.jpg\n",
      "http://www.mangaread.org/wp-content/uploads/WP-manga/data/manga_5e08fdccf028f/103edc4273c91a35cf5cb525c51a0aea/skeleton_soldier_couldnt_protect_the_dungeon_75_78.jpg\n",
      "http://www.mangaread.org/wp-content/uploads/WP-manga/data/manga_5e08fdccf028f/103edc4273c91a35cf5cb525c51a0aea/skeleton_soldier_couldnt_protect_the_dungeon_75_79.jpg\n",
      "http://www.mangaread.org/wp-content/uploads/WP-manga/data/manga_5e08fdccf028f/103edc4273c91a35cf5cb525c51a0aea/skeleton_soldier_couldnt_protect_the_dungeon_75_80.jpg\n",
      "http://www.mangaread.org/wp-content/uploads/WP-manga/data/manga_5e08fdccf028f/103edc4273c91a35cf5cb525c51a0aea/skeleton_soldier_couldnt_protect_the_dungeon_75_81.jpg\n",
      "http://www.mangaread.org/wp-content/uploads/WP-manga/data/manga_5e08fdccf028f/103edc4273c91a35cf5cb525c51a0aea/skeleton_soldier_couldnt_protect_the_dungeon_75_82.jpg\n"
     ]
    },
    {
     "name": "stderr",
     "output_type": "stream",
     "text": [
      " 76%|███████████████████████████████████████████████████████████▊                   | 75/99 [1:20:29<50:15, 125.64s/it]"
     ]
    },
    {
     "name": "stdout",
     "output_type": "stream",
     "text": [
      "finish\n",
      "----------------------------------------------------------------------------------------------------\n",
      "starting crawl chapter 76\n",
      "http://www.mangaread.org/wp-content/uploads/WP-manga/data/manga_5e08fdccf028f/c19d446c95ee65924fd3e3093af00467/skeleton_soldier_couldnt_protect_the_dungeon_76_1.jpg\n",
      "http://www.mangaread.org/wp-content/uploads/WP-manga/data/manga_5e08fdccf028f/c19d446c95ee65924fd3e3093af00467/skeleton_soldier_couldnt_protect_the_dungeon_76_2.jpg\n",
      "http://www.mangaread.org/wp-content/uploads/WP-manga/data/manga_5e08fdccf028f/c19d446c95ee65924fd3e3093af00467/skeleton_soldier_couldnt_protect_the_dungeon_76_3.jpg\n",
      "http://www.mangaread.org/wp-content/uploads/WP-manga/data/manga_5e08fdccf028f/c19d446c95ee65924fd3e3093af00467/skeleton_soldier_couldnt_protect_the_dungeon_76_4.jpg\n",
      "http://www.mangaread.org/wp-content/uploads/WP-manga/data/manga_5e08fdccf028f/c19d446c95ee65924fd3e3093af00467/skeleton_soldier_couldnt_protect_the_dungeon_76_5.jpg\n",
      "http://www.mangaread.org/wp-content/uploads/WP-manga/data/manga_5e08fdccf028f/c19d446c95ee65924fd3e3093af00467/skeleton_soldier_couldnt_protect_the_dungeon_76_6.jpg\n",
      "http://www.mangaread.org/wp-content/uploads/WP-manga/data/manga_5e08fdccf028f/c19d446c95ee65924fd3e3093af00467/skeleton_soldier_couldnt_protect_the_dungeon_76_7.jpg\n",
      "http://www.mangaread.org/wp-content/uploads/WP-manga/data/manga_5e08fdccf028f/c19d446c95ee65924fd3e3093af00467/skeleton_soldier_couldnt_protect_the_dungeon_76_8.jpg\n",
      "http://www.mangaread.org/wp-content/uploads/WP-manga/data/manga_5e08fdccf028f/c19d446c95ee65924fd3e3093af00467/skeleton_soldier_couldnt_protect_the_dungeon_76_9.jpg\n",
      "http://www.mangaread.org/wp-content/uploads/WP-manga/data/manga_5e08fdccf028f/c19d446c95ee65924fd3e3093af00467/skeleton_soldier_couldnt_protect_the_dungeon_76_10.jpg\n",
      "http://www.mangaread.org/wp-content/uploads/WP-manga/data/manga_5e08fdccf028f/c19d446c95ee65924fd3e3093af00467/skeleton_soldier_couldnt_protect_the_dungeon_76_11.jpg\n",
      "http://www.mangaread.org/wp-content/uploads/WP-manga/data/manga_5e08fdccf028f/c19d446c95ee65924fd3e3093af00467/skeleton_soldier_couldnt_protect_the_dungeon_76_12.jpg\n",
      "http://www.mangaread.org/wp-content/uploads/WP-manga/data/manga_5e08fdccf028f/c19d446c95ee65924fd3e3093af00467/skeleton_soldier_couldnt_protect_the_dungeon_76_13.jpg\n",
      "http://www.mangaread.org/wp-content/uploads/WP-manga/data/manga_5e08fdccf028f/c19d446c95ee65924fd3e3093af00467/skeleton_soldier_couldnt_protect_the_dungeon_76_14.jpg\n",
      "http://www.mangaread.org/wp-content/uploads/WP-manga/data/manga_5e08fdccf028f/c19d446c95ee65924fd3e3093af00467/skeleton_soldier_couldnt_protect_the_dungeon_76_15.jpg\n",
      "http://www.mangaread.org/wp-content/uploads/WP-manga/data/manga_5e08fdccf028f/c19d446c95ee65924fd3e3093af00467/skeleton_soldier_couldnt_protect_the_dungeon_76_16.jpg\n",
      "http://www.mangaread.org/wp-content/uploads/WP-manga/data/manga_5e08fdccf028f/c19d446c95ee65924fd3e3093af00467/skeleton_soldier_couldnt_protect_the_dungeon_76_17.jpg\n",
      "http://www.mangaread.org/wp-content/uploads/WP-manga/data/manga_5e08fdccf028f/c19d446c95ee65924fd3e3093af00467/skeleton_soldier_couldnt_protect_the_dungeon_76_18.jpg\n",
      "http://www.mangaread.org/wp-content/uploads/WP-manga/data/manga_5e08fdccf028f/c19d446c95ee65924fd3e3093af00467/skeleton_soldier_couldnt_protect_the_dungeon_76_19.jpg\n",
      "http://www.mangaread.org/wp-content/uploads/WP-manga/data/manga_5e08fdccf028f/c19d446c95ee65924fd3e3093af00467/skeleton_soldier_couldnt_protect_the_dungeon_76_20.jpg\n",
      "http://www.mangaread.org/wp-content/uploads/WP-manga/data/manga_5e08fdccf028f/c19d446c95ee65924fd3e3093af00467/skeleton_soldier_couldnt_protect_the_dungeon_76_21.jpg\n",
      "http://www.mangaread.org/wp-content/uploads/WP-manga/data/manga_5e08fdccf028f/c19d446c95ee65924fd3e3093af00467/skeleton_soldier_couldnt_protect_the_dungeon_76_22.jpg\n",
      "http://www.mangaread.org/wp-content/uploads/WP-manga/data/manga_5e08fdccf028f/c19d446c95ee65924fd3e3093af00467/skeleton_soldier_couldnt_protect_the_dungeon_76_23.jpg\n",
      "http://www.mangaread.org/wp-content/uploads/WP-manga/data/manga_5e08fdccf028f/c19d446c95ee65924fd3e3093af00467/skeleton_soldier_couldnt_protect_the_dungeon_76_24.jpg\n",
      "http://www.mangaread.org/wp-content/uploads/WP-manga/data/manga_5e08fdccf028f/c19d446c95ee65924fd3e3093af00467/skeleton_soldier_couldnt_protect_the_dungeon_76_25.jpg\n",
      "http://www.mangaread.org/wp-content/uploads/WP-manga/data/manga_5e08fdccf028f/c19d446c95ee65924fd3e3093af00467/skeleton_soldier_couldnt_protect_the_dungeon_76_26.jpg\n",
      "http://www.mangaread.org/wp-content/uploads/WP-manga/data/manga_5e08fdccf028f/c19d446c95ee65924fd3e3093af00467/skeleton_soldier_couldnt_protect_the_dungeon_76_27.jpg\n",
      "http://www.mangaread.org/wp-content/uploads/WP-manga/data/manga_5e08fdccf028f/c19d446c95ee65924fd3e3093af00467/skeleton_soldier_couldnt_protect_the_dungeon_76_28.jpg\n",
      "http://www.mangaread.org/wp-content/uploads/WP-manga/data/manga_5e08fdccf028f/c19d446c95ee65924fd3e3093af00467/skeleton_soldier_couldnt_protect_the_dungeon_76_29.jpg\n",
      "http://www.mangaread.org/wp-content/uploads/WP-manga/data/manga_5e08fdccf028f/c19d446c95ee65924fd3e3093af00467/skeleton_soldier_couldnt_protect_the_dungeon_76_30.jpg\n",
      "http://www.mangaread.org/wp-content/uploads/WP-manga/data/manga_5e08fdccf028f/c19d446c95ee65924fd3e3093af00467/skeleton_soldier_couldnt_protect_the_dungeon_76_31.jpg\n",
      "http://www.mangaread.org/wp-content/uploads/WP-manga/data/manga_5e08fdccf028f/c19d446c95ee65924fd3e3093af00467/skeleton_soldier_couldnt_protect_the_dungeon_76_32.jpg\n",
      "http://www.mangaread.org/wp-content/uploads/WP-manga/data/manga_5e08fdccf028f/c19d446c95ee65924fd3e3093af00467/skeleton_soldier_couldnt_protect_the_dungeon_76_33.jpg\n",
      "http://www.mangaread.org/wp-content/uploads/WP-manga/data/manga_5e08fdccf028f/c19d446c95ee65924fd3e3093af00467/skeleton_soldier_couldnt_protect_the_dungeon_76_34.jpg\n",
      "http://www.mangaread.org/wp-content/uploads/WP-manga/data/manga_5e08fdccf028f/c19d446c95ee65924fd3e3093af00467/skeleton_soldier_couldnt_protect_the_dungeon_76_35.jpg\n",
      "http://www.mangaread.org/wp-content/uploads/WP-manga/data/manga_5e08fdccf028f/c19d446c95ee65924fd3e3093af00467/skeleton_soldier_couldnt_protect_the_dungeon_76_36.jpg\n",
      "http://www.mangaread.org/wp-content/uploads/WP-manga/data/manga_5e08fdccf028f/c19d446c95ee65924fd3e3093af00467/skeleton_soldier_couldnt_protect_the_dungeon_76_37.jpg\n",
      "http://www.mangaread.org/wp-content/uploads/WP-manga/data/manga_5e08fdccf028f/c19d446c95ee65924fd3e3093af00467/skeleton_soldier_couldnt_protect_the_dungeon_76_38.jpg\n",
      "http://www.mangaread.org/wp-content/uploads/WP-manga/data/manga_5e08fdccf028f/c19d446c95ee65924fd3e3093af00467/skeleton_soldier_couldnt_protect_the_dungeon_76_39.jpg\n",
      "http://www.mangaread.org/wp-content/uploads/WP-manga/data/manga_5e08fdccf028f/c19d446c95ee65924fd3e3093af00467/skeleton_soldier_couldnt_protect_the_dungeon_76_40.jpg\n",
      "http://www.mangaread.org/wp-content/uploads/WP-manga/data/manga_5e08fdccf028f/c19d446c95ee65924fd3e3093af00467/skeleton_soldier_couldnt_protect_the_dungeon_76_41.jpg\n",
      "http://www.mangaread.org/wp-content/uploads/WP-manga/data/manga_5e08fdccf028f/c19d446c95ee65924fd3e3093af00467/skeleton_soldier_couldnt_protect_the_dungeon_76_42.jpg\n",
      "http://www.mangaread.org/wp-content/uploads/WP-manga/data/manga_5e08fdccf028f/c19d446c95ee65924fd3e3093af00467/skeleton_soldier_couldnt_protect_the_dungeon_76_43.jpg\n",
      "http://www.mangaread.org/wp-content/uploads/WP-manga/data/manga_5e08fdccf028f/c19d446c95ee65924fd3e3093af00467/skeleton_soldier_couldnt_protect_the_dungeon_76_44.jpg\n",
      "http://www.mangaread.org/wp-content/uploads/WP-manga/data/manga_5e08fdccf028f/c19d446c95ee65924fd3e3093af00467/skeleton_soldier_couldnt_protect_the_dungeon_76_45.jpg\n",
      "http://www.mangaread.org/wp-content/uploads/WP-manga/data/manga_5e08fdccf028f/c19d446c95ee65924fd3e3093af00467/skeleton_soldier_couldnt_protect_the_dungeon_76_46.jpg\n",
      "http://www.mangaread.org/wp-content/uploads/WP-manga/data/manga_5e08fdccf028f/c19d446c95ee65924fd3e3093af00467/skeleton_soldier_couldnt_protect_the_dungeon_76_47.jpg\n",
      "http://www.mangaread.org/wp-content/uploads/WP-manga/data/manga_5e08fdccf028f/c19d446c95ee65924fd3e3093af00467/skeleton_soldier_couldnt_protect_the_dungeon_76_48.jpg\n",
      "http://www.mangaread.org/wp-content/uploads/WP-manga/data/manga_5e08fdccf028f/c19d446c95ee65924fd3e3093af00467/skeleton_soldier_couldnt_protect_the_dungeon_76_49.jpg\n",
      "http://www.mangaread.org/wp-content/uploads/WP-manga/data/manga_5e08fdccf028f/c19d446c95ee65924fd3e3093af00467/skeleton_soldier_couldnt_protect_the_dungeon_76_50.jpg\n",
      "http://www.mangaread.org/wp-content/uploads/WP-manga/data/manga_5e08fdccf028f/c19d446c95ee65924fd3e3093af00467/skeleton_soldier_couldnt_protect_the_dungeon_76_51.jpg\n",
      "http://www.mangaread.org/wp-content/uploads/WP-manga/data/manga_5e08fdccf028f/c19d446c95ee65924fd3e3093af00467/skeleton_soldier_couldnt_protect_the_dungeon_76_52.jpg\n",
      "http://www.mangaread.org/wp-content/uploads/WP-manga/data/manga_5e08fdccf028f/c19d446c95ee65924fd3e3093af00467/skeleton_soldier_couldnt_protect_the_dungeon_76_53.jpg\n",
      "http://www.mangaread.org/wp-content/uploads/WP-manga/data/manga_5e08fdccf028f/c19d446c95ee65924fd3e3093af00467/skeleton_soldier_couldnt_protect_the_dungeon_76_54.jpg\n",
      "http://www.mangaread.org/wp-content/uploads/WP-manga/data/manga_5e08fdccf028f/c19d446c95ee65924fd3e3093af00467/skeleton_soldier_couldnt_protect_the_dungeon_76_55.jpg\n",
      "http://www.mangaread.org/wp-content/uploads/WP-manga/data/manga_5e08fdccf028f/c19d446c95ee65924fd3e3093af00467/skeleton_soldier_couldnt_protect_the_dungeon_76_56.jpg\n",
      "http://www.mangaread.org/wp-content/uploads/WP-manga/data/manga_5e08fdccf028f/c19d446c95ee65924fd3e3093af00467/skeleton_soldier_couldnt_protect_the_dungeon_76_57.jpg\n",
      "http://www.mangaread.org/wp-content/uploads/WP-manga/data/manga_5e08fdccf028f/c19d446c95ee65924fd3e3093af00467/skeleton_soldier_couldnt_protect_the_dungeon_76_58.jpg\n",
      "http://www.mangaread.org/wp-content/uploads/WP-manga/data/manga_5e08fdccf028f/c19d446c95ee65924fd3e3093af00467/skeleton_soldier_couldnt_protect_the_dungeon_76_59.jpg\n",
      "http://www.mangaread.org/wp-content/uploads/WP-manga/data/manga_5e08fdccf028f/c19d446c95ee65924fd3e3093af00467/skeleton_soldier_couldnt_protect_the_dungeon_76_60.jpg\n",
      "http://www.mangaread.org/wp-content/uploads/WP-manga/data/manga_5e08fdccf028f/c19d446c95ee65924fd3e3093af00467/skeleton_soldier_couldnt_protect_the_dungeon_76_61.jpg\n",
      "http://www.mangaread.org/wp-content/uploads/WP-manga/data/manga_5e08fdccf028f/c19d446c95ee65924fd3e3093af00467/skeleton_soldier_couldnt_protect_the_dungeon_76_62.jpg\n",
      "http://www.mangaread.org/wp-content/uploads/WP-manga/data/manga_5e08fdccf028f/c19d446c95ee65924fd3e3093af00467/skeleton_soldier_couldnt_protect_the_dungeon_76_63.jpg\n",
      "http://www.mangaread.org/wp-content/uploads/WP-manga/data/manga_5e08fdccf028f/c19d446c95ee65924fd3e3093af00467/skeleton_soldier_couldnt_protect_the_dungeon_76_64.jpg\n",
      "http://www.mangaread.org/wp-content/uploads/WP-manga/data/manga_5e08fdccf028f/c19d446c95ee65924fd3e3093af00467/skeleton_soldier_couldnt_protect_the_dungeon_76_65.jpg\n",
      "http://www.mangaread.org/wp-content/uploads/WP-manga/data/manga_5e08fdccf028f/c19d446c95ee65924fd3e3093af00467/skeleton_soldier_couldnt_protect_the_dungeon_76_66.jpg\n",
      "http://www.mangaread.org/wp-content/uploads/WP-manga/data/manga_5e08fdccf028f/c19d446c95ee65924fd3e3093af00467/skeleton_soldier_couldnt_protect_the_dungeon_76_67.jpg\n"
     ]
    },
    {
     "name": "stderr",
     "output_type": "stream",
     "text": [
      " 77%|████████████████████████████████████████████████████████████▋                  | 76/99 [1:22:39<48:36, 126.81s/it]"
     ]
    },
    {
     "name": "stdout",
     "output_type": "stream",
     "text": [
      "finish\n",
      "----------------------------------------------------------------------------------------------------\n",
      "starting crawl chapter 77\n",
      "http://www.mangaread.org/wp-content/uploads/WP-manga/data/manga_5e08fdccf028f/489bcc034b211061573b379e75dcc5ff/skeleton_soldier_couldnt_protect_the_dungeon_77_1.jpg\n",
      "http://www.mangaread.org/wp-content/uploads/WP-manga/data/manga_5e08fdccf028f/489bcc034b211061573b379e75dcc5ff/skeleton_soldier_couldnt_protect_the_dungeon_77_2.jpg\n",
      "http://www.mangaread.org/wp-content/uploads/WP-manga/data/manga_5e08fdccf028f/489bcc034b211061573b379e75dcc5ff/skeleton_soldier_couldnt_protect_the_dungeon_77_3.jpg\n",
      "http://www.mangaread.org/wp-content/uploads/WP-manga/data/manga_5e08fdccf028f/489bcc034b211061573b379e75dcc5ff/skeleton_soldier_couldnt_protect_the_dungeon_77_4.jpg\n",
      "http://www.mangaread.org/wp-content/uploads/WP-manga/data/manga_5e08fdccf028f/489bcc034b211061573b379e75dcc5ff/skeleton_soldier_couldnt_protect_the_dungeon_77_5.jpg\n",
      "http://www.mangaread.org/wp-content/uploads/WP-manga/data/manga_5e08fdccf028f/489bcc034b211061573b379e75dcc5ff/skeleton_soldier_couldnt_protect_the_dungeon_77_6.jpg\n",
      "http://www.mangaread.org/wp-content/uploads/WP-manga/data/manga_5e08fdccf028f/489bcc034b211061573b379e75dcc5ff/skeleton_soldier_couldnt_protect_the_dungeon_77_7.jpg\n",
      "http://www.mangaread.org/wp-content/uploads/WP-manga/data/manga_5e08fdccf028f/489bcc034b211061573b379e75dcc5ff/skeleton_soldier_couldnt_protect_the_dungeon_77_8.jpg\n",
      "http://www.mangaread.org/wp-content/uploads/WP-manga/data/manga_5e08fdccf028f/489bcc034b211061573b379e75dcc5ff/skeleton_soldier_couldnt_protect_the_dungeon_77_9.jpg\n",
      "http://www.mangaread.org/wp-content/uploads/WP-manga/data/manga_5e08fdccf028f/489bcc034b211061573b379e75dcc5ff/skeleton_soldier_couldnt_protect_the_dungeon_77_10.jpg\n",
      "http://www.mangaread.org/wp-content/uploads/WP-manga/data/manga_5e08fdccf028f/489bcc034b211061573b379e75dcc5ff/skeleton_soldier_couldnt_protect_the_dungeon_77_11.jpg\n",
      "http://www.mangaread.org/wp-content/uploads/WP-manga/data/manga_5e08fdccf028f/489bcc034b211061573b379e75dcc5ff/skeleton_soldier_couldnt_protect_the_dungeon_77_12.jpg\n",
      "http://www.mangaread.org/wp-content/uploads/WP-manga/data/manga_5e08fdccf028f/489bcc034b211061573b379e75dcc5ff/skeleton_soldier_couldnt_protect_the_dungeon_77_13.jpg\n",
      "http://www.mangaread.org/wp-content/uploads/WP-manga/data/manga_5e08fdccf028f/489bcc034b211061573b379e75dcc5ff/skeleton_soldier_couldnt_protect_the_dungeon_77_14.jpg\n",
      "http://www.mangaread.org/wp-content/uploads/WP-manga/data/manga_5e08fdccf028f/489bcc034b211061573b379e75dcc5ff/skeleton_soldier_couldnt_protect_the_dungeon_77_15.jpg\n",
      "http://www.mangaread.org/wp-content/uploads/WP-manga/data/manga_5e08fdccf028f/489bcc034b211061573b379e75dcc5ff/skeleton_soldier_couldnt_protect_the_dungeon_77_16.jpg\n",
      "http://www.mangaread.org/wp-content/uploads/WP-manga/data/manga_5e08fdccf028f/489bcc034b211061573b379e75dcc5ff/skeleton_soldier_couldnt_protect_the_dungeon_77_17.jpg\n",
      "http://www.mangaread.org/wp-content/uploads/WP-manga/data/manga_5e08fdccf028f/489bcc034b211061573b379e75dcc5ff/skeleton_soldier_couldnt_protect_the_dungeon_77_18.jpg\n",
      "http://www.mangaread.org/wp-content/uploads/WP-manga/data/manga_5e08fdccf028f/489bcc034b211061573b379e75dcc5ff/skeleton_soldier_couldnt_protect_the_dungeon_77_19.jpg\n",
      "http://www.mangaread.org/wp-content/uploads/WP-manga/data/manga_5e08fdccf028f/489bcc034b211061573b379e75dcc5ff/skeleton_soldier_couldnt_protect_the_dungeon_77_20.jpg\n",
      "http://www.mangaread.org/wp-content/uploads/WP-manga/data/manga_5e08fdccf028f/489bcc034b211061573b379e75dcc5ff/skeleton_soldier_couldnt_protect_the_dungeon_77_21.jpg\n",
      "http://www.mangaread.org/wp-content/uploads/WP-manga/data/manga_5e08fdccf028f/489bcc034b211061573b379e75dcc5ff/skeleton_soldier_couldnt_protect_the_dungeon_77_22.jpg\n",
      "http://www.mangaread.org/wp-content/uploads/WP-manga/data/manga_5e08fdccf028f/489bcc034b211061573b379e75dcc5ff/skeleton_soldier_couldnt_protect_the_dungeon_77_23.jpg\n",
      "http://www.mangaread.org/wp-content/uploads/WP-manga/data/manga_5e08fdccf028f/489bcc034b211061573b379e75dcc5ff/skeleton_soldier_couldnt_protect_the_dungeon_77_24.jpg\n",
      "http://www.mangaread.org/wp-content/uploads/WP-manga/data/manga_5e08fdccf028f/489bcc034b211061573b379e75dcc5ff/skeleton_soldier_couldnt_protect_the_dungeon_77_25.jpg\n",
      "http://www.mangaread.org/wp-content/uploads/WP-manga/data/manga_5e08fdccf028f/489bcc034b211061573b379e75dcc5ff/skeleton_soldier_couldnt_protect_the_dungeon_77_26.jpg\n",
      "http://www.mangaread.org/wp-content/uploads/WP-manga/data/manga_5e08fdccf028f/489bcc034b211061573b379e75dcc5ff/skeleton_soldier_couldnt_protect_the_dungeon_77_27.jpg\n",
      "http://www.mangaread.org/wp-content/uploads/WP-manga/data/manga_5e08fdccf028f/489bcc034b211061573b379e75dcc5ff/skeleton_soldier_couldnt_protect_the_dungeon_77_28.jpg\n",
      "http://www.mangaread.org/wp-content/uploads/WP-manga/data/manga_5e08fdccf028f/489bcc034b211061573b379e75dcc5ff/skeleton_soldier_couldnt_protect_the_dungeon_77_29.jpg\n",
      "http://www.mangaread.org/wp-content/uploads/WP-manga/data/manga_5e08fdccf028f/489bcc034b211061573b379e75dcc5ff/skeleton_soldier_couldnt_protect_the_dungeon_77_30.jpg\n",
      "http://www.mangaread.org/wp-content/uploads/WP-manga/data/manga_5e08fdccf028f/489bcc034b211061573b379e75dcc5ff/skeleton_soldier_couldnt_protect_the_dungeon_77_31.jpg\n",
      "http://www.mangaread.org/wp-content/uploads/WP-manga/data/manga_5e08fdccf028f/489bcc034b211061573b379e75dcc5ff/skeleton_soldier_couldnt_protect_the_dungeon_77_32.jpg\n",
      "http://www.mangaread.org/wp-content/uploads/WP-manga/data/manga_5e08fdccf028f/489bcc034b211061573b379e75dcc5ff/skeleton_soldier_couldnt_protect_the_dungeon_77_33.jpg\n",
      "http://www.mangaread.org/wp-content/uploads/WP-manga/data/manga_5e08fdccf028f/489bcc034b211061573b379e75dcc5ff/skeleton_soldier_couldnt_protect_the_dungeon_77_34.jpg\n",
      "http://www.mangaread.org/wp-content/uploads/WP-manga/data/manga_5e08fdccf028f/489bcc034b211061573b379e75dcc5ff/skeleton_soldier_couldnt_protect_the_dungeon_77_35.jpg\n",
      "http://www.mangaread.org/wp-content/uploads/WP-manga/data/manga_5e08fdccf028f/489bcc034b211061573b379e75dcc5ff/skeleton_soldier_couldnt_protect_the_dungeon_77_36.jpg\n",
      "http://www.mangaread.org/wp-content/uploads/WP-manga/data/manga_5e08fdccf028f/489bcc034b211061573b379e75dcc5ff/skeleton_soldier_couldnt_protect_the_dungeon_77_37.jpg\n",
      "http://www.mangaread.org/wp-content/uploads/WP-manga/data/manga_5e08fdccf028f/489bcc034b211061573b379e75dcc5ff/skeleton_soldier_couldnt_protect_the_dungeon_77_38.jpg\n",
      "http://www.mangaread.org/wp-content/uploads/WP-manga/data/manga_5e08fdccf028f/489bcc034b211061573b379e75dcc5ff/skeleton_soldier_couldnt_protect_the_dungeon_77_39.jpg\n",
      "http://www.mangaread.org/wp-content/uploads/WP-manga/data/manga_5e08fdccf028f/489bcc034b211061573b379e75dcc5ff/skeleton_soldier_couldnt_protect_the_dungeon_77_40.jpg\n",
      "http://www.mangaread.org/wp-content/uploads/WP-manga/data/manga_5e08fdccf028f/489bcc034b211061573b379e75dcc5ff/skeleton_soldier_couldnt_protect_the_dungeon_77_41.jpg\n",
      "http://www.mangaread.org/wp-content/uploads/WP-manga/data/manga_5e08fdccf028f/489bcc034b211061573b379e75dcc5ff/skeleton_soldier_couldnt_protect_the_dungeon_77_42.jpg\n",
      "http://www.mangaread.org/wp-content/uploads/WP-manga/data/manga_5e08fdccf028f/489bcc034b211061573b379e75dcc5ff/skeleton_soldier_couldnt_protect_the_dungeon_77_43.jpg\n",
      "http://www.mangaread.org/wp-content/uploads/WP-manga/data/manga_5e08fdccf028f/489bcc034b211061573b379e75dcc5ff/skeleton_soldier_couldnt_protect_the_dungeon_77_44.jpg\n",
      "http://www.mangaread.org/wp-content/uploads/WP-manga/data/manga_5e08fdccf028f/489bcc034b211061573b379e75dcc5ff/skeleton_soldier_couldnt_protect_the_dungeon_77_45.jpg\n",
      "http://www.mangaread.org/wp-content/uploads/WP-manga/data/manga_5e08fdccf028f/489bcc034b211061573b379e75dcc5ff/skeleton_soldier_couldnt_protect_the_dungeon_77_46.jpg\n",
      "http://www.mangaread.org/wp-content/uploads/WP-manga/data/manga_5e08fdccf028f/489bcc034b211061573b379e75dcc5ff/skeleton_soldier_couldnt_protect_the_dungeon_77_47.jpg\n",
      "http://www.mangaread.org/wp-content/uploads/WP-manga/data/manga_5e08fdccf028f/489bcc034b211061573b379e75dcc5ff/skeleton_soldier_couldnt_protect_the_dungeon_77_48.jpg\n",
      "http://www.mangaread.org/wp-content/uploads/WP-manga/data/manga_5e08fdccf028f/489bcc034b211061573b379e75dcc5ff/skeleton_soldier_couldnt_protect_the_dungeon_77_49.jpg\n",
      "http://www.mangaread.org/wp-content/uploads/WP-manga/data/manga_5e08fdccf028f/489bcc034b211061573b379e75dcc5ff/skeleton_soldier_couldnt_protect_the_dungeon_77_50.jpg\n",
      "http://www.mangaread.org/wp-content/uploads/WP-manga/data/manga_5e08fdccf028f/489bcc034b211061573b379e75dcc5ff/skeleton_soldier_couldnt_protect_the_dungeon_77_51.jpg\n",
      "http://www.mangaread.org/wp-content/uploads/WP-manga/data/manga_5e08fdccf028f/489bcc034b211061573b379e75dcc5ff/skeleton_soldier_couldnt_protect_the_dungeon_77_52.jpg\n",
      "http://www.mangaread.org/wp-content/uploads/WP-manga/data/manga_5e08fdccf028f/489bcc034b211061573b379e75dcc5ff/skeleton_soldier_couldnt_protect_the_dungeon_77_53.jpg\n",
      "http://www.mangaread.org/wp-content/uploads/WP-manga/data/manga_5e08fdccf028f/489bcc034b211061573b379e75dcc5ff/skeleton_soldier_couldnt_protect_the_dungeon_77_54.jpg\n",
      "http://www.mangaread.org/wp-content/uploads/WP-manga/data/manga_5e08fdccf028f/489bcc034b211061573b379e75dcc5ff/skeleton_soldier_couldnt_protect_the_dungeon_77_55.jpg\n",
      "http://www.mangaread.org/wp-content/uploads/WP-manga/data/manga_5e08fdccf028f/489bcc034b211061573b379e75dcc5ff/skeleton_soldier_couldnt_protect_the_dungeon_77_56.jpg\n",
      "http://www.mangaread.org/wp-content/uploads/WP-manga/data/manga_5e08fdccf028f/489bcc034b211061573b379e75dcc5ff/skeleton_soldier_couldnt_protect_the_dungeon_77_57.jpg\n",
      "http://www.mangaread.org/wp-content/uploads/WP-manga/data/manga_5e08fdccf028f/489bcc034b211061573b379e75dcc5ff/skeleton_soldier_couldnt_protect_the_dungeon_77_58.jpg\n",
      "http://www.mangaread.org/wp-content/uploads/WP-manga/data/manga_5e08fdccf028f/489bcc034b211061573b379e75dcc5ff/skeleton_soldier_couldnt_protect_the_dungeon_77_59.jpg\n",
      "http://www.mangaread.org/wp-content/uploads/WP-manga/data/manga_5e08fdccf028f/489bcc034b211061573b379e75dcc5ff/skeleton_soldier_couldnt_protect_the_dungeon_77_60.jpg\n",
      "http://www.mangaread.org/wp-content/uploads/WP-manga/data/manga_5e08fdccf028f/489bcc034b211061573b379e75dcc5ff/skeleton_soldier_couldnt_protect_the_dungeon_77_61.jpg\n",
      "http://www.mangaread.org/wp-content/uploads/WP-manga/data/manga_5e08fdccf028f/489bcc034b211061573b379e75dcc5ff/skeleton_soldier_couldnt_protect_the_dungeon_77_62.jpg\n",
      "http://www.mangaread.org/wp-content/uploads/WP-manga/data/manga_5e08fdccf028f/489bcc034b211061573b379e75dcc5ff/skeleton_soldier_couldnt_protect_the_dungeon_77_63.jpg\n",
      "http://www.mangaread.org/wp-content/uploads/WP-manga/data/manga_5e08fdccf028f/489bcc034b211061573b379e75dcc5ff/skeleton_soldier_couldnt_protect_the_dungeon_77_64.jpg\n",
      "http://www.mangaread.org/wp-content/uploads/WP-manga/data/manga_5e08fdccf028f/489bcc034b211061573b379e75dcc5ff/skeleton_soldier_couldnt_protect_the_dungeon_77_65.jpg\n",
      "http://www.mangaread.org/wp-content/uploads/WP-manga/data/manga_5e08fdccf028f/489bcc034b211061573b379e75dcc5ff/skeleton_soldier_couldnt_protect_the_dungeon_77_66.jpg\n",
      "http://www.mangaread.org/wp-content/uploads/WP-manga/data/manga_5e08fdccf028f/489bcc034b211061573b379e75dcc5ff/skeleton_soldier_couldnt_protect_the_dungeon_77_67.jpg\n",
      "http://www.mangaread.org/wp-content/uploads/WP-manga/data/manga_5e08fdccf028f/489bcc034b211061573b379e75dcc5ff/skeleton_soldier_couldnt_protect_the_dungeon_77_68.jpg\n",
      "http://www.mangaread.org/wp-content/uploads/WP-manga/data/manga_5e08fdccf028f/489bcc034b211061573b379e75dcc5ff/skeleton_soldier_couldnt_protect_the_dungeon_77_69.jpg\n",
      "http://www.mangaread.org/wp-content/uploads/WP-manga/data/manga_5e08fdccf028f/489bcc034b211061573b379e75dcc5ff/skeleton_soldier_couldnt_protect_the_dungeon_77_70.jpg\n",
      "http://www.mangaread.org/wp-content/uploads/WP-manga/data/manga_5e08fdccf028f/489bcc034b211061573b379e75dcc5ff/skeleton_soldier_couldnt_protect_the_dungeon_77_71.jpg\n",
      "http://www.mangaread.org/wp-content/uploads/WP-manga/data/manga_5e08fdccf028f/489bcc034b211061573b379e75dcc5ff/skeleton_soldier_couldnt_protect_the_dungeon_77_72.jpg\n"
     ]
    },
    {
     "name": "stderr",
     "output_type": "stream",
     "text": [
      " 78%|█████████████████████████████████████████████████████████████▍                 | 77/99 [1:24:52<47:14, 128.84s/it]"
     ]
    },
    {
     "name": "stdout",
     "output_type": "stream",
     "text": [
      "finish\n",
      "----------------------------------------------------------------------------------------------------\n",
      "starting crawl chapter 78\n",
      "http://www.mangaread.org/wp-content/uploads/WP-manga/data/manga_5e08fdccf028f/ba3164b61ef477c24f09b6ce1ace9168/3.jpeg\n",
      "http://www.mangaread.org/wp-content/uploads/WP-manga/data/manga_5e08fdccf028f/ba3164b61ef477c24f09b6ce1ace9168/4.jpeg\n",
      "http://www.mangaread.org/wp-content/uploads/WP-manga/data/manga_5e08fdccf028f/ba3164b61ef477c24f09b6ce1ace9168/5.jpeg\n",
      "http://www.mangaread.org/wp-content/uploads/WP-manga/data/manga_5e08fdccf028f/ba3164b61ef477c24f09b6ce1ace9168/6.jpeg\n",
      "http://www.mangaread.org/wp-content/uploads/WP-manga/data/manga_5e08fdccf028f/ba3164b61ef477c24f09b6ce1ace9168/7.jpeg\n"
     ]
    },
    {
     "name": "stderr",
     "output_type": "stream",
     "text": [
      " 79%|███████████████████████████████████████████████████████████████                 | 78/99 [1:25:24<34:51, 99.59s/it]"
     ]
    },
    {
     "name": "stdout",
     "output_type": "stream",
     "text": [
      "finish\n",
      "----------------------------------------------------------------------------------------------------\n",
      "starting crawl chapter 79\n",
      "http://www.mangaread.org/wp-content/uploads/WP-manga/data/manga_5e08fdccf028f/13c4325ee8c3cd8b7ad5835d105f8a63/3.jpeg\n",
      "http://www.mangaread.org/wp-content/uploads/WP-manga/data/manga_5e08fdccf028f/13c4325ee8c3cd8b7ad5835d105f8a63/4.jpeg\n",
      "http://www.mangaread.org/wp-content/uploads/WP-manga/data/manga_5e08fdccf028f/13c4325ee8c3cd8b7ad5835d105f8a63/5.jpeg\n",
      "http://www.mangaread.org/wp-content/uploads/WP-manga/data/manga_5e08fdccf028f/13c4325ee8c3cd8b7ad5835d105f8a63/6.jpeg\n",
      "http://www.mangaread.org/wp-content/uploads/WP-manga/data/manga_5e08fdccf028f/13c4325ee8c3cd8b7ad5835d105f8a63/7.jpeg\n"
     ]
    },
    {
     "name": "stderr",
     "output_type": "stream",
     "text": [
      " 80%|███████████████████████████████████████████████████████████████▊                | 79/99 [1:25:49<25:47, 77.35s/it]"
     ]
    },
    {
     "name": "stdout",
     "output_type": "stream",
     "text": [
      "finish\n",
      "----------------------------------------------------------------------------------------------------\n",
      "starting crawl chapter 80\n",
      "http://www.mangaread.org/wp-content/uploads/WP-manga/data/manga_5e08fdccf028f/cf8940ef53b396ebbb72e260e826709c/3.jpeg\n",
      "http://www.mangaread.org/wp-content/uploads/WP-manga/data/manga_5e08fdccf028f/cf8940ef53b396ebbb72e260e826709c/4.jpeg\n",
      "http://www.mangaread.org/wp-content/uploads/WP-manga/data/manga_5e08fdccf028f/cf8940ef53b396ebbb72e260e826709c/5.jpeg\n",
      "http://www.mangaread.org/wp-content/uploads/WP-manga/data/manga_5e08fdccf028f/cf8940ef53b396ebbb72e260e826709c/6.jpeg\n",
      "http://www.mangaread.org/wp-content/uploads/WP-manga/data/manga_5e08fdccf028f/cf8940ef53b396ebbb72e260e826709c/7.jpeg\n",
      "http://www.mangaread.org/wp-content/uploads/WP-manga/data/manga_5e08fdccf028f/cf8940ef53b396ebbb72e260e826709c/8.jpeg\n"
     ]
    },
    {
     "name": "stderr",
     "output_type": "stream",
     "text": [
      " 81%|████████████████████████████████████████████████████████████████▋               | 80/99 [1:26:18<19:50, 62.68s/it]"
     ]
    },
    {
     "name": "stdout",
     "output_type": "stream",
     "text": [
      "finish\n",
      "----------------------------------------------------------------------------------------------------\n",
      "starting crawl chapter 81\n",
      "http://www.mangaread.org/wp-content/uploads/WP-manga/data/manga_5e08fdccf028f/d1758886920411108835b9b89046e73a/3.jpeg\n",
      "http://www.mangaread.org/wp-content/uploads/WP-manga/data/manga_5e08fdccf028f/d1758886920411108835b9b89046e73a/4.jpeg\n",
      "http://www.mangaread.org/wp-content/uploads/WP-manga/data/manga_5e08fdccf028f/d1758886920411108835b9b89046e73a/5.jpeg\n",
      "http://www.mangaread.org/wp-content/uploads/WP-manga/data/manga_5e08fdccf028f/d1758886920411108835b9b89046e73a/6.jpeg\n",
      "http://www.mangaread.org/wp-content/uploads/WP-manga/data/manga_5e08fdccf028f/d1758886920411108835b9b89046e73a/7.jpeg\n",
      "http://www.mangaread.org/wp-content/uploads/WP-manga/data/manga_5e08fdccf028f/d1758886920411108835b9b89046e73a/8.jpeg\n"
     ]
    },
    {
     "name": "stderr",
     "output_type": "stream",
     "text": [
      " 82%|█████████████████████████████████████████████████████████████████▍              | 81/99 [1:26:46<15:39, 52.22s/it]"
     ]
    },
    {
     "name": "stdout",
     "output_type": "stream",
     "text": [
      "finish\n",
      "----------------------------------------------------------------------------------------------------\n",
      "starting crawl chapter 82\n",
      "http://www.mangaread.org/wp-content/uploads/WP-manga/data/manga_5e08fdccf028f/fbfc5a5b189a9fe86f7695c08892783a/3.jpeg\n",
      "http://www.mangaread.org/wp-content/uploads/WP-manga/data/manga_5e08fdccf028f/fbfc5a5b189a9fe86f7695c08892783a/4.jpeg\n",
      "http://www.mangaread.org/wp-content/uploads/WP-manga/data/manga_5e08fdccf028f/fbfc5a5b189a9fe86f7695c08892783a/5.jpeg\n",
      "http://www.mangaread.org/wp-content/uploads/WP-manga/data/manga_5e08fdccf028f/fbfc5a5b189a9fe86f7695c08892783a/6.jpeg\n",
      "http://www.mangaread.org/wp-content/uploads/WP-manga/data/manga_5e08fdccf028f/fbfc5a5b189a9fe86f7695c08892783a/7.jpeg\n"
     ]
    },
    {
     "name": "stderr",
     "output_type": "stream",
     "text": [
      " 83%|██████████████████████████████████████████████████████████████████▎             | 82/99 [1:27:08<12:18, 43.45s/it]"
     ]
    },
    {
     "name": "stdout",
     "output_type": "stream",
     "text": [
      "finish\n",
      "----------------------------------------------------------------------------------------------------\n",
      "starting crawl chapter 83\n",
      "http://www.mangaread.org/wp-content/uploads/WP-manga/data/manga_5e08fdccf028f/10b8351d1bc63a0eee7677836ace7c72/3.jpeg\n",
      "http://www.mangaread.org/wp-content/uploads/WP-manga/data/manga_5e08fdccf028f/10b8351d1bc63a0eee7677836ace7c72/4.jpeg\n",
      "http://www.mangaread.org/wp-content/uploads/WP-manga/data/manga_5e08fdccf028f/10b8351d1bc63a0eee7677836ace7c72/5.jpeg\n",
      "http://www.mangaread.org/wp-content/uploads/WP-manga/data/manga_5e08fdccf028f/10b8351d1bc63a0eee7677836ace7c72/6.jpeg\n",
      "http://www.mangaread.org/wp-content/uploads/WP-manga/data/manga_5e08fdccf028f/10b8351d1bc63a0eee7677836ace7c72/7.jpeg\n",
      "http://www.mangaread.org/wp-content/uploads/WP-manga/data/manga_5e08fdccf028f/10b8351d1bc63a0eee7677836ace7c72/8.jpeg\n",
      "http://www.mangaread.org/wp-content/uploads/WP-manga/data/manga_5e08fdccf028f/10b8351d1bc63a0eee7677836ace7c72/9.jpeg\n",
      "http://www.mangaread.org/wp-content/uploads/WP-manga/data/manga_5e08fdccf028f/10b8351d1bc63a0eee7677836ace7c72/10.jpeg\n",
      "http://www.mangaread.org/wp-content/uploads/WP-manga/data/manga_5e08fdccf028f/10b8351d1bc63a0eee7677836ace7c72/11.jpeg\n",
      "http://www.mangaread.org/wp-content/uploads/WP-manga/data/manga_5e08fdccf028f/10b8351d1bc63a0eee7677836ace7c72/12.jpeg\n"
     ]
    },
    {
     "name": "stderr",
     "output_type": "stream",
     "text": [
      " 84%|███████████████████████████████████████████████████████████████████             | 83/99 [1:27:45<11:00, 41.29s/it]"
     ]
    },
    {
     "name": "stdout",
     "output_type": "stream",
     "text": [
      "finish\n",
      "----------------------------------------------------------------------------------------------------\n",
      "starting crawl chapter 84\n",
      "http://www.mangaread.org/wp-content/uploads/WP-manga/data/manga_5e08fdccf028f/ed4e7502b93803a247ddce6b3a0a3587/3.jpeg\n",
      "http://www.mangaread.org/wp-content/uploads/WP-manga/data/manga_5e08fdccf028f/ed4e7502b93803a247ddce6b3a0a3587/4.jpeg\n",
      "http://www.mangaread.org/wp-content/uploads/WP-manga/data/manga_5e08fdccf028f/ed4e7502b93803a247ddce6b3a0a3587/5.jpeg\n",
      "http://www.mangaread.org/wp-content/uploads/WP-manga/data/manga_5e08fdccf028f/ed4e7502b93803a247ddce6b3a0a3587/6.jpeg\n",
      "http://www.mangaread.org/wp-content/uploads/WP-manga/data/manga_5e08fdccf028f/ed4e7502b93803a247ddce6b3a0a3587/7.jpeg\n",
      "http://www.mangaread.org/wp-content/uploads/WP-manga/data/manga_5e08fdccf028f/ed4e7502b93803a247ddce6b3a0a3587/8.jpeg\n",
      "http://www.mangaread.org/wp-content/uploads/WP-manga/data/manga_5e08fdccf028f/ed4e7502b93803a247ddce6b3a0a3587/9.jpeg\n",
      "http://www.mangaread.org/wp-content/uploads/WP-manga/data/manga_5e08fdccf028f/ed4e7502b93803a247ddce6b3a0a3587/10.jpeg\n",
      "http://www.mangaread.org/wp-content/uploads/WP-manga/data/manga_5e08fdccf028f/ed4e7502b93803a247ddce6b3a0a3587/11.jpeg\n",
      "http://www.mangaread.org/wp-content/uploads/WP-manga/data/manga_5e08fdccf028f/ed4e7502b93803a247ddce6b3a0a3587/12.jpeg\n",
      "http://www.mangaread.org/wp-content/uploads/WP-manga/data/manga_5e08fdccf028f/ed4e7502b93803a247ddce6b3a0a3587/13.jpeg\n",
      "http://www.mangaread.org/wp-content/uploads/WP-manga/data/manga_5e08fdccf028f/ed4e7502b93803a247ddce6b3a0a3587/14.jpeg\n",
      "http://www.mangaread.org/wp-content/uploads/WP-manga/data/manga_5e08fdccf028f/ed4e7502b93803a247ddce6b3a0a3587/15.jpeg\n",
      "http://www.mangaread.org/wp-content/uploads/WP-manga/data/manga_5e08fdccf028f/ed4e7502b93803a247ddce6b3a0a3587/16.jpeg\n",
      "http://www.mangaread.org/wp-content/uploads/WP-manga/data/manga_5e08fdccf028f/ed4e7502b93803a247ddce6b3a0a3587/17.jpeg\n",
      "http://www.mangaread.org/wp-content/uploads/WP-manga/data/manga_5e08fdccf028f/ed4e7502b93803a247ddce6b3a0a3587/18.jpeg\n",
      "http://www.mangaread.org/wp-content/uploads/WP-manga/data/manga_5e08fdccf028f/ed4e7502b93803a247ddce6b3a0a3587/19.jpeg\n",
      "http://www.mangaread.org/wp-content/uploads/WP-manga/data/manga_5e08fdccf028f/ed4e7502b93803a247ddce6b3a0a3587/20.jpeg\n",
      "http://www.mangaread.org/wp-content/uploads/WP-manga/data/manga_5e08fdccf028f/ed4e7502b93803a247ddce6b3a0a3587/21.jpeg\n",
      "http://www.mangaread.org/wp-content/uploads/WP-manga/data/manga_5e08fdccf028f/ed4e7502b93803a247ddce6b3a0a3587/22.jpeg\n"
     ]
    },
    {
     "name": "stderr",
     "output_type": "stream",
     "text": [
      " 85%|███████████████████████████████████████████████████████████████████▉            | 84/99 [1:28:36<11:04, 44.27s/it]"
     ]
    },
    {
     "name": "stdout",
     "output_type": "stream",
     "text": [
      "finish\n",
      "----------------------------------------------------------------------------------------------------\n",
      "starting crawl chapter 85\n",
      "http://www.mangaread.org/wp-content/uploads/WP-manga/data/manga_5e08fdccf028f/3ca349b627fdcb8c662d2bf0289a3f99/skeleton_soldier_couldnt_protect_the_dungeon_85_1.jpg\n",
      "http://www.mangaread.org/wp-content/uploads/WP-manga/data/manga_5e08fdccf028f/3ca349b627fdcb8c662d2bf0289a3f99/skeleton_soldier_couldnt_protect_the_dungeon_85_2.jpg\n",
      "http://www.mangaread.org/wp-content/uploads/WP-manga/data/manga_5e08fdccf028f/3ca349b627fdcb8c662d2bf0289a3f99/skeleton_soldier_couldnt_protect_the_dungeon_85_3.jpg\n",
      "http://www.mangaread.org/wp-content/uploads/WP-manga/data/manga_5e08fdccf028f/3ca349b627fdcb8c662d2bf0289a3f99/skeleton_soldier_couldnt_protect_the_dungeon_85_4.jpg\n",
      "http://www.mangaread.org/wp-content/uploads/WP-manga/data/manga_5e08fdccf028f/3ca349b627fdcb8c662d2bf0289a3f99/skeleton_soldier_couldnt_protect_the_dungeon_85_5.jpg\n",
      "http://www.mangaread.org/wp-content/uploads/WP-manga/data/manga_5e08fdccf028f/3ca349b627fdcb8c662d2bf0289a3f99/skeleton_soldier_couldnt_protect_the_dungeon_85_6.jpg\n",
      "http://www.mangaread.org/wp-content/uploads/WP-manga/data/manga_5e08fdccf028f/3ca349b627fdcb8c662d2bf0289a3f99/skeleton_soldier_couldnt_protect_the_dungeon_85_7.jpg\n",
      "http://www.mangaread.org/wp-content/uploads/WP-manga/data/manga_5e08fdccf028f/3ca349b627fdcb8c662d2bf0289a3f99/skeleton_soldier_couldnt_protect_the_dungeon_85_8.jpg\n",
      "http://www.mangaread.org/wp-content/uploads/WP-manga/data/manga_5e08fdccf028f/3ca349b627fdcb8c662d2bf0289a3f99/skeleton_soldier_couldnt_protect_the_dungeon_85_9.jpg\n",
      "http://www.mangaread.org/wp-content/uploads/WP-manga/data/manga_5e08fdccf028f/3ca349b627fdcb8c662d2bf0289a3f99/skeleton_soldier_couldnt_protect_the_dungeon_85_10.jpg\n",
      "http://www.mangaread.org/wp-content/uploads/WP-manga/data/manga_5e08fdccf028f/3ca349b627fdcb8c662d2bf0289a3f99/skeleton_soldier_couldnt_protect_the_dungeon_85_11.jpg\n",
      "http://www.mangaread.org/wp-content/uploads/WP-manga/data/manga_5e08fdccf028f/3ca349b627fdcb8c662d2bf0289a3f99/skeleton_soldier_couldnt_protect_the_dungeon_85_12.jpg\n",
      "http://www.mangaread.org/wp-content/uploads/WP-manga/data/manga_5e08fdccf028f/3ca349b627fdcb8c662d2bf0289a3f99/skeleton_soldier_couldnt_protect_the_dungeon_85_13.jpg\n",
      "http://www.mangaread.org/wp-content/uploads/WP-manga/data/manga_5e08fdccf028f/3ca349b627fdcb8c662d2bf0289a3f99/skeleton_soldier_couldnt_protect_the_dungeon_85_14.jpg\n",
      "http://www.mangaread.org/wp-content/uploads/WP-manga/data/manga_5e08fdccf028f/3ca349b627fdcb8c662d2bf0289a3f99/skeleton_soldier_couldnt_protect_the_dungeon_85_15.jpg\n",
      "http://www.mangaread.org/wp-content/uploads/WP-manga/data/manga_5e08fdccf028f/3ca349b627fdcb8c662d2bf0289a3f99/skeleton_soldier_couldnt_protect_the_dungeon_85_16.jpg\n",
      "http://www.mangaread.org/wp-content/uploads/WP-manga/data/manga_5e08fdccf028f/3ca349b627fdcb8c662d2bf0289a3f99/skeleton_soldier_couldnt_protect_the_dungeon_85_17.jpg\n",
      "http://www.mangaread.org/wp-content/uploads/WP-manga/data/manga_5e08fdccf028f/3ca349b627fdcb8c662d2bf0289a3f99/skeleton_soldier_couldnt_protect_the_dungeon_85_18.jpg\n",
      "http://www.mangaread.org/wp-content/uploads/WP-manga/data/manga_5e08fdccf028f/3ca349b627fdcb8c662d2bf0289a3f99/skeleton_soldier_couldnt_protect_the_dungeon_85_19.jpg\n",
      "http://www.mangaread.org/wp-content/uploads/WP-manga/data/manga_5e08fdccf028f/3ca349b627fdcb8c662d2bf0289a3f99/skeleton_soldier_couldnt_protect_the_dungeon_85_20.jpg\n",
      "http://www.mangaread.org/wp-content/uploads/WP-manga/data/manga_5e08fdccf028f/3ca349b627fdcb8c662d2bf0289a3f99/skeleton_soldier_couldnt_protect_the_dungeon_85_21.jpg\n",
      "http://www.mangaread.org/wp-content/uploads/WP-manga/data/manga_5e08fdccf028f/3ca349b627fdcb8c662d2bf0289a3f99/skeleton_soldier_couldnt_protect_the_dungeon_85_22.jpg\n",
      "http://www.mangaread.org/wp-content/uploads/WP-manga/data/manga_5e08fdccf028f/3ca349b627fdcb8c662d2bf0289a3f99/skeleton_soldier_couldnt_protect_the_dungeon_85_23.jpg\n",
      "http://www.mangaread.org/wp-content/uploads/WP-manga/data/manga_5e08fdccf028f/3ca349b627fdcb8c662d2bf0289a3f99/skeleton_soldier_couldnt_protect_the_dungeon_85_24.jpg\n"
     ]
    },
    {
     "name": "stderr",
     "output_type": "stream",
     "text": [
      " 86%|████████████████████████████████████████████████████████████████████▋           | 85/99 [1:29:31<11:05, 47.56s/it]"
     ]
    },
    {
     "name": "stdout",
     "output_type": "stream",
     "text": [
      "finish\n",
      "----------------------------------------------------------------------------------------------------\n",
      "starting crawl chapter 86\n",
      "http://www.mangaread.org/wp-content/uploads/WP-manga/data/manga_5e08fdccf028f/07dff8b14e7517a2b0b851e4a3e63e8b/2.jpeg\n",
      "http://www.mangaread.org/wp-content/uploads/WP-manga/data/manga_5e08fdccf028f/07dff8b14e7517a2b0b851e4a3e63e8b/3.jpeg\n",
      "http://www.mangaread.org/wp-content/uploads/WP-manga/data/manga_5e08fdccf028f/07dff8b14e7517a2b0b851e4a3e63e8b/4.jpeg\n",
      "http://www.mangaread.org/wp-content/uploads/WP-manga/data/manga_5e08fdccf028f/07dff8b14e7517a2b0b851e4a3e63e8b/5.jpeg\n",
      "http://www.mangaread.org/wp-content/uploads/WP-manga/data/manga_5e08fdccf028f/07dff8b14e7517a2b0b851e4a3e63e8b/6.jpeg\n",
      "http://www.mangaread.org/wp-content/uploads/WP-manga/data/manga_5e08fdccf028f/07dff8b14e7517a2b0b851e4a3e63e8b/7.jpeg\n",
      "http://www.mangaread.org/wp-content/uploads/WP-manga/data/manga_5e08fdccf028f/07dff8b14e7517a2b0b851e4a3e63e8b/8.jpeg\n",
      "http://www.mangaread.org/wp-content/uploads/WP-manga/data/manga_5e08fdccf028f/07dff8b14e7517a2b0b851e4a3e63e8b/9.jpeg\n",
      "http://www.mangaread.org/wp-content/uploads/WP-manga/data/manga_5e08fdccf028f/07dff8b14e7517a2b0b851e4a3e63e8b/10.jpeg\n",
      "http://www.mangaread.org/wp-content/uploads/WP-manga/data/manga_5e08fdccf028f/07dff8b14e7517a2b0b851e4a3e63e8b/11.jpeg\n",
      "http://www.mangaread.org/wp-content/uploads/WP-manga/data/manga_5e08fdccf028f/07dff8b14e7517a2b0b851e4a3e63e8b/12.jpeg\n",
      "http://www.mangaread.org/wp-content/uploads/WP-manga/data/manga_5e08fdccf028f/07dff8b14e7517a2b0b851e4a3e63e8b/13.jpeg\n",
      "http://www.mangaread.org/wp-content/uploads/WP-manga/data/manga_5e08fdccf028f/07dff8b14e7517a2b0b851e4a3e63e8b/14.jpeg\n",
      "http://www.mangaread.org/wp-content/uploads/WP-manga/data/manga_5e08fdccf028f/07dff8b14e7517a2b0b851e4a3e63e8b/15.jpeg\n",
      "http://www.mangaread.org/wp-content/uploads/WP-manga/data/manga_5e08fdccf028f/07dff8b14e7517a2b0b851e4a3e63e8b/16.jpeg\n",
      "http://www.mangaread.org/wp-content/uploads/WP-manga/data/manga_5e08fdccf028f/07dff8b14e7517a2b0b851e4a3e63e8b/17.jpeg\n",
      "http://www.mangaread.org/wp-content/uploads/WP-manga/data/manga_5e08fdccf028f/07dff8b14e7517a2b0b851e4a3e63e8b/18.jpeg\n",
      "http://www.mangaread.org/wp-content/uploads/WP-manga/data/manga_5e08fdccf028f/07dff8b14e7517a2b0b851e4a3e63e8b/19.jpeg\n",
      "http://www.mangaread.org/wp-content/uploads/WP-manga/data/manga_5e08fdccf028f/07dff8b14e7517a2b0b851e4a3e63e8b/20.jpeg\n",
      "http://www.mangaread.org/wp-content/uploads/WP-manga/data/manga_5e08fdccf028f/07dff8b14e7517a2b0b851e4a3e63e8b/21.jpeg\n",
      "http://www.mangaread.org/wp-content/uploads/WP-manga/data/manga_5e08fdccf028f/07dff8b14e7517a2b0b851e4a3e63e8b/22.jpeg\n",
      "http://www.mangaread.org/wp-content/uploads/WP-manga/data/manga_5e08fdccf028f/07dff8b14e7517a2b0b851e4a3e63e8b/23.jpeg\n",
      "http://www.mangaread.org/wp-content/uploads/WP-manga/data/manga_5e08fdccf028f/07dff8b14e7517a2b0b851e4a3e63e8b/24.jpeg\n",
      "http://www.mangaread.org/wp-content/uploads/WP-manga/data/manga_5e08fdccf028f/07dff8b14e7517a2b0b851e4a3e63e8b/25.jpeg\n",
      "http://www.mangaread.org/wp-content/uploads/WP-manga/data/manga_5e08fdccf028f/07dff8b14e7517a2b0b851e4a3e63e8b/26.jpeg\n",
      "http://www.mangaread.org/wp-content/uploads/WP-manga/data/manga_5e08fdccf028f/07dff8b14e7517a2b0b851e4a3e63e8b/27.jpeg\n",
      "http://www.mangaread.org/wp-content/uploads/WP-manga/data/manga_5e08fdccf028f/07dff8b14e7517a2b0b851e4a3e63e8b/28.jpeg\n",
      "http://www.mangaread.org/wp-content/uploads/WP-manga/data/manga_5e08fdccf028f/07dff8b14e7517a2b0b851e4a3e63e8b/29.jpeg\n",
      "http://www.mangaread.org/wp-content/uploads/WP-manga/data/manga_5e08fdccf028f/07dff8b14e7517a2b0b851e4a3e63e8b/30.jpeg\n",
      "http://www.mangaread.org/wp-content/uploads/WP-manga/data/manga_5e08fdccf028f/07dff8b14e7517a2b0b851e4a3e63e8b/31.jpeg\n",
      "http://www.mangaread.org/wp-content/uploads/WP-manga/data/manga_5e08fdccf028f/07dff8b14e7517a2b0b851e4a3e63e8b/32.jpeg\n",
      "http://www.mangaread.org/wp-content/uploads/WP-manga/data/manga_5e08fdccf028f/07dff8b14e7517a2b0b851e4a3e63e8b/33.jpeg\n",
      "http://www.mangaread.org/wp-content/uploads/WP-manga/data/manga_5e08fdccf028f/07dff8b14e7517a2b0b851e4a3e63e8b/34.jpeg\n",
      "http://www.mangaread.org/wp-content/uploads/WP-manga/data/manga_5e08fdccf028f/07dff8b14e7517a2b0b851e4a3e63e8b/35.jpeg\n"
     ]
    },
    {
     "name": "stderr",
     "output_type": "stream",
     "text": [
      " 87%|█████████████████████████████████████████████████████████████████████▍          | 86/99 [1:31:14<13:53, 64.11s/it]"
     ]
    },
    {
     "name": "stdout",
     "output_type": "stream",
     "text": [
      "finish\n",
      "----------------------------------------------------------------------------------------------------\n",
      "starting crawl chapter 87\n",
      "http://www.mangaread.org/wp-content/uploads/WP-manga/data/manga_5e08fdccf028f/09c58c5226627a9f4adf3f66cdf8c7e9/2.jpeg\n",
      "http://www.mangaread.org/wp-content/uploads/WP-manga/data/manga_5e08fdccf028f/09c58c5226627a9f4adf3f66cdf8c7e9/3.jpeg\n",
      "http://www.mangaread.org/wp-content/uploads/WP-manga/data/manga_5e08fdccf028f/09c58c5226627a9f4adf3f66cdf8c7e9/4.jpeg\n",
      "http://www.mangaread.org/wp-content/uploads/WP-manga/data/manga_5e08fdccf028f/09c58c5226627a9f4adf3f66cdf8c7e9/5.jpeg\n",
      "http://www.mangaread.org/wp-content/uploads/WP-manga/data/manga_5e08fdccf028f/09c58c5226627a9f4adf3f66cdf8c7e9/6.jpeg\n",
      "http://www.mangaread.org/wp-content/uploads/WP-manga/data/manga_5e08fdccf028f/09c58c5226627a9f4adf3f66cdf8c7e9/7.jpeg\n",
      "http://www.mangaread.org/wp-content/uploads/WP-manga/data/manga_5e08fdccf028f/09c58c5226627a9f4adf3f66cdf8c7e9/8.jpeg\n",
      "http://www.mangaread.org/wp-content/uploads/WP-manga/data/manga_5e08fdccf028f/09c58c5226627a9f4adf3f66cdf8c7e9/9.jpeg\n",
      "http://www.mangaread.org/wp-content/uploads/WP-manga/data/manga_5e08fdccf028f/09c58c5226627a9f4adf3f66cdf8c7e9/10.jpeg\n",
      "http://www.mangaread.org/wp-content/uploads/WP-manga/data/manga_5e08fdccf028f/09c58c5226627a9f4adf3f66cdf8c7e9/11.jpeg\n",
      "http://www.mangaread.org/wp-content/uploads/WP-manga/data/manga_5e08fdccf028f/09c58c5226627a9f4adf3f66cdf8c7e9/12.jpeg\n",
      "http://www.mangaread.org/wp-content/uploads/WP-manga/data/manga_5e08fdccf028f/09c58c5226627a9f4adf3f66cdf8c7e9/13.jpeg\n",
      "http://www.mangaread.org/wp-content/uploads/WP-manga/data/manga_5e08fdccf028f/09c58c5226627a9f4adf3f66cdf8c7e9/14.jpeg\n",
      "http://www.mangaread.org/wp-content/uploads/WP-manga/data/manga_5e08fdccf028f/09c58c5226627a9f4adf3f66cdf8c7e9/15.jpeg\n",
      "http://www.mangaread.org/wp-content/uploads/WP-manga/data/manga_5e08fdccf028f/09c58c5226627a9f4adf3f66cdf8c7e9/16.jpeg\n",
      "http://www.mangaread.org/wp-content/uploads/WP-manga/data/manga_5e08fdccf028f/09c58c5226627a9f4adf3f66cdf8c7e9/17.jpeg\n",
      "http://www.mangaread.org/wp-content/uploads/WP-manga/data/manga_5e08fdccf028f/09c58c5226627a9f4adf3f66cdf8c7e9/18.jpeg\n",
      "http://www.mangaread.org/wp-content/uploads/WP-manga/data/manga_5e08fdccf028f/09c58c5226627a9f4adf3f66cdf8c7e9/19.jpeg\n",
      "http://www.mangaread.org/wp-content/uploads/WP-manga/data/manga_5e08fdccf028f/09c58c5226627a9f4adf3f66cdf8c7e9/20.jpeg\n",
      "http://www.mangaread.org/wp-content/uploads/WP-manga/data/manga_5e08fdccf028f/09c58c5226627a9f4adf3f66cdf8c7e9/21.jpeg\n",
      "http://www.mangaread.org/wp-content/uploads/WP-manga/data/manga_5e08fdccf028f/09c58c5226627a9f4adf3f66cdf8c7e9/22.jpeg\n",
      "http://www.mangaread.org/wp-content/uploads/WP-manga/data/manga_5e08fdccf028f/09c58c5226627a9f4adf3f66cdf8c7e9/23.jpeg\n",
      "http://www.mangaread.org/wp-content/uploads/WP-manga/data/manga_5e08fdccf028f/09c58c5226627a9f4adf3f66cdf8c7e9/24.jpeg\n",
      "http://www.mangaread.org/wp-content/uploads/WP-manga/data/manga_5e08fdccf028f/09c58c5226627a9f4adf3f66cdf8c7e9/25.jpeg\n",
      "http://www.mangaread.org/wp-content/uploads/WP-manga/data/manga_5e08fdccf028f/09c58c5226627a9f4adf3f66cdf8c7e9/26.jpeg\n",
      "http://www.mangaread.org/wp-content/uploads/WP-manga/data/manga_5e08fdccf028f/09c58c5226627a9f4adf3f66cdf8c7e9/27.jpeg\n",
      "http://www.mangaread.org/wp-content/uploads/WP-manga/data/manga_5e08fdccf028f/09c58c5226627a9f4adf3f66cdf8c7e9/28.jpeg\n",
      "http://www.mangaread.org/wp-content/uploads/WP-manga/data/manga_5e08fdccf028f/09c58c5226627a9f4adf3f66cdf8c7e9/29.jpeg\n",
      "http://www.mangaread.org/wp-content/uploads/WP-manga/data/manga_5e08fdccf028f/09c58c5226627a9f4adf3f66cdf8c7e9/30.jpeg\n",
      "http://www.mangaread.org/wp-content/uploads/WP-manga/data/manga_5e08fdccf028f/09c58c5226627a9f4adf3f66cdf8c7e9/31.jpeg\n",
      "http://www.mangaread.org/wp-content/uploads/WP-manga/data/manga_5e08fdccf028f/09c58c5226627a9f4adf3f66cdf8c7e9/32.jpeg\n"
     ]
    },
    {
     "name": "stderr",
     "output_type": "stream",
     "text": [
      " 88%|██████████████████████████████████████████████████████████████████████▎         | 87/99 [1:32:38<13:59, 69.95s/it]"
     ]
    },
    {
     "name": "stdout",
     "output_type": "stream",
     "text": [
      "finish\n",
      "----------------------------------------------------------------------------------------------------\n",
      "starting crawl chapter 88\n",
      "http://www.mangaread.org/wp-content/uploads/WP-manga/data/manga_5e08fdccf028f/1e4ff45409cea1f0018b4ce53bc0edf0/2.jpeg\n",
      "http://www.mangaread.org/wp-content/uploads/WP-manga/data/manga_5e08fdccf028f/1e4ff45409cea1f0018b4ce53bc0edf0/3.jpeg\n",
      "http://www.mangaread.org/wp-content/uploads/WP-manga/data/manga_5e08fdccf028f/1e4ff45409cea1f0018b4ce53bc0edf0/4.jpeg\n",
      "http://www.mangaread.org/wp-content/uploads/WP-manga/data/manga_5e08fdccf028f/1e4ff45409cea1f0018b4ce53bc0edf0/5.jpeg\n",
      "http://www.mangaread.org/wp-content/uploads/WP-manga/data/manga_5e08fdccf028f/1e4ff45409cea1f0018b4ce53bc0edf0/6.jpeg\n",
      "http://www.mangaread.org/wp-content/uploads/WP-manga/data/manga_5e08fdccf028f/1e4ff45409cea1f0018b4ce53bc0edf0/7.jpeg\n",
      "http://www.mangaread.org/wp-content/uploads/WP-manga/data/manga_5e08fdccf028f/1e4ff45409cea1f0018b4ce53bc0edf0/8.jpeg\n",
      "http://www.mangaread.org/wp-content/uploads/WP-manga/data/manga_5e08fdccf028f/1e4ff45409cea1f0018b4ce53bc0edf0/9.jpeg\n",
      "http://www.mangaread.org/wp-content/uploads/WP-manga/data/manga_5e08fdccf028f/1e4ff45409cea1f0018b4ce53bc0edf0/10.jpeg\n",
      "http://www.mangaread.org/wp-content/uploads/WP-manga/data/manga_5e08fdccf028f/1e4ff45409cea1f0018b4ce53bc0edf0/11.jpeg\n",
      "http://www.mangaread.org/wp-content/uploads/WP-manga/data/manga_5e08fdccf028f/1e4ff45409cea1f0018b4ce53bc0edf0/12.jpeg\n",
      "http://www.mangaread.org/wp-content/uploads/WP-manga/data/manga_5e08fdccf028f/1e4ff45409cea1f0018b4ce53bc0edf0/13.jpeg\n",
      "http://www.mangaread.org/wp-content/uploads/WP-manga/data/manga_5e08fdccf028f/1e4ff45409cea1f0018b4ce53bc0edf0/14.jpeg\n",
      "http://www.mangaread.org/wp-content/uploads/WP-manga/data/manga_5e08fdccf028f/1e4ff45409cea1f0018b4ce53bc0edf0/15.jpeg\n",
      "http://www.mangaread.org/wp-content/uploads/WP-manga/data/manga_5e08fdccf028f/1e4ff45409cea1f0018b4ce53bc0edf0/16.jpeg\n",
      "http://www.mangaread.org/wp-content/uploads/WP-manga/data/manga_5e08fdccf028f/1e4ff45409cea1f0018b4ce53bc0edf0/17.jpeg\n",
      "http://www.mangaread.org/wp-content/uploads/WP-manga/data/manga_5e08fdccf028f/1e4ff45409cea1f0018b4ce53bc0edf0/18.jpeg\n",
      "http://www.mangaread.org/wp-content/uploads/WP-manga/data/manga_5e08fdccf028f/1e4ff45409cea1f0018b4ce53bc0edf0/19.jpeg\n",
      "http://www.mangaread.org/wp-content/uploads/WP-manga/data/manga_5e08fdccf028f/1e4ff45409cea1f0018b4ce53bc0edf0/20.jpeg\n",
      "http://www.mangaread.org/wp-content/uploads/WP-manga/data/manga_5e08fdccf028f/1e4ff45409cea1f0018b4ce53bc0edf0/21.jpeg\n",
      "http://www.mangaread.org/wp-content/uploads/WP-manga/data/manga_5e08fdccf028f/1e4ff45409cea1f0018b4ce53bc0edf0/22.jpeg\n",
      "http://www.mangaread.org/wp-content/uploads/WP-manga/data/manga_5e08fdccf028f/1e4ff45409cea1f0018b4ce53bc0edf0/23.jpeg\n",
      "http://www.mangaread.org/wp-content/uploads/WP-manga/data/manga_5e08fdccf028f/1e4ff45409cea1f0018b4ce53bc0edf0/24.jpeg\n",
      "http://www.mangaread.org/wp-content/uploads/WP-manga/data/manga_5e08fdccf028f/1e4ff45409cea1f0018b4ce53bc0edf0/25.jpeg\n",
      "http://www.mangaread.org/wp-content/uploads/WP-manga/data/manga_5e08fdccf028f/1e4ff45409cea1f0018b4ce53bc0edf0/26.jpeg\n",
      "http://www.mangaread.org/wp-content/uploads/WP-manga/data/manga_5e08fdccf028f/1e4ff45409cea1f0018b4ce53bc0edf0/27.jpeg\n",
      "http://www.mangaread.org/wp-content/uploads/WP-manga/data/manga_5e08fdccf028f/1e4ff45409cea1f0018b4ce53bc0edf0/28.jpeg\n",
      "http://www.mangaread.org/wp-content/uploads/WP-manga/data/manga_5e08fdccf028f/1e4ff45409cea1f0018b4ce53bc0edf0/29.jpeg\n",
      "http://www.mangaread.org/wp-content/uploads/WP-manga/data/manga_5e08fdccf028f/1e4ff45409cea1f0018b4ce53bc0edf0/30.jpeg\n",
      "http://www.mangaread.org/wp-content/uploads/WP-manga/data/manga_5e08fdccf028f/1e4ff45409cea1f0018b4ce53bc0edf0/31.jpeg\n",
      "http://www.mangaread.org/wp-content/uploads/WP-manga/data/manga_5e08fdccf028f/1e4ff45409cea1f0018b4ce53bc0edf0/32.jpeg\n",
      "http://www.mangaread.org/wp-content/uploads/WP-manga/data/manga_5e08fdccf028f/1e4ff45409cea1f0018b4ce53bc0edf0/33.jpeg\n",
      "http://www.mangaread.org/wp-content/uploads/WP-manga/data/manga_5e08fdccf028f/1e4ff45409cea1f0018b4ce53bc0edf0/34.jpeg\n",
      "http://www.mangaread.org/wp-content/uploads/WP-manga/data/manga_5e08fdccf028f/1e4ff45409cea1f0018b4ce53bc0edf0/35.jpeg\n",
      "http://www.mangaread.org/wp-content/uploads/WP-manga/data/manga_5e08fdccf028f/1e4ff45409cea1f0018b4ce53bc0edf0/36.jpeg\n",
      "http://www.mangaread.org/wp-content/uploads/WP-manga/data/manga_5e08fdccf028f/1e4ff45409cea1f0018b4ce53bc0edf0/37.jpeg\n",
      "http://www.mangaread.org/wp-content/uploads/WP-manga/data/manga_5e08fdccf028f/1e4ff45409cea1f0018b4ce53bc0edf0/38.jpeg\n",
      "http://www.mangaread.org/wp-content/uploads/WP-manga/data/manga_5e08fdccf028f/1e4ff45409cea1f0018b4ce53bc0edf0/39.jpeg\n",
      "http://www.mangaread.org/wp-content/uploads/WP-manga/data/manga_5e08fdccf028f/1e4ff45409cea1f0018b4ce53bc0edf0/40.jpeg\n",
      "http://www.mangaread.org/wp-content/uploads/WP-manga/data/manga_5e08fdccf028f/1e4ff45409cea1f0018b4ce53bc0edf0/41.jpeg\n",
      "http://www.mangaread.org/wp-content/uploads/WP-manga/data/manga_5e08fdccf028f/1e4ff45409cea1f0018b4ce53bc0edf0/42.jpeg\n",
      "http://www.mangaread.org/wp-content/uploads/WP-manga/data/manga_5e08fdccf028f/1e4ff45409cea1f0018b4ce53bc0edf0/43.jpeg\n",
      "http://www.mangaread.org/wp-content/uploads/WP-manga/data/manga_5e08fdccf028f/1e4ff45409cea1f0018b4ce53bc0edf0/44.jpeg\n",
      "http://www.mangaread.org/wp-content/uploads/WP-manga/data/manga_5e08fdccf028f/1e4ff45409cea1f0018b4ce53bc0edf0/45.jpeg\n",
      "http://www.mangaread.org/wp-content/uploads/WP-manga/data/manga_5e08fdccf028f/1e4ff45409cea1f0018b4ce53bc0edf0/46.jpeg\n",
      "http://www.mangaread.org/wp-content/uploads/WP-manga/data/manga_5e08fdccf028f/1e4ff45409cea1f0018b4ce53bc0edf0/47.jpeg\n",
      "http://www.mangaread.org/wp-content/uploads/WP-manga/data/manga_5e08fdccf028f/1e4ff45409cea1f0018b4ce53bc0edf0/48.jpeg\n",
      "http://www.mangaread.org/wp-content/uploads/WP-manga/data/manga_5e08fdccf028f/1e4ff45409cea1f0018b4ce53bc0edf0/49.jpeg\n",
      "http://www.mangaread.org/wp-content/uploads/WP-manga/data/manga_5e08fdccf028f/1e4ff45409cea1f0018b4ce53bc0edf0/50.jpeg\n",
      "http://www.mangaread.org/wp-content/uploads/WP-manga/data/manga_5e08fdccf028f/1e4ff45409cea1f0018b4ce53bc0edf0/51.jpeg\n",
      "http://www.mangaread.org/wp-content/uploads/WP-manga/data/manga_5e08fdccf028f/1e4ff45409cea1f0018b4ce53bc0edf0/52.jpeg\n",
      "http://www.mangaread.org/wp-content/uploads/WP-manga/data/manga_5e08fdccf028f/1e4ff45409cea1f0018b4ce53bc0edf0/53.jpeg\n",
      "http://www.mangaread.org/wp-content/uploads/WP-manga/data/manga_5e08fdccf028f/1e4ff45409cea1f0018b4ce53bc0edf0/54.jpeg\n",
      "http://www.mangaread.org/wp-content/uploads/WP-manga/data/manga_5e08fdccf028f/1e4ff45409cea1f0018b4ce53bc0edf0/55.jpeg\n",
      "http://www.mangaread.org/wp-content/uploads/WP-manga/data/manga_5e08fdccf028f/1e4ff45409cea1f0018b4ce53bc0edf0/56.jpeg\n",
      "http://www.mangaread.org/wp-content/uploads/WP-manga/data/manga_5e08fdccf028f/1e4ff45409cea1f0018b4ce53bc0edf0/57.jpeg\n",
      "http://www.mangaread.org/wp-content/uploads/WP-manga/data/manga_5e08fdccf028f/1e4ff45409cea1f0018b4ce53bc0edf0/58.jpeg\n",
      "http://www.mangaread.org/wp-content/uploads/WP-manga/data/manga_5e08fdccf028f/1e4ff45409cea1f0018b4ce53bc0edf0/59.jpeg\n",
      "http://www.mangaread.org/wp-content/uploads/WP-manga/data/manga_5e08fdccf028f/1e4ff45409cea1f0018b4ce53bc0edf0/60.jpeg\n",
      "http://www.mangaread.org/wp-content/uploads/WP-manga/data/manga_5e08fdccf028f/1e4ff45409cea1f0018b4ce53bc0edf0/61.jpeg\n",
      "http://www.mangaread.org/wp-content/uploads/WP-manga/data/manga_5e08fdccf028f/1e4ff45409cea1f0018b4ce53bc0edf0/62.jpeg\n",
      "http://www.mangaread.org/wp-content/uploads/WP-manga/data/manga_5e08fdccf028f/1e4ff45409cea1f0018b4ce53bc0edf0/63.jpeg\n",
      "http://www.mangaread.org/wp-content/uploads/WP-manga/data/manga_5e08fdccf028f/1e4ff45409cea1f0018b4ce53bc0edf0/64.jpeg\n",
      "http://www.mangaread.org/wp-content/uploads/WP-manga/data/manga_5e08fdccf028f/1e4ff45409cea1f0018b4ce53bc0edf0/65.jpeg\n",
      "http://www.mangaread.org/wp-content/uploads/WP-manga/data/manga_5e08fdccf028f/1e4ff45409cea1f0018b4ce53bc0edf0/66.jpeg\n",
      "http://www.mangaread.org/wp-content/uploads/WP-manga/data/manga_5e08fdccf028f/1e4ff45409cea1f0018b4ce53bc0edf0/67.jpeg\n",
      "http://www.mangaread.org/wp-content/uploads/WP-manga/data/manga_5e08fdccf028f/1e4ff45409cea1f0018b4ce53bc0edf0/68.jpeg\n",
      "http://www.mangaread.org/wp-content/uploads/WP-manga/data/manga_5e08fdccf028f/1e4ff45409cea1f0018b4ce53bc0edf0/69.jpeg\n",
      "http://www.mangaread.org/wp-content/uploads/WP-manga/data/manga_5e08fdccf028f/1e4ff45409cea1f0018b4ce53bc0edf0/70.jpeg\n",
      "http://www.mangaread.org/wp-content/uploads/WP-manga/data/manga_5e08fdccf028f/1e4ff45409cea1f0018b4ce53bc0edf0/71.jpeg\n",
      "http://www.mangaread.org/wp-content/uploads/WP-manga/data/manga_5e08fdccf028f/1e4ff45409cea1f0018b4ce53bc0edf0/72.jpeg\n",
      "http://www.mangaread.org/wp-content/uploads/WP-manga/data/manga_5e08fdccf028f/1e4ff45409cea1f0018b4ce53bc0edf0/73.jpeg\n",
      "http://www.mangaread.org/wp-content/uploads/WP-manga/data/manga_5e08fdccf028f/1e4ff45409cea1f0018b4ce53bc0edf0/74.jpeg\n",
      "http://www.mangaread.org/wp-content/uploads/WP-manga/data/manga_5e08fdccf028f/1e4ff45409cea1f0018b4ce53bc0edf0/75.jpeg\n",
      "http://www.mangaread.org/wp-content/uploads/WP-manga/data/manga_5e08fdccf028f/1e4ff45409cea1f0018b4ce53bc0edf0/76.jpeg\n",
      "http://www.mangaread.org/wp-content/uploads/WP-manga/data/manga_5e08fdccf028f/1e4ff45409cea1f0018b4ce53bc0edf0/77.jpeg\n",
      "http://www.mangaread.org/wp-content/uploads/WP-manga/data/manga_5e08fdccf028f/1e4ff45409cea1f0018b4ce53bc0edf0/78.jpeg\n",
      "http://www.mangaread.org/wp-content/uploads/WP-manga/data/manga_5e08fdccf028f/1e4ff45409cea1f0018b4ce53bc0edf0/79.jpeg\n",
      "http://www.mangaread.org/wp-content/uploads/WP-manga/data/manga_5e08fdccf028f/1e4ff45409cea1f0018b4ce53bc0edf0/80.jpeg\n",
      "http://www.mangaread.org/wp-content/uploads/WP-manga/data/manga_5e08fdccf028f/1e4ff45409cea1f0018b4ce53bc0edf0/81.jpeg\n",
      "http://www.mangaread.org/wp-content/uploads/WP-manga/data/manga_5e08fdccf028f/1e4ff45409cea1f0018b4ce53bc0edf0/82.jpeg\n",
      "http://www.mangaread.org/wp-content/uploads/WP-manga/data/manga_5e08fdccf028f/1e4ff45409cea1f0018b4ce53bc0edf0/83.jpeg\n",
      "http://www.mangaread.org/wp-content/uploads/WP-manga/data/manga_5e08fdccf028f/1e4ff45409cea1f0018b4ce53bc0edf0/84.jpeg\n",
      "http://www.mangaread.org/wp-content/uploads/WP-manga/data/manga_5e08fdccf028f/1e4ff45409cea1f0018b4ce53bc0edf0/85.jpeg\n",
      "http://www.mangaread.org/wp-content/uploads/WP-manga/data/manga_5e08fdccf028f/1e4ff45409cea1f0018b4ce53bc0edf0/86.jpeg\n",
      "http://www.mangaread.org/wp-content/uploads/WP-manga/data/manga_5e08fdccf028f/1e4ff45409cea1f0018b4ce53bc0edf0/87.jpeg\n",
      "http://www.mangaread.org/wp-content/uploads/WP-manga/data/manga_5e08fdccf028f/1e4ff45409cea1f0018b4ce53bc0edf0/88.jpeg\n",
      "http://www.mangaread.org/wp-content/uploads/WP-manga/data/manga_5e08fdccf028f/1e4ff45409cea1f0018b4ce53bc0edf0/89.jpeg\n",
      "http://www.mangaread.org/wp-content/uploads/WP-manga/data/manga_5e08fdccf028f/1e4ff45409cea1f0018b4ce53bc0edf0/90.jpeg\n",
      "http://www.mangaread.org/wp-content/uploads/WP-manga/data/manga_5e08fdccf028f/1e4ff45409cea1f0018b4ce53bc0edf0/91.jpeg\n",
      "http://www.mangaread.org/wp-content/uploads/WP-manga/data/manga_5e08fdccf028f/1e4ff45409cea1f0018b4ce53bc0edf0/92.jpeg\n",
      "http://www.mangaread.org/wp-content/uploads/WP-manga/data/manga_5e08fdccf028f/1e4ff45409cea1f0018b4ce53bc0edf0/93.jpeg\n"
     ]
    },
    {
     "name": "stderr",
     "output_type": "stream",
     "text": [
      " 89%|██████████████████████████████████████████████████████████████████████▏        | 88/99 [1:36:12<20:47, 113.44s/it]"
     ]
    },
    {
     "name": "stdout",
     "output_type": "stream",
     "text": [
      "finish\n",
      "----------------------------------------------------------------------------------------------------\n",
      "starting crawl chapter 89\n",
      "http://www.mangaread.org/wp-content/uploads/WP-manga/data/manga_5e08fdccf028f/c4af8fb9c8e54d3b42e4a2ed5d4d5885/1.jpg\n",
      "http://www.mangaread.org/wp-content/uploads/WP-manga/data/manga_5e08fdccf028f/c4af8fb9c8e54d3b42e4a2ed5d4d5885/2.jpg\n",
      "http://www.mangaread.org/wp-content/uploads/WP-manga/data/manga_5e08fdccf028f/c4af8fb9c8e54d3b42e4a2ed5d4d5885/3.jpg\n",
      "http://www.mangaread.org/wp-content/uploads/WP-manga/data/manga_5e08fdccf028f/c4af8fb9c8e54d3b42e4a2ed5d4d5885/4.jpg\n",
      "http://www.mangaread.org/wp-content/uploads/WP-manga/data/manga_5e08fdccf028f/c4af8fb9c8e54d3b42e4a2ed5d4d5885/5.jpg\n",
      "http://www.mangaread.org/wp-content/uploads/WP-manga/data/manga_5e08fdccf028f/c4af8fb9c8e54d3b42e4a2ed5d4d5885/6.jpg\n",
      "http://www.mangaread.org/wp-content/uploads/WP-manga/data/manga_5e08fdccf028f/c4af8fb9c8e54d3b42e4a2ed5d4d5885/7.jpg\n",
      "http://www.mangaread.org/wp-content/uploads/WP-manga/data/manga_5e08fdccf028f/c4af8fb9c8e54d3b42e4a2ed5d4d5885/8.jpg\n",
      "http://www.mangaread.org/wp-content/uploads/WP-manga/data/manga_5e08fdccf028f/c4af8fb9c8e54d3b42e4a2ed5d4d5885/9.jpg\n",
      "http://www.mangaread.org/wp-content/uploads/WP-manga/data/manga_5e08fdccf028f/c4af8fb9c8e54d3b42e4a2ed5d4d5885/10.jpg\n",
      "http://www.mangaread.org/wp-content/uploads/WP-manga/data/manga_5e08fdccf028f/c4af8fb9c8e54d3b42e4a2ed5d4d5885/11.jpg\n",
      "http://www.mangaread.org/wp-content/uploads/WP-manga/data/manga_5e08fdccf028f/c4af8fb9c8e54d3b42e4a2ed5d4d5885/12.jpg\n",
      "http://www.mangaread.org/wp-content/uploads/WP-manga/data/manga_5e08fdccf028f/c4af8fb9c8e54d3b42e4a2ed5d4d5885/13.jpg\n",
      "http://www.mangaread.org/wp-content/uploads/WP-manga/data/manga_5e08fdccf028f/c4af8fb9c8e54d3b42e4a2ed5d4d5885/14.jpg\n",
      "http://www.mangaread.org/wp-content/uploads/WP-manga/data/manga_5e08fdccf028f/c4af8fb9c8e54d3b42e4a2ed5d4d5885/15.jpg\n",
      "http://www.mangaread.org/wp-content/uploads/WP-manga/data/manga_5e08fdccf028f/c4af8fb9c8e54d3b42e4a2ed5d4d5885/16.jpg\n",
      "http://www.mangaread.org/wp-content/uploads/WP-manga/data/manga_5e08fdccf028f/c4af8fb9c8e54d3b42e4a2ed5d4d5885/17.jpg\n",
      "http://www.mangaread.org/wp-content/uploads/WP-manga/data/manga_5e08fdccf028f/c4af8fb9c8e54d3b42e4a2ed5d4d5885/18.jpg\n",
      "http://www.mangaread.org/wp-content/uploads/WP-manga/data/manga_5e08fdccf028f/c4af8fb9c8e54d3b42e4a2ed5d4d5885/19.jpg\n",
      "http://www.mangaread.org/wp-content/uploads/WP-manga/data/manga_5e08fdccf028f/c4af8fb9c8e54d3b42e4a2ed5d4d5885/20.jpg\n",
      "http://www.mangaread.org/wp-content/uploads/WP-manga/data/manga_5e08fdccf028f/c4af8fb9c8e54d3b42e4a2ed5d4d5885/21.jpg\n",
      "http://www.mangaread.org/wp-content/uploads/WP-manga/data/manga_5e08fdccf028f/c4af8fb9c8e54d3b42e4a2ed5d4d5885/22.jpg\n",
      "http://www.mangaread.org/wp-content/uploads/WP-manga/data/manga_5e08fdccf028f/c4af8fb9c8e54d3b42e4a2ed5d4d5885/23.jpg\n",
      "http://www.mangaread.org/wp-content/uploads/WP-manga/data/manga_5e08fdccf028f/c4af8fb9c8e54d3b42e4a2ed5d4d5885/24.jpg\n",
      "http://www.mangaread.org/wp-content/uploads/WP-manga/data/manga_5e08fdccf028f/c4af8fb9c8e54d3b42e4a2ed5d4d5885/25.jpg\n",
      "http://www.mangaread.org/wp-content/uploads/WP-manga/data/manga_5e08fdccf028f/c4af8fb9c8e54d3b42e4a2ed5d4d5885/26.jpg\n",
      "http://www.mangaread.org/wp-content/uploads/WP-manga/data/manga_5e08fdccf028f/c4af8fb9c8e54d3b42e4a2ed5d4d5885/27.jpg\n"
     ]
    },
    {
     "name": "stderr",
     "output_type": "stream",
     "text": [
      " 90%|███████████████████████████████████████████████████████████████████████        | 89/99 [1:37:29<17:03, 102.32s/it]"
     ]
    },
    {
     "name": "stdout",
     "output_type": "stream",
     "text": [
      "finish\n",
      "----------------------------------------------------------------------------------------------------\n",
      "starting crawl chapter 90\n",
      "http://www.mangaread.org/wp-content/uploads/WP-manga/data/manga_5e08fdccf028f/6e3aeae0d1f52eb086d78efe12474266/1.jpg\n",
      "http://www.mangaread.org/wp-content/uploads/WP-manga/data/manga_5e08fdccf028f/6e3aeae0d1f52eb086d78efe12474266/2.jpg\n",
      "http://www.mangaread.org/wp-content/uploads/WP-manga/data/manga_5e08fdccf028f/6e3aeae0d1f52eb086d78efe12474266/3.jpg\n",
      "http://www.mangaread.org/wp-content/uploads/WP-manga/data/manga_5e08fdccf028f/6e3aeae0d1f52eb086d78efe12474266/4.jpg\n",
      "http://www.mangaread.org/wp-content/uploads/WP-manga/data/manga_5e08fdccf028f/6e3aeae0d1f52eb086d78efe12474266/5.jpg\n",
      "http://www.mangaread.org/wp-content/uploads/WP-manga/data/manga_5e08fdccf028f/6e3aeae0d1f52eb086d78efe12474266/6.jpg\n",
      "http://www.mangaread.org/wp-content/uploads/WP-manga/data/manga_5e08fdccf028f/6e3aeae0d1f52eb086d78efe12474266/7.jpg\n",
      "http://www.mangaread.org/wp-content/uploads/WP-manga/data/manga_5e08fdccf028f/6e3aeae0d1f52eb086d78efe12474266/8.jpg\n",
      "http://www.mangaread.org/wp-content/uploads/WP-manga/data/manga_5e08fdccf028f/6e3aeae0d1f52eb086d78efe12474266/9.jpg\n",
      "http://www.mangaread.org/wp-content/uploads/WP-manga/data/manga_5e08fdccf028f/6e3aeae0d1f52eb086d78efe12474266/10.jpg\n",
      "http://www.mangaread.org/wp-content/uploads/WP-manga/data/manga_5e08fdccf028f/6e3aeae0d1f52eb086d78efe12474266/11.jpg\n",
      "http://www.mangaread.org/wp-content/uploads/WP-manga/data/manga_5e08fdccf028f/6e3aeae0d1f52eb086d78efe12474266/12.jpg\n",
      "http://www.mangaread.org/wp-content/uploads/WP-manga/data/manga_5e08fdccf028f/6e3aeae0d1f52eb086d78efe12474266/13.jpg\n",
      "http://www.mangaread.org/wp-content/uploads/WP-manga/data/manga_5e08fdccf028f/6e3aeae0d1f52eb086d78efe12474266/14.jpg\n",
      "http://www.mangaread.org/wp-content/uploads/WP-manga/data/manga_5e08fdccf028f/6e3aeae0d1f52eb086d78efe12474266/15.jpg\n",
      "http://www.mangaread.org/wp-content/uploads/WP-manga/data/manga_5e08fdccf028f/6e3aeae0d1f52eb086d78efe12474266/16.jpg\n",
      "http://www.mangaread.org/wp-content/uploads/WP-manga/data/manga_5e08fdccf028f/6e3aeae0d1f52eb086d78efe12474266/17.jpg\n",
      "http://www.mangaread.org/wp-content/uploads/WP-manga/data/manga_5e08fdccf028f/6e3aeae0d1f52eb086d78efe12474266/18.jpg\n",
      "http://www.mangaread.org/wp-content/uploads/WP-manga/data/manga_5e08fdccf028f/6e3aeae0d1f52eb086d78efe12474266/19.jpg\n",
      "http://www.mangaread.org/wp-content/uploads/WP-manga/data/manga_5e08fdccf028f/6e3aeae0d1f52eb086d78efe12474266/20.jpg\n",
      "http://www.mangaread.org/wp-content/uploads/WP-manga/data/manga_5e08fdccf028f/6e3aeae0d1f52eb086d78efe12474266/21.jpg\n",
      "http://www.mangaread.org/wp-content/uploads/WP-manga/data/manga_5e08fdccf028f/6e3aeae0d1f52eb086d78efe12474266/22.jpg\n",
      "http://www.mangaread.org/wp-content/uploads/WP-manga/data/manga_5e08fdccf028f/6e3aeae0d1f52eb086d78efe12474266/23.jpg\n",
      "http://www.mangaread.org/wp-content/uploads/WP-manga/data/manga_5e08fdccf028f/6e3aeae0d1f52eb086d78efe12474266/24.jpg\n",
      "http://www.mangaread.org/wp-content/uploads/WP-manga/data/manga_5e08fdccf028f/6e3aeae0d1f52eb086d78efe12474266/25.jpg\n",
      "http://www.mangaread.org/wp-content/uploads/WP-manga/data/manga_5e08fdccf028f/6e3aeae0d1f52eb086d78efe12474266/26.jpg\n",
      "http://www.mangaread.org/wp-content/uploads/WP-manga/data/manga_5e08fdccf028f/6e3aeae0d1f52eb086d78efe12474266/27.jpg\n"
     ]
    },
    {
     "name": "stderr",
     "output_type": "stream",
     "text": [
      " 91%|████████████████████████████████████████████████████████████████████████▋       | 90/99 [1:38:41<14:00, 93.42s/it]"
     ]
    },
    {
     "name": "stdout",
     "output_type": "stream",
     "text": [
      "finish\n",
      "----------------------------------------------------------------------------------------------------\n",
      "starting crawl chapter 91\n",
      "http://www.mangaread.org/wp-content/uploads/WP-manga/data/manga_5e08fdccf028f/abe1d0bd9a450086470ba9cea2739ea9/3.jpeg\n",
      "http://www.mangaread.org/wp-content/uploads/WP-manga/data/manga_5e08fdccf028f/abe1d0bd9a450086470ba9cea2739ea9/4.jpeg\n",
      "http://www.mangaread.org/wp-content/uploads/WP-manga/data/manga_5e08fdccf028f/abe1d0bd9a450086470ba9cea2739ea9/5.jpeg\n",
      "http://www.mangaread.org/wp-content/uploads/WP-manga/data/manga_5e08fdccf028f/abe1d0bd9a450086470ba9cea2739ea9/6.jpeg\n",
      "http://www.mangaread.org/wp-content/uploads/WP-manga/data/manga_5e08fdccf028f/abe1d0bd9a450086470ba9cea2739ea9/7.jpeg\n",
      "http://www.mangaread.org/wp-content/uploads/WP-manga/data/manga_5e08fdccf028f/abe1d0bd9a450086470ba9cea2739ea9/8.jpeg\n",
      "http://www.mangaread.org/wp-content/uploads/WP-manga/data/manga_5e08fdccf028f/abe1d0bd9a450086470ba9cea2739ea9/9.jpeg\n",
      "http://www.mangaread.org/wp-content/uploads/WP-manga/data/manga_5e08fdccf028f/abe1d0bd9a450086470ba9cea2739ea9/10.jpeg\n",
      "http://www.mangaread.org/wp-content/uploads/WP-manga/data/manga_5e08fdccf028f/abe1d0bd9a450086470ba9cea2739ea9/11.jpeg\n",
      "http://www.mangaread.org/wp-content/uploads/WP-manga/data/manga_5e08fdccf028f/abe1d0bd9a450086470ba9cea2739ea9/12.jpeg\n",
      "http://www.mangaread.org/wp-content/uploads/WP-manga/data/manga_5e08fdccf028f/abe1d0bd9a450086470ba9cea2739ea9/13.jpeg\n",
      "http://www.mangaread.org/wp-content/uploads/WP-manga/data/manga_5e08fdccf028f/abe1d0bd9a450086470ba9cea2739ea9/14.jpeg\n",
      "http://www.mangaread.org/wp-content/uploads/WP-manga/data/manga_5e08fdccf028f/abe1d0bd9a450086470ba9cea2739ea9/15.jpeg\n",
      "http://www.mangaread.org/wp-content/uploads/WP-manga/data/manga_5e08fdccf028f/abe1d0bd9a450086470ba9cea2739ea9/16.jpeg\n",
      "http://www.mangaread.org/wp-content/uploads/WP-manga/data/manga_5e08fdccf028f/abe1d0bd9a450086470ba9cea2739ea9/17.jpeg\n",
      "http://www.mangaread.org/wp-content/uploads/WP-manga/data/manga_5e08fdccf028f/abe1d0bd9a450086470ba9cea2739ea9/18.jpeg\n",
      "http://www.mangaread.org/wp-content/uploads/WP-manga/data/manga_5e08fdccf028f/abe1d0bd9a450086470ba9cea2739ea9/19.jpeg\n",
      "http://www.mangaread.org/wp-content/uploads/WP-manga/data/manga_5e08fdccf028f/abe1d0bd9a450086470ba9cea2739ea9/20.jpeg\n",
      "http://www.mangaread.org/wp-content/uploads/WP-manga/data/manga_5e08fdccf028f/abe1d0bd9a450086470ba9cea2739ea9/21.jpeg\n",
      "http://www.mangaread.org/wp-content/uploads/WP-manga/data/manga_5e08fdccf028f/abe1d0bd9a450086470ba9cea2739ea9/22.jpeg\n",
      "http://www.mangaread.org/wp-content/uploads/WP-manga/data/manga_5e08fdccf028f/abe1d0bd9a450086470ba9cea2739ea9/23.jpeg\n",
      "http://www.mangaread.org/wp-content/uploads/WP-manga/data/manga_5e08fdccf028f/abe1d0bd9a450086470ba9cea2739ea9/24.jpeg\n",
      "http://www.mangaread.org/wp-content/uploads/WP-manga/data/manga_5e08fdccf028f/abe1d0bd9a450086470ba9cea2739ea9/25.jpeg\n",
      "http://www.mangaread.org/wp-content/uploads/WP-manga/data/manga_5e08fdccf028f/abe1d0bd9a450086470ba9cea2739ea9/26.jpeg\n"
     ]
    },
    {
     "name": "stderr",
     "output_type": "stream",
     "text": [
      " 92%|█████████████████████████████████████████████████████████████████████████▌      | 91/99 [1:39:49<11:25, 85.70s/it]"
     ]
    },
    {
     "name": "stdout",
     "output_type": "stream",
     "text": [
      "finish\n",
      "----------------------------------------------------------------------------------------------------\n",
      "starting crawl chapter 92\n",
      "http://www.mangaread.org/wp-content/uploads/WP-manga/data/manga_5e08fdccf028f/ae8bbbf1c4b5abdf42e616aa1dd1fd33/skeleton_soldier_couldnt_protect_the_dungeon_92_1.jpg\n",
      "http://www.mangaread.org/wp-content/uploads/WP-manga/data/manga_5e08fdccf028f/ae8bbbf1c4b5abdf42e616aa1dd1fd33/skeleton_soldier_couldnt_protect_the_dungeon_92_2.jpg\n",
      "http://www.mangaread.org/wp-content/uploads/WP-manga/data/manga_5e08fdccf028f/ae8bbbf1c4b5abdf42e616aa1dd1fd33/skeleton_soldier_couldnt_protect_the_dungeon_92_3.jpg\n",
      "http://www.mangaread.org/wp-content/uploads/WP-manga/data/manga_5e08fdccf028f/ae8bbbf1c4b5abdf42e616aa1dd1fd33/skeleton_soldier_couldnt_protect_the_dungeon_92_4.jpg\n",
      "http://www.mangaread.org/wp-content/uploads/WP-manga/data/manga_5e08fdccf028f/ae8bbbf1c4b5abdf42e616aa1dd1fd33/skeleton_soldier_couldnt_protect_the_dungeon_92_5.jpg\n",
      "http://www.mangaread.org/wp-content/uploads/WP-manga/data/manga_5e08fdccf028f/ae8bbbf1c4b5abdf42e616aa1dd1fd33/skeleton_soldier_couldnt_protect_the_dungeon_92_6.jpg\n",
      "http://www.mangaread.org/wp-content/uploads/WP-manga/data/manga_5e08fdccf028f/ae8bbbf1c4b5abdf42e616aa1dd1fd33/skeleton_soldier_couldnt_protect_the_dungeon_92_7.jpg\n",
      "http://www.mangaread.org/wp-content/uploads/WP-manga/data/manga_5e08fdccf028f/ae8bbbf1c4b5abdf42e616aa1dd1fd33/skeleton_soldier_couldnt_protect_the_dungeon_92_8.jpg\n",
      "http://www.mangaread.org/wp-content/uploads/WP-manga/data/manga_5e08fdccf028f/ae8bbbf1c4b5abdf42e616aa1dd1fd33/skeleton_soldier_couldnt_protect_the_dungeon_92_9.jpg\n",
      "http://www.mangaread.org/wp-content/uploads/WP-manga/data/manga_5e08fdccf028f/ae8bbbf1c4b5abdf42e616aa1dd1fd33/skeleton_soldier_couldnt_protect_the_dungeon_92_10.jpg\n",
      "http://www.mangaread.org/wp-content/uploads/WP-manga/data/manga_5e08fdccf028f/ae8bbbf1c4b5abdf42e616aa1dd1fd33/skeleton_soldier_couldnt_protect_the_dungeon_92_11.jpg\n",
      "http://www.mangaread.org/wp-content/uploads/WP-manga/data/manga_5e08fdccf028f/ae8bbbf1c4b5abdf42e616aa1dd1fd33/skeleton_soldier_couldnt_protect_the_dungeon_92_12.jpg\n",
      "http://www.mangaread.org/wp-content/uploads/WP-manga/data/manga_5e08fdccf028f/ae8bbbf1c4b5abdf42e616aa1dd1fd33/skeleton_soldier_couldnt_protect_the_dungeon_92_13.jpg\n",
      "http://www.mangaread.org/wp-content/uploads/WP-manga/data/manga_5e08fdccf028f/ae8bbbf1c4b5abdf42e616aa1dd1fd33/skeleton_soldier_couldnt_protect_the_dungeon_92_14.jpg\n",
      "http://www.mangaread.org/wp-content/uploads/WP-manga/data/manga_5e08fdccf028f/ae8bbbf1c4b5abdf42e616aa1dd1fd33/skeleton_soldier_couldnt_protect_the_dungeon_92_15.jpg\n",
      "http://www.mangaread.org/wp-content/uploads/WP-manga/data/manga_5e08fdccf028f/ae8bbbf1c4b5abdf42e616aa1dd1fd33/skeleton_soldier_couldnt_protect_the_dungeon_92_16.jpg\n",
      "http://www.mangaread.org/wp-content/uploads/WP-manga/data/manga_5e08fdccf028f/ae8bbbf1c4b5abdf42e616aa1dd1fd33/skeleton_soldier_couldnt_protect_the_dungeon_92_17.jpg\n",
      "http://www.mangaread.org/wp-content/uploads/WP-manga/data/manga_5e08fdccf028f/ae8bbbf1c4b5abdf42e616aa1dd1fd33/skeleton_soldier_couldnt_protect_the_dungeon_92_18.jpg\n",
      "http://www.mangaread.org/wp-content/uploads/WP-manga/data/manga_5e08fdccf028f/ae8bbbf1c4b5abdf42e616aa1dd1fd33/skeleton_soldier_couldnt_protect_the_dungeon_92_19.jpg\n",
      "http://www.mangaread.org/wp-content/uploads/WP-manga/data/manga_5e08fdccf028f/ae8bbbf1c4b5abdf42e616aa1dd1fd33/skeleton_soldier_couldnt_protect_the_dungeon_92_20.jpg\n",
      "http://www.mangaread.org/wp-content/uploads/WP-manga/data/manga_5e08fdccf028f/ae8bbbf1c4b5abdf42e616aa1dd1fd33/skeleton_soldier_couldnt_protect_the_dungeon_92_21.jpg\n",
      "http://www.mangaread.org/wp-content/uploads/WP-manga/data/manga_5e08fdccf028f/ae8bbbf1c4b5abdf42e616aa1dd1fd33/skeleton_soldier_couldnt_protect_the_dungeon_92_22.jpg\n",
      "http://www.mangaread.org/wp-content/uploads/WP-manga/data/manga_5e08fdccf028f/ae8bbbf1c4b5abdf42e616aa1dd1fd33/skeleton_soldier_couldnt_protect_the_dungeon_92_23.jpg\n",
      "http://www.mangaread.org/wp-content/uploads/WP-manga/data/manga_5e08fdccf028f/ae8bbbf1c4b5abdf42e616aa1dd1fd33/skeleton_soldier_couldnt_protect_the_dungeon_92_24.jpg\n",
      "http://www.mangaread.org/wp-content/uploads/WP-manga/data/manga_5e08fdccf028f/ae8bbbf1c4b5abdf42e616aa1dd1fd33/skeleton_soldier_couldnt_protect_the_dungeon_92_25.jpg\n"
     ]
    },
    {
     "name": "stderr",
     "output_type": "stream",
     "text": [
      " 93%|██████████████████████████████████████████████████████████████████████████▎     | 92/99 [1:40:46<08:59, 77.13s/it]"
     ]
    },
    {
     "name": "stdout",
     "output_type": "stream",
     "text": [
      "finish\n",
      "----------------------------------------------------------------------------------------------------\n",
      "starting crawl chapter 93\n",
      "http://www.mangaread.org/wp-content/uploads/WP-manga/data/manga_5e08fdccf028f/43f95ad6f865aa8a74f56a50a655fa8b/3.jpeg\n",
      "http://www.mangaread.org/wp-content/uploads/WP-manga/data/manga_5e08fdccf028f/43f95ad6f865aa8a74f56a50a655fa8b/4.jpeg\n",
      "http://www.mangaread.org/wp-content/uploads/WP-manga/data/manga_5e08fdccf028f/43f95ad6f865aa8a74f56a50a655fa8b/5.jpeg\n",
      "http://www.mangaread.org/wp-content/uploads/WP-manga/data/manga_5e08fdccf028f/43f95ad6f865aa8a74f56a50a655fa8b/6.jpeg\n",
      "http://www.mangaread.org/wp-content/uploads/WP-manga/data/manga_5e08fdccf028f/43f95ad6f865aa8a74f56a50a655fa8b/7.jpeg\n",
      "http://www.mangaread.org/wp-content/uploads/WP-manga/data/manga_5e08fdccf028f/43f95ad6f865aa8a74f56a50a655fa8b/8.jpeg\n",
      "http://www.mangaread.org/wp-content/uploads/WP-manga/data/manga_5e08fdccf028f/43f95ad6f865aa8a74f56a50a655fa8b/9.jpeg\n",
      "http://www.mangaread.org/wp-content/uploads/WP-manga/data/manga_5e08fdccf028f/43f95ad6f865aa8a74f56a50a655fa8b/10.jpeg\n",
      "http://www.mangaread.org/wp-content/uploads/WP-manga/data/manga_5e08fdccf028f/43f95ad6f865aa8a74f56a50a655fa8b/11.jpeg\n",
      "http://www.mangaread.org/wp-content/uploads/WP-manga/data/manga_5e08fdccf028f/43f95ad6f865aa8a74f56a50a655fa8b/12.jpeg\n",
      "http://www.mangaread.org/wp-content/uploads/WP-manga/data/manga_5e08fdccf028f/43f95ad6f865aa8a74f56a50a655fa8b/13.jpeg\n",
      "http://www.mangaread.org/wp-content/uploads/WP-manga/data/manga_5e08fdccf028f/43f95ad6f865aa8a74f56a50a655fa8b/14.jpeg\n",
      "http://www.mangaread.org/wp-content/uploads/WP-manga/data/manga_5e08fdccf028f/43f95ad6f865aa8a74f56a50a655fa8b/15.jpeg\n",
      "http://www.mangaread.org/wp-content/uploads/WP-manga/data/manga_5e08fdccf028f/43f95ad6f865aa8a74f56a50a655fa8b/16.jpeg\n",
      "http://www.mangaread.org/wp-content/uploads/WP-manga/data/manga_5e08fdccf028f/43f95ad6f865aa8a74f56a50a655fa8b/17.jpeg\n",
      "http://www.mangaread.org/wp-content/uploads/WP-manga/data/manga_5e08fdccf028f/43f95ad6f865aa8a74f56a50a655fa8b/18.jpeg\n",
      "http://www.mangaread.org/wp-content/uploads/WP-manga/data/manga_5e08fdccf028f/43f95ad6f865aa8a74f56a50a655fa8b/19.jpeg\n",
      "http://www.mangaread.org/wp-content/uploads/WP-manga/data/manga_5e08fdccf028f/43f95ad6f865aa8a74f56a50a655fa8b/20.jpeg\n",
      "http://www.mangaread.org/wp-content/uploads/WP-manga/data/manga_5e08fdccf028f/43f95ad6f865aa8a74f56a50a655fa8b/21.jpeg\n",
      "http://www.mangaread.org/wp-content/uploads/WP-manga/data/manga_5e08fdccf028f/43f95ad6f865aa8a74f56a50a655fa8b/22.jpeg\n",
      "http://www.mangaread.org/wp-content/uploads/WP-manga/data/manga_5e08fdccf028f/43f95ad6f865aa8a74f56a50a655fa8b/23.jpeg\n",
      "http://www.mangaread.org/wp-content/uploads/WP-manga/data/manga_5e08fdccf028f/43f95ad6f865aa8a74f56a50a655fa8b/24.jpeg\n",
      "http://www.mangaread.org/wp-content/uploads/WP-manga/data/manga_5e08fdccf028f/43f95ad6f865aa8a74f56a50a655fa8b/25.jpeg\n",
      "http://www.mangaread.org/wp-content/uploads/WP-manga/data/manga_5e08fdccf028f/43f95ad6f865aa8a74f56a50a655fa8b/26.jpeg\n"
     ]
    },
    {
     "name": "stderr",
     "output_type": "stream",
     "text": [
      " 94%|███████████████████████████████████████████████████████████████████████████▏    | 93/99 [1:42:01<07:39, 76.52s/it]"
     ]
    },
    {
     "name": "stdout",
     "output_type": "stream",
     "text": [
      "finish\n",
      "----------------------------------------------------------------------------------------------------\n",
      "starting crawl chapter 94\n",
      "http://www.mangaread.org/wp-content/uploads/WP-manga/data/manga_5e08fdccf028f/684a9344d6eba5c5f953e36bce97cdc2/3.jpeg\n",
      "http://www.mangaread.org/wp-content/uploads/WP-manga/data/manga_5e08fdccf028f/684a9344d6eba5c5f953e36bce97cdc2/4.jpeg\n",
      "http://www.mangaread.org/wp-content/uploads/WP-manga/data/manga_5e08fdccf028f/684a9344d6eba5c5f953e36bce97cdc2/5.jpeg\n",
      "http://www.mangaread.org/wp-content/uploads/WP-manga/data/manga_5e08fdccf028f/684a9344d6eba5c5f953e36bce97cdc2/6.jpeg\n",
      "http://www.mangaread.org/wp-content/uploads/WP-manga/data/manga_5e08fdccf028f/684a9344d6eba5c5f953e36bce97cdc2/7.jpeg\n",
      "http://www.mangaread.org/wp-content/uploads/WP-manga/data/manga_5e08fdccf028f/684a9344d6eba5c5f953e36bce97cdc2/8.jpeg\n",
      "http://www.mangaread.org/wp-content/uploads/WP-manga/data/manga_5e08fdccf028f/684a9344d6eba5c5f953e36bce97cdc2/9.jpeg\n",
      "http://www.mangaread.org/wp-content/uploads/WP-manga/data/manga_5e08fdccf028f/684a9344d6eba5c5f953e36bce97cdc2/10.jpeg\n",
      "http://www.mangaread.org/wp-content/uploads/WP-manga/data/manga_5e08fdccf028f/684a9344d6eba5c5f953e36bce97cdc2/11.jpeg\n",
      "http://www.mangaread.org/wp-content/uploads/WP-manga/data/manga_5e08fdccf028f/684a9344d6eba5c5f953e36bce97cdc2/12.jpeg\n",
      "http://www.mangaread.org/wp-content/uploads/WP-manga/data/manga_5e08fdccf028f/684a9344d6eba5c5f953e36bce97cdc2/13.jpeg\n",
      "http://www.mangaread.org/wp-content/uploads/WP-manga/data/manga_5e08fdccf028f/684a9344d6eba5c5f953e36bce97cdc2/14.jpeg\n",
      "http://www.mangaread.org/wp-content/uploads/WP-manga/data/manga_5e08fdccf028f/684a9344d6eba5c5f953e36bce97cdc2/15.jpeg\n",
      "http://www.mangaread.org/wp-content/uploads/WP-manga/data/manga_5e08fdccf028f/684a9344d6eba5c5f953e36bce97cdc2/16.jpeg\n",
      "http://www.mangaread.org/wp-content/uploads/WP-manga/data/manga_5e08fdccf028f/684a9344d6eba5c5f953e36bce97cdc2/17.jpeg\n",
      "http://www.mangaread.org/wp-content/uploads/WP-manga/data/manga_5e08fdccf028f/684a9344d6eba5c5f953e36bce97cdc2/18.jpeg\n",
      "http://www.mangaread.org/wp-content/uploads/WP-manga/data/manga_5e08fdccf028f/684a9344d6eba5c5f953e36bce97cdc2/19.jpeg\n",
      "http://www.mangaread.org/wp-content/uploads/WP-manga/data/manga_5e08fdccf028f/684a9344d6eba5c5f953e36bce97cdc2/20.jpeg\n",
      "http://www.mangaread.org/wp-content/uploads/WP-manga/data/manga_5e08fdccf028f/684a9344d6eba5c5f953e36bce97cdc2/21.jpeg\n",
      "http://www.mangaread.org/wp-content/uploads/WP-manga/data/manga_5e08fdccf028f/684a9344d6eba5c5f953e36bce97cdc2/22.jpeg\n",
      "http://www.mangaread.org/wp-content/uploads/WP-manga/data/manga_5e08fdccf028f/684a9344d6eba5c5f953e36bce97cdc2/23.jpeg\n",
      "http://www.mangaread.org/wp-content/uploads/WP-manga/data/manga_5e08fdccf028f/684a9344d6eba5c5f953e36bce97cdc2/24.jpeg\n",
      "http://www.mangaread.org/wp-content/uploads/WP-manga/data/manga_5e08fdccf028f/684a9344d6eba5c5f953e36bce97cdc2/25.jpeg\n",
      "http://www.mangaread.org/wp-content/uploads/WP-manga/data/manga_5e08fdccf028f/684a9344d6eba5c5f953e36bce97cdc2/26.jpeg\n",
      "http://www.mangaread.org/wp-content/uploads/WP-manga/data/manga_5e08fdccf028f/684a9344d6eba5c5f953e36bce97cdc2/27.jpeg\n",
      "http://www.mangaread.org/wp-content/uploads/WP-manga/data/manga_5e08fdccf028f/684a9344d6eba5c5f953e36bce97cdc2/28.jpeg\n",
      "http://www.mangaread.org/wp-content/uploads/WP-manga/data/manga_5e08fdccf028f/684a9344d6eba5c5f953e36bce97cdc2/29.jpeg\n",
      "http://www.mangaread.org/wp-content/uploads/WP-manga/data/manga_5e08fdccf028f/684a9344d6eba5c5f953e36bce97cdc2/30.jpeg\n",
      "http://www.mangaread.org/wp-content/uploads/WP-manga/data/manga_5e08fdccf028f/684a9344d6eba5c5f953e36bce97cdc2/31.jpeg\n",
      "http://www.mangaread.org/wp-content/uploads/WP-manga/data/manga_5e08fdccf028f/684a9344d6eba5c5f953e36bce97cdc2/32.jpeg\n",
      "http://www.mangaread.org/wp-content/uploads/WP-manga/data/manga_5e08fdccf028f/684a9344d6eba5c5f953e36bce97cdc2/33.jpeg\n",
      "http://www.mangaread.org/wp-content/uploads/WP-manga/data/manga_5e08fdccf028f/684a9344d6eba5c5f953e36bce97cdc2/34.jpeg\n",
      "http://www.mangaread.org/wp-content/uploads/WP-manga/data/manga_5e08fdccf028f/684a9344d6eba5c5f953e36bce97cdc2/35.jpeg\n",
      "http://www.mangaread.org/wp-content/uploads/WP-manga/data/manga_5e08fdccf028f/684a9344d6eba5c5f953e36bce97cdc2/36.jpeg\n",
      "http://www.mangaread.org/wp-content/uploads/WP-manga/data/manga_5e08fdccf028f/684a9344d6eba5c5f953e36bce97cdc2/37.jpeg\n",
      "http://www.mangaread.org/wp-content/uploads/WP-manga/data/manga_5e08fdccf028f/684a9344d6eba5c5f953e36bce97cdc2/38.jpeg\n",
      "http://www.mangaread.org/wp-content/uploads/WP-manga/data/manga_5e08fdccf028f/684a9344d6eba5c5f953e36bce97cdc2/39.jpeg\n",
      "http://www.mangaread.org/wp-content/uploads/WP-manga/data/manga_5e08fdccf028f/684a9344d6eba5c5f953e36bce97cdc2/40.jpeg\n",
      "http://www.mangaread.org/wp-content/uploads/WP-manga/data/manga_5e08fdccf028f/684a9344d6eba5c5f953e36bce97cdc2/41.jpeg\n",
      "http://www.mangaread.org/wp-content/uploads/WP-manga/data/manga_5e08fdccf028f/684a9344d6eba5c5f953e36bce97cdc2/42.jpeg\n",
      "http://www.mangaread.org/wp-content/uploads/WP-manga/data/manga_5e08fdccf028f/684a9344d6eba5c5f953e36bce97cdc2/43.jpeg\n",
      "http://www.mangaread.org/wp-content/uploads/WP-manga/data/manga_5e08fdccf028f/684a9344d6eba5c5f953e36bce97cdc2/44.jpeg\n",
      "http://www.mangaread.org/wp-content/uploads/WP-manga/data/manga_5e08fdccf028f/684a9344d6eba5c5f953e36bce97cdc2/45.jpeg\n",
      "http://www.mangaread.org/wp-content/uploads/WP-manga/data/manga_5e08fdccf028f/684a9344d6eba5c5f953e36bce97cdc2/46.jpeg\n",
      "http://www.mangaread.org/wp-content/uploads/WP-manga/data/manga_5e08fdccf028f/684a9344d6eba5c5f953e36bce97cdc2/47.jpeg\n",
      "http://www.mangaread.org/wp-content/uploads/WP-manga/data/manga_5e08fdccf028f/684a9344d6eba5c5f953e36bce97cdc2/48.jpeg\n",
      "http://www.mangaread.org/wp-content/uploads/WP-manga/data/manga_5e08fdccf028f/684a9344d6eba5c5f953e36bce97cdc2/49.jpeg\n",
      "http://www.mangaread.org/wp-content/uploads/WP-manga/data/manga_5e08fdccf028f/684a9344d6eba5c5f953e36bce97cdc2/50.jpeg\n",
      "http://www.mangaread.org/wp-content/uploads/WP-manga/data/manga_5e08fdccf028f/684a9344d6eba5c5f953e36bce97cdc2/51.jpeg\n",
      "http://www.mangaread.org/wp-content/uploads/WP-manga/data/manga_5e08fdccf028f/684a9344d6eba5c5f953e36bce97cdc2/52.jpeg\n",
      "http://www.mangaread.org/wp-content/uploads/WP-manga/data/manga_5e08fdccf028f/684a9344d6eba5c5f953e36bce97cdc2/53.jpeg\n",
      "http://www.mangaread.org/wp-content/uploads/WP-manga/data/manga_5e08fdccf028f/684a9344d6eba5c5f953e36bce97cdc2/54.jpeg\n",
      "http://www.mangaread.org/wp-content/uploads/WP-manga/data/manga_5e08fdccf028f/684a9344d6eba5c5f953e36bce97cdc2/55.jpeg\n",
      "http://www.mangaread.org/wp-content/uploads/WP-manga/data/manga_5e08fdccf028f/684a9344d6eba5c5f953e36bce97cdc2/56.jpeg\n",
      "http://www.mangaread.org/wp-content/uploads/WP-manga/data/manga_5e08fdccf028f/684a9344d6eba5c5f953e36bce97cdc2/57.jpeg\n",
      "http://www.mangaread.org/wp-content/uploads/WP-manga/data/manga_5e08fdccf028f/684a9344d6eba5c5f953e36bce97cdc2/58.jpeg\n",
      "http://www.mangaread.org/wp-content/uploads/WP-manga/data/manga_5e08fdccf028f/684a9344d6eba5c5f953e36bce97cdc2/59.jpeg\n",
      "http://www.mangaread.org/wp-content/uploads/WP-manga/data/manga_5e08fdccf028f/684a9344d6eba5c5f953e36bce97cdc2/60.jpeg\n",
      "http://www.mangaread.org/wp-content/uploads/WP-manga/data/manga_5e08fdccf028f/684a9344d6eba5c5f953e36bce97cdc2/61.jpeg\n"
     ]
    },
    {
     "name": "stderr",
     "output_type": "stream",
     "text": [
      " 95%|███████████████████████████████████████████████████████████████████████████▉    | 94/99 [1:44:22<07:58, 95.71s/it]"
     ]
    },
    {
     "name": "stdout",
     "output_type": "stream",
     "text": [
      "finish\n",
      "----------------------------------------------------------------------------------------------------\n",
      "starting crawl chapter 95\n",
      "http://www.mangaread.org/wp-content/uploads/WP-manga/data/manga_5e08fdccf028f/ee69df56014eadad8186d6ea4625e1f1/3.jpeg\n",
      "http://www.mangaread.org/wp-content/uploads/WP-manga/data/manga_5e08fdccf028f/ee69df56014eadad8186d6ea4625e1f1/4.jpeg\n",
      "http://www.mangaread.org/wp-content/uploads/WP-manga/data/manga_5e08fdccf028f/ee69df56014eadad8186d6ea4625e1f1/5.jpeg\n",
      "http://www.mangaread.org/wp-content/uploads/WP-manga/data/manga_5e08fdccf028f/ee69df56014eadad8186d6ea4625e1f1/6.jpeg\n",
      "http://www.mangaread.org/wp-content/uploads/WP-manga/data/manga_5e08fdccf028f/ee69df56014eadad8186d6ea4625e1f1/7.jpeg\n",
      "http://www.mangaread.org/wp-content/uploads/WP-manga/data/manga_5e08fdccf028f/ee69df56014eadad8186d6ea4625e1f1/8.jpeg\n",
      "http://www.mangaread.org/wp-content/uploads/WP-manga/data/manga_5e08fdccf028f/ee69df56014eadad8186d6ea4625e1f1/9.jpeg\n",
      "http://www.mangaread.org/wp-content/uploads/WP-manga/data/manga_5e08fdccf028f/ee69df56014eadad8186d6ea4625e1f1/10.jpeg\n",
      "http://www.mangaread.org/wp-content/uploads/WP-manga/data/manga_5e08fdccf028f/ee69df56014eadad8186d6ea4625e1f1/11.jpeg\n",
      "http://www.mangaread.org/wp-content/uploads/WP-manga/data/manga_5e08fdccf028f/ee69df56014eadad8186d6ea4625e1f1/12.jpeg\n",
      "http://www.mangaread.org/wp-content/uploads/WP-manga/data/manga_5e08fdccf028f/ee69df56014eadad8186d6ea4625e1f1/13.jpeg\n",
      "http://www.mangaread.org/wp-content/uploads/WP-manga/data/manga_5e08fdccf028f/ee69df56014eadad8186d6ea4625e1f1/14.jpeg\n",
      "http://www.mangaread.org/wp-content/uploads/WP-manga/data/manga_5e08fdccf028f/ee69df56014eadad8186d6ea4625e1f1/15.jpeg\n",
      "http://www.mangaread.org/wp-content/uploads/WP-manga/data/manga_5e08fdccf028f/ee69df56014eadad8186d6ea4625e1f1/16.jpeg\n",
      "http://www.mangaread.org/wp-content/uploads/WP-manga/data/manga_5e08fdccf028f/ee69df56014eadad8186d6ea4625e1f1/17.jpeg\n",
      "http://www.mangaread.org/wp-content/uploads/WP-manga/data/manga_5e08fdccf028f/ee69df56014eadad8186d6ea4625e1f1/18.jpeg\n",
      "http://www.mangaread.org/wp-content/uploads/WP-manga/data/manga_5e08fdccf028f/ee69df56014eadad8186d6ea4625e1f1/19.jpeg\n",
      "http://www.mangaread.org/wp-content/uploads/WP-manga/data/manga_5e08fdccf028f/ee69df56014eadad8186d6ea4625e1f1/20.jpeg\n",
      "http://www.mangaread.org/wp-content/uploads/WP-manga/data/manga_5e08fdccf028f/ee69df56014eadad8186d6ea4625e1f1/21.jpeg\n",
      "http://www.mangaread.org/wp-content/uploads/WP-manga/data/manga_5e08fdccf028f/ee69df56014eadad8186d6ea4625e1f1/22.jpeg\n",
      "http://www.mangaread.org/wp-content/uploads/WP-manga/data/manga_5e08fdccf028f/ee69df56014eadad8186d6ea4625e1f1/23.jpeg\n",
      "http://www.mangaread.org/wp-content/uploads/WP-manga/data/manga_5e08fdccf028f/ee69df56014eadad8186d6ea4625e1f1/24.jpeg\n",
      "http://www.mangaread.org/wp-content/uploads/WP-manga/data/manga_5e08fdccf028f/ee69df56014eadad8186d6ea4625e1f1/25.jpeg\n",
      "http://www.mangaread.org/wp-content/uploads/WP-manga/data/manga_5e08fdccf028f/ee69df56014eadad8186d6ea4625e1f1/26.jpeg\n",
      "http://www.mangaread.org/wp-content/uploads/WP-manga/data/manga_5e08fdccf028f/ee69df56014eadad8186d6ea4625e1f1/27.jpeg\n",
      "http://www.mangaread.org/wp-content/uploads/WP-manga/data/manga_5e08fdccf028f/ee69df56014eadad8186d6ea4625e1f1/28.jpeg\n",
      "http://www.mangaread.org/wp-content/uploads/WP-manga/data/manga_5e08fdccf028f/ee69df56014eadad8186d6ea4625e1f1/29.jpeg\n",
      "http://www.mangaread.org/wp-content/uploads/WP-manga/data/manga_5e08fdccf028f/ee69df56014eadad8186d6ea4625e1f1/30.jpeg\n",
      "http://www.mangaread.org/wp-content/uploads/WP-manga/data/manga_5e08fdccf028f/ee69df56014eadad8186d6ea4625e1f1/31.jpeg\n",
      "http://www.mangaread.org/wp-content/uploads/WP-manga/data/manga_5e08fdccf028f/ee69df56014eadad8186d6ea4625e1f1/32.jpeg\n",
      "http://www.mangaread.org/wp-content/uploads/WP-manga/data/manga_5e08fdccf028f/ee69df56014eadad8186d6ea4625e1f1/33.jpeg\n",
      "http://www.mangaread.org/wp-content/uploads/WP-manga/data/manga_5e08fdccf028f/ee69df56014eadad8186d6ea4625e1f1/34.jpeg\n",
      "http://www.mangaread.org/wp-content/uploads/WP-manga/data/manga_5e08fdccf028f/ee69df56014eadad8186d6ea4625e1f1/35.jpeg\n",
      "http://www.mangaread.org/wp-content/uploads/WP-manga/data/manga_5e08fdccf028f/ee69df56014eadad8186d6ea4625e1f1/36.jpeg\n",
      "http://www.mangaread.org/wp-content/uploads/WP-manga/data/manga_5e08fdccf028f/ee69df56014eadad8186d6ea4625e1f1/37.jpeg\n",
      "http://www.mangaread.org/wp-content/uploads/WP-manga/data/manga_5e08fdccf028f/ee69df56014eadad8186d6ea4625e1f1/38.jpeg\n",
      "http://www.mangaread.org/wp-content/uploads/WP-manga/data/manga_5e08fdccf028f/ee69df56014eadad8186d6ea4625e1f1/39.jpeg\n",
      "http://www.mangaread.org/wp-content/uploads/WP-manga/data/manga_5e08fdccf028f/ee69df56014eadad8186d6ea4625e1f1/40.jpeg\n",
      "http://www.mangaread.org/wp-content/uploads/WP-manga/data/manga_5e08fdccf028f/ee69df56014eadad8186d6ea4625e1f1/41.jpeg\n",
      "http://www.mangaread.org/wp-content/uploads/WP-manga/data/manga_5e08fdccf028f/ee69df56014eadad8186d6ea4625e1f1/42.jpeg\n",
      "http://www.mangaread.org/wp-content/uploads/WP-manga/data/manga_5e08fdccf028f/ee69df56014eadad8186d6ea4625e1f1/43.jpeg\n",
      "http://www.mangaread.org/wp-content/uploads/WP-manga/data/manga_5e08fdccf028f/ee69df56014eadad8186d6ea4625e1f1/44.jpeg\n",
      "http://www.mangaread.org/wp-content/uploads/WP-manga/data/manga_5e08fdccf028f/ee69df56014eadad8186d6ea4625e1f1/45.jpeg\n",
      "http://www.mangaread.org/wp-content/uploads/WP-manga/data/manga_5e08fdccf028f/ee69df56014eadad8186d6ea4625e1f1/46.jpeg\n",
      "http://www.mangaread.org/wp-content/uploads/WP-manga/data/manga_5e08fdccf028f/ee69df56014eadad8186d6ea4625e1f1/47.jpeg\n",
      "http://www.mangaread.org/wp-content/uploads/WP-manga/data/manga_5e08fdccf028f/ee69df56014eadad8186d6ea4625e1f1/48.jpeg\n",
      "http://www.mangaread.org/wp-content/uploads/WP-manga/data/manga_5e08fdccf028f/ee69df56014eadad8186d6ea4625e1f1/49.jpeg\n",
      "http://www.mangaread.org/wp-content/uploads/WP-manga/data/manga_5e08fdccf028f/ee69df56014eadad8186d6ea4625e1f1/50.jpeg\n",
      "http://www.mangaread.org/wp-content/uploads/WP-manga/data/manga_5e08fdccf028f/ee69df56014eadad8186d6ea4625e1f1/51.jpeg\n",
      "http://www.mangaread.org/wp-content/uploads/WP-manga/data/manga_5e08fdccf028f/ee69df56014eadad8186d6ea4625e1f1/52.jpeg\n",
      "http://www.mangaread.org/wp-content/uploads/WP-manga/data/manga_5e08fdccf028f/ee69df56014eadad8186d6ea4625e1f1/53.jpeg\n",
      "http://www.mangaread.org/wp-content/uploads/WP-manga/data/manga_5e08fdccf028f/ee69df56014eadad8186d6ea4625e1f1/54.jpeg\n",
      "http://www.mangaread.org/wp-content/uploads/WP-manga/data/manga_5e08fdccf028f/ee69df56014eadad8186d6ea4625e1f1/55.jpeg\n",
      "http://www.mangaread.org/wp-content/uploads/WP-manga/data/manga_5e08fdccf028f/ee69df56014eadad8186d6ea4625e1f1/56.jpeg\n",
      "http://www.mangaread.org/wp-content/uploads/WP-manga/data/manga_5e08fdccf028f/ee69df56014eadad8186d6ea4625e1f1/57.jpeg\n",
      "http://www.mangaread.org/wp-content/uploads/WP-manga/data/manga_5e08fdccf028f/ee69df56014eadad8186d6ea4625e1f1/58.jpeg\n",
      "http://www.mangaread.org/wp-content/uploads/WP-manga/data/manga_5e08fdccf028f/ee69df56014eadad8186d6ea4625e1f1/59.jpeg\n",
      "http://www.mangaread.org/wp-content/uploads/WP-manga/data/manga_5e08fdccf028f/ee69df56014eadad8186d6ea4625e1f1/60.jpeg\n",
      "http://www.mangaread.org/wp-content/uploads/WP-manga/data/manga_5e08fdccf028f/ee69df56014eadad8186d6ea4625e1f1/61.jpeg\n"
     ]
    },
    {
     "name": "stderr",
     "output_type": "stream",
     "text": [
      " 96%|███████████████████████████████████████████████████████████████████████████▊   | 95/99 [1:46:50<07:25, 111.47s/it]"
     ]
    },
    {
     "name": "stdout",
     "output_type": "stream",
     "text": [
      "finish\n",
      "----------------------------------------------------------------------------------------------------\n",
      "starting crawl chapter 96\n",
      "http://www.mangaread.org/wp-content/uploads/WP-manga/data/manga_5e08fdccf028f/d14ab2bf3ea5b21761e98c40988f0b08/3.jpeg\n",
      "http://www.mangaread.org/wp-content/uploads/WP-manga/data/manga_5e08fdccf028f/d14ab2bf3ea5b21761e98c40988f0b08/4.jpeg\n",
      "http://www.mangaread.org/wp-content/uploads/WP-manga/data/manga_5e08fdccf028f/d14ab2bf3ea5b21761e98c40988f0b08/5.jpeg\n",
      "http://www.mangaread.org/wp-content/uploads/WP-manga/data/manga_5e08fdccf028f/d14ab2bf3ea5b21761e98c40988f0b08/6.jpeg\n",
      "http://www.mangaread.org/wp-content/uploads/WP-manga/data/manga_5e08fdccf028f/d14ab2bf3ea5b21761e98c40988f0b08/7.jpeg\n",
      "http://www.mangaread.org/wp-content/uploads/WP-manga/data/manga_5e08fdccf028f/d14ab2bf3ea5b21761e98c40988f0b08/8.jpeg\n",
      "http://www.mangaread.org/wp-content/uploads/WP-manga/data/manga_5e08fdccf028f/d14ab2bf3ea5b21761e98c40988f0b08/9.jpeg\n",
      "http://www.mangaread.org/wp-content/uploads/WP-manga/data/manga_5e08fdccf028f/d14ab2bf3ea5b21761e98c40988f0b08/10.jpeg\n",
      "http://www.mangaread.org/wp-content/uploads/WP-manga/data/manga_5e08fdccf028f/d14ab2bf3ea5b21761e98c40988f0b08/11.jpeg\n",
      "http://www.mangaread.org/wp-content/uploads/WP-manga/data/manga_5e08fdccf028f/d14ab2bf3ea5b21761e98c40988f0b08/12.jpeg\n",
      "http://www.mangaread.org/wp-content/uploads/WP-manga/data/manga_5e08fdccf028f/d14ab2bf3ea5b21761e98c40988f0b08/13.jpeg\n",
      "http://www.mangaread.org/wp-content/uploads/WP-manga/data/manga_5e08fdccf028f/d14ab2bf3ea5b21761e98c40988f0b08/14.jpeg\n",
      "http://www.mangaread.org/wp-content/uploads/WP-manga/data/manga_5e08fdccf028f/d14ab2bf3ea5b21761e98c40988f0b08/15.jpeg\n",
      "http://www.mangaread.org/wp-content/uploads/WP-manga/data/manga_5e08fdccf028f/d14ab2bf3ea5b21761e98c40988f0b08/16.jpeg\n",
      "http://www.mangaread.org/wp-content/uploads/WP-manga/data/manga_5e08fdccf028f/d14ab2bf3ea5b21761e98c40988f0b08/17.jpeg\n",
      "http://www.mangaread.org/wp-content/uploads/WP-manga/data/manga_5e08fdccf028f/d14ab2bf3ea5b21761e98c40988f0b08/18.jpeg\n",
      "http://www.mangaread.org/wp-content/uploads/WP-manga/data/manga_5e08fdccf028f/d14ab2bf3ea5b21761e98c40988f0b08/19.jpeg\n",
      "http://www.mangaread.org/wp-content/uploads/WP-manga/data/manga_5e08fdccf028f/d14ab2bf3ea5b21761e98c40988f0b08/20.jpeg\n",
      "http://www.mangaread.org/wp-content/uploads/WP-manga/data/manga_5e08fdccf028f/d14ab2bf3ea5b21761e98c40988f0b08/21.jpeg\n",
      "http://www.mangaread.org/wp-content/uploads/WP-manga/data/manga_5e08fdccf028f/d14ab2bf3ea5b21761e98c40988f0b08/22.jpeg\n",
      "http://www.mangaread.org/wp-content/uploads/WP-manga/data/manga_5e08fdccf028f/d14ab2bf3ea5b21761e98c40988f0b08/23.jpeg\n",
      "http://www.mangaread.org/wp-content/uploads/WP-manga/data/manga_5e08fdccf028f/d14ab2bf3ea5b21761e98c40988f0b08/24.jpeg\n",
      "http://www.mangaread.org/wp-content/uploads/WP-manga/data/manga_5e08fdccf028f/d14ab2bf3ea5b21761e98c40988f0b08/25.jpeg\n",
      "http://www.mangaread.org/wp-content/uploads/WP-manga/data/manga_5e08fdccf028f/d14ab2bf3ea5b21761e98c40988f0b08/26.jpeg\n",
      "http://www.mangaread.org/wp-content/uploads/WP-manga/data/manga_5e08fdccf028f/d14ab2bf3ea5b21761e98c40988f0b08/27.jpeg\n",
      "http://www.mangaread.org/wp-content/uploads/WP-manga/data/manga_5e08fdccf028f/d14ab2bf3ea5b21761e98c40988f0b08/28.jpeg\n",
      "http://www.mangaread.org/wp-content/uploads/WP-manga/data/manga_5e08fdccf028f/d14ab2bf3ea5b21761e98c40988f0b08/29.jpeg\n",
      "http://www.mangaread.org/wp-content/uploads/WP-manga/data/manga_5e08fdccf028f/d14ab2bf3ea5b21761e98c40988f0b08/30.jpeg\n",
      "http://www.mangaread.org/wp-content/uploads/WP-manga/data/manga_5e08fdccf028f/d14ab2bf3ea5b21761e98c40988f0b08/31.jpeg\n",
      "http://www.mangaread.org/wp-content/uploads/WP-manga/data/manga_5e08fdccf028f/d14ab2bf3ea5b21761e98c40988f0b08/32.jpeg\n",
      "http://www.mangaread.org/wp-content/uploads/WP-manga/data/manga_5e08fdccf028f/d14ab2bf3ea5b21761e98c40988f0b08/33.jpeg\n",
      "http://www.mangaread.org/wp-content/uploads/WP-manga/data/manga_5e08fdccf028f/d14ab2bf3ea5b21761e98c40988f0b08/34.jpeg\n",
      "http://www.mangaread.org/wp-content/uploads/WP-manga/data/manga_5e08fdccf028f/d14ab2bf3ea5b21761e98c40988f0b08/35.jpeg\n",
      "http://www.mangaread.org/wp-content/uploads/WP-manga/data/manga_5e08fdccf028f/d14ab2bf3ea5b21761e98c40988f0b08/36.jpeg\n",
      "http://www.mangaread.org/wp-content/uploads/WP-manga/data/manga_5e08fdccf028f/d14ab2bf3ea5b21761e98c40988f0b08/37.jpeg\n",
      "http://www.mangaread.org/wp-content/uploads/WP-manga/data/manga_5e08fdccf028f/d14ab2bf3ea5b21761e98c40988f0b08/38.jpeg\n",
      "http://www.mangaread.org/wp-content/uploads/WP-manga/data/manga_5e08fdccf028f/d14ab2bf3ea5b21761e98c40988f0b08/39.jpeg\n",
      "http://www.mangaread.org/wp-content/uploads/WP-manga/data/manga_5e08fdccf028f/d14ab2bf3ea5b21761e98c40988f0b08/40.jpeg\n",
      "http://www.mangaread.org/wp-content/uploads/WP-manga/data/manga_5e08fdccf028f/d14ab2bf3ea5b21761e98c40988f0b08/41.jpeg\n",
      "http://www.mangaread.org/wp-content/uploads/WP-manga/data/manga_5e08fdccf028f/d14ab2bf3ea5b21761e98c40988f0b08/42.jpeg\n",
      "http://www.mangaread.org/wp-content/uploads/WP-manga/data/manga_5e08fdccf028f/d14ab2bf3ea5b21761e98c40988f0b08/43.jpeg\n",
      "http://www.mangaread.org/wp-content/uploads/WP-manga/data/manga_5e08fdccf028f/d14ab2bf3ea5b21761e98c40988f0b08/44.jpeg\n",
      "http://www.mangaread.org/wp-content/uploads/WP-manga/data/manga_5e08fdccf028f/d14ab2bf3ea5b21761e98c40988f0b08/45.jpeg\n",
      "http://www.mangaread.org/wp-content/uploads/WP-manga/data/manga_5e08fdccf028f/d14ab2bf3ea5b21761e98c40988f0b08/46.jpeg\n",
      "http://www.mangaread.org/wp-content/uploads/WP-manga/data/manga_5e08fdccf028f/d14ab2bf3ea5b21761e98c40988f0b08/47.jpeg\n",
      "http://www.mangaread.org/wp-content/uploads/WP-manga/data/manga_5e08fdccf028f/d14ab2bf3ea5b21761e98c40988f0b08/48.jpeg\n",
      "http://www.mangaread.org/wp-content/uploads/WP-manga/data/manga_5e08fdccf028f/d14ab2bf3ea5b21761e98c40988f0b08/49.jpeg\n",
      "http://www.mangaread.org/wp-content/uploads/WP-manga/data/manga_5e08fdccf028f/d14ab2bf3ea5b21761e98c40988f0b08/50.jpeg\n",
      "http://www.mangaread.org/wp-content/uploads/WP-manga/data/manga_5e08fdccf028f/d14ab2bf3ea5b21761e98c40988f0b08/51.jpeg\n",
      "http://www.mangaread.org/wp-content/uploads/WP-manga/data/manga_5e08fdccf028f/d14ab2bf3ea5b21761e98c40988f0b08/52.jpeg\n",
      "http://www.mangaread.org/wp-content/uploads/WP-manga/data/manga_5e08fdccf028f/d14ab2bf3ea5b21761e98c40988f0b08/53.jpeg\n",
      "http://www.mangaread.org/wp-content/uploads/WP-manga/data/manga_5e08fdccf028f/d14ab2bf3ea5b21761e98c40988f0b08/54.jpeg\n",
      "http://www.mangaread.org/wp-content/uploads/WP-manga/data/manga_5e08fdccf028f/d14ab2bf3ea5b21761e98c40988f0b08/55.jpeg\n",
      "http://www.mangaread.org/wp-content/uploads/WP-manga/data/manga_5e08fdccf028f/d14ab2bf3ea5b21761e98c40988f0b08/56.jpeg\n",
      "http://www.mangaread.org/wp-content/uploads/WP-manga/data/manga_5e08fdccf028f/d14ab2bf3ea5b21761e98c40988f0b08/57.jpeg\n",
      "http://www.mangaread.org/wp-content/uploads/WP-manga/data/manga_5e08fdccf028f/d14ab2bf3ea5b21761e98c40988f0b08/58.jpeg\n",
      "http://www.mangaread.org/wp-content/uploads/WP-manga/data/manga_5e08fdccf028f/d14ab2bf3ea5b21761e98c40988f0b08/59.jpeg\n",
      "http://www.mangaread.org/wp-content/uploads/WP-manga/data/manga_5e08fdccf028f/d14ab2bf3ea5b21761e98c40988f0b08/60.jpeg\n",
      "http://www.mangaread.org/wp-content/uploads/WP-manga/data/manga_5e08fdccf028f/d14ab2bf3ea5b21761e98c40988f0b08/61.jpeg\n"
     ]
    },
    {
     "name": "stderr",
     "output_type": "stream",
     "text": [
      " 97%|████████████████████████████████████████████████████████████████████████████▌  | 96/99 [1:49:18<06:06, 122.31s/it]"
     ]
    },
    {
     "name": "stdout",
     "output_type": "stream",
     "text": [
      "finish\n",
      "----------------------------------------------------------------------------------------------------\n",
      "starting crawl chapter 97\n",
      "http://www.mangaread.org/wp-content/uploads/WP-manga/data/manga_5e08fdccf028f/56e44eb9c6d7015b29fe654818d2d30e/02_195418_720_1636_.jpg\n",
      "http://www.mangaread.org/wp-content/uploads/WP-manga/data/manga_5e08fdccf028f/56e44eb9c6d7015b29fe654818d2d30e/03_113208_720_1636_.jpg\n",
      "http://www.mangaread.org/wp-content/uploads/WP-manga/data/manga_5e08fdccf028f/56e44eb9c6d7015b29fe654818d2d30e/04_164044_720_1636_.jpg\n",
      "http://www.mangaread.org/wp-content/uploads/WP-manga/data/manga_5e08fdccf028f/56e44eb9c6d7015b29fe654818d2d30e/05_91562_720_1636_.jpg\n",
      "http://www.mangaread.org/wp-content/uploads/WP-manga/data/manga_5e08fdccf028f/56e44eb9c6d7015b29fe654818d2d30e/06_79184_720_1636_.jpg\n",
      "http://www.mangaread.org/wp-content/uploads/WP-manga/data/manga_5e08fdccf028f/56e44eb9c6d7015b29fe654818d2d30e/07_116946_720_1636_.jpg\n",
      "http://www.mangaread.org/wp-content/uploads/WP-manga/data/manga_5e08fdccf028f/56e44eb9c6d7015b29fe654818d2d30e/08_200394_720_1636_.jpg\n",
      "http://www.mangaread.org/wp-content/uploads/WP-manga/data/manga_5e08fdccf028f/56e44eb9c6d7015b29fe654818d2d30e/09_53638_720_1636_.jpg\n",
      "http://www.mangaread.org/wp-content/uploads/WP-manga/data/manga_5e08fdccf028f/56e44eb9c6d7015b29fe654818d2d30e/10_58988_720_1636_.jpg\n",
      "http://www.mangaread.org/wp-content/uploads/WP-manga/data/manga_5e08fdccf028f/56e44eb9c6d7015b29fe654818d2d30e/11_79618_720_1636_.jpg\n",
      "http://www.mangaread.org/wp-content/uploads/WP-manga/data/manga_5e08fdccf028f/56e44eb9c6d7015b29fe654818d2d30e/12_100782_720_1636_.jpg\n",
      "http://www.mangaread.org/wp-content/uploads/WP-manga/data/manga_5e08fdccf028f/56e44eb9c6d7015b29fe654818d2d30e/13_33750_720_1636_.jpg\n",
      "http://www.mangaread.org/wp-content/uploads/WP-manga/data/manga_5e08fdccf028f/56e44eb9c6d7015b29fe654818d2d30e/14_69550_720_1636_.jpg\n",
      "http://www.mangaread.org/wp-content/uploads/WP-manga/data/manga_5e08fdccf028f/56e44eb9c6d7015b29fe654818d2d30e/15_95362_720_1636_.jpg\n",
      "http://www.mangaread.org/wp-content/uploads/WP-manga/data/manga_5e08fdccf028f/56e44eb9c6d7015b29fe654818d2d30e/16_84948_720_1637_.jpg\n",
      "http://www.mangaread.org/wp-content/uploads/WP-manga/data/manga_5e08fdccf028f/56e44eb9c6d7015b29fe654818d2d30e/17_97968_720_1636_.jpg\n",
      "http://www.mangaread.org/wp-content/uploads/WP-manga/data/manga_5e08fdccf028f/56e44eb9c6d7015b29fe654818d2d30e/18_125908_720_1636_.jpg\n",
      "http://www.mangaread.org/wp-content/uploads/WP-manga/data/manga_5e08fdccf028f/56e44eb9c6d7015b29fe654818d2d30e/19_148380_720_1636_.jpg\n",
      "http://www.mangaread.org/wp-content/uploads/WP-manga/data/manga_5e08fdccf028f/56e44eb9c6d7015b29fe654818d2d30e/20_126762_720_1636_.jpg\n",
      "http://www.mangaread.org/wp-content/uploads/WP-manga/data/manga_5e08fdccf028f/56e44eb9c6d7015b29fe654818d2d30e/21_133638_720_1636_.jpg\n",
      "http://www.mangaread.org/wp-content/uploads/WP-manga/data/manga_5e08fdccf028f/56e44eb9c6d7015b29fe654818d2d30e/22_53110_720_1636_.jpg\n",
      "http://www.mangaread.org/wp-content/uploads/WP-manga/data/manga_5e08fdccf028f/56e44eb9c6d7015b29fe654818d2d30e/23_44216_720_1636_.jpg\n",
      "http://www.mangaread.org/wp-content/uploads/WP-manga/data/manga_5e08fdccf028f/56e44eb9c6d7015b29fe654818d2d30e/24_119786_720_1636_.jpg\n",
      "http://www.mangaread.org/wp-content/uploads/WP-manga/data/manga_5e08fdccf028f/56e44eb9c6d7015b29fe654818d2d30e/25_77398_720_1636_.jpg\n",
      "http://www.mangaread.org/wp-content/uploads/WP-manga/data/manga_5e08fdccf028f/56e44eb9c6d7015b29fe654818d2d30e/26_37880_720_1636_.jpg\n",
      "http://www.mangaread.org/wp-content/uploads/WP-manga/data/manga_5e08fdccf028f/56e44eb9c6d7015b29fe654818d2d30e/27_34938_720_1636_.jpg\n",
      "http://www.mangaread.org/wp-content/uploads/WP-manga/data/manga_5e08fdccf028f/56e44eb9c6d7015b29fe654818d2d30e/28_62310_720_1636_.jpg\n",
      "http://www.mangaread.org/wp-content/uploads/WP-manga/data/manga_5e08fdccf028f/56e44eb9c6d7015b29fe654818d2d30e/29_65188_720_1636_.jpg\n",
      "http://www.mangaread.org/wp-content/uploads/WP-manga/data/manga_5e08fdccf028f/56e44eb9c6d7015b29fe654818d2d30e/30_62784_720_1636_.jpg\n",
      "http://www.mangaread.org/wp-content/uploads/WP-manga/data/manga_5e08fdccf028f/56e44eb9c6d7015b29fe654818d2d30e/31_78064_720_1637_.jpg\n",
      "http://www.mangaread.org/wp-content/uploads/WP-manga/data/manga_5e08fdccf028f/56e44eb9c6d7015b29fe654818d2d30e/32_104500_720_1636_.jpg\n",
      "http://www.mangaread.org/wp-content/uploads/WP-manga/data/manga_5e08fdccf028f/56e44eb9c6d7015b29fe654818d2d30e/33_37266_720_1636_.jpg\n",
      "http://www.mangaread.org/wp-content/uploads/WP-manga/data/manga_5e08fdccf028f/56e44eb9c6d7015b29fe654818d2d30e/34_87614_720_1636_.jpg\n",
      "http://www.mangaread.org/wp-content/uploads/WP-manga/data/manga_5e08fdccf028f/56e44eb9c6d7015b29fe654818d2d30e/35_132296_720_1636_.jpg\n",
      "http://www.mangaread.org/wp-content/uploads/WP-manga/data/manga_5e08fdccf028f/56e44eb9c6d7015b29fe654818d2d30e/36_43522_720_1636_.jpg\n",
      "http://www.mangaread.org/wp-content/uploads/WP-manga/data/manga_5e08fdccf028f/56e44eb9c6d7015b29fe654818d2d30e/37_53518_720_1636_.jpg\n",
      "http://www.mangaread.org/wp-content/uploads/WP-manga/data/manga_5e08fdccf028f/56e44eb9c6d7015b29fe654818d2d30e/38_50900_720_1636_.jpg\n",
      "http://www.mangaread.org/wp-content/uploads/WP-manga/data/manga_5e08fdccf028f/56e44eb9c6d7015b29fe654818d2d30e/39_83762_720_1636_.jpg\n",
      "http://www.mangaread.org/wp-content/uploads/WP-manga/data/manga_5e08fdccf028f/56e44eb9c6d7015b29fe654818d2d30e/40_111584_720_1636_.jpg\n",
      "http://www.mangaread.org/wp-content/uploads/WP-manga/data/manga_5e08fdccf028f/56e44eb9c6d7015b29fe654818d2d30e/41_94554_720_1636_.jpg\n",
      "http://www.mangaread.org/wp-content/uploads/WP-manga/data/manga_5e08fdccf028f/56e44eb9c6d7015b29fe654818d2d30e/42_187360_720_1636_.jpg\n",
      "http://www.mangaread.org/wp-content/uploads/WP-manga/data/manga_5e08fdccf028f/56e44eb9c6d7015b29fe654818d2d30e/43_106506_720_1636_.jpg\n",
      "http://www.mangaread.org/wp-content/uploads/WP-manga/data/manga_5e08fdccf028f/56e44eb9c6d7015b29fe654818d2d30e/44_82704_720_1636_.jpg\n",
      "http://www.mangaread.org/wp-content/uploads/WP-manga/data/manga_5e08fdccf028f/56e44eb9c6d7015b29fe654818d2d30e/45_153954_720_1636_.jpg\n",
      "http://www.mangaread.org/wp-content/uploads/WP-manga/data/manga_5e08fdccf028f/56e44eb9c6d7015b29fe654818d2d30e/46_160772_720_1637_.jpg\n",
      "http://www.mangaread.org/wp-content/uploads/WP-manga/data/manga_5e08fdccf028f/56e44eb9c6d7015b29fe654818d2d30e/47_117170_720_1636_.jpg\n",
      "http://www.mangaread.org/wp-content/uploads/WP-manga/data/manga_5e08fdccf028f/56e44eb9c6d7015b29fe654818d2d30e/48_61890_720_1636_.jpg\n",
      "http://www.mangaread.org/wp-content/uploads/WP-manga/data/manga_5e08fdccf028f/56e44eb9c6d7015b29fe654818d2d30e/49_92604_720_1636_.jpg\n",
      "http://www.mangaread.org/wp-content/uploads/WP-manga/data/manga_5e08fdccf028f/56e44eb9c6d7015b29fe654818d2d30e/50_119930_720_1636_.jpg\n",
      "http://www.mangaread.org/wp-content/uploads/WP-manga/data/manga_5e08fdccf028f/56e44eb9c6d7015b29fe654818d2d30e/51_51438_720_1636_.jpg\n",
      "http://www.mangaread.org/wp-content/uploads/WP-manga/data/manga_5e08fdccf028f/56e44eb9c6d7015b29fe654818d2d30e/52_154660_720_1636_.jpg\n",
      "http://www.mangaread.org/wp-content/uploads/WP-manga/data/manga_5e08fdccf028f/56e44eb9c6d7015b29fe654818d2d30e/53_162966_720_1636_.jpg\n",
      "http://www.mangaread.org/wp-content/uploads/WP-manga/data/manga_5e08fdccf028f/56e44eb9c6d7015b29fe654818d2d30e/54_61984_720_1636_.jpg\n",
      "http://www.mangaread.org/wp-content/uploads/WP-manga/data/manga_5e08fdccf028f/56e44eb9c6d7015b29fe654818d2d30e/55_92372_720_1636_.jpg\n",
      "http://www.mangaread.org/wp-content/uploads/WP-manga/data/manga_5e08fdccf028f/56e44eb9c6d7015b29fe654818d2d30e/56_67844_720_1636_.jpg\n",
      "http://www.mangaread.org/wp-content/uploads/WP-manga/data/manga_5e08fdccf028f/56e44eb9c6d7015b29fe654818d2d30e/57_134654_720_1636_.jpg\n",
      "http://www.mangaread.org/wp-content/uploads/WP-manga/data/manga_5e08fdccf028f/56e44eb9c6d7015b29fe654818d2d30e/58_99636_720_1636_.jpg\n",
      "http://www.mangaread.org/wp-content/uploads/WP-manga/data/manga_5e08fdccf028f/56e44eb9c6d7015b29fe654818d2d30e/59_86876_720_1636_.jpg\n",
      "http://www.mangaread.org/wp-content/uploads/WP-manga/data/manga_5e08fdccf028f/56e44eb9c6d7015b29fe654818d2d30e/60_108646_720_1636_.jpg\n",
      "http://www.mangaread.org/wp-content/uploads/WP-manga/data/manga_5e08fdccf028f/56e44eb9c6d7015b29fe654818d2d30e/61_37534_720_1637_.jpg\n"
     ]
    },
    {
     "name": "stderr",
     "output_type": "stream",
     "text": [
      " 98%|█████████████████████████████████████████████████████████████████████████████▍ | 97/99 [1:52:47<04:56, 148.40s/it]"
     ]
    },
    {
     "name": "stdout",
     "output_type": "stream",
     "text": [
      "finish\n",
      "----------------------------------------------------------------------------------------------------\n",
      "starting crawl chapter 98\n",
      "http://www.mangaread.org/wp-content/uploads/WP-manga/data/manga_5e08fdccf028f/76589a53c86ac207bfb844ae537813e4/bloop_001_.jpg\n",
      "http://www.mangaread.org/wp-content/uploads/WP-manga/data/manga_5e08fdccf028f/76589a53c86ac207bfb844ae537813e4/bloop_002_.jpg\n",
      "http://www.mangaread.org/wp-content/uploads/WP-manga/data/manga_5e08fdccf028f/76589a53c86ac207bfb844ae537813e4/bloop_003_.jpg\n",
      "http://www.mangaread.org/wp-content/uploads/WP-manga/data/manga_5e08fdccf028f/76589a53c86ac207bfb844ae537813e4/bloop_004_.jpg\n",
      "http://www.mangaread.org/wp-content/uploads/WP-manga/data/manga_5e08fdccf028f/76589a53c86ac207bfb844ae537813e4/bloop_005_.jpg\n",
      "http://www.mangaread.org/wp-content/uploads/WP-manga/data/manga_5e08fdccf028f/76589a53c86ac207bfb844ae537813e4/bloop_006_.jpg\n"
     ]
    },
    {
     "name": "stderr",
     "output_type": "stream",
     "text": [
      " 99%|██████████████████████████████████████████████████████████████████████████████▏| 98/99 [1:53:09<01:50, 110.36s/it]"
     ]
    },
    {
     "name": "stdout",
     "output_type": "stream",
     "text": [
      "finish\n",
      "----------------------------------------------------------------------------------------------------\n",
      "starting crawl chapter 99\n",
      "http://www.mangaread.org/wp-content/uploads/WP-manga/data/manga_5e08fdccf028f/2d072e79758c5d757674a86da14cdf73/3.jpeg\n",
      "http://www.mangaread.org/wp-content/uploads/WP-manga/data/manga_5e08fdccf028f/2d072e79758c5d757674a86da14cdf73/4.jpeg\n",
      "http://www.mangaread.org/wp-content/uploads/WP-manga/data/manga_5e08fdccf028f/2d072e79758c5d757674a86da14cdf73/5.jpeg\n",
      "http://www.mangaread.org/wp-content/uploads/WP-manga/data/manga_5e08fdccf028f/2d072e79758c5d757674a86da14cdf73/6.jpeg\n",
      "http://www.mangaread.org/wp-content/uploads/WP-manga/data/manga_5e08fdccf028f/2d072e79758c5d757674a86da14cdf73/7.jpeg\n",
      "http://www.mangaread.org/wp-content/uploads/WP-manga/data/manga_5e08fdccf028f/2d072e79758c5d757674a86da14cdf73/8.jpeg\n",
      "http://www.mangaread.org/wp-content/uploads/WP-manga/data/manga_5e08fdccf028f/2d072e79758c5d757674a86da14cdf73/9.jpeg\n",
      "http://www.mangaread.org/wp-content/uploads/WP-manga/data/manga_5e08fdccf028f/2d072e79758c5d757674a86da14cdf73/10.jpeg\n",
      "http://www.mangaread.org/wp-content/uploads/WP-manga/data/manga_5e08fdccf028f/2d072e79758c5d757674a86da14cdf73/11.jpeg\n",
      "http://www.mangaread.org/wp-content/uploads/WP-manga/data/manga_5e08fdccf028f/2d072e79758c5d757674a86da14cdf73/12.jpeg\n",
      "http://www.mangaread.org/wp-content/uploads/WP-manga/data/manga_5e08fdccf028f/2d072e79758c5d757674a86da14cdf73/13.jpeg\n",
      "http://www.mangaread.org/wp-content/uploads/WP-manga/data/manga_5e08fdccf028f/2d072e79758c5d757674a86da14cdf73/14.jpeg\n",
      "http://www.mangaread.org/wp-content/uploads/WP-manga/data/manga_5e08fdccf028f/2d072e79758c5d757674a86da14cdf73/15.jpeg\n",
      "http://www.mangaread.org/wp-content/uploads/WP-manga/data/manga_5e08fdccf028f/2d072e79758c5d757674a86da14cdf73/16.jpeg\n",
      "http://www.mangaread.org/wp-content/uploads/WP-manga/data/manga_5e08fdccf028f/2d072e79758c5d757674a86da14cdf73/17.jpeg\n",
      "http://www.mangaread.org/wp-content/uploads/WP-manga/data/manga_5e08fdccf028f/2d072e79758c5d757674a86da14cdf73/18.jpeg\n",
      "http://www.mangaread.org/wp-content/uploads/WP-manga/data/manga_5e08fdccf028f/2d072e79758c5d757674a86da14cdf73/19.jpeg\n",
      "http://www.mangaread.org/wp-content/uploads/WP-manga/data/manga_5e08fdccf028f/2d072e79758c5d757674a86da14cdf73/20.jpeg\n",
      "http://www.mangaread.org/wp-content/uploads/WP-manga/data/manga_5e08fdccf028f/2d072e79758c5d757674a86da14cdf73/21.jpeg\n",
      "http://www.mangaread.org/wp-content/uploads/WP-manga/data/manga_5e08fdccf028f/2d072e79758c5d757674a86da14cdf73/22.jpeg\n",
      "http://www.mangaread.org/wp-content/uploads/WP-manga/data/manga_5e08fdccf028f/2d072e79758c5d757674a86da14cdf73/23.jpeg\n",
      "http://www.mangaread.org/wp-content/uploads/WP-manga/data/manga_5e08fdccf028f/2d072e79758c5d757674a86da14cdf73/24.jpeg\n",
      "http://www.mangaread.org/wp-content/uploads/WP-manga/data/manga_5e08fdccf028f/2d072e79758c5d757674a86da14cdf73/25.jpeg\n",
      "http://www.mangaread.org/wp-content/uploads/WP-manga/data/manga_5e08fdccf028f/2d072e79758c5d757674a86da14cdf73/26.jpeg\n",
      "http://www.mangaread.org/wp-content/uploads/WP-manga/data/manga_5e08fdccf028f/2d072e79758c5d757674a86da14cdf73/27.jpeg\n",
      "http://www.mangaread.org/wp-content/uploads/WP-manga/data/manga_5e08fdccf028f/2d072e79758c5d757674a86da14cdf73/28.jpeg\n",
      "http://www.mangaread.org/wp-content/uploads/WP-manga/data/manga_5e08fdccf028f/2d072e79758c5d757674a86da14cdf73/29.jpeg\n",
      "http://www.mangaread.org/wp-content/uploads/WP-manga/data/manga_5e08fdccf028f/2d072e79758c5d757674a86da14cdf73/30.jpeg\n",
      "http://www.mangaread.org/wp-content/uploads/WP-manga/data/manga_5e08fdccf028f/2d072e79758c5d757674a86da14cdf73/31.jpeg\n",
      "http://www.mangaread.org/wp-content/uploads/WP-manga/data/manga_5e08fdccf028f/2d072e79758c5d757674a86da14cdf73/32.jpeg\n",
      "http://www.mangaread.org/wp-content/uploads/WP-manga/data/manga_5e08fdccf028f/2d072e79758c5d757674a86da14cdf73/33.jpeg\n",
      "http://www.mangaread.org/wp-content/uploads/WP-manga/data/manga_5e08fdccf028f/2d072e79758c5d757674a86da14cdf73/34.jpeg\n",
      "http://www.mangaread.org/wp-content/uploads/WP-manga/data/manga_5e08fdccf028f/2d072e79758c5d757674a86da14cdf73/35.jpeg\n",
      "http://www.mangaread.org/wp-content/uploads/WP-manga/data/manga_5e08fdccf028f/2d072e79758c5d757674a86da14cdf73/36.jpeg\n",
      "http://www.mangaread.org/wp-content/uploads/WP-manga/data/manga_5e08fdccf028f/2d072e79758c5d757674a86da14cdf73/37.jpeg\n",
      "http://www.mangaread.org/wp-content/uploads/WP-manga/data/manga_5e08fdccf028f/2d072e79758c5d757674a86da14cdf73/38.jpeg\n",
      "http://www.mangaread.org/wp-content/uploads/WP-manga/data/manga_5e08fdccf028f/2d072e79758c5d757674a86da14cdf73/39.jpeg\n",
      "http://www.mangaread.org/wp-content/uploads/WP-manga/data/manga_5e08fdccf028f/2d072e79758c5d757674a86da14cdf73/40.jpeg\n",
      "http://www.mangaread.org/wp-content/uploads/WP-manga/data/manga_5e08fdccf028f/2d072e79758c5d757674a86da14cdf73/41.jpeg\n",
      "http://www.mangaread.org/wp-content/uploads/WP-manga/data/manga_5e08fdccf028f/2d072e79758c5d757674a86da14cdf73/42.jpeg\n",
      "http://www.mangaread.org/wp-content/uploads/WP-manga/data/manga_5e08fdccf028f/2d072e79758c5d757674a86da14cdf73/43.jpeg\n",
      "http://www.mangaread.org/wp-content/uploads/WP-manga/data/manga_5e08fdccf028f/2d072e79758c5d757674a86da14cdf73/44.jpeg\n",
      "http://www.mangaread.org/wp-content/uploads/WP-manga/data/manga_5e08fdccf028f/2d072e79758c5d757674a86da14cdf73/45.jpeg\n",
      "http://www.mangaread.org/wp-content/uploads/WP-manga/data/manga_5e08fdccf028f/2d072e79758c5d757674a86da14cdf73/46.jpeg\n",
      "http://www.mangaread.org/wp-content/uploads/WP-manga/data/manga_5e08fdccf028f/2d072e79758c5d757674a86da14cdf73/47.jpeg\n",
      "http://www.mangaread.org/wp-content/uploads/WP-manga/data/manga_5e08fdccf028f/2d072e79758c5d757674a86da14cdf73/48.jpeg\n",
      "http://www.mangaread.org/wp-content/uploads/WP-manga/data/manga_5e08fdccf028f/2d072e79758c5d757674a86da14cdf73/49.jpeg\n",
      "http://www.mangaread.org/wp-content/uploads/WP-manga/data/manga_5e08fdccf028f/2d072e79758c5d757674a86da14cdf73/50.jpeg\n",
      "http://www.mangaread.org/wp-content/uploads/WP-manga/data/manga_5e08fdccf028f/2d072e79758c5d757674a86da14cdf73/51.jpeg\n",
      "http://www.mangaread.org/wp-content/uploads/WP-manga/data/manga_5e08fdccf028f/2d072e79758c5d757674a86da14cdf73/52.jpeg\n",
      "http://www.mangaread.org/wp-content/uploads/WP-manga/data/manga_5e08fdccf028f/2d072e79758c5d757674a86da14cdf73/53.jpeg\n",
      "http://www.mangaread.org/wp-content/uploads/WP-manga/data/manga_5e08fdccf028f/2d072e79758c5d757674a86da14cdf73/54.jpeg\n",
      "http://www.mangaread.org/wp-content/uploads/WP-manga/data/manga_5e08fdccf028f/2d072e79758c5d757674a86da14cdf73/55.jpeg\n",
      "http://www.mangaread.org/wp-content/uploads/WP-manga/data/manga_5e08fdccf028f/2d072e79758c5d757674a86da14cdf73/56.jpeg\n",
      "http://www.mangaread.org/wp-content/uploads/WP-manga/data/manga_5e08fdccf028f/2d072e79758c5d757674a86da14cdf73/57.jpeg\n",
      "http://www.mangaread.org/wp-content/uploads/WP-manga/data/manga_5e08fdccf028f/2d072e79758c5d757674a86da14cdf73/58.jpeg\n",
      "http://www.mangaread.org/wp-content/uploads/WP-manga/data/manga_5e08fdccf028f/2d072e79758c5d757674a86da14cdf73/59.jpeg\n",
      "http://www.mangaread.org/wp-content/uploads/WP-manga/data/manga_5e08fdccf028f/2d072e79758c5d757674a86da14cdf73/60.jpeg\n",
      "http://www.mangaread.org/wp-content/uploads/WP-manga/data/manga_5e08fdccf028f/2d072e79758c5d757674a86da14cdf73/61.jpeg\n"
     ]
    },
    {
     "name": "stderr",
     "output_type": "stream",
     "text": [
      "100%|████████████████████████████████████████████████████████████████████████████████| 99/99 [1:55:42<00:00, 70.13s/it]"
     ]
    },
    {
     "name": "stdout",
     "output_type": "stream",
     "text": [
      "finish\n",
      "----------------------------------------------------------------------------------------------------\n"
     ]
    },
    {
     "name": "stderr",
     "output_type": "stream",
     "text": [
      "\n"
     ]
    },
    {
     "ename": "AttributeError",
     "evalue": "'_io.TextIOWrapper' object has no attribute 'writeline'",
     "output_type": "error",
     "traceback": [
      "\u001b[1;31m---------------------------------------------------------------------------\u001b[0m",
      "\u001b[1;31mAttributeError\u001b[0m                            Traceback (most recent call last)",
      "\u001b[1;32m<ipython-input-39-f03eba43f9e2>\u001b[0m in \u001b[0;36m<module>\u001b[1;34m\u001b[0m\n\u001b[0;32m     12\u001b[0m \u001b[1;33m\u001b[0m\u001b[0m\n\u001b[0;32m     13\u001b[0m \u001b[1;32mwith\u001b[0m \u001b[0mopen\u001b[0m\u001b[1;33m(\u001b[0m\u001b[1;34m'failure.txt'\u001b[0m\u001b[1;33m,\u001b[0m \u001b[0mmode\u001b[0m\u001b[1;33m=\u001b[0m\u001b[1;34m'w'\u001b[0m\u001b[1;33m,\u001b[0m \u001b[0mencoding\u001b[0m\u001b[1;33m=\u001b[0m\u001b[1;34m'utf-8'\u001b[0m\u001b[1;33m)\u001b[0m \u001b[1;32mas\u001b[0m \u001b[0mf\u001b[0m\u001b[1;33m:\u001b[0m\u001b[1;33m\u001b[0m\u001b[1;33m\u001b[0m\u001b[0m\n\u001b[1;32m---> 14\u001b[1;33m     \u001b[0mf\u001b[0m\u001b[1;33m.\u001b[0m\u001b[0mwriteline\u001b[0m\u001b[1;33m(\u001b[0m\u001b[0mfailure\u001b[0m\u001b[1;33m)\u001b[0m\u001b[1;33m\u001b[0m\u001b[1;33m\u001b[0m\u001b[0m\n\u001b[0m",
      "\u001b[1;31mAttributeError\u001b[0m: '_io.TextIOWrapper' object has no attribute 'writeline'"
     ]
    }
   ],
   "source": []
  },
  {
   "cell_type": "code",
   "execution_count": null,
   "metadata": {},
   "outputs": [],
   "source": []
  },
  {
   "cell_type": "code",
   "execution_count": null,
   "metadata": {},
   "outputs": [],
   "source": []
  },
  {
   "cell_type": "code",
   "execution_count": 4,
   "metadata": {},
   "outputs": [],
   "source": [
    "r = requests.get(url)"
   ]
  },
  {
   "cell_type": "code",
   "execution_count": 5,
   "metadata": {},
   "outputs": [],
   "source": [
    "from scrapy import Selector"
   ]
  },
  {
   "cell_type": "code",
   "execution_count": 6,
   "metadata": {},
   "outputs": [],
   "source": [
    "selector = Selector(text=r.text)"
   ]
  },
  {
   "cell_type": "code",
   "execution_count": 21,
   "metadata": {},
   "outputs": [],
   "source": [
    "s = selector.xpath(\"//img[contains(@id, 'image')]/@src\").extract()"
   ]
  },
  {
   "cell_type": "code",
   "execution_count": 31,
   "metadata": {},
   "outputs": [
    {
     "data": {
      "text/plain": [
       "['\\t\\t\\t\\n\\t\\t\\thttp://www.mangaread.org/wp-content/uploads/WP-manga/data/manga_5e08fdccf028f/4fcf2a977bd6b4f785c814025542b53a/2.jpeg',\n",
       " '\\t\\t\\t\\n\\t\\t\\thttp://www.mangaread.org/wp-content/uploads/WP-manga/data/manga_5e08fdccf028f/4fcf2a977bd6b4f785c814025542b53a/3.jpeg',\n",
       " '\\t\\t\\t\\n\\t\\t\\thttp://www.mangaread.org/wp-content/uploads/WP-manga/data/manga_5e08fdccf028f/4fcf2a977bd6b4f785c814025542b53a/4.jpeg',\n",
       " '\\t\\t\\t\\n\\t\\t\\thttp://www.mangaread.org/wp-content/uploads/WP-manga/data/manga_5e08fdccf028f/4fcf2a977bd6b4f785c814025542b53a/5.jpeg',\n",
       " '\\t\\t\\t\\n\\t\\t\\thttp://www.mangaread.org/wp-content/uploads/WP-manga/data/manga_5e08fdccf028f/4fcf2a977bd6b4f785c814025542b53a/6.jpeg',\n",
       " '\\t\\t\\t\\n\\t\\t\\thttp://www.mangaread.org/wp-content/uploads/WP-manga/data/manga_5e08fdccf028f/4fcf2a977bd6b4f785c814025542b53a/7.jpeg',\n",
       " '\\t\\t\\t\\n\\t\\t\\thttp://www.mangaread.org/wp-content/uploads/WP-manga/data/manga_5e08fdccf028f/4fcf2a977bd6b4f785c814025542b53a/8.jpeg',\n",
       " '\\t\\t\\t\\n\\t\\t\\thttp://www.mangaread.org/wp-content/uploads/WP-manga/data/manga_5e08fdccf028f/4fcf2a977bd6b4f785c814025542b53a/9.jpeg',\n",
       " '\\t\\t\\t\\n\\t\\t\\thttp://www.mangaread.org/wp-content/uploads/WP-manga/data/manga_5e08fdccf028f/4fcf2a977bd6b4f785c814025542b53a/10.jpeg',\n",
       " '\\t\\t\\t\\n\\t\\t\\thttp://www.mangaread.org/wp-content/uploads/WP-manga/data/manga_5e08fdccf028f/4fcf2a977bd6b4f785c814025542b53a/11.jpeg',\n",
       " '\\t\\t\\t\\n\\t\\t\\thttp://www.mangaread.org/wp-content/uploads/WP-manga/data/manga_5e08fdccf028f/4fcf2a977bd6b4f785c814025542b53a/12.jpeg',\n",
       " '\\t\\t\\t\\n\\t\\t\\thttp://www.mangaread.org/wp-content/uploads/WP-manga/data/manga_5e08fdccf028f/4fcf2a977bd6b4f785c814025542b53a/13.jpeg',\n",
       " '\\t\\t\\t\\n\\t\\t\\thttp://www.mangaread.org/wp-content/uploads/WP-manga/data/manga_5e08fdccf028f/4fcf2a977bd6b4f785c814025542b53a/14.jpeg',\n",
       " '\\t\\t\\t\\n\\t\\t\\thttp://www.mangaread.org/wp-content/uploads/WP-manga/data/manga_5e08fdccf028f/4fcf2a977bd6b4f785c814025542b53a/15.jpeg',\n",
       " '\\t\\t\\t\\n\\t\\t\\thttp://www.mangaread.org/wp-content/uploads/WP-manga/data/manga_5e08fdccf028f/4fcf2a977bd6b4f785c814025542b53a/16.jpeg',\n",
       " '\\t\\t\\t\\n\\t\\t\\thttp://www.mangaread.org/wp-content/uploads/WP-manga/data/manga_5e08fdccf028f/4fcf2a977bd6b4f785c814025542b53a/17.jpeg',\n",
       " '\\t\\t\\t\\n\\t\\t\\thttp://www.mangaread.org/wp-content/uploads/WP-manga/data/manga_5e08fdccf028f/4fcf2a977bd6b4f785c814025542b53a/18.jpeg']"
      ]
     },
     "execution_count": 31,
     "metadata": {},
     "output_type": "execute_result"
    }
   ],
   "source": [
    "s"
   ]
  },
  {
   "cell_type": "code",
   "execution_count": 28,
   "metadata": {},
   "outputs": [],
   "source": [
    "chapter = url.split('/')[-2]"
   ]
  },
  {
   "cell_type": "code",
   "execution_count": 29,
   "metadata": {},
   "outputs": [],
   "source": [
    "if os.path.exists(chapter):\n",
    "    pass\n",
    "else:\n",
    "    os.mkdir(chapter)"
   ]
  },
  {
   "cell_type": "code",
   "execution_count": 30,
   "metadata": {},
   "outputs": [
    {
     "name": "stdout",
     "output_type": "stream",
     "text": [
      "http://www.mangaread.org/wp-content/uploads/WP-manga/data/manga_5e08fdccf028f/4fcf2a977bd6b4f785c814025542b53a/2.jpeg\n",
      "2.jpeg\n",
      "http://www.mangaread.org/wp-content/uploads/WP-manga/data/manga_5e08fdccf028f/4fcf2a977bd6b4f785c814025542b53a/3.jpeg\n",
      "3.jpeg\n",
      "http://www.mangaread.org/wp-content/uploads/WP-manga/data/manga_5e08fdccf028f/4fcf2a977bd6b4f785c814025542b53a/4.jpeg\n",
      "4.jpeg\n",
      "http://www.mangaread.org/wp-content/uploads/WP-manga/data/manga_5e08fdccf028f/4fcf2a977bd6b4f785c814025542b53a/5.jpeg\n",
      "5.jpeg\n",
      "http://www.mangaread.org/wp-content/uploads/WP-manga/data/manga_5e08fdccf028f/4fcf2a977bd6b4f785c814025542b53a/6.jpeg\n",
      "6.jpeg\n",
      "http://www.mangaread.org/wp-content/uploads/WP-manga/data/manga_5e08fdccf028f/4fcf2a977bd6b4f785c814025542b53a/7.jpeg\n",
      "7.jpeg\n",
      "http://www.mangaread.org/wp-content/uploads/WP-manga/data/manga_5e08fdccf028f/4fcf2a977bd6b4f785c814025542b53a/8.jpeg\n",
      "8.jpeg\n",
      "http://www.mangaread.org/wp-content/uploads/WP-manga/data/manga_5e08fdccf028f/4fcf2a977bd6b4f785c814025542b53a/9.jpeg\n",
      "9.jpeg\n",
      "http://www.mangaread.org/wp-content/uploads/WP-manga/data/manga_5e08fdccf028f/4fcf2a977bd6b4f785c814025542b53a/10.jpeg\n",
      "10.jpeg\n",
      "http://www.mangaread.org/wp-content/uploads/WP-manga/data/manga_5e08fdccf028f/4fcf2a977bd6b4f785c814025542b53a/11.jpeg\n",
      "11.jpeg\n",
      "http://www.mangaread.org/wp-content/uploads/WP-manga/data/manga_5e08fdccf028f/4fcf2a977bd6b4f785c814025542b53a/12.jpeg\n",
      "12.jpeg\n",
      "http://www.mangaread.org/wp-content/uploads/WP-manga/data/manga_5e08fdccf028f/4fcf2a977bd6b4f785c814025542b53a/13.jpeg\n",
      "13.jpeg\n",
      "http://www.mangaread.org/wp-content/uploads/WP-manga/data/manga_5e08fdccf028f/4fcf2a977bd6b4f785c814025542b53a/14.jpeg\n",
      "14.jpeg\n",
      "http://www.mangaread.org/wp-content/uploads/WP-manga/data/manga_5e08fdccf028f/4fcf2a977bd6b4f785c814025542b53a/15.jpeg\n",
      "15.jpeg\n",
      "http://www.mangaread.org/wp-content/uploads/WP-manga/data/manga_5e08fdccf028f/4fcf2a977bd6b4f785c814025542b53a/16.jpeg\n",
      "16.jpeg\n",
      "http://www.mangaread.org/wp-content/uploads/WP-manga/data/manga_5e08fdccf028f/4fcf2a977bd6b4f785c814025542b53a/17.jpeg\n",
      "17.jpeg\n",
      "http://www.mangaread.org/wp-content/uploads/WP-manga/data/manga_5e08fdccf028f/4fcf2a977bd6b4f785c814025542b53a/18.jpeg\n",
      "18.jpeg\n"
     ]
    }
   ],
   "source": [
    "for i in s:\n",
    "    print(i.strip())\n",
    "    page = i.strip().split('/')[-1]\n",
    "    print(i.strip().split('/')[-1])\n",
    "    r = requests.get(i, headers = headers)\n",
    "    with open(chapter + '/' + page, mode='wb') as f:\n",
    "        f.write(r.content)"
   ]
  },
  {
   "cell_type": "code",
   "execution_count": null,
   "metadata": {},
   "outputs": [],
   "source": []
  }
 ],
 "metadata": {
  "kernelspec": {
   "display_name": "Python 3",
   "language": "python",
   "name": "python3"
  },
  "language_info": {
   "codemirror_mode": {
    "name": "ipython",
    "version": 3
   },
   "file_extension": ".py",
   "mimetype": "text/x-python",
   "name": "python",
   "nbconvert_exporter": "python",
   "pygments_lexer": "ipython3",
   "version": "3.8.6rc1"
  }
 },
 "nbformat": 4,
 "nbformat_minor": 4
}
